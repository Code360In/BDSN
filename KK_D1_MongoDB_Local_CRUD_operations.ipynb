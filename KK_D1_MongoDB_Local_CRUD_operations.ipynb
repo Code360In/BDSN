{
  "nbformat": 4,
  "nbformat_minor": 0,
  "metadata": {
    "colab": {
      "name": "KK D1  MongoDB : Local  : CRUD  operations",
      "provenance": [],
      "collapsed_sections": [],
      "toc_visible": true,
      "authorship_tag": "ABX9TyPRYi/VNA86rjaVlF0rygDJ",
      "include_colab_link": true
    },
    "kernelspec": {
      "name": "python3",
      "display_name": "Python 3"
    },
    "language_info": {
      "name": "python"
    }
  },
  "cells": [
    {
      "cell_type": "markdown",
      "metadata": {
        "id": "view-in-github",
        "colab_type": "text"
      },
      "source": [
        "<a href=\"https://colab.research.google.com/github/Praxis-QR/BDSN/blob/main/KK_D1_MongoDB_Local_CRUD_operations.ipynb\" target=\"_parent\"><img src=\"https://colab.research.google.com/assets/colab-badge.svg\" alt=\"Open In Colab\"/></a>"
      ]
    },
    {
      "cell_type": "markdown",
      "metadata": {
        "id": "1SPjiBEzX8xN"
      },
      "source": [
        "![alt text](https://4.bp.blogspot.com/-gbL5nZDkpFQ/XScFYwoTEII/AAAAAAAAAGY/CcVb_HDLwvs2Brv5T4vSsUcz7O4r2Q79ACK4BGAYYCw/s1600/kk3-header00-beta.png)<br>\n",
        "\n",
        "\n",
        "<hr>\n",
        "\n",
        "[Prithwis Mukerjee](http://www.linkedin.com/in/prithwis)<br>"
      ]
    },
    {
      "cell_type": "markdown",
      "metadata": {
        "id": "u7UmFH23YJ9Q"
      },
      "source": [
        "Based on https://github.com/giffy/MongoDB_PyMongo_Tutorial"
      ]
    },
    {
      "cell_type": "markdown",
      "metadata": {
        "id": "u4fPiXfdYevn"
      },
      "source": [
        "#Installs "
      ]
    },
    {
      "cell_type": "code",
      "metadata": {
        "id": "xggIFON1XxgF"
      },
      "source": [
        "from pymongo import MongoClient\n",
        "import pandas as pd\n",
        "import dateutil"
      ],
      "execution_count": 1,
      "outputs": []
    },
    {
      "cell_type": "code",
      "metadata": {
        "colab": {
          "base_uri": "https://localhost:8080/"
        },
        "id": "bv6pDRWUYodX",
        "outputId": "423cc4dc-88ea-4978-fac2-0908ccfc5db8"
      },
      "source": [
        "!apt install mongodb > /dev/null\n",
        " \n",
        "#Local Server Need Not be started for Remote Operations\n",
        "!service mongodb start"
      ],
      "execution_count": 2,
      "outputs": [
        {
          "output_type": "stream",
          "name": "stdout",
          "text": [
            "\n",
            "WARNING: apt does not have a stable CLI interface. Use with caution in scripts.\n",
            "\n",
            " * Starting database mongodb\n",
            "   ...done.\n"
          ]
        }
      ]
    },
    {
      "cell_type": "code",
      "metadata": {
        "colab": {
          "base_uri": "https://localhost:8080/"
        },
        "id": "YBZMGZMAY8i8",
        "outputId": "fb38af14-bd44-4700-fae9-ad9945ce1023"
      },
      "source": [
        "mongoURI = \"mongodb://localhost:27017/\"\n",
        "client = MongoClient(mongoURI)\n",
        "client.list_database_names() # ['admin', 'local']"
      ],
      "execution_count": 3,
      "outputs": [
        {
          "output_type": "execute_result",
          "data": {
            "text/plain": [
              "['admin', 'local']"
            ]
          },
          "metadata": {},
          "execution_count": 3
        }
      ]
    },
    {
      "cell_type": "markdown",
      "metadata": {
        "id": "MN79GhZSaQCD"
      },
      "source": [
        "# Create Database objects"
      ]
    },
    {
      "cell_type": "code",
      "metadata": {
        "colab": {
          "base_uri": "https://localhost:8080/"
        },
        "id": "cnI-oi8waWju",
        "outputId": "66be727f-ad64-4724-ba46-64d754bf6a1d"
      },
      "source": [
        "# Database PraxisDB will be created only when we create collections, or documents in it\n",
        "mongoURI = \"mongodb://localhost:27017/\"\n",
        "client = MongoClient(mongoURI)\n",
        "client.list_database_names() "
      ],
      "execution_count": 4,
      "outputs": [
        {
          "output_type": "execute_result",
          "data": {
            "text/plain": [
              "['admin', 'local']"
            ]
          },
          "metadata": {},
          "execution_count": 4
        }
      ]
    },
    {
      "cell_type": "code",
      "metadata": {
        "id": "LUAvup4qcabt"
      },
      "source": [
        "# Delete a database\n",
        "client.drop_database('PraxisDB')"
      ],
      "execution_count": 12,
      "outputs": []
    },
    {
      "cell_type": "code",
      "metadata": {
        "colab": {
          "base_uri": "https://localhost:8080/"
        },
        "id": "1PkkdbCXa5_0",
        "outputId": "315a858f-776d-483f-dcd8-ad73eb270cb6"
      },
      "source": [
        "# Create a new collection. We can create the collection or leave to MongoDB to create it as soon as a document is generated.\n",
        "db = client.PraxisDB\n",
        "db.create_collection('addresses')       # Optional collection creation "
      ],
      "execution_count": 13,
      "outputs": [
        {
          "output_type": "execute_result",
          "data": {
            "text/plain": [
              "Collection(Database(MongoClient(host=['localhost:27017'], document_class=dict, tz_aware=False, connect=True), 'PraxisDB'), 'addresses')"
            ]
          },
          "metadata": {},
          "execution_count": 13
        }
      ]
    },
    {
      "cell_type": "code",
      "metadata": {
        "colab": {
          "base_uri": "https://localhost:8080/"
        },
        "id": "aFJuoBcBcvvf",
        "outputId": "0448442f-91b8-497d-8a42-960eaeb57a81"
      },
      "source": [
        "# Show Collections. Query returns a Cursor [ ] ,  list it to see the content\n",
        "list (db.list_collections())\n",
        "# empty list '[]' means that there are not collections in database"
      ],
      "execution_count": 14,
      "outputs": [
        {
          "output_type": "execute_result",
          "data": {
            "text/plain": [
              "[{'idIndex': {'key': {'_id': 1},\n",
              "   'name': '_id_',\n",
              "   'ns': 'PraxisDB.addresses',\n",
              "   'v': 2},\n",
              "  'info': {'readOnly': False,\n",
              "   'uuid': UUID('976d2133-a8a4-41c8-8998-320b7d096407')},\n",
              "  'name': 'addresses',\n",
              "  'options': {},\n",
              "  'type': 'collection'}]"
            ]
          },
          "metadata": {},
          "execution_count": 14
        }
      ]
    },
    {
      "cell_type": "code",
      "metadata": {
        "colab": {
          "base_uri": "https://localhost:8080/"
        },
        "id": "1ek9pCUwdOAq",
        "outputId": "84783c74-a3c8-40dd-bb02-a0816bc7e880"
      },
      "source": [
        "# Set the collection to work with\n",
        "kollection = db.addresses\n",
        "kollection.insert_one({'name' : 'jordi'})     # Insert one item to create the collection\n",
        "list (kollection.find())                  # Show the existing collections"
      ],
      "execution_count": 15,
      "outputs": [
        {
          "output_type": "execute_result",
          "data": {
            "text/plain": [
              "[{'_id': ObjectId('619dacd1c365f4331ba5e26c'), 'name': 'jordi'}]"
            ]
          },
          "metadata": {},
          "execution_count": 15
        }
      ]
    },
    {
      "cell_type": "code",
      "metadata": {
        "colab": {
          "base_uri": "https://localhost:8080/"
        },
        "id": "gHnx-GEjdz_l",
        "outputId": "02890657-0dba-4ab8-c92f-3196aebaaf9e"
      },
      "source": [
        "# Rename a collections\n",
        "db.addresses.rename('addressbook')\n",
        "kollection2 = db.addressbook                   # Set the collection to work with\n",
        "list (db.list_collections())                  # Show the existing collections"
      ],
      "execution_count": 16,
      "outputs": [
        {
          "output_type": "execute_result",
          "data": {
            "text/plain": [
              "[{'idIndex': {'key': {'_id': 1},\n",
              "   'name': '_id_',\n",
              "   'ns': 'PraxisDB.addressbook',\n",
              "   'v': 2},\n",
              "  'info': {'readOnly': False,\n",
              "   'uuid': UUID('976d2133-a8a4-41c8-8998-320b7d096407')},\n",
              "  'name': 'addressbook',\n",
              "  'options': {},\n",
              "  'type': 'collection'}]"
            ]
          },
          "metadata": {},
          "execution_count": 16
        }
      ]
    },
    {
      "cell_type": "code",
      "metadata": {
        "colab": {
          "base_uri": "https://localhost:8080/"
        },
        "id": "0IG9ZsQleFoF",
        "outputId": "0971a9dd-c528-407f-c428-e8167121c73d"
      },
      "source": [
        "# Delete collection\n",
        "db.drop_collection('addressbook')"
      ],
      "execution_count": 17,
      "outputs": [
        {
          "output_type": "execute_result",
          "data": {
            "text/plain": [
              "{'nIndexesWas': 1, 'ns': 'PraxisDB.addressbook', 'ok': 1.0}"
            ]
          },
          "metadata": {},
          "execution_count": 17
        }
      ]
    },
    {
      "cell_type": "code",
      "metadata": {
        "colab": {
          "base_uri": "https://localhost:8080/"
        },
        "id": "WEo7QOCHgPSd",
        "outputId": "95cfe054-99ae-41ba-f9af-0b7cff4a35e7"
      },
      "source": [
        "client.list_database_names() "
      ],
      "execution_count": 18,
      "outputs": [
        {
          "output_type": "execute_result",
          "data": {
            "text/plain": [
              "['admin', 'config', 'local']"
            ]
          },
          "metadata": {},
          "execution_count": 18
        }
      ]
    },
    {
      "cell_type": "markdown",
      "metadata": {
        "id": "XYb26s0ben-d"
      },
      "source": [
        "# Operations"
      ]
    },
    {
      "cell_type": "markdown",
      "metadata": {
        "id": "f6fmmd4-mD1Z"
      },
      "source": [
        "## Single Row Insert"
      ]
    },
    {
      "cell_type": "code",
      "metadata": {
        "id": "WWzXPNecesiQ"
      },
      "source": [
        "cDoc1 = {  'name' : 'Prithwis' ,                                     # String \n",
        "          'age' : '59',                                             # Integer\n",
        "          'gender' : 'Male',                                        # String \n",
        "          'likes_code' : True,                                      # Boolean\n",
        "          'address': {\n",
        "              'street' : 'Panditiya Road',                          # String ( special character with escape \\ )\n",
        "              'number' : 36,                                        # Integer\n",
        "              'city' : 'Kolkata',                                   # String \n",
        "              'floor' : None,                                       # Null \n",
        "              'postalcode' : '700029',                              # String containing a number\n",
        "              },\n",
        "          'favouritefruits': ['apple','pineapple','orange']         # Array        \n",
        "       }"
      ],
      "execution_count": 41,
      "outputs": []
    },
    {
      "cell_type": "code",
      "metadata": {
        "colab": {
          "base_uri": "https://localhost:8080/"
        },
        "id": "yivR6yuSgYNg",
        "outputId": "fd3bbdaf-e654-4043-c585-89d8e0373556"
      },
      "source": [
        "# Define database, collection etc\n",
        "db = client.PraxisDB\n",
        "# Delete collection\n",
        "db.drop_collection('AddressBook')\n",
        "db.create_collection('AddressBook')       # Optional collection creation \n",
        "kollection3 = db.AddressBook                   # Set the collection to work with\n",
        "insert_result = kollection3.insert_one( cDoc1)\n",
        "insert_result.acknowledged    # Confirms that insert is successful"
      ],
      "execution_count": 42,
      "outputs": [
        {
          "output_type": "execute_result",
          "data": {
            "text/plain": [
              "True"
            ]
          },
          "metadata": {},
          "execution_count": 42
        }
      ]
    },
    {
      "cell_type": "code",
      "metadata": {
        "colab": {
          "base_uri": "https://localhost:8080/"
        },
        "id": "I-HuwnBJhdTp",
        "outputId": "230e267b-04e9-46f3-b061-bf9f2508cf40"
      },
      "source": [
        "insert_result.inserted_id     # Shows the document ID "
      ],
      "execution_count": 43,
      "outputs": [
        {
          "output_type": "execute_result",
          "data": {
            "text/plain": [
              "ObjectId('619db1c0c365f4331ba5e274')"
            ]
          },
          "metadata": {},
          "execution_count": 43
        }
      ]
    },
    {
      "cell_type": "code",
      "metadata": {
        "colab": {
          "base_uri": "https://localhost:8080/"
        },
        "id": "aIMKBCARi2aU",
        "outputId": "3d40fcd3-48c9-4289-ff89-d4b8447457a3"
      },
      "source": [
        "db.AddressBook.find()  # returns a cursor"
      ],
      "execution_count": 44,
      "outputs": [
        {
          "output_type": "execute_result",
          "data": {
            "text/plain": [
              "<pymongo.cursor.Cursor at 0x7effda607190>"
            ]
          },
          "metadata": {},
          "execution_count": 44
        }
      ]
    },
    {
      "cell_type": "code",
      "metadata": {
        "colab": {
          "base_uri": "https://localhost:8080/"
        },
        "id": "lHro1WFEi-JN",
        "outputId": "1d0fb2c7-c48c-4f29-fceb-b6c33e4c5dc4"
      },
      "source": [
        "#c = db.AddressBook.find()\n",
        "c = kollection3.find()\n",
        "for crnt in c:\n",
        "    print(crnt)"
      ],
      "execution_count": 45,
      "outputs": [
        {
          "output_type": "stream",
          "name": "stdout",
          "text": [
            "{'_id': ObjectId('619db1c0c365f4331ba5e274'), 'name': 'Prithwis', 'age': '59', 'gender': 'Male', 'likes_code': True, 'address': {'street': 'Panditiya Road', 'number': 36, 'city': 'Kolkata', 'floor': None, 'postalcode': '700029'}, 'favouritefruits': ['apple', 'pineapple', 'orange']}\n"
          ]
        }
      ]
    },
    {
      "cell_type": "code",
      "metadata": {
        "id": "7FjzfIlgjStF"
      },
      "source": [
        "cDoc2 = {  'name' : 'Charanpreet' ,                                     # String \n",
        "          'age' : '57',                                             # Integer\n",
        "          'gender' : 'Male',                                        # String \n",
        "          'likes_code' : False,                                      # Boolean\n",
        "          'address': {\n",
        "              'street' : None,                          # String ( special character with escape \\ )\n",
        "              'number' : None,                                        # Integer\n",
        "              'city' : 'Kolkata',                                   # String \n",
        "              'floor' : None,                                       # Null \n",
        "              'postalcode' : '700001',                              # String containing a number\n",
        "              },\n",
        "          'favouritefruits': ['apple','guava','mango']         # Array        \n",
        "       }"
      ],
      "execution_count": 46,
      "outputs": []
    },
    {
      "cell_type": "code",
      "metadata": {
        "colab": {
          "base_uri": "https://localhost:8080/"
        },
        "id": "TZl2ENI8l1u-",
        "outputId": "a22b2d43-c1f6-4738-8356-8ee495eb5357"
      },
      "source": [
        "insert_result = kollection3.insert_one( cDoc2)\n",
        "insert_result.acknowledged    # Confirms that insert is successful"
      ],
      "execution_count": 47,
      "outputs": [
        {
          "output_type": "execute_result",
          "data": {
            "text/plain": [
              "True"
            ]
          },
          "metadata": {},
          "execution_count": 47
        }
      ]
    },
    {
      "cell_type": "code",
      "metadata": {
        "colab": {
          "base_uri": "https://localhost:8080/"
        },
        "id": "5WYPQluVl6wJ",
        "outputId": "8c6e64f4-6bad-4159-daf7-f4260880e3e1"
      },
      "source": [
        "#c = db.AddressBook.find()\n",
        "c = kollection3.find()\n",
        "for crnt in c:\n",
        "    print(crnt)"
      ],
      "execution_count": 48,
      "outputs": [
        {
          "output_type": "stream",
          "name": "stdout",
          "text": [
            "{'_id': ObjectId('619db1c0c365f4331ba5e274'), 'name': 'Prithwis', 'age': '59', 'gender': 'Male', 'likes_code': True, 'address': {'street': 'Panditiya Road', 'number': 36, 'city': 'Kolkata', 'floor': None, 'postalcode': '700029'}, 'favouritefruits': ['apple', 'pineapple', 'orange']}\n",
            "{'_id': ObjectId('619db1e3c365f4331ba5e275'), 'name': 'Charanpreet', 'age': '57', 'gender': 'Male', 'likes_code': False, 'address': {'street': None, 'number': None, 'city': 'Kolkata', 'floor': None, 'postalcode': '700001'}, 'favouritefruits': ['apple', 'guava', 'mango']}\n"
          ]
        }
      ]
    },
    {
      "cell_type": "code",
      "metadata": {
        "id": "6orcB9kK-fG4"
      },
      "source": [
        "cDoc3 = {  'name' : 'Narendra' ,                                     # String \n",
        "          'age' : '67',                                             # Integer\n",
        "          'gender' : 'Male',                                        # String \n",
        "          'likes_code' : False,                                      # Boolean\n",
        "          'address': {\n",
        "              'street' : None,                          # String ( special character with escape \\ )\n",
        "              'number' : None,                                        # Integer\n",
        "              'city' : 'Delhi',                                   # String \n",
        "              'floor' : None,                                       # Null \n",
        "              'postalcode' : '700001',                              # String containing a number\n",
        "              },\n",
        "          'favouritefruits': ['apple','guava','mango']         # Array        \n",
        "       }\n",
        "\n",
        "cDoc4 = {  'name' : 'Aditya' ,                                     # String \n",
        "          'age' : '47',                                             # Integer\n",
        "          'gender' : 'Male',                                        # String \n",
        "          'likes_code' : False,                                      # Boolean\n",
        "          'address': {\n",
        "              'street' : None,                          # String ( special character with escape \\ )\n",
        "              'number' : None,                                        # Integer\n",
        "              'city' : 'Lucknow',                                   # String \n",
        "              'floor' : None,                                       # Null \n",
        "              'postalcode' : '700001',                              # String containing a number\n",
        "              },\n",
        "          'favouritefruits': ['apple','guava','mango']         # Array        \n",
        "       }"
      ],
      "execution_count": 49,
      "outputs": []
    },
    {
      "cell_type": "code",
      "metadata": {
        "id": "E1G_ekmD-0LJ"
      },
      "source": [
        "insert_result = kollection3.insert_many([cDoc3,cDoc4])"
      ],
      "execution_count": 52,
      "outputs": []
    },
    {
      "cell_type": "code",
      "metadata": {
        "id": "Iyzy_8Pr_U4V",
        "outputId": "b8d35b7f-240f-4797-df9c-697245afd38e",
        "colab": {
          "base_uri": "https://localhost:8080/"
        }
      },
      "source": [
        "#c = db.AddressBook.find()\n",
        "c = kollection3.find()\n",
        "for crnt in c:\n",
        "    print(crnt)"
      ],
      "execution_count": 53,
      "outputs": [
        {
          "output_type": "stream",
          "name": "stdout",
          "text": [
            "{'_id': ObjectId('619db1c0c365f4331ba5e274'), 'name': 'Prithwis', 'age': '59', 'gender': 'Male', 'likes_code': True, 'address': {'street': 'Panditiya Road', 'number': 36, 'city': 'Kolkata', 'floor': None, 'postalcode': '700029'}, 'favouritefruits': ['apple', 'pineapple', 'orange']}\n",
            "{'_id': ObjectId('619db1e3c365f4331ba5e275'), 'name': 'Charanpreet', 'age': '57', 'gender': 'Male', 'likes_code': False, 'address': {'street': None, 'number': None, 'city': 'Kolkata', 'floor': None, 'postalcode': '700001'}, 'favouritefruits': ['apple', 'guava', 'mango']}\n",
            "{'_id': ObjectId('619db16bc365f4331ba5e272'), 'name': 'Charanpreet21', 'age': '57', 'gender': 'Male', 'likes_code': False, 'address': {'street': None, 'number': None, 'city': 'Kolkata', 'floor': None, 'postalcode': '700001'}, 'favouritefruits': ['apple', 'guava', 'mango']}\n",
            "{'_id': ObjectId('619db16bc365f4331ba5e273'), 'name': 'Charanpreet22', 'age': '57', 'gender': 'Male', 'likes_code': False, 'address': {'street': None, 'number': None, 'city': 'Kolkata', 'floor': None, 'postalcode': '700001'}, 'favouritefruits': ['apple', 'guava', 'mango']}\n",
            "{'_id': ObjectId('619db277c365f4331ba5e276'), 'name': 'Narendra', 'age': '67', 'gender': 'Male', 'likes_code': False, 'address': {'street': None, 'number': None, 'city': 'Delhi', 'floor': None, 'postalcode': '700001'}, 'favouritefruits': ['apple', 'guava', 'mango']}\n",
            "{'_id': ObjectId('619db277c365f4331ba5e277'), 'name': 'Aditya', 'age': '47', 'gender': 'Male', 'likes_code': False, 'address': {'street': None, 'number': None, 'city': 'Lucknow', 'floor': None, 'postalcode': '700001'}, 'favouritefruits': ['apple', 'guava', 'mango']}\n"
          ]
        }
      ]
    },
    {
      "cell_type": "markdown",
      "metadata": {
        "id": "GPRzmxx0n_P2"
      },
      "source": [
        "## Read"
      ]
    },
    {
      "cell_type": "code",
      "metadata": {
        "colab": {
          "base_uri": "https://localhost:8080/"
        },
        "id": "T36P4fbYoG4o",
        "outputId": "103c75d6-9995-46e9-fa48-927311a83fd9"
      },
      "source": [
        "list(kollection3.find())"
      ],
      "execution_count": 54,
      "outputs": [
        {
          "output_type": "execute_result",
          "data": {
            "text/plain": [
              "[{'_id': ObjectId('619db1c0c365f4331ba5e274'),\n",
              "  'address': {'city': 'Kolkata',\n",
              "   'floor': None,\n",
              "   'number': 36,\n",
              "   'postalcode': '700029',\n",
              "   'street': 'Panditiya Road'},\n",
              "  'age': '59',\n",
              "  'favouritefruits': ['apple', 'pineapple', 'orange'],\n",
              "  'gender': 'Male',\n",
              "  'likes_code': True,\n",
              "  'name': 'Prithwis'},\n",
              " {'_id': ObjectId('619db1e3c365f4331ba5e275'),\n",
              "  'address': {'city': 'Kolkata',\n",
              "   'floor': None,\n",
              "   'number': None,\n",
              "   'postalcode': '700001',\n",
              "   'street': None},\n",
              "  'age': '57',\n",
              "  'favouritefruits': ['apple', 'guava', 'mango'],\n",
              "  'gender': 'Male',\n",
              "  'likes_code': False,\n",
              "  'name': 'Charanpreet'},\n",
              " {'_id': ObjectId('619db16bc365f4331ba5e272'),\n",
              "  'address': {'city': 'Kolkata',\n",
              "   'floor': None,\n",
              "   'number': None,\n",
              "   'postalcode': '700001',\n",
              "   'street': None},\n",
              "  'age': '57',\n",
              "  'favouritefruits': ['apple', 'guava', 'mango'],\n",
              "  'gender': 'Male',\n",
              "  'likes_code': False,\n",
              "  'name': 'Charanpreet21'},\n",
              " {'_id': ObjectId('619db16bc365f4331ba5e273'),\n",
              "  'address': {'city': 'Kolkata',\n",
              "   'floor': None,\n",
              "   'number': None,\n",
              "   'postalcode': '700001',\n",
              "   'street': None},\n",
              "  'age': '57',\n",
              "  'favouritefruits': ['apple', 'guava', 'mango'],\n",
              "  'gender': 'Male',\n",
              "  'likes_code': False,\n",
              "  'name': 'Charanpreet22'},\n",
              " {'_id': ObjectId('619db277c365f4331ba5e276'),\n",
              "  'address': {'city': 'Delhi',\n",
              "   'floor': None,\n",
              "   'number': None,\n",
              "   'postalcode': '700001',\n",
              "   'street': None},\n",
              "  'age': '67',\n",
              "  'favouritefruits': ['apple', 'guava', 'mango'],\n",
              "  'gender': 'Male',\n",
              "  'likes_code': False,\n",
              "  'name': 'Narendra'},\n",
              " {'_id': ObjectId('619db277c365f4331ba5e277'),\n",
              "  'address': {'city': 'Lucknow',\n",
              "   'floor': None,\n",
              "   'number': None,\n",
              "   'postalcode': '700001',\n",
              "   'street': None},\n",
              "  'age': '47',\n",
              "  'favouritefruits': ['apple', 'guava', 'mango'],\n",
              "  'gender': 'Male',\n",
              "  'likes_code': False,\n",
              "  'name': 'Aditya'}]"
            ]
          },
          "metadata": {},
          "execution_count": 54
        }
      ]
    },
    {
      "cell_type": "code",
      "metadata": {
        "colab": {
          "base_uri": "https://localhost:8080/"
        },
        "id": "h_Ud5w3PoR_J",
        "outputId": "8ec2b3ce-5e94-4303-ccc7-ce4a1d7854c7"
      },
      "source": [
        "#list ( collection.find( {'name' : 'Charanpreet' } ))   \n",
        "list ( kollection3.find( {'name' : 'Prithwis' } ))   "
      ],
      "execution_count": 55,
      "outputs": [
        {
          "output_type": "execute_result",
          "data": {
            "text/plain": [
              "[{'_id': ObjectId('619db1c0c365f4331ba5e274'),\n",
              "  'address': {'city': 'Kolkata',\n",
              "   'floor': None,\n",
              "   'number': 36,\n",
              "   'postalcode': '700029',\n",
              "   'street': 'Panditiya Road'},\n",
              "  'age': '59',\n",
              "  'favouritefruits': ['apple', 'pineapple', 'orange'],\n",
              "  'gender': 'Male',\n",
              "  'likes_code': True,\n",
              "  'name': 'Prithwis'}]"
            ]
          },
          "metadata": {},
          "execution_count": 55
        }
      ]
    },
    {
      "cell_type": "code",
      "metadata": {
        "colab": {
          "base_uri": "https://localhost:8080/"
        },
        "id": "y_id749PomLI",
        "outputId": "8f577778-abc2-48dc-aaf0-85f62dcab87c"
      },
      "source": [
        "list ( kollection3.find( {'address.postalcode' : '700029' } ))             # find, can use one key or more "
      ],
      "execution_count": 56,
      "outputs": [
        {
          "output_type": "execute_result",
          "data": {
            "text/plain": [
              "[{'_id': ObjectId('619db1c0c365f4331ba5e274'),\n",
              "  'address': {'city': 'Kolkata',\n",
              "   'floor': None,\n",
              "   'number': 36,\n",
              "   'postalcode': '700029',\n",
              "   'street': 'Panditiya Road'},\n",
              "  'age': '59',\n",
              "  'favouritefruits': ['apple', 'pineapple', 'orange'],\n",
              "  'gender': 'Male',\n",
              "  'likes_code': True,\n",
              "  'name': 'Prithwis'}]"
            ]
          },
          "metadata": {},
          "execution_count": 56
        }
      ]
    },
    {
      "cell_type": "markdown",
      "metadata": {
        "id": "IBXAOYdrq0VY"
      },
      "source": [
        "## Update"
      ]
    },
    {
      "cell_type": "code",
      "metadata": {
        "colab": {
          "base_uri": "https://localhost:8080/"
        },
        "id": "wPzOXNXrq2Zh",
        "outputId": "1a6b2fb5-48e9-499d-8458-58174fec6af3"
      },
      "source": [
        "## Update an existing document\n",
        "update_result = kollection3.update_one( \n",
        "    {'name' : 'Prithwis'}, \n",
        "    {'$set' : { 'age' : 101 }} ) \n",
        "\n",
        "list (kollection3.find( {'name' : 'Prithwis' } ))\n",
        "\n",
        "# Alternative : collection.find_one_and_update( {'name' : Name}, {'$set' : { 'age' : 30 }} ) "
      ],
      "execution_count": 57,
      "outputs": [
        {
          "output_type": "execute_result",
          "data": {
            "text/plain": [
              "[{'_id': ObjectId('619db1c0c365f4331ba5e274'),\n",
              "  'address': {'city': 'Kolkata',\n",
              "   'floor': None,\n",
              "   'number': 36,\n",
              "   'postalcode': '700029',\n",
              "   'street': 'Panditiya Road'},\n",
              "  'age': 101,\n",
              "  'favouritefruits': ['apple', 'pineapple', 'orange'],\n",
              "  'gender': 'Male',\n",
              "  'likes_code': True,\n",
              "  'name': 'Prithwis'}]"
            ]
          },
          "metadata": {},
          "execution_count": 57
        }
      ]
    },
    {
      "cell_type": "code",
      "metadata": {
        "colab": {
          "base_uri": "https://localhost:8080/"
        },
        "id": "-Ne8eOS2rW-Y",
        "outputId": "4751727f-4b02-469e-91c7-33a25b13e570"
      },
      "source": [
        "## Update an existing document\n",
        "update_result = kollection3.update_one( \n",
        "    {'name' : 'Prithwis'}, \n",
        "    {'$set' : { 'name' : 'Prithwis Mukerjee' }} ) \n",
        "\n",
        "list (kollection3.find( {'name' : 'Prithwis Mukerjee' } ))"
      ],
      "execution_count": 58,
      "outputs": [
        {
          "output_type": "execute_result",
          "data": {
            "text/plain": [
              "[{'_id': ObjectId('619db1c0c365f4331ba5e274'),\n",
              "  'address': {'city': 'Kolkata',\n",
              "   'floor': None,\n",
              "   'number': 36,\n",
              "   'postalcode': '700029',\n",
              "   'street': 'Panditiya Road'},\n",
              "  'age': 101,\n",
              "  'favouritefruits': ['apple', 'pineapple', 'orange'],\n",
              "  'gender': 'Male',\n",
              "  'likes_code': True,\n",
              "  'name': 'Prithwis Mukerjee'}]"
            ]
          },
          "metadata": {},
          "execution_count": 58
        }
      ]
    },
    {
      "cell_type": "markdown",
      "metadata": {
        "id": "sAd5JaUOZOq1"
      },
      "source": [
        "## Additional stuff \n",
        "https://www.analyticsvidhya.com/blog/2020/02/mongodb-in-python-tutorial-for-beginners-using-pymongo/"
      ]
    },
    {
      "cell_type": "markdown",
      "metadata": {
        "id": "izDtEXYmYBwF"
      },
      "source": [
        "#Chronobooks <br>\n",
        "![alt text](https://1.bp.blogspot.com/-lTiYBkU2qbU/X1er__fvnkI/AAAAAAAAjtE/GhDR3OEGJr4NG43fZPodrQD5kbxtnKebgCLcBGAsYHQ/s600/Footer2020-600x200.png)<hr>\n",
        "Chronotantra and Chronoyantra are two science fiction novels that explore the collapse of human civilisation on Earth and then its rebirth and reincarnation both on Earth as well as on the distant worlds of Mars, Titan and Enceladus. But is it the human civilisation that is being reborn? Or is it some other sentience that is revealing itself. \n",
        "If you have an interest in AI and found this material useful, you may consider buying these novels, in paperback or kindle, from [http://bit.ly/chronobooks](http://bit.ly/chronobooks)"
      ]
    }
  ]
}