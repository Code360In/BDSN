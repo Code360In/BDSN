{
  "nbformat": 4,
  "nbformat_minor": 0,
  "metadata": {
    "colab": {
      "name": "KK E1 Cassandra Getting Started",
      "provenance": [],
      "toc_visible": true,
      "authorship_tag": "ABX9TyMnAUad8rute0FjqDqh5i4h",
      "include_colab_link": true
    },
    "kernelspec": {
      "name": "python3",
      "display_name": "Python 3"
    },
    "language_info": {
      "name": "python"
    }
  },
  "cells": [
    {
      "cell_type": "markdown",
      "metadata": {
        "id": "view-in-github",
        "colab_type": "text"
      },
      "source": [
        "<a href=\"https://colab.research.google.com/github/Praxis-QR/BDSN/blob/main/KK_E1_Cassandra_Getting_Started.ipynb\" target=\"_parent\"><img src=\"https://colab.research.google.com/assets/colab-badge.svg\" alt=\"Open In Colab\"/></a>"
      ]
    },
    {
      "cell_type": "markdown",
      "metadata": {
        "id": "tob6a0Waahs_"
      },
      "source": [
        "![alt text](https://4.bp.blogspot.com/-gbL5nZDkpFQ/XScFYwoTEII/AAAAAAAAAGY/CcVb_HDLwvs2Brv5T4vSsUcz7O4r2Q79ACK4BGAYYCw/s1600/kk3-header00-beta.png)<br>\n",
        "\n",
        "\n",
        "<hr>\n",
        "\n",
        "[Prithwis Mukerjee](http://www.linkedin.com/in/prithwis)<br>"
      ]
    },
    {
      "cell_type": "markdown",
      "metadata": {
        "id": "E2FhOnA1PJwF"
      },
      "source": [
        "#Install Cassandra"
      ]
    },
    {
      "cell_type": "markdown",
      "metadata": {
        "id": "As1axZOji3Un"
      },
      "source": [
        "install https://phoenixnap.com/kb/install-cassandra-on-ubuntu"
      ]
    },
    {
      "cell_type": "code",
      "metadata": {
        "colab": {
          "base_uri": "https://localhost:8080/"
        },
        "id": "vYhMBLxLWleS",
        "outputId": "9163fb2f-1e3b-4c81-d3db-aa3321a2aeba"
      },
      "source": [
        "!apt update > null\n",
        "!apt install openjdk-8-jdk -y > null\n",
        "#!java -version\n",
        "!apt install apt-transport-https > null"
      ],
      "execution_count": 1,
      "outputs": [
        {
          "output_type": "stream",
          "name": "stdout",
          "text": [
            "\n",
            "WARNING: apt does not have a stable CLI interface. Use with caution in scripts.\n",
            "\n",
            "\n",
            "WARNING: apt does not have a stable CLI interface. Use with caution in scripts.\n",
            "\n",
            "\n",
            "WARNING: apt does not have a stable CLI interface. Use with caution in scripts.\n",
            "\n"
          ]
        }
      ]
    },
    {
      "cell_type": "code",
      "metadata": {
        "id": "T4NqUm_TXccH",
        "colab": {
          "base_uri": "https://localhost:8080/"
        },
        "outputId": "648b2ae3-607c-4503-99e7-2dd33f87a3dc"
      },
      "source": [
        "!sh -c 'echo \"deb http://www.apache.org/dist/cassandra/debian 40x main\" > /etc/apt/sources.list.d/cassandra.list'\n",
        "!wget -q -O - https://www.apache.org/dist/cassandra/KEYS | sudo apt-key add -"
      ],
      "execution_count": 2,
      "outputs": [
        {
          "output_type": "stream",
          "name": "stdout",
          "text": [
            "OK\n"
          ]
        }
      ]
    },
    {
      "cell_type": "code",
      "metadata": {
        "id": "55Tefi67Nz3Q"
      },
      "source": [
        "#!cat /etc/apt/sources.list.d/cassandra.list"
      ],
      "execution_count": 3,
      "outputs": []
    },
    {
      "cell_type": "code",
      "metadata": {
        "colab": {
          "base_uri": "https://localhost:8080/"
        },
        "id": "UeP4AIkRXq3G",
        "outputId": "5fdab247-43c0-4ef2-f529-bdba24bdc6d3"
      },
      "source": [
        "!apt update > null\n",
        "!apt install cassandra > null"
      ],
      "execution_count": 3,
      "outputs": [
        {
          "output_type": "stream",
          "name": "stdout",
          "text": [
            "\n",
            "WARNING: apt does not have a stable CLI interface. Use with caution in scripts.\n",
            "\n",
            "\n",
            "WARNING: apt does not have a stable CLI interface. Use with caution in scripts.\n",
            "\n"
          ]
        }
      ]
    },
    {
      "cell_type": "markdown",
      "metadata": {
        "id": "RKx_TfY0POYJ"
      },
      "source": [
        "## Start the Service"
      ]
    },
    {
      "cell_type": "code",
      "metadata": {
        "colab": {
          "base_uri": "https://localhost:8080/"
        },
        "id": "oFrwzWGVXye_",
        "outputId": "25946ba2-d838-4cc6-8c1e-418bbace5ac8"
      },
      "source": [
        "#!service cassandra stop\n",
        "# the ulimit error does not matter\n",
        "!service cassandra restart"
      ],
      "execution_count": 4,
      "outputs": [
        {
          "output_type": "stream",
          "name": "stdout",
          "text": [
            " * Restarting Cassandra cassandra\n",
            "/etc/init.d/cassandra: 72: ulimit: error setting limit (Operation not permitted)\n",
            "   ...done.\n"
          ]
        }
      ]
    },
    {
      "cell_type": "code",
      "metadata": {
        "colab": {
          "base_uri": "https://localhost:8080/"
        },
        "id": "Tp_1OFjMMTML",
        "outputId": "d2272b70-3382-423d-b866-4692ce5c70e3"
      },
      "source": [
        "# keep checking service status until you see [+] next to cassandra\n",
        "# then wait for 30 - 60 seconds MORE\n",
        "!service  --status-all "
      ],
      "execution_count": 5,
      "outputs": [
        {
          "output_type": "stream",
          "name": "stdout",
          "text": [
            " [ + ]  cassandra\n",
            " [ - ]  dbus\n",
            " [ ? ]  hwclock.sh\n",
            " [ ? ]  kmod\n",
            " [ - ]  ntp\n",
            " [ - ]  procps\n",
            " [ - ]  rsync\n",
            " [ + ]  udev\n",
            " [ - ]  x11-common\n"
          ]
        }
      ]
    },
    {
      "cell_type": "code",
      "metadata": {
        "colab": {
          "base_uri": "https://localhost:8080/"
        },
        "id": "xiXyOJMIYPa2",
        "outputId": "00b76e6b-4a51-41e9-d95e-552ce2a19cbb"
      },
      "source": [
        "# this will give an error if the cassandra service has not started\n",
        "# Wait for some time for the service to start\n",
        "# If required reboot system or stop, restart cassandra service\n",
        "!nodetool status"
      ],
      "execution_count": 6,
      "outputs": [
        {
          "output_type": "stream",
          "name": "stdout",
          "text": [
            "Datacenter: datacenter1\n",
            "=======================\n",
            "Status=Up/Down\n",
            "|/ State=Normal/Leaving/Joining/Moving\n",
            "--  Address    Load       Tokens  Owns (effective)  Host ID                               Rack \n",
            "UN  127.0.0.1  69.09 KiB  16      100.0%            64f12a88-55b1-42b1-9b3d-f83b4955b724  rack1\n",
            "\n"
          ]
        }
      ]
    },
    {
      "cell_type": "code",
      "metadata": {
        "id": "KiQkg6HTgZ93"
      },
      "source": [
        "# basic test\n",
        "#!cqlsh"
      ],
      "execution_count": null,
      "outputs": []
    },
    {
      "cell_type": "markdown",
      "metadata": {
        "id": "aBol76oAPWz7"
      },
      "source": [
        "# Basic Commands \n",
        "how to execute commands through scripts https://stackoverflow.com/questions/25286253/executing-cql-through-shell-script <br>\n",
        "some examples https://techfossguru.com/apache-cassandra-python-step-step-guide-ubuntu-example/"
      ]
    },
    {
      "cell_type": "code",
      "metadata": {
        "colab": {
          "base_uri": "https://localhost:8080/"
        },
        "id": "W3sezYYfPcnq",
        "outputId": "7fc0776c-054b-43f1-9db8-0e8f4fc802b2"
      },
      "source": [
        "!cqlsh -e \"help\" "
      ],
      "execution_count": 10,
      "outputs": [
        {
          "output_type": "stream",
          "name": "stdout",
          "text": [
            "\n",
            "Documented shell commands:\n",
            "===========================\n",
            "CAPTURE  CLS          COPY  DESCRIBE  EXPAND  LOGIN   SERIAL  SOURCE   UNICODE\n",
            "CLEAR    CONSISTENCY  DESC  EXIT      HELP    PAGING  SHOW    TRACING\n",
            "\n",
            "CQL help topics:\n",
            "================\n",
            "AGGREGATES               CREATE_KEYSPACE           DROP_TRIGGER      TEXT     \n",
            "ALTER_KEYSPACE           CREATE_MATERIALIZED_VIEW  DROP_TYPE         TIME     \n",
            "ALTER_MATERIALIZED_VIEW  CREATE_ROLE               DROP_USER         TIMESTAMP\n",
            "ALTER_TABLE              CREATE_TABLE              FUNCTIONS         TRUNCATE \n",
            "ALTER_TYPE               CREATE_TRIGGER            GRANT             TYPES    \n",
            "ALTER_USER               CREATE_TYPE               INSERT            UPDATE   \n",
            "APPLY                    CREATE_USER               INSERT_JSON       USE      \n",
            "ASCII                    DATE                      INT               UUID     \n",
            "BATCH                    DELETE                    JSON            \n",
            "BEGIN                    DROP_AGGREGATE            KEYWORDS        \n",
            "BLOB                     DROP_COLUMNFAMILY         LIST_PERMISSIONS\n",
            "BOOLEAN                  DROP_FUNCTION             LIST_ROLES      \n",
            "COUNTER                  DROP_INDEX                LIST_USERS      \n",
            "CREATE_AGGREGATE         DROP_KEYSPACE             PERMISSIONS     \n",
            "CREATE_COLUMNFAMILY      DROP_MATERIALIZED_VIEW    REVOKE          \n",
            "CREATE_FUNCTION          DROP_ROLE                 SELECT          \n",
            "CREATE_INDEX             DROP_TABLE                SELECT_JSON     \n",
            "\n"
          ]
        }
      ]
    },
    {
      "cell_type": "code",
      "metadata": {
        "colab": {
          "base_uri": "https://localhost:8080/"
        },
        "id": "9IiOfaY1P_1m",
        "outputId": "864c1dcb-34d1-473a-dae9-af2326b96805"
      },
      "source": [
        "!cqlsh -e \"CREATE KEYSPACE praxis WITH REPLICATION = { 'class' : 'SimpleStrategy', 'replication_factor' : 3 };\""
      ],
      "execution_count": 7,
      "outputs": [
        {
          "output_type": "stream",
          "name": "stdout",
          "text": [
            "\n",
            "Warnings :\n",
            "Your replication factor 3 for keyspace praxis is higher than the number of nodes 1\n",
            "\n"
          ]
        }
      ]
    },
    {
      "cell_type": "code",
      "metadata": {
        "id": "cZnKX2llQ_X3"
      },
      "source": [
        "# since we are not specifying keyspace separately, we have to prefix table name with keyspace\n",
        "!cqlsh -e \"CREATE TABLE praxis.users (user_id int PRIMARY KEY, first_name text, last_name text );\""
      ],
      "execution_count": 9,
      "outputs": []
    },
    {
      "cell_type": "code",
      "metadata": {
        "id": "Tkl3W5Z3Rmuw"
      },
      "source": [
        "!cqlsh -e \"INSERT INTO praxis.users (user_id, first_name, last_name) VALUES (1, 'Prithwis', 'Mukerjee');\"\n",
        "!cqlsh -e \"INSERT INTO praxis.users (user_id, first_name, last_name) VALUES (2, 'Sanniti', 'Chatterjee');\"\n",
        "!cqlsh -e \"INSERT INTO praxis.users (user_id, first_name, last_name) VALUES (3, 'Amrita', 'Ghosh');\""
      ],
      "execution_count": 10,
      "outputs": []
    },
    {
      "cell_type": "code",
      "metadata": {
        "colab": {
          "base_uri": "https://localhost:8080/"
        },
        "id": "T1yKBuABR-u7",
        "outputId": "13aabcde-7992-40dd-aa27-3faf2800f993"
      },
      "source": [
        "!cqlsh -e \"select * from praxis.users;\""
      ],
      "execution_count": 11,
      "outputs": [
        {
          "output_type": "stream",
          "name": "stdout",
          "text": [
            "\n",
            " \u001b[0;1;31muser_id\u001b[0m | \u001b[0;1;35mfirst_name\u001b[0m | \u001b[0;1;35mlast_name\u001b[0m\n",
            "---------+------------+------------\n",
            "       \u001b[0;1;32m1\u001b[0m |   \u001b[0;1;33mPrithwis\u001b[0m |   \u001b[0;1;33mMukerjee\u001b[0m\n",
            "       \u001b[0;1;32m2\u001b[0m |    \u001b[0;1;33mSanniti\u001b[0m | \u001b[0;1;33mChatterjee\u001b[0m\n",
            "       \u001b[0;1;32m3\u001b[0m |     \u001b[0;1;33mAmrita\u001b[0m |      \u001b[0;1;33mGhosh\u001b[0m\n",
            "\n",
            "(3 rows)\n"
          ]
        }
      ]
    },
    {
      "cell_type": "code",
      "metadata": {
        "colab": {
          "base_uri": "https://localhost:8080/"
        },
        "id": "IrKpduEBTQVn",
        "outputId": "632a953f-a662-4397-a225-f757a7bd7da0"
      },
      "source": [
        "#another way to specifiy keyspace\n",
        "!cqlsh -e \"use praxis;\\\n",
        "           select * from users;\""
      ],
      "execution_count": null,
      "outputs": [
        {
          "output_type": "stream",
          "name": "stdout",
          "text": [
            "\n",
            " \u001b[0;1;31muser_id\u001b[0m | \u001b[0;1;35mfirst_name\u001b[0m | \u001b[0;1;35mlast_name\u001b[0m\n",
            "---------+------------+------------\n",
            "       \u001b[0;1;32m1\u001b[0m |   \u001b[0;1;33mPrithwis\u001b[0m |   \u001b[0;1;33mMukerjee\u001b[0m\n",
            "       \u001b[0;1;32m2\u001b[0m |    \u001b[0;1;33mSanniti\u001b[0m | \u001b[0;1;33mChatterjee\u001b[0m\n",
            "       \u001b[0;1;32m3\u001b[0m |     \u001b[0;1;33mAmrita\u001b[0m |      \u001b[0;1;33mGhosh\u001b[0m\n",
            "\n",
            "(3 rows)\n"
          ]
        }
      ]
    },
    {
      "cell_type": "code",
      "metadata": {
        "colab": {
          "base_uri": "https://localhost:8080/"
        },
        "id": "ZugyHjwaYA6Z",
        "outputId": "fe1f37de-ca75-45b5-d062-3f439e6342b0"
      },
      "source": [
        "# easier way to specify keyspace, similar specifying database in mysql\n",
        "!cqlsh -k praxis -e \"select * from users;\""
      ],
      "execution_count": 15,
      "outputs": [
        {
          "output_type": "stream",
          "name": "stdout",
          "text": [
            "\n",
            " \u001b[0;1;31muser_id\u001b[0m | \u001b[0;1;35mfirst_name\u001b[0m | \u001b[0;1;35mlast_name\u001b[0m\n",
            "---------+------------+------------\n",
            "       \u001b[0;1;32m1\u001b[0m |   \u001b[0;1;33mPrithwis\u001b[0m |   \u001b[0;1;33mMukerjee\u001b[0m\n",
            "       \u001b[0;1;32m2\u001b[0m |    \u001b[0;1;33mSanniti\u001b[0m | \u001b[0;1;33mChatterjee\u001b[0m\n",
            "       \u001b[0;1;32m3\u001b[0m |     \u001b[0;1;33mAmrita\u001b[0m |      \u001b[0;1;33mGhosh\u001b[0m\n",
            "\n",
            "(3 rows)\n"
          ]
        }
      ]
    },
    {
      "cell_type": "markdown",
      "metadata": {
        "id": "XeJl3TiNg6Li"
      },
      "source": [
        "# Python\n",
        "https://docs.datastax.com/en/developer/python-driver/3.25/"
      ]
    },
    {
      "cell_type": "code",
      "metadata": {
        "id": "oTIcI1PVlLaI",
        "colab": {
          "base_uri": "https://localhost:8080/"
        },
        "outputId": "247cd9d3-a74e-4c85-d816-5b05a4d2e51d"
      },
      "source": [
        "!pip install cassandra-driver"
      ],
      "execution_count": 8,
      "outputs": [
        {
          "output_type": "stream",
          "name": "stdout",
          "text": [
            "Collecting cassandra-driver\n",
            "  Downloading cassandra_driver-3.25.0-cp37-cp37m-manylinux1_x86_64.whl (3.8 MB)\n",
            "\u001b[K     |████████████████████████████████| 3.8 MB 5.0 MB/s \n",
            "\u001b[?25hRequirement already satisfied: six>=1.9 in /usr/local/lib/python3.7/dist-packages (from cassandra-driver) (1.15.0)\n",
            "Collecting geomet<0.3,>=0.1\n",
            "  Downloading geomet-0.2.1.post1-py3-none-any.whl (18 kB)\n",
            "Requirement already satisfied: click in /usr/local/lib/python3.7/dist-packages (from geomet<0.3,>=0.1->cassandra-driver) (7.1.2)\n",
            "Installing collected packages: geomet, cassandra-driver\n",
            "Successfully installed cassandra-driver-3.25.0 geomet-0.2.1.post1\n"
          ]
        }
      ]
    },
    {
      "cell_type": "code",
      "metadata": {
        "id": "6VpIDTEbj3H2",
        "outputId": "2b0c24d5-9047-4149-8e31-0f39e0fec18f",
        "colab": {
          "base_uri": "https://localhost:8080/"
        }
      },
      "source": [
        "from cassandra.cluster import Cluster\n",
        "cluster = Cluster(['127.0.0.1'],port=9042)\n",
        "session = cluster.connect('praxis',wait_for_all_pools=True)\n",
        "session.execute('USE praxis')"
      ],
      "execution_count": 9,
      "outputs": [
        {
          "output_type": "execute_result",
          "data": {
            "text/plain": [
              "<cassandra.cluster.ResultSet at 0x7efda0c7a4d0>"
            ]
          },
          "metadata": {},
          "execution_count": 9
        }
      ]
    },
    {
      "cell_type": "code",
      "metadata": {
        "id": "RVNgy9Wnkyk1",
        "colab": {
          "base_uri": "https://localhost:8080/"
        },
        "outputId": "79485522-537f-401a-ab71-cc7e295bae08"
      },
      "source": [
        "rows = session.execute('SELECT * FROM users')\n",
        "for row in rows:\n",
        "        print(row.user_id,row.first_name,row.last_name)"
      ],
      "execution_count": 21,
      "outputs": [
        {
          "output_type": "stream",
          "name": "stdout",
          "text": [
            "1 Prithwis Mukerjee\n",
            "2 Sanniti Chatterjee\n",
            "3 Amrita Ghosh\n"
          ]
        }
      ]
    },
    {
      "cell_type": "code",
      "metadata": {
        "id": "WU-zcG-PYF-J",
        "colab": {
          "base_uri": "https://localhost:8080/"
        },
        "outputId": "0a05d603-10cb-4a58-e774-20d52a7f844b"
      },
      "source": [
        "session.execute(\"INSERT INTO praxis.users (user_id, first_name, last_name) VALUES (4, 'Charanpreet', 'Singh');\")"
      ],
      "execution_count": 22,
      "outputs": [
        {
          "output_type": "execute_result",
          "data": {
            "text/plain": [
              "<cassandra.cluster.ResultSet at 0x7fd20cbf1910>"
            ]
          },
          "metadata": {},
          "execution_count": 22
        }
      ]
    },
    {
      "cell_type": "code",
      "metadata": {
        "id": "n421ctl4YjBv",
        "colab": {
          "base_uri": "https://localhost:8080/"
        },
        "outputId": "efaa2244-c5ba-4e33-89ab-c2958b27dcc6"
      },
      "source": [
        "rows = session.execute('SELECT * FROM users')\n",
        "for row in rows:\n",
        "        print(row.user_id,row.first_name,row.last_name)"
      ],
      "execution_count": 23,
      "outputs": [
        {
          "output_type": "stream",
          "name": "stdout",
          "text": [
            "1 Prithwis Mukerjee\n",
            "2 Sanniti Chatterjee\n",
            "4 Charanpreet Singh\n",
            "3 Amrita Ghosh\n"
          ]
        }
      ]
    },
    {
      "cell_type": "code",
      "metadata": {
        "id": "4NibMU01ZDPV",
        "colab": {
          "base_uri": "https://localhost:8080/"
        },
        "outputId": "c48b307f-15a6-4b41-d535-b13a6a2a7a5b"
      },
      "source": [
        "session.execute(\"update praxis.users set first_name = 'Dr Prithwis' where user_id = 1;\")"
      ],
      "execution_count": 24,
      "outputs": [
        {
          "output_type": "execute_result",
          "data": {
            "text/plain": [
              "<cassandra.cluster.ResultSet at 0x7fd20cbef150>"
            ]
          },
          "metadata": {},
          "execution_count": 24
        }
      ]
    },
    {
      "cell_type": "code",
      "metadata": {
        "id": "wtTJXHrMac-E",
        "colab": {
          "base_uri": "https://localhost:8080/"
        },
        "outputId": "99ae018b-0b25-4381-c434-7a6e626778b0"
      },
      "source": [
        "rows = session.execute('SELECT * FROM users')\n",
        "for row in rows:\n",
        "        print(row.user_id,row.first_name,row.last_name)"
      ],
      "execution_count": 25,
      "outputs": [
        {
          "output_type": "stream",
          "name": "stdout",
          "text": [
            "1 Dr Prithwis Mukerjee\n",
            "2 Sanniti Chatterjee\n",
            "4 Charanpreet Singh\n",
            "3 Amrita Ghosh\n"
          ]
        }
      ]
    },
    {
      "cell_type": "markdown",
      "metadata": {
        "id": "2bw1YnWi6PCa"
      },
      "source": [
        "#Tutorial from FreeCodeCamp <br>\n",
        "https://www.freecodecamp.org/news/the-apache-cassandra-beginner-tutorial/ <br>\n",
        "alternatively from this [saved file](https://github.com/Praxis-QR/BDSN/blob/main/Documents/The%20Apache%20Cassandra%20Beginner%20Tutorial.pdf)"
      ]
    },
    {
      "cell_type": "code",
      "metadata": {
        "id": "nCARKjqn7Gll"
      },
      "source": [
        "#!cqlsh -e \"CREATE KEYSPACE learn_cassandra WITH REPLICATION = { 'class' : 'NetworkTopologyStrategy','datacenter1' : 3  };\""
      ],
      "execution_count": null,
      "outputs": []
    },
    {
      "cell_type": "code",
      "metadata": {
        "id": "zQ5aHVoAPFo9"
      },
      "source": [
        "!cqlsh -k praxis -e \"CREATE TABLE users_by_country \\\n",
        "(country text,\\\n",
        " user_email text,\\\n",
        " first_name text,\\\n",
        " last_name text,\\\n",
        " age smallint,\\\n",
        " PRIMARY KEY ((country), user_email));\""
      ],
      "execution_count": 10,
      "outputs": []
    },
    {
      "cell_type": "code",
      "metadata": {
        "id": "lJROfypZQD8w"
      },
      "source": [
        "!cqlsh -k praxis -e \"\\\n",
        "INSERT INTO users_by_country (country,user_email,first_name,last_name,age) \\\n",
        "  VALUES('US', 'john@email.com', 'John','Wick',55); \\\n",
        "\\\n",
        "INSERT INTO users_by_country (country,user_email,first_name,last_name,age)\\\n",
        "  VALUES('UK', 'peter@email.com', 'Peter','Clark',65);\\\n",
        "\\\n",
        "INSERT INTO users_by_country (country,user_email,first_name,last_name,age)\\\n",
        "  VALUES('UK', 'bob@email.com', 'Bob','Sandler',23);\\\n",
        "\\\n",
        "INSERT INTO users_by_country (country,user_email,first_name,last_name,age)\\\n",
        "  VALUES('UK', 'alice@email.com', 'Alice','Brown',26);\\\n",
        "\""
      ],
      "execution_count": 11,
      "outputs": []
    },
    {
      "cell_type": "code",
      "metadata": {
        "id": "cQzBmX2UQvuo",
        "colab": {
          "base_uri": "https://localhost:8080/"
        },
        "outputId": "ba9a4b7b-edb7-40ce-fa7b-3ddda7a74245"
      },
      "source": [
        "!cqlsh -k praxis -e \"SELECT * FROM users_by_country WHERE country='UK';\""
      ],
      "execution_count": 12,
      "outputs": [
        {
          "output_type": "stream",
          "name": "stdout",
          "text": [
            "\n",
            " \u001b[0;1;31mcountry\u001b[0m | \u001b[0;1;36muser_email\u001b[0m      | \u001b[0;1;35mage\u001b[0m | \u001b[0;1;35mfirst_name\u001b[0m | \u001b[0;1;35mlast_name\u001b[0m\n",
            "---------+-----------------+-----+------------+-----------\n",
            "      \u001b[0;1;33mUK\u001b[0m | \u001b[0;1;33malice@email.com\u001b[0m |  \u001b[0;1;32m26\u001b[0m |      \u001b[0;1;33mAlice\u001b[0m |     \u001b[0;1;33mBrown\u001b[0m\n",
            "      \u001b[0;1;33mUK\u001b[0m |   \u001b[0;1;33mbob@email.com\u001b[0m |  \u001b[0;1;32m23\u001b[0m |        \u001b[0;1;33mBob\u001b[0m |   \u001b[0;1;33mSandler\u001b[0m\n",
            "      \u001b[0;1;33mUK\u001b[0m | \u001b[0;1;33mpeter@email.com\u001b[0m |  \u001b[0;1;32m65\u001b[0m |      \u001b[0;1;33mPeter\u001b[0m |     \u001b[0;1;33mClark\u001b[0m\n",
            "\n",
            "(3 rows)\n"
          ]
        }
      ]
    },
    {
      "cell_type": "code",
      "metadata": {
        "id": "xp0LEX5WRA-T",
        "outputId": "df77b85a-bc72-4009-d0c1-786256b8a8d6",
        "colab": {
          "base_uri": "https://localhost:8080/"
        }
      },
      "source": [
        "!cqlsh -k praxis -e \"drop table users_by_email;\"\n",
        "!cqlsh -k praxis -e \"CREATE TABLE users_by_email (\\\n",
        "  user_email text,\\\n",
        "  country text,\\\n",
        "  first_name text,\\\n",
        "  last_name text,\\\n",
        "  age smallint,\\\n",
        "  PRIMARY KEY (user_email));\"\n",
        "  "
      ],
      "execution_count": 13,
      "outputs": [
        {
          "output_type": "stream",
          "name": "stdout",
          "text": [
            "\u001b[0;1;31m<stdin>:1:InvalidRequest: Error from server: code=2200 [Invalid query] message=\"Table 'praxis.users_by_email' doesn't exist\"\u001b[0m\n"
          ]
        }
      ]
    },
    {
      "cell_type": "code",
      "metadata": {
        "id": "7-ZP8vjMSdY3"
      },
      "source": [
        "!cqlsh -k praxis -e \"INSERT INTO users_by_email (user_email, country,first_name,last_name,age)  VALUES('john@email.com', 'US', 'John','Wick',55);\"\n",
        "!cqlsh -k praxis -e \"INSERT INTO users_by_email (user_email,country,first_name,last_name,age)  VALUES('peter@email.com', 'UK', 'Peter','Clark',65);\"\n",
        "!cqlsh -k praxis -e \"INSERT INTO users_by_email (user_email,country,first_name,last_name,age)  VALUES('bob@email.com', 'UK', 'Bob','Sandler',23);\"\n",
        "!cqlsh -k praxis -e \"INSERT INTO users_by_email (user_email,country,first_name,last_name,age)  VALUES('alice@email.com', 'UK', 'Alice','Brown',26);\""
      ],
      "execution_count": 14,
      "outputs": []
    },
    {
      "cell_type": "code",
      "metadata": {
        "id": "lPR6Z6iVT7XE",
        "colab": {
          "base_uri": "https://localhost:8080/"
        },
        "outputId": "b8cb9410-ffc8-4bed-e86d-b33ac24cf7e0"
      },
      "source": [
        "!cqlsh -k praxis -e \"SELECT * FROM users_by_email WHERE user_email='alice@email.com';\""
      ],
      "execution_count": 15,
      "outputs": [
        {
          "output_type": "stream",
          "name": "stdout",
          "text": [
            "\n",
            " \u001b[0;1;31muser_email\u001b[0m      | \u001b[0;1;35mage\u001b[0m | \u001b[0;1;35mcountry\u001b[0m | \u001b[0;1;35mfirst_name\u001b[0m | \u001b[0;1;35mlast_name\u001b[0m\n",
            "-----------------+-----+---------+------------+-----------\n",
            " \u001b[0;1;33malice@email.com\u001b[0m |  \u001b[0;1;32m26\u001b[0m |      \u001b[0;1;33mUK\u001b[0m |      \u001b[0;1;33mAlice\u001b[0m |     \u001b[0;1;33mBrown\u001b[0m\n",
            "\n",
            "(1 rows)\n"
          ]
        }
      ]
    },
    {
      "cell_type": "code",
      "metadata": {
        "id": "JVyzlLzLUQEr",
        "colab": {
          "base_uri": "https://localhost:8080/"
        },
        "outputId": "250302a3-56e1-4d50-e4ab-5c2acbb7574d"
      },
      "source": [
        "!cqlsh -k praxis -e \"SELECT * FROM users_by_email WHERE age=26 ALLOW FILTERING;\"\n",
        "!cqlsh -k praxis -e \"SELECT * FROM users_by_email WHERE age=26;\""
      ],
      "execution_count": 16,
      "outputs": [
        {
          "output_type": "stream",
          "name": "stdout",
          "text": [
            "\n",
            " \u001b[0;1;31muser_email\u001b[0m      | \u001b[0;1;35mage\u001b[0m | \u001b[0;1;35mcountry\u001b[0m | \u001b[0;1;35mfirst_name\u001b[0m | \u001b[0;1;35mlast_name\u001b[0m\n",
            "-----------------+-----+---------+------------+-----------\n",
            " \u001b[0;1;33malice@email.com\u001b[0m |  \u001b[0;1;32m26\u001b[0m |      \u001b[0;1;33mUK\u001b[0m |      \u001b[0;1;33mAlice\u001b[0m |     \u001b[0;1;33mBrown\u001b[0m\n",
            "\n",
            "(1 rows)\n",
            "\u001b[0;1;31m<stdin>:1:InvalidRequest: Error from server: code=2200 [Invalid query] message=\"Cannot execute this query as it might involve data filtering and thus may have unpredictable performance. If you want to execute this query despite the performance unpredictability, use ALLOW FILTERING\"\u001b[0m\n"
          ]
        }
      ]
    },
    {
      "cell_type": "code",
      "metadata": {
        "id": "5_3yYj9E8Ov1"
      },
      "source": [
        "!cqlsh -k praxis -e \"CREATE TABLE todo_by_user_email (user_email text,name text,creation_date timestamp,PRIMARY KEY ((user_email), creation_date)) WITH CLUSTERING ORDER BY (creation_date DESC) AND compaction = { 'class' :  'LeveledCompactionStrategy'};\""
      ],
      "execution_count": 17,
      "outputs": []
    },
    {
      "cell_type": "code",
      "metadata": {
        "id": "tR3MW8QJ6W5S"
      },
      "source": [
        "!cqlsh -k praxis -e \"\\\n",
        "CREATE TABLE todos_shared_by_target_user_email ( \\\n",
        "    target_user_email text, \\\n",
        "    source_user_email text, \\\n",
        "    creation_date timestamp, \\\n",
        "    name text, \\\n",
        "    PRIMARY KEY ((target_user_email), creation_date) \\\n",
        ") WITH CLUSTERING ORDER BY (creation_date DESC) \\\n",
        "AND compaction = { 'class' :  'LeveledCompactionStrategy'  };\""
      ],
      "execution_count": 18,
      "outputs": []
    },
    {
      "cell_type": "code",
      "metadata": {
        "id": "4a8KJJPf7bsU"
      },
      "source": [
        "!cqlsh -k praxis -e \"\\\n",
        "CREATE TABLE todos_shared_by_source_user_email ( \\\n",
        "    target_user_email text, \\\n",
        "    source_user_email text, \\\n",
        "    creation_date timestamp, \\\n",
        "    name text, \\\n",
        "    PRIMARY KEY ((source_user_email), creation_date) \\\n",
        ") WITH CLUSTERING ORDER BY (creation_date DESC) \\\n",
        "AND compaction = { 'class' :  'LeveledCompactionStrategy'  };\""
      ],
      "execution_count": 19,
      "outputs": []
    },
    {
      "cell_type": "code",
      "metadata": {
        "id": "qng1xWiB7v0y"
      },
      "source": [
        "!cqlsh -k praxis -e \"\\\n",
        "BEGIN BATCH \\\n",
        "  INSERT INTO todo_by_user_email (user_email,creation_date,name) VALUES('alice@email.com', toTimestamp(now()), 'My first todo entry') \\\n",
        "  INSERT INTO todos_shared_by_target_user_email (target_user_email, source_user_email,creation_date,name) VALUES('bob@email.com', 'alice@email.com',toTimestamp(now()), 'My first todo entry') \\\n",
        "  INSERT INTO todos_shared_by_source_user_email (target_user_email, source_user_email,creation_date,name) VALUES('alice@email.com', 'bob@email.com', toTimestamp(now()), 'My first todo entry') \\\n",
        "APPLY BATCH;\""
      ],
      "execution_count": 20,
      "outputs": []
    },
    {
      "cell_type": "code",
      "metadata": {
        "id": "yTO6x2fy_8Ni",
        "colab": {
          "base_uri": "https://localhost:8080/"
        },
        "outputId": "b5eaec12-b788-4e0d-b7e1-a9a709062ad9"
      },
      "source": [
        "!cqlsh -k praxis -e \"SELECT * FROM todos_shared_by_target_user_email WHERE target_user_email='bob@email.com';\""
      ],
      "execution_count": 21,
      "outputs": [
        {
          "output_type": "stream",
          "name": "stdout",
          "text": [
            "\n",
            " \u001b[0;1;31mtarget_user_email\u001b[0m | \u001b[0;1;36mcreation_date\u001b[0m                   | \u001b[0;1;35mname\u001b[0m                | \u001b[0;1;35msource_user_email\u001b[0m\n",
            "-------------------+---------------------------------+---------------------+-------------------\n",
            "     \u001b[0;1;33mbob@email.com\u001b[0m | \u001b[0;1;32m2021-12-03 04:13:45.357000+0000\u001b[0m | \u001b[0;1;33mMy first todo entry\u001b[0m |   \u001b[0;1;33malice@email.com\u001b[0m\n",
            "\n",
            "(1 rows)\n"
          ]
        }
      ]
    },
    {
      "cell_type": "code",
      "metadata": {
        "id": "ADIiDARRAiN9",
        "colab": {
          "base_uri": "https://localhost:8080/"
        },
        "outputId": "82d85a0e-fd61-40a8-8e95-72fb0ea94365"
      },
      "source": [
        "!cqlsh -k praxis -e \"SELECT * FROM todo_by_user_email WHERE user_email='alice@email.com';\""
      ],
      "execution_count": 22,
      "outputs": [
        {
          "output_type": "stream",
          "name": "stdout",
          "text": [
            "\n",
            " \u001b[0;1;31muser_email\u001b[0m      | \u001b[0;1;36mcreation_date\u001b[0m                   | \u001b[0;1;35mname\u001b[0m\n",
            "-----------------+---------------------------------+---------------------\n",
            " \u001b[0;1;33malice@email.com\u001b[0m | \u001b[0;1;32m2021-12-03 04:13:45.356000+0000\u001b[0m | \u001b[0;1;33mMy first todo entry\u001b[0m\n",
            "\n",
            "(1 rows)\n"
          ]
        }
      ]
    },
    {
      "cell_type": "markdown",
      "metadata": {
        "id": "VeyXn4Y8-Cgs"
      },
      "source": [
        "#Cassandra Collections <br>\n",
        "Set, List & Map in CQL with Example <br>\n",
        "https://www.guru99.com/cassandra-collections-tutorial-set-list-map.html"
      ]
    },
    {
      "cell_type": "markdown",
      "metadata": {
        "id": "IsSZLvB_TEtv"
      },
      "source": [
        "## Set"
      ]
    },
    {
      "cell_type": "code",
      "metadata": {
        "id": "yyLHa9pH-gI5",
        "outputId": "3c36642a-6d85-472f-9bd6-67f053f509c5",
        "colab": {
          "base_uri": "https://localhost:8080/"
        }
      },
      "source": [
        "!cqlsh -k praxis -e \"drop table teacher01;\"\n",
        "!cqlsh -k praxis -e \"\\\n",
        "Create table Teacher01 \\\n",
        "( \\\n",
        "id int, \\\n",
        "Name text, \\\n",
        "Email set<text>, \\\n",
        "Primary key(id) \\\n",
        ");\\\n",
        "\""
      ],
      "execution_count": 23,
      "outputs": [
        {
          "output_type": "stream",
          "name": "stdout",
          "text": [
            "\u001b[0;1;31m<stdin>:1:InvalidRequest: Error from server: code=2200 [Invalid query] message=\"Table 'praxis.teacher01' doesn't exist\"\u001b[0m\n"
          ]
        }
      ]
    },
    {
      "cell_type": "code",
      "metadata": {
        "id": "fstGLMXT_UHP"
      },
      "source": [
        "!cqlsh -k praxis  -e \"insert into Teacher01(id,Name,Email) \\\n",
        " values(1,'prithwis',{{'abc@gmail.com','xyz@hotmail.com'}});\""
      ],
      "execution_count": 24,
      "outputs": []
    },
    {
      "cell_type": "code",
      "metadata": {
        "id": "lbiChxCHQ0Ei"
      },
      "source": [
        "!cqlsh -k praxis  -e \"insert into Teacher01(id,Name,Email) \\\n",
        "values(2,'charan',{{'abc1@gmail.com','xyz1@hotmail.com','xyz2@hotmail.com'}});\""
      ],
      "execution_count": 25,
      "outputs": []
    },
    {
      "cell_type": "code",
      "metadata": {
        "id": "hNwoV_zOG85P",
        "outputId": "08a1370a-76ad-4ef3-a40b-e2f3da2f0f01",
        "colab": {
          "base_uri": "https://localhost:8080/"
        }
      },
      "source": [
        "!cqlsh -k praxis -e \" select * from Teacher01;\""
      ],
      "execution_count": 26,
      "outputs": [
        {
          "output_type": "stream",
          "name": "stdout",
          "text": [
            "\n",
            " \u001b[0;1;31mid\u001b[0m | \u001b[0;1;35memail\u001b[0m                                                      | \u001b[0;1;35mname\u001b[0m\n",
            "----+------------------------------------------------------------+----------\n",
            "  \u001b[0;1;32m1\u001b[0m |                       \u001b[0;1;34m{\u001b[0m\u001b[0;1;33m'abc@gmail.com'\u001b[0m\u001b[0;1;34m, \u001b[0m\u001b[0;1;33m'xyz@hotmail.com'\u001b[0m\u001b[0;1;34m}\u001b[0m | \u001b[0;1;33mprithwis\u001b[0m\n",
            "  \u001b[0;1;32m2\u001b[0m | \u001b[0;1;34m{\u001b[0m\u001b[0;1;33m'abc1@gmail.com'\u001b[0m\u001b[0;1;34m, \u001b[0m\u001b[0;1;33m'xyz1@hotmail.com'\u001b[0m\u001b[0;1;34m, \u001b[0m\u001b[0;1;33m'xyz2@hotmail.com'\u001b[0m\u001b[0;1;34m}\u001b[0m |   \u001b[0;1;33mcharan\u001b[0m\n",
            "\n",
            "(2 rows)\n"
          ]
        }
      ]
    },
    {
      "cell_type": "markdown",
      "metadata": {
        "id": "9V2GWLmfTIjf"
      },
      "source": [
        "## List"
      ]
    },
    {
      "cell_type": "code",
      "metadata": {
        "id": "F3v0UsVIRNay",
        "outputId": "0f7aa326-5cd0-46d2-8263-950b07be04d9",
        "colab": {
          "base_uri": "https://localhost:8080/"
        }
      },
      "source": [
        "!cqlsh -k praxis -e \"drop table teacher02;\"\n",
        "!cqlsh -k praxis -e \"\\\n",
        "Create table Teacher02 \\\n",
        "( \\\n",
        "id int, \\\n",
        "Name text, \\\n",
        "Courses list<text>, \\\n",
        "Primary key(id) \\\n",
        ");\\\n",
        "\""
      ],
      "execution_count": 27,
      "outputs": [
        {
          "output_type": "stream",
          "name": "stdout",
          "text": [
            "\u001b[0;1;31m<stdin>:1:InvalidRequest: Error from server: code=2200 [Invalid query] message=\"Table 'praxis.teacher02' doesn't exist\"\u001b[0m\n"
          ]
        }
      ]
    },
    {
      "cell_type": "code",
      "metadata": {
        "id": "GsLimDsXRr8C"
      },
      "source": [
        "!cqlsh -k praxis  -e \"insert into Teacher02(id,Name,Courses) values(1,'prithwis',{['FDS','Python']});\"\n",
        "!cqlsh -k praxis  -e \"insert into Teacher02(id,Name,Courses) values(2,'charan',{['Comms','English','Interview']});\""
      ],
      "execution_count": 28,
      "outputs": []
    },
    {
      "cell_type": "code",
      "metadata": {
        "id": "xaau9HIkSHU4",
        "outputId": "20ea4297-1565-47dc-92e1-7c2c79ee7021",
        "colab": {
          "base_uri": "https://localhost:8080/"
        }
      },
      "source": [
        "!cqlsh -k praxis -e \"select * from teacher02;\""
      ],
      "execution_count": 29,
      "outputs": [
        {
          "output_type": "stream",
          "name": "stdout",
          "text": [
            "\n",
            " \u001b[0;1;31mid\u001b[0m | \u001b[0;1;35mcourses\u001b[0m                           | \u001b[0;1;35mname\u001b[0m\n",
            "----+-----------------------------------+----------\n",
            "  \u001b[0;1;32m1\u001b[0m |                 \u001b[0;1;34m[\u001b[0m\u001b[0;1;33m'FDS'\u001b[0m\u001b[0;1;34m, \u001b[0m\u001b[0;1;33m'Python'\u001b[0m\u001b[0;1;34m]\u001b[0m | \u001b[0;1;33mprithwis\u001b[0m\n",
            "  \u001b[0;1;32m2\u001b[0m | \u001b[0;1;34m[\u001b[0m\u001b[0;1;33m'Comms'\u001b[0m\u001b[0;1;34m, \u001b[0m\u001b[0;1;33m'English'\u001b[0m\u001b[0;1;34m, \u001b[0m\u001b[0;1;33m'Interview'\u001b[0m\u001b[0;1;34m]\u001b[0m |   \u001b[0;1;33mcharan\u001b[0m\n",
            "\n",
            "(2 rows)\n"
          ]
        }
      ]
    },
    {
      "cell_type": "markdown",
      "metadata": {
        "id": "dLtoVQhJTMI9"
      },
      "source": [
        "## Maps"
      ]
    },
    {
      "cell_type": "code",
      "metadata": {
        "id": "MoovfcWETpMc",
        "outputId": "30e231a6-bf57-4e3e-eb8e-be089773b67c",
        "colab": {
          "base_uri": "https://localhost:8080/"
        }
      },
      "source": [
        "!cqlsh -k praxis -e \"drop table courses;\"\n",
        "!cqlsh -k praxis -e \"\\\n",
        "Create table courses \\\n",
        "( \\\n",
        "id int, \\\n",
        "Name text, \\\n",
        "Teachers map<text,text>, \\\n",
        "Primary key(id) \\\n",
        ");\\\n",
        "\""
      ],
      "execution_count": 30,
      "outputs": [
        {
          "output_type": "stream",
          "name": "stdout",
          "text": [
            "\u001b[0;1;31m<stdin>:1:InvalidRequest: Error from server: code=2200 [Invalid query] message=\"Table 'praxis.courses' doesn't exist\"\u001b[0m\n"
          ]
        }
      ]
    },
    {
      "cell_type": "code",
      "metadata": {
        "id": "UQxNOPP-UHCY",
        "outputId": "04380e9a-0cef-4278-d7f1-cdcb4411c310",
        "colab": {
          "base_uri": "https://localhost:8080/"
        }
      },
      "source": [
        "!cqlsh -k praxis  -e \"insert into courses(id,Name,Teachers) values(100,'PGDM',{{'Stats':'SRC','FDM':'Atanu'}});\"\n",
        "!cqlsh -k praxis  -e \"insert into courses(id,Name,Teachers) values(200,'PGDS',{{'Stats':'SRC','ML':'SDG', 'BDSM':'PM'}});\"\n",
        "!cqlsh -k praxis -e \"select * from courses;\""
      ],
      "execution_count": 31,
      "outputs": [
        {
          "output_type": "stream",
          "name": "stdout",
          "text": [
            "\n",
            " \u001b[0;1;31mid\u001b[0m  | \u001b[0;1;35mname\u001b[0m | \u001b[0;1;35mteachers\u001b[0m\n",
            "-----+------+---------------------------------------------\n",
            " \u001b[0;1;32m200\u001b[0m | \u001b[0;1;33mPGDS\u001b[0m | \u001b[0;1;34m{\u001b[0m\u001b[0;1;33m'BDSM'\u001b[0m\u001b[0;1;34m: \u001b[0m\u001b[0;1;33m'PM'\u001b[0m\u001b[0;1;34m, \u001b[0m\u001b[0;1;33m'ML'\u001b[0m\u001b[0;1;34m: \u001b[0m\u001b[0;1;33m'SDG'\u001b[0m\u001b[0;1;34m, \u001b[0m\u001b[0;1;33m'Stats'\u001b[0m\u001b[0;1;34m: \u001b[0m\u001b[0;1;33m'SRC'\u001b[0m\u001b[0;1;34m}\u001b[0m\n",
            " \u001b[0;1;32m100\u001b[0m | \u001b[0;1;33mPGDM\u001b[0m |            \u001b[0;1;34m{\u001b[0m\u001b[0;1;33m'FDM'\u001b[0m\u001b[0;1;34m: \u001b[0m\u001b[0;1;33m'Atanu'\u001b[0m\u001b[0;1;34m, \u001b[0m\u001b[0;1;33m'Stats'\u001b[0m\u001b[0;1;34m: \u001b[0m\u001b[0;1;33m'SRC'\u001b[0m\u001b[0;1;34m}\u001b[0m\n",
            "\n",
            "(2 rows)\n"
          ]
        }
      ]
    },
    {
      "cell_type": "code",
      "metadata": {
        "id": "2pr7JKbBMa3x"
      },
      "source": [
        "#!cqlsh -k praxis -e \"describe Teacher02;\""
      ],
      "execution_count": 32,
      "outputs": []
    },
    {
      "cell_type": "markdown",
      "metadata": {
        "id": "vBVecFMbW8lo"
      },
      "source": [
        "## Python"
      ]
    },
    {
      "cell_type": "code",
      "metadata": {
        "id": "zcdhzWyBW-eF",
        "outputId": "54727b07-2858-4eb2-952e-c8a32fd44f30",
        "colab": {
          "base_uri": "https://localhost:8080/"
        }
      },
      "source": [
        "rows = session.execute('SELECT * FROM teacher01')\n",
        "for row in rows:\n",
        "        print(row)\n",
        "        emails = row.email\n",
        "        print(emails)\n",
        "        emails2 = list(emails)\n",
        "        for im in emails2:\n",
        "            print(im)"
      ],
      "execution_count": 33,
      "outputs": [
        {
          "output_type": "stream",
          "name": "stdout",
          "text": [
            "Row(id=1, email=SortedSet(['abc@gmail.com', 'xyz@hotmail.com']), name='prithwis')\n",
            "SortedSet(['abc@gmail.com', 'xyz@hotmail.com'])\n",
            "abc@gmail.com\n",
            "xyz@hotmail.com\n",
            "Row(id=2, email=SortedSet(['abc1@gmail.com', 'xyz1@hotmail.com', 'xyz2@hotmail.com']), name='charan')\n",
            "SortedSet(['abc1@gmail.com', 'xyz1@hotmail.com', 'xyz2@hotmail.com'])\n",
            "abc1@gmail.com\n",
            "xyz1@hotmail.com\n",
            "xyz2@hotmail.com\n"
          ]
        }
      ]
    },
    {
      "cell_type": "code",
      "metadata": {
        "id": "mozz69rmYVSh",
        "outputId": "06627317-fd7a-474f-b7de-398617812ed3",
        "colab": {
          "base_uri": "https://localhost:8080/"
        }
      },
      "source": [
        "rows = session.execute('SELECT * FROM teacher02')\n",
        "for row in rows:\n",
        "        print(row)\n",
        "        courses = row.courses\n",
        "        print(courses)\n",
        "        for c in courses:\n",
        "            print(c)"
      ],
      "execution_count": 34,
      "outputs": [
        {
          "output_type": "stream",
          "name": "stdout",
          "text": [
            "Row(id=1, courses=['FDS', 'Python'], name='prithwis')\n",
            "['FDS', 'Python']\n",
            "FDS\n",
            "Python\n",
            "Row(id=2, courses=['Comms', 'English', 'Interview'], name='charan')\n",
            "['Comms', 'English', 'Interview']\n",
            "Comms\n",
            "English\n",
            "Interview\n"
          ]
        }
      ]
    },
    {
      "cell_type": "code",
      "metadata": {
        "id": "3XxBFAErZZWO",
        "outputId": "c83cff05-0a0e-4cd2-b8a3-7f292bc10fc5",
        "colab": {
          "base_uri": "https://localhost:8080/"
        }
      },
      "source": [
        "rows = session.execute('SELECT * FROM courses')\n",
        "for row in rows:\n",
        "        print(row)\n",
        "        print(row.teachers) # this is a dictionary and can be used as such\n",
        "        for k,v in row.teachers.items():\n",
        "            print(k,v)\n",
        "        \n",
        "        "
      ],
      "execution_count": 36,
      "outputs": [
        {
          "output_type": "stream",
          "name": "stdout",
          "text": [
            "Row(id=200, name='PGDS', teachers=OrderedMapSerializedKey([('BDSM', 'PM'), ('ML', 'SDG'), ('Stats', 'SRC')]))\n",
            "{'BDSM': 'PM', 'ML': 'SDG', 'Stats': 'SRC'}\n",
            "BDSM PM\n",
            "ML SDG\n",
            "Stats SRC\n",
            "Row(id=100, name='PGDM', teachers=OrderedMapSerializedKey([('FDM', 'Atanu'), ('Stats', 'SRC')]))\n",
            "{'FDM': 'Atanu', 'Stats': 'SRC'}\n",
            "FDM Atanu\n",
            "Stats SRC\n"
          ]
        }
      ]
    },
    {
      "cell_type": "markdown",
      "metadata": {
        "id": "uQpkPRE2as9q"
      },
      "source": [
        "#Chronobooks <br>\n",
        "![alt text](https://1.bp.blogspot.com/-lTiYBkU2qbU/X1er__fvnkI/AAAAAAAAjtE/GhDR3OEGJr4NG43fZPodrQD5kbxtnKebgCLcBGAsYHQ/s600/Footer2020-600x200.png)<hr>\n",
        "Chronotantra and Chronoyantra are two science fiction novels that explore the collapse of human civilisation on Earth and then its rebirth and reincarnation both on Earth as well as on the distant worlds of Mars, Titan and Enceladus. But is it the human civilisation that is being reborn? Or is it some other sentience that is revealing itself. \n",
        "If you have an interest in AI and found this material useful, you may consider buying these novels, in paperback or kindle, from [http://bit.ly/chronobooks](http://bit.ly/chronobooks)"
      ]
    }
  ]
}