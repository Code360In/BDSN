{
  "nbformat": 4,
  "nbformat_minor": 0,
  "metadata": {
    "colab": {
      "name": "KK E1 Cassandra Getting Started",
      "provenance": [],
      "authorship_tag": "ABX9TyP2ag2r88QAsrveS1KPcJ8o",
      "include_colab_link": true
    },
    "kernelspec": {
      "name": "python3",
      "display_name": "Python 3"
    },
    "language_info": {
      "name": "python"
    }
  },
  "cells": [
    {
      "cell_type": "markdown",
      "metadata": {
        "id": "view-in-github",
        "colab_type": "text"
      },
      "source": [
        "<a href=\"https://colab.research.google.com/github/Praxis-QR/BDSN/blob/main/KK_E1_Cassandra_Getting_Started.ipynb\" target=\"_parent\"><img src=\"https://colab.research.google.com/assets/colab-badge.svg\" alt=\"Open In Colab\"/></a>"
      ]
    },
    {
      "cell_type": "markdown",
      "metadata": {
        "id": "tob6a0Waahs_"
      },
      "source": [
        "![alt text](https://4.bp.blogspot.com/-gbL5nZDkpFQ/XScFYwoTEII/AAAAAAAAAGY/CcVb_HDLwvs2Brv5T4vSsUcz7O4r2Q79ACK4BGAYYCw/s1600/kk3-header00-beta.png)<br>\n",
        "\n",
        "\n",
        "<hr>\n",
        "\n",
        "[Prithwis Mukerjee](http://www.linkedin.com/in/prithwis)<br>"
      ]
    },
    {
      "cell_type": "markdown",
      "metadata": {
        "id": "E2FhOnA1PJwF"
      },
      "source": [
        "#Install Cassandra"
      ]
    },
    {
      "cell_type": "markdown",
      "metadata": {
        "id": "As1axZOji3Un"
      },
      "source": [
        "install https://phoenixnap.com/kb/install-cassandra-on-ubuntu"
      ]
    },
    {
      "cell_type": "code",
      "metadata": {
        "colab": {
          "base_uri": "https://localhost:8080/"
        },
        "id": "vYhMBLxLWleS",
        "outputId": "500cf7f7-a336-4d36-aa67-46c106da0720"
      },
      "source": [
        "!apt update > null\n",
        "!apt install openjdk-8-jdk -y > null\n",
        "#!java -version\n",
        "!apt install apt-transport-https > null"
      ],
      "execution_count": 6,
      "outputs": [
        {
          "output_type": "stream",
          "name": "stdout",
          "text": [
            "\n",
            "WARNING: apt does not have a stable CLI interface. Use with caution in scripts.\n",
            "\n",
            "\n",
            "WARNING: apt does not have a stable CLI interface. Use with caution in scripts.\n",
            "\n",
            "\n",
            "WARNING: apt does not have a stable CLI interface. Use with caution in scripts.\n",
            "\n"
          ]
        }
      ]
    },
    {
      "cell_type": "code",
      "metadata": {
        "id": "T4NqUm_TXccH",
        "colab": {
          "base_uri": "https://localhost:8080/"
        },
        "outputId": "b77023a8-f82b-469e-c970-651b27c53b86"
      },
      "source": [
        "!sh -c 'echo \"deb http://www.apache.org/dist/cassandra/debian 40x main\" > /etc/apt/sources.list.d/cassandra.list'\n",
        "!wget -q -O - https://www.apache.org/dist/cassandra/KEYS | sudo apt-key add -"
      ],
      "execution_count": 7,
      "outputs": [
        {
          "output_type": "stream",
          "name": "stdout",
          "text": [
            "OK\n"
          ]
        }
      ]
    },
    {
      "cell_type": "code",
      "metadata": {
        "id": "55Tefi67Nz3Q"
      },
      "source": [
        "#!cat /etc/apt/sources.list.d/cassandra.list"
      ],
      "execution_count": null,
      "outputs": []
    },
    {
      "cell_type": "code",
      "metadata": {
        "colab": {
          "base_uri": "https://localhost:8080/"
        },
        "id": "UeP4AIkRXq3G",
        "outputId": "e65b98d0-1940-4c19-c18a-e2c63adbb715"
      },
      "source": [
        "!apt update > null\n",
        "!apt install cassandra > null"
      ],
      "execution_count": 8,
      "outputs": [
        {
          "output_type": "stream",
          "name": "stdout",
          "text": [
            "\n",
            "WARNING: apt does not have a stable CLI interface. Use with caution in scripts.\n",
            "\n",
            "\n",
            "WARNING: apt does not have a stable CLI interface. Use with caution in scripts.\n",
            "\n"
          ]
        }
      ]
    },
    {
      "cell_type": "markdown",
      "metadata": {
        "id": "RKx_TfY0POYJ"
      },
      "source": [
        "## Start the Service"
      ]
    },
    {
      "cell_type": "code",
      "metadata": {
        "colab": {
          "base_uri": "https://localhost:8080/"
        },
        "id": "oFrwzWGVXye_",
        "outputId": "330aa211-fc2b-4f44-8066-84afcb9b4820"
      },
      "source": [
        "#!service cassandra stop\n",
        "# the ulimit error does not matter\n",
        "!service cassandra restart"
      ],
      "execution_count": 9,
      "outputs": [
        {
          "output_type": "stream",
          "name": "stdout",
          "text": [
            " * Restarting Cassandra cassandra\n",
            "/etc/init.d/cassandra: 72: ulimit: error setting limit (Operation not permitted)\n",
            "   ...done.\n"
          ]
        }
      ]
    },
    {
      "cell_type": "code",
      "metadata": {
        "colab": {
          "base_uri": "https://localhost:8080/"
        },
        "id": "Tp_1OFjMMTML",
        "outputId": "ef1cbccb-5793-47c2-ec16-d3647ca6188c"
      },
      "source": [
        "# keep checking service status until you see [+] next to cassandra\n",
        "# then wait for at least 60 seconds MORE .... count 1 to 60 if you are feeling impatient\n",
        "!service  --status-all "
      ],
      "execution_count": 10,
      "outputs": [
        {
          "output_type": "stream",
          "name": "stdout",
          "text": [
            " [ + ]  cassandra\n",
            " [ - ]  dbus\n",
            " [ ? ]  hwclock.sh\n",
            " [ ? ]  kmod\n",
            " [ - ]  ntp\n",
            " [ - ]  procps\n",
            " [ - ]  rsync\n",
            " [ - ]  udev\n",
            " [ - ]  x11-common\n"
          ]
        }
      ]
    },
    {
      "cell_type": "code",
      "metadata": {
        "colab": {
          "base_uri": "https://localhost:8080/"
        },
        "id": "xiXyOJMIYPa2",
        "outputId": "db4f5e5d-31c5-4b9d-f7f0-d4bcee733b90"
      },
      "source": [
        "# this will give an error if the cassandra service has not started\n",
        "# Wait for some time for the service to start\n",
        "# If required reboot system or stop, restart cassandra service\n",
        "!nodetool status"
      ],
      "execution_count": 11,
      "outputs": [
        {
          "output_type": "stream",
          "name": "stdout",
          "text": [
            "Datacenter: datacenter1\n",
            "=======================\n",
            "Status=Up/Down\n",
            "|/ State=Normal/Leaving/Joining/Moving\n",
            "--  Address    Load       Tokens  Owns (effective)  Host ID                               Rack \n",
            "UN  127.0.0.1  69.05 KiB  16      100.0%            e31e5204-262e-4b06-a7c7-97450a3a1e32  rack1\n",
            "\n"
          ]
        }
      ]
    },
    {
      "cell_type": "code",
      "metadata": {
        "id": "KiQkg6HTgZ93"
      },
      "source": [
        "# basic test\n",
        "#!cqlsh"
      ],
      "execution_count": null,
      "outputs": []
    },
    {
      "cell_type": "markdown",
      "metadata": {
        "id": "aBol76oAPWz7"
      },
      "source": [
        "# Basic Commands \n",
        "how to execute commands through scripts https://stackoverflow.com/questions/25286253/executing-cql-through-shell-script <br>\n",
        "some examples https://techfossguru.com/apache-cassandra-python-step-step-guide-ubuntu-example/"
      ]
    },
    {
      "cell_type": "code",
      "metadata": {
        "colab": {
          "base_uri": "https://localhost:8080/"
        },
        "id": "W3sezYYfPcnq",
        "outputId": "e70db80b-35df-4c87-d6d8-a578602e5aa8"
      },
      "source": [
        "!cqlsh -e \"help\" "
      ],
      "execution_count": null,
      "outputs": [
        {
          "output_type": "stream",
          "name": "stdout",
          "text": [
            "\n",
            "Documented shell commands:\n",
            "===========================\n",
            "CAPTURE  CLS          COPY  DESCRIBE  EXPAND  LOGIN   SERIAL  SOURCE   UNICODE\n",
            "CLEAR    CONSISTENCY  DESC  EXIT      HELP    PAGING  SHOW    TRACING\n",
            "\n",
            "CQL help topics:\n",
            "================\n",
            "AGGREGATES               CREATE_KEYSPACE           DROP_TRIGGER      TEXT     \n",
            "ALTER_KEYSPACE           CREATE_MATERIALIZED_VIEW  DROP_TYPE         TIME     \n",
            "ALTER_MATERIALIZED_VIEW  CREATE_ROLE               DROP_USER         TIMESTAMP\n",
            "ALTER_TABLE              CREATE_TABLE              FUNCTIONS         TRUNCATE \n",
            "ALTER_TYPE               CREATE_TRIGGER            GRANT             TYPES    \n",
            "ALTER_USER               CREATE_TYPE               INSERT            UPDATE   \n",
            "APPLY                    CREATE_USER               INSERT_JSON       USE      \n",
            "ASCII                    DATE                      INT               UUID     \n",
            "BATCH                    DELETE                    JSON            \n",
            "BEGIN                    DROP_AGGREGATE            KEYWORDS        \n",
            "BLOB                     DROP_COLUMNFAMILY         LIST_PERMISSIONS\n",
            "BOOLEAN                  DROP_FUNCTION             LIST_ROLES      \n",
            "COUNTER                  DROP_INDEX                LIST_USERS      \n",
            "CREATE_AGGREGATE         DROP_KEYSPACE             PERMISSIONS     \n",
            "CREATE_COLUMNFAMILY      DROP_MATERIALIZED_VIEW    REVOKE          \n",
            "CREATE_FUNCTION          DROP_ROLE                 SELECT          \n",
            "CREATE_INDEX             DROP_TABLE                SELECT_JSON     \n",
            "\n"
          ]
        }
      ]
    },
    {
      "cell_type": "code",
      "metadata": {
        "colab": {
          "base_uri": "https://localhost:8080/"
        },
        "id": "9IiOfaY1P_1m",
        "outputId": "c1743184-e208-4658-fac7-b4755958cc07"
      },
      "source": [
        "!cqlsh -e \"CREATE KEYSPACE praxis WITH REPLICATION = { 'class' : 'SimpleStrategy', 'replication_factor' : 3 };\""
      ],
      "execution_count": 12,
      "outputs": [
        {
          "output_type": "stream",
          "name": "stdout",
          "text": [
            "\n",
            "Warnings :\n",
            "Your replication factor 3 for keyspace praxis is higher than the number of nodes 1\n",
            "\n"
          ]
        }
      ]
    },
    {
      "cell_type": "code",
      "metadata": {
        "id": "cZnKX2llQ_X3"
      },
      "source": [
        "# since we are not specifying keyspace separately, we have to prefix table name with keyspace\n",
        "!cqlsh -e \"CREATE TABLE praxis.users (user_id int PRIMARY KEY, first_name text, last_name text );\""
      ],
      "execution_count": 13,
      "outputs": []
    },
    {
      "cell_type": "code",
      "metadata": {
        "id": "Tkl3W5Z3Rmuw"
      },
      "source": [
        "!cqlsh -e \"INSERT INTO praxis.users (user_id, first_name, last_name) VALUES (1, 'Prithwis', 'Mukerjee');\"\n",
        "!cqlsh -e \"INSERT INTO praxis.users (user_id, first_name, last_name) VALUES (2, 'Sanniti', 'Chatterjee');\"\n",
        "!cqlsh -e \"INSERT INTO praxis.users (user_id, first_name, last_name) VALUES (3, 'Amrita', 'Ghosh');\""
      ],
      "execution_count": 14,
      "outputs": []
    },
    {
      "cell_type": "code",
      "metadata": {
        "colab": {
          "base_uri": "https://localhost:8080/"
        },
        "id": "T1yKBuABR-u7",
        "outputId": "19ed8b89-7653-402d-bce1-8e621fc9e6e8"
      },
      "source": [
        "!cqlsh -e \"select * from praxis.users;\""
      ],
      "execution_count": 15,
      "outputs": [
        {
          "output_type": "stream",
          "name": "stdout",
          "text": [
            "\n",
            " \u001b[0;1;31muser_id\u001b[0m | \u001b[0;1;35mfirst_name\u001b[0m | \u001b[0;1;35mlast_name\u001b[0m\n",
            "---------+------------+------------\n",
            "       \u001b[0;1;32m1\u001b[0m |   \u001b[0;1;33mPrithwis\u001b[0m |   \u001b[0;1;33mMukerjee\u001b[0m\n",
            "       \u001b[0;1;32m2\u001b[0m |    \u001b[0;1;33mSanniti\u001b[0m | \u001b[0;1;33mChatterjee\u001b[0m\n",
            "       \u001b[0;1;32m3\u001b[0m |     \u001b[0;1;33mAmrita\u001b[0m |      \u001b[0;1;33mGhosh\u001b[0m\n",
            "\n",
            "(3 rows)\n"
          ]
        }
      ]
    },
    {
      "cell_type": "code",
      "metadata": {
        "colab": {
          "base_uri": "https://localhost:8080/"
        },
        "id": "IrKpduEBTQVn",
        "outputId": "a318dc33-133f-408a-f66d-1e1262f3e2fd"
      },
      "source": [
        "#another way to specifiy keyspace\n",
        "!cqlsh -e \"use praxis;\\\n",
        "           select * from users;\""
      ],
      "execution_count": null,
      "outputs": [
        {
          "output_type": "stream",
          "name": "stdout",
          "text": [
            "\n",
            " \u001b[0;1;31muser_id\u001b[0m | \u001b[0;1;35mfirst_name\u001b[0m | \u001b[0;1;35mlast_name\u001b[0m\n",
            "---------+------------+------------\n",
            "       \u001b[0;1;32m1\u001b[0m |   \u001b[0;1;33mPrithwis\u001b[0m |   \u001b[0;1;33mMukerjee\u001b[0m\n",
            "       \u001b[0;1;32m2\u001b[0m |    \u001b[0;1;33mSanniti\u001b[0m | \u001b[0;1;33mChatterjee\u001b[0m\n",
            "       \u001b[0;1;32m3\u001b[0m |     \u001b[0;1;33mAmrita\u001b[0m |      \u001b[0;1;33mGhosh\u001b[0m\n",
            "\n",
            "(3 rows)\n"
          ]
        }
      ]
    },
    {
      "cell_type": "code",
      "metadata": {
        "colab": {
          "base_uri": "https://localhost:8080/"
        },
        "id": "ZugyHjwaYA6Z",
        "outputId": "b66156d8-4fac-4262-f1b8-89700078804f"
      },
      "source": [
        "# easier way to specify keyspace, similar specifying database in mysql\n",
        "!cqlsh -k praxis -e \"select * from users;\""
      ],
      "execution_count": null,
      "outputs": [
        {
          "output_type": "stream",
          "name": "stdout",
          "text": [
            "\n",
            " \u001b[0;1;31muser_id\u001b[0m | \u001b[0;1;35mfirst_name\u001b[0m | \u001b[0;1;35mlast_name\u001b[0m\n",
            "---------+------------+------------\n",
            "       \u001b[0;1;32m1\u001b[0m |   \u001b[0;1;33mPrithwis\u001b[0m |   \u001b[0;1;33mMukerjee\u001b[0m\n",
            "       \u001b[0;1;32m2\u001b[0m |    \u001b[0;1;33mSanniti\u001b[0m | \u001b[0;1;33mChatterjee\u001b[0m\n",
            "       \u001b[0;1;32m3\u001b[0m |     \u001b[0;1;33mAmrita\u001b[0m |      \u001b[0;1;33mGhosh\u001b[0m\n",
            "\n",
            "(3 rows)\n"
          ]
        }
      ]
    },
    {
      "cell_type": "markdown",
      "metadata": {
        "id": "XeJl3TiNg6Li"
      },
      "source": [
        "# Python\n",
        "https://docs.datastax.com/en/developer/python-driver/3.25/"
      ]
    },
    {
      "cell_type": "code",
      "metadata": {
        "id": "oTIcI1PVlLaI"
      },
      "source": [
        "!pip install cassandra-driver > null"
      ],
      "execution_count": 26,
      "outputs": []
    },
    {
      "cell_type": "code",
      "metadata": {
        "id": "6VpIDTEbj3H2",
        "outputId": "c656209a-8b92-4660-f715-4d533a3120d8",
        "colab": {
          "base_uri": "https://localhost:8080/"
        }
      },
      "source": [
        "from cassandra.cluster import Cluster\n",
        "cluster = Cluster(['127.0.0.1'],port=9042)\n",
        "session = cluster.connect('praxis',wait_for_all_pools=True)\n",
        "session.execute('USE praxis')"
      ],
      "execution_count": 29,
      "outputs": [
        {
          "output_type": "execute_result",
          "data": {
            "text/plain": [
              "<cassandra.cluster.ResultSet at 0x7f0b84433b50>"
            ]
          },
          "metadata": {},
          "execution_count": 29
        }
      ]
    },
    {
      "cell_type": "code",
      "metadata": {
        "id": "RVNgy9Wnkyk1",
        "colab": {
          "base_uri": "https://localhost:8080/"
        },
        "outputId": "b52f0e1f-dec5-4521-f5a1-3961c597464d"
      },
      "source": [
        "rows = session.execute('SELECT * FROM users')\n",
        "for row in rows:\n",
        "        print(row.user_id,row.first_name,row.last_name)"
      ],
      "execution_count": 30,
      "outputs": [
        {
          "output_type": "stream",
          "name": "stdout",
          "text": [
            "1 Prithwis Mukerjee\n",
            "2 Sanniti Chatterjee\n",
            "3 Amrita Ghosh\n"
          ]
        }
      ]
    },
    {
      "cell_type": "code",
      "metadata": {
        "id": "WU-zcG-PYF-J",
        "colab": {
          "base_uri": "https://localhost:8080/"
        },
        "outputId": "fab162ec-ab9f-4f25-e43f-a6e93d8a47c5"
      },
      "source": [
        "session.execute(\"INSERT INTO praxis.users (user_id, first_name, last_name) VALUES (4, 'Charanpreet', 'Singh');\")"
      ],
      "execution_count": null,
      "outputs": [
        {
          "output_type": "execute_result",
          "data": {
            "text/plain": [
              "<cassandra.cluster.ResultSet at 0x7fde6eef8f50>"
            ]
          },
          "metadata": {},
          "execution_count": 17
        }
      ]
    },
    {
      "cell_type": "code",
      "metadata": {
        "id": "n421ctl4YjBv",
        "colab": {
          "base_uri": "https://localhost:8080/"
        },
        "outputId": "0b8a6e2f-46e1-4fd6-8850-d1bb9a14d029"
      },
      "source": [
        "rows = session.execute('SELECT * FROM users')\n",
        "for row in rows:\n",
        "        print(row.user_id,row.first_name,row.last_name)"
      ],
      "execution_count": null,
      "outputs": [
        {
          "output_type": "stream",
          "name": "stdout",
          "text": [
            "1 Prithwis Mukerjee\n",
            "2 Sanniti Chatterjee\n",
            "4 Charanpreet Singh\n",
            "3 Amrita Ghosh\n"
          ]
        }
      ]
    },
    {
      "cell_type": "code",
      "metadata": {
        "id": "4NibMU01ZDPV",
        "colab": {
          "base_uri": "https://localhost:8080/"
        },
        "outputId": "1bbc7499-a92d-43b0-fbbf-6130d6de2de4"
      },
      "source": [
        "session.execute(\"update praxis.users set first_name = 'Dr Prithwis' where user_id = 1;\")"
      ],
      "execution_count": null,
      "outputs": [
        {
          "output_type": "execute_result",
          "data": {
            "text/plain": [
              "<cassandra.cluster.ResultSet at 0x7fde726cd9d0>"
            ]
          },
          "metadata": {},
          "execution_count": 19
        }
      ]
    },
    {
      "cell_type": "code",
      "metadata": {
        "id": "wtTJXHrMac-E",
        "colab": {
          "base_uri": "https://localhost:8080/"
        },
        "outputId": "6ddf4ad6-5472-41cf-83ca-0b18b6da72fc"
      },
      "source": [
        "rows = session.execute('SELECT * FROM users')\n",
        "for row in rows:\n",
        "        print(row.user_id,row.first_name,row.last_name)"
      ],
      "execution_count": null,
      "outputs": [
        {
          "output_type": "stream",
          "name": "stdout",
          "text": [
            "1 Dr Prithwis Mukerjee\n",
            "2 Sanniti Chatterjee\n",
            "4 Charanpreet Singh\n",
            "3 Amrita Ghosh\n"
          ]
        }
      ]
    },
    {
      "cell_type": "markdown",
      "metadata": {
        "id": "2bw1YnWi6PCa"
      },
      "source": [
        "#Tutorial from FreeCodeCamp <br>\n",
        "https://www.freecodecamp.org/news/the-apache-cassandra-beginner-tutorial/ <br>\n",
        "alternatively from this [saved file](https://github.com/Praxis-QR/BDSN/blob/main/Documents/The%20Apache%20Cassandra%20Beginner%20Tutorial.pdf)"
      ]
    },
    {
      "cell_type": "code",
      "metadata": {
        "id": "nCARKjqn7Gll"
      },
      "source": [
        "#!cqlsh -e \"CREATE KEYSPACE learn_cassandra WITH REPLICATION = { 'class' : 'NetworkTopologyStrategy','datacenter1' : 3  };\""
      ],
      "execution_count": null,
      "outputs": []
    },
    {
      "cell_type": "code",
      "metadata": {
        "id": "zQ5aHVoAPFo9"
      },
      "source": [
        "!cqlsh -k praxis -e \"CREATE TABLE users_by_country \\\n",
        "(country text,\\\n",
        " user_email text,\\\n",
        " first_name text,\\\n",
        " last_name text,\\\n",
        " age smallint,\\\n",
        " PRIMARY KEY ((country), user_email));\""
      ],
      "execution_count": null,
      "outputs": []
    },
    {
      "cell_type": "code",
      "metadata": {
        "id": "lJROfypZQD8w"
      },
      "source": [
        "!cqlsh -k praxis -e \"\\\n",
        "INSERT INTO users_by_country (country,user_email,first_name,last_name,age) \\\n",
        "  VALUES('US', 'john@email.com', 'John','Wick',55); \\\n",
        "\\\n",
        "INSERT INTO users_by_country (country,user_email,first_name,last_name,age)\\\n",
        "  VALUES('UK', 'peter@email.com', 'Peter','Clark',65);\\\n",
        "\\\n",
        "INSERT INTO users_by_country (country,user_email,first_name,last_name,age)\\\n",
        "  VALUES('UK', 'bob@email.com', 'Bob','Sandler',23);\\\n",
        "\\\n",
        "INSERT INTO users_by_country (country,user_email,first_name,last_name,age)\\\n",
        "  VALUES('UK', 'alice@email.com', 'Alice','Brown',26);\\\n",
        "\""
      ],
      "execution_count": null,
      "outputs": []
    },
    {
      "cell_type": "code",
      "metadata": {
        "id": "cQzBmX2UQvuo",
        "colab": {
          "base_uri": "https://localhost:8080/"
        },
        "outputId": "ba9a4b7b-edb7-40ce-fa7b-3ddda7a74245"
      },
      "source": [
        "!cqlsh -k praxis -e \"SELECT * FROM users_by_country WHERE country='UK';\""
      ],
      "execution_count": null,
      "outputs": [
        {
          "output_type": "stream",
          "name": "stdout",
          "text": [
            "\n",
            " \u001b[0;1;31mcountry\u001b[0m | \u001b[0;1;36muser_email\u001b[0m      | \u001b[0;1;35mage\u001b[0m | \u001b[0;1;35mfirst_name\u001b[0m | \u001b[0;1;35mlast_name\u001b[0m\n",
            "---------+-----------------+-----+------------+-----------\n",
            "      \u001b[0;1;33mUK\u001b[0m | \u001b[0;1;33malice@email.com\u001b[0m |  \u001b[0;1;32m26\u001b[0m |      \u001b[0;1;33mAlice\u001b[0m |     \u001b[0;1;33mBrown\u001b[0m\n",
            "      \u001b[0;1;33mUK\u001b[0m |   \u001b[0;1;33mbob@email.com\u001b[0m |  \u001b[0;1;32m23\u001b[0m |        \u001b[0;1;33mBob\u001b[0m |   \u001b[0;1;33mSandler\u001b[0m\n",
            "      \u001b[0;1;33mUK\u001b[0m | \u001b[0;1;33mpeter@email.com\u001b[0m |  \u001b[0;1;32m65\u001b[0m |      \u001b[0;1;33mPeter\u001b[0m |     \u001b[0;1;33mClark\u001b[0m\n",
            "\n",
            "(3 rows)\n"
          ]
        }
      ]
    },
    {
      "cell_type": "code",
      "metadata": {
        "id": "xp0LEX5WRA-T",
        "outputId": "df77b85a-bc72-4009-d0c1-786256b8a8d6",
        "colab": {
          "base_uri": "https://localhost:8080/"
        }
      },
      "source": [
        "!cqlsh -k praxis -e \"drop table users_by_email;\"\n",
        "!cqlsh -k praxis -e \"CREATE TABLE users_by_email (\\\n",
        "  user_email text,\\\n",
        "  country text,\\\n",
        "  first_name text,\\\n",
        "  last_name text,\\\n",
        "  age smallint,\\\n",
        "  PRIMARY KEY (user_email));\"\n",
        "  "
      ],
      "execution_count": null,
      "outputs": [
        {
          "output_type": "stream",
          "name": "stdout",
          "text": [
            "\u001b[0;1;31m<stdin>:1:InvalidRequest: Error from server: code=2200 [Invalid query] message=\"Table 'praxis.users_by_email' doesn't exist\"\u001b[0m\n"
          ]
        }
      ]
    },
    {
      "cell_type": "code",
      "metadata": {
        "id": "7-ZP8vjMSdY3"
      },
      "source": [
        "!cqlsh -k praxis -e \"INSERT INTO users_by_email (user_email, country,first_name,last_name,age)  VALUES('john@email.com', 'US', 'John','Wick',55);\"\n",
        "!cqlsh -k praxis -e \"INSERT INTO users_by_email (user_email,country,first_name,last_name,age)  VALUES('peter@email.com', 'UK', 'Peter','Clark',65);\"\n",
        "!cqlsh -k praxis -e \"INSERT INTO users_by_email (user_email,country,first_name,last_name,age)  VALUES('bob@email.com', 'UK', 'Bob','Sandler',23);\"\n",
        "!cqlsh -k praxis -e \"INSERT INTO users_by_email (user_email,country,first_name,last_name,age)  VALUES('alice@email.com', 'UK', 'Alice','Brown',26);\""
      ],
      "execution_count": null,
      "outputs": []
    },
    {
      "cell_type": "code",
      "metadata": {
        "id": "lPR6Z6iVT7XE",
        "colab": {
          "base_uri": "https://localhost:8080/"
        },
        "outputId": "b8cb9410-ffc8-4bed-e86d-b33ac24cf7e0"
      },
      "source": [
        "!cqlsh -k praxis -e \"SELECT * FROM users_by_email WHERE user_email='alice@email.com';\""
      ],
      "execution_count": null,
      "outputs": [
        {
          "output_type": "stream",
          "name": "stdout",
          "text": [
            "\n",
            " \u001b[0;1;31muser_email\u001b[0m      | \u001b[0;1;35mage\u001b[0m | \u001b[0;1;35mcountry\u001b[0m | \u001b[0;1;35mfirst_name\u001b[0m | \u001b[0;1;35mlast_name\u001b[0m\n",
            "-----------------+-----+---------+------------+-----------\n",
            " \u001b[0;1;33malice@email.com\u001b[0m |  \u001b[0;1;32m26\u001b[0m |      \u001b[0;1;33mUK\u001b[0m |      \u001b[0;1;33mAlice\u001b[0m |     \u001b[0;1;33mBrown\u001b[0m\n",
            "\n",
            "(1 rows)\n"
          ]
        }
      ]
    },
    {
      "cell_type": "code",
      "metadata": {
        "id": "JVyzlLzLUQEr",
        "colab": {
          "base_uri": "https://localhost:8080/"
        },
        "outputId": "250302a3-56e1-4d50-e4ab-5c2acbb7574d"
      },
      "source": [
        "!cqlsh -k praxis -e \"SELECT * FROM users_by_email WHERE age=26 ALLOW FILTERING;\"\n",
        "!cqlsh -k praxis -e \"SELECT * FROM users_by_email WHERE age=26;\""
      ],
      "execution_count": null,
      "outputs": [
        {
          "output_type": "stream",
          "name": "stdout",
          "text": [
            "\n",
            " \u001b[0;1;31muser_email\u001b[0m      | \u001b[0;1;35mage\u001b[0m | \u001b[0;1;35mcountry\u001b[0m | \u001b[0;1;35mfirst_name\u001b[0m | \u001b[0;1;35mlast_name\u001b[0m\n",
            "-----------------+-----+---------+------------+-----------\n",
            " \u001b[0;1;33malice@email.com\u001b[0m |  \u001b[0;1;32m26\u001b[0m |      \u001b[0;1;33mUK\u001b[0m |      \u001b[0;1;33mAlice\u001b[0m |     \u001b[0;1;33mBrown\u001b[0m\n",
            "\n",
            "(1 rows)\n",
            "\u001b[0;1;31m<stdin>:1:InvalidRequest: Error from server: code=2200 [Invalid query] message=\"Cannot execute this query as it might involve data filtering and thus may have unpredictable performance. If you want to execute this query despite the performance unpredictability, use ALLOW FILTERING\"\u001b[0m\n"
          ]
        }
      ]
    },
    {
      "cell_type": "code",
      "metadata": {
        "id": "5_3yYj9E8Ov1"
      },
      "source": [
        "!cqlsh -k praxis -e \"CREATE TABLE todo_by_user_email (user_email text,name text,creation_date timestamp,PRIMARY KEY ((user_email), creation_date)) WITH CLUSTERING ORDER BY (creation_date DESC) AND compaction = { 'class' :  'LeveledCompactionStrategy'};\""
      ],
      "execution_count": null,
      "outputs": []
    },
    {
      "cell_type": "code",
      "metadata": {
        "id": "tR3MW8QJ6W5S"
      },
      "source": [
        "!cqlsh -k praxis -e \"\\\n",
        "CREATE TABLE todos_shared_by_target_user_email ( \\\n",
        "    target_user_email text, \\\n",
        "    source_user_email text, \\\n",
        "    creation_date timestamp, \\\n",
        "    name text, \\\n",
        "    PRIMARY KEY ((target_user_email), creation_date) \\\n",
        ") WITH CLUSTERING ORDER BY (creation_date DESC) \\\n",
        "AND compaction = { 'class' :  'LeveledCompactionStrategy'  };\""
      ],
      "execution_count": null,
      "outputs": []
    },
    {
      "cell_type": "code",
      "metadata": {
        "id": "4a8KJJPf7bsU"
      },
      "source": [
        "!cqlsh -k praxis -e \"\\\n",
        "CREATE TABLE todos_shared_by_source_user_email ( \\\n",
        "    target_user_email text, \\\n",
        "    source_user_email text, \\\n",
        "    creation_date timestamp, \\\n",
        "    name text, \\\n",
        "    PRIMARY KEY ((source_user_email), creation_date) \\\n",
        ") WITH CLUSTERING ORDER BY (creation_date DESC) \\\n",
        "AND compaction = { 'class' :  'LeveledCompactionStrategy'  };\""
      ],
      "execution_count": null,
      "outputs": []
    },
    {
      "cell_type": "code",
      "metadata": {
        "id": "qng1xWiB7v0y"
      },
      "source": [
        "!cqlsh -k praxis -e \"\\\n",
        "BEGIN BATCH \\\n",
        "  INSERT INTO todo_by_user_email (user_email,creation_date,name) VALUES('alice@email.com', toTimestamp(now()), 'My first todo entry') \\\n",
        "  INSERT INTO todos_shared_by_target_user_email (target_user_email, source_user_email,creation_date,name) VALUES('bob@email.com', 'alice@email.com',toTimestamp(now()), 'My first todo entry') \\\n",
        "  INSERT INTO todos_shared_by_source_user_email (target_user_email, source_user_email,creation_date,name) VALUES('alice@email.com', 'bob@email.com', toTimestamp(now()), 'My first todo entry') \\\n",
        "APPLY BATCH;\""
      ],
      "execution_count": null,
      "outputs": []
    },
    {
      "cell_type": "code",
      "metadata": {
        "id": "yTO6x2fy_8Ni",
        "colab": {
          "base_uri": "https://localhost:8080/"
        },
        "outputId": "b5eaec12-b788-4e0d-b7e1-a9a709062ad9"
      },
      "source": [
        "!cqlsh -k praxis -e \"SELECT * FROM todos_shared_by_target_user_email WHERE target_user_email='bob@email.com';\""
      ],
      "execution_count": null,
      "outputs": [
        {
          "output_type": "stream",
          "name": "stdout",
          "text": [
            "\n",
            " \u001b[0;1;31mtarget_user_email\u001b[0m | \u001b[0;1;36mcreation_date\u001b[0m                   | \u001b[0;1;35mname\u001b[0m                | \u001b[0;1;35msource_user_email\u001b[0m\n",
            "-------------------+---------------------------------+---------------------+-------------------\n",
            "     \u001b[0;1;33mbob@email.com\u001b[0m | \u001b[0;1;32m2021-12-03 04:13:45.357000+0000\u001b[0m | \u001b[0;1;33mMy first todo entry\u001b[0m |   \u001b[0;1;33malice@email.com\u001b[0m\n",
            "\n",
            "(1 rows)\n"
          ]
        }
      ]
    },
    {
      "cell_type": "code",
      "metadata": {
        "id": "ADIiDARRAiN9",
        "colab": {
          "base_uri": "https://localhost:8080/"
        },
        "outputId": "82d85a0e-fd61-40a8-8e95-72fb0ea94365"
      },
      "source": [
        "!cqlsh -k praxis -e \"SELECT * FROM todo_by_user_email WHERE user_email='alice@email.com';\""
      ],
      "execution_count": null,
      "outputs": [
        {
          "output_type": "stream",
          "name": "stdout",
          "text": [
            "\n",
            " \u001b[0;1;31muser_email\u001b[0m      | \u001b[0;1;36mcreation_date\u001b[0m                   | \u001b[0;1;35mname\u001b[0m\n",
            "-----------------+---------------------------------+---------------------\n",
            " \u001b[0;1;33malice@email.com\u001b[0m | \u001b[0;1;32m2021-12-03 04:13:45.356000+0000\u001b[0m | \u001b[0;1;33mMy first todo entry\u001b[0m\n",
            "\n",
            "(1 rows)\n"
          ]
        }
      ]
    },
    {
      "cell_type": "markdown",
      "metadata": {
        "id": "VeyXn4Y8-Cgs"
      },
      "source": [
        "#Cassandra Collections <br>\n",
        "Set, List & Map in CQL with Example <br>\n",
        "https://www.guru99.com/cassandra-collections-tutorial-set-list-map.html"
      ]
    },
    {
      "cell_type": "markdown",
      "metadata": {
        "id": "IsSZLvB_TEtv"
      },
      "source": [
        "## Set"
      ]
    },
    {
      "cell_type": "code",
      "metadata": {
        "id": "yyLHa9pH-gI5",
        "outputId": "3c36642a-6d85-472f-9bd6-67f053f509c5",
        "colab": {
          "base_uri": "https://localhost:8080/"
        }
      },
      "source": [
        "!cqlsh -k praxis -e \"drop table teacher01;\"\n",
        "!cqlsh -k praxis -e \"\\\n",
        "Create table Teacher01 \\\n",
        "( \\\n",
        "id int, \\\n",
        "Name text, \\\n",
        "Email set<text>, \\\n",
        "Primary key(id) \\\n",
        ");\\\n",
        "\""
      ],
      "execution_count": null,
      "outputs": [
        {
          "output_type": "stream",
          "name": "stdout",
          "text": [
            "\u001b[0;1;31m<stdin>:1:InvalidRequest: Error from server: code=2200 [Invalid query] message=\"Table 'praxis.teacher01' doesn't exist\"\u001b[0m\n"
          ]
        }
      ]
    },
    {
      "cell_type": "code",
      "metadata": {
        "id": "fstGLMXT_UHP"
      },
      "source": [
        "!cqlsh -k praxis  -e \"insert into Teacher01(id,Name,Email) \\\n",
        " values(1,'prithwis',{{'abc@gmail.com','xyz@hotmail.com'}});\""
      ],
      "execution_count": null,
      "outputs": []
    },
    {
      "cell_type": "code",
      "metadata": {
        "id": "lbiChxCHQ0Ei"
      },
      "source": [
        "!cqlsh -k praxis  -e \"insert into Teacher01(id,Name,Email) \\\n",
        "values(2,'charan',{{'abc1@gmail.com','xyz1@hotmail.com','xyz2@hotmail.com'}});\""
      ],
      "execution_count": null,
      "outputs": []
    },
    {
      "cell_type": "code",
      "metadata": {
        "id": "hNwoV_zOG85P",
        "outputId": "08a1370a-76ad-4ef3-a40b-e2f3da2f0f01",
        "colab": {
          "base_uri": "https://localhost:8080/"
        }
      },
      "source": [
        "!cqlsh -k praxis -e \" select * from Teacher01;\""
      ],
      "execution_count": null,
      "outputs": [
        {
          "output_type": "stream",
          "name": "stdout",
          "text": [
            "\n",
            " \u001b[0;1;31mid\u001b[0m | \u001b[0;1;35memail\u001b[0m                                                      | \u001b[0;1;35mname\u001b[0m\n",
            "----+------------------------------------------------------------+----------\n",
            "  \u001b[0;1;32m1\u001b[0m |                       \u001b[0;1;34m{\u001b[0m\u001b[0;1;33m'abc@gmail.com'\u001b[0m\u001b[0;1;34m, \u001b[0m\u001b[0;1;33m'xyz@hotmail.com'\u001b[0m\u001b[0;1;34m}\u001b[0m | \u001b[0;1;33mprithwis\u001b[0m\n",
            "  \u001b[0;1;32m2\u001b[0m | \u001b[0;1;34m{\u001b[0m\u001b[0;1;33m'abc1@gmail.com'\u001b[0m\u001b[0;1;34m, \u001b[0m\u001b[0;1;33m'xyz1@hotmail.com'\u001b[0m\u001b[0;1;34m, \u001b[0m\u001b[0;1;33m'xyz2@hotmail.com'\u001b[0m\u001b[0;1;34m}\u001b[0m |   \u001b[0;1;33mcharan\u001b[0m\n",
            "\n",
            "(2 rows)\n"
          ]
        }
      ]
    },
    {
      "cell_type": "markdown",
      "metadata": {
        "id": "9V2GWLmfTIjf"
      },
      "source": [
        "## List"
      ]
    },
    {
      "cell_type": "code",
      "metadata": {
        "id": "F3v0UsVIRNay",
        "outputId": "0f7aa326-5cd0-46d2-8263-950b07be04d9",
        "colab": {
          "base_uri": "https://localhost:8080/"
        }
      },
      "source": [
        "!cqlsh -k praxis -e \"drop table teacher02;\"\n",
        "!cqlsh -k praxis -e \"\\\n",
        "Create table Teacher02 \\\n",
        "( \\\n",
        "id int, \\\n",
        "Name text, \\\n",
        "Courses list<text>, \\\n",
        "Primary key(id) \\\n",
        ");\\\n",
        "\""
      ],
      "execution_count": null,
      "outputs": [
        {
          "output_type": "stream",
          "name": "stdout",
          "text": [
            "\u001b[0;1;31m<stdin>:1:InvalidRequest: Error from server: code=2200 [Invalid query] message=\"Table 'praxis.teacher02' doesn't exist\"\u001b[0m\n"
          ]
        }
      ]
    },
    {
      "cell_type": "code",
      "metadata": {
        "id": "GsLimDsXRr8C"
      },
      "source": [
        "!cqlsh -k praxis  -e \"insert into Teacher02(id,Name,Courses) values(1,'prithwis',{['FDS','Python']});\"\n",
        "!cqlsh -k praxis  -e \"insert into Teacher02(id,Name,Courses) values(2,'charan',{['Comms','English','Interview']});\""
      ],
      "execution_count": null,
      "outputs": []
    },
    {
      "cell_type": "code",
      "metadata": {
        "id": "xaau9HIkSHU4",
        "outputId": "20ea4297-1565-47dc-92e1-7c2c79ee7021",
        "colab": {
          "base_uri": "https://localhost:8080/"
        }
      },
      "source": [
        "!cqlsh -k praxis -e \"select * from teacher02;\""
      ],
      "execution_count": null,
      "outputs": [
        {
          "output_type": "stream",
          "name": "stdout",
          "text": [
            "\n",
            " \u001b[0;1;31mid\u001b[0m | \u001b[0;1;35mcourses\u001b[0m                           | \u001b[0;1;35mname\u001b[0m\n",
            "----+-----------------------------------+----------\n",
            "  \u001b[0;1;32m1\u001b[0m |                 \u001b[0;1;34m[\u001b[0m\u001b[0;1;33m'FDS'\u001b[0m\u001b[0;1;34m, \u001b[0m\u001b[0;1;33m'Python'\u001b[0m\u001b[0;1;34m]\u001b[0m | \u001b[0;1;33mprithwis\u001b[0m\n",
            "  \u001b[0;1;32m2\u001b[0m | \u001b[0;1;34m[\u001b[0m\u001b[0;1;33m'Comms'\u001b[0m\u001b[0;1;34m, \u001b[0m\u001b[0;1;33m'English'\u001b[0m\u001b[0;1;34m, \u001b[0m\u001b[0;1;33m'Interview'\u001b[0m\u001b[0;1;34m]\u001b[0m |   \u001b[0;1;33mcharan\u001b[0m\n",
            "\n",
            "(2 rows)\n"
          ]
        }
      ]
    },
    {
      "cell_type": "markdown",
      "metadata": {
        "id": "dLtoVQhJTMI9"
      },
      "source": [
        "## Maps"
      ]
    },
    {
      "cell_type": "code",
      "metadata": {
        "id": "MoovfcWETpMc"
      },
      "source": [
        "!cqlsh -k praxis -e \"drop table if exists courses;\"\n",
        "!cqlsh -k praxis -e \"\\\n",
        "Create table courses \\\n",
        "( \\\n",
        "id int, \\\n",
        "Name text, \\\n",
        "Teachers map<text,text>, \\\n",
        "Primary key(id) \\\n",
        ");\\\n",
        "\""
      ],
      "execution_count": 23,
      "outputs": []
    },
    {
      "cell_type": "code",
      "metadata": {
        "id": "UQxNOPP-UHCY",
        "outputId": "c5ddfa9f-fc7b-402b-9b75-e40d94dcb569",
        "colab": {
          "base_uri": "https://localhost:8080/"
        }
      },
      "source": [
        "!cqlsh -k praxis  -e \"insert into courses(id,Name,Teachers) values(100,'PGDM',{{'Stats':'SRC','FDM':'Atanu'}});\"\n",
        "!cqlsh -k praxis  -e \"insert into courses(id,Name,Teachers) values(200,'PGDS',{{'Stats':'SRC','ML':'SDG', 'BDSM':'PM'}});\"\n",
        "!cqlsh -k praxis -e \"select * from courses;\""
      ],
      "execution_count": 24,
      "outputs": [
        {
          "output_type": "stream",
          "name": "stdout",
          "text": [
            "\n",
            " \u001b[0;1;31mid\u001b[0m  | \u001b[0;1;35mname\u001b[0m | \u001b[0;1;35mteachers\u001b[0m\n",
            "-----+------+---------------------------------------------\n",
            " \u001b[0;1;32m200\u001b[0m | \u001b[0;1;33mPGDS\u001b[0m | \u001b[0;1;34m{\u001b[0m\u001b[0;1;33m'BDSM'\u001b[0m\u001b[0;1;34m: \u001b[0m\u001b[0;1;33m'PM'\u001b[0m\u001b[0;1;34m, \u001b[0m\u001b[0;1;33m'ML'\u001b[0m\u001b[0;1;34m: \u001b[0m\u001b[0;1;33m'SDG'\u001b[0m\u001b[0;1;34m, \u001b[0m\u001b[0;1;33m'Stats'\u001b[0m\u001b[0;1;34m: \u001b[0m\u001b[0;1;33m'SRC'\u001b[0m\u001b[0;1;34m}\u001b[0m\n",
            " \u001b[0;1;32m100\u001b[0m | \u001b[0;1;33mPGDM\u001b[0m |            \u001b[0;1;34m{\u001b[0m\u001b[0;1;33m'FDM'\u001b[0m\u001b[0;1;34m: \u001b[0m\u001b[0;1;33m'Atanu'\u001b[0m\u001b[0;1;34m, \u001b[0m\u001b[0;1;33m'Stats'\u001b[0m\u001b[0;1;34m: \u001b[0m\u001b[0;1;33m'SRC'\u001b[0m\u001b[0;1;34m}\u001b[0m\n",
            "\n",
            "(2 rows)\n"
          ]
        }
      ]
    },
    {
      "cell_type": "code",
      "metadata": {
        "id": "2pr7JKbBMa3x"
      },
      "source": [
        "#!cqlsh -k praxis -e \"describe Teacher02;\""
      ],
      "execution_count": null,
      "outputs": []
    },
    {
      "cell_type": "markdown",
      "metadata": {
        "id": "vBVecFMbW8lo"
      },
      "source": [
        "## Python"
      ]
    },
    {
      "cell_type": "code",
      "metadata": {
        "id": "zcdhzWyBW-eF",
        "outputId": "54727b07-2858-4eb2-952e-c8a32fd44f30",
        "colab": {
          "base_uri": "https://localhost:8080/"
        }
      },
      "source": [
        "rows = session.execute('SELECT * FROM teacher01')\n",
        "for row in rows:\n",
        "        print(row)\n",
        "        emails = row.email\n",
        "        print(emails)\n",
        "        emails2 = list(emails)\n",
        "        for im in emails2:\n",
        "            print(im)"
      ],
      "execution_count": null,
      "outputs": [
        {
          "output_type": "stream",
          "name": "stdout",
          "text": [
            "Row(id=1, email=SortedSet(['abc@gmail.com', 'xyz@hotmail.com']), name='prithwis')\n",
            "SortedSet(['abc@gmail.com', 'xyz@hotmail.com'])\n",
            "abc@gmail.com\n",
            "xyz@hotmail.com\n",
            "Row(id=2, email=SortedSet(['abc1@gmail.com', 'xyz1@hotmail.com', 'xyz2@hotmail.com']), name='charan')\n",
            "SortedSet(['abc1@gmail.com', 'xyz1@hotmail.com', 'xyz2@hotmail.com'])\n",
            "abc1@gmail.com\n",
            "xyz1@hotmail.com\n",
            "xyz2@hotmail.com\n"
          ]
        }
      ]
    },
    {
      "cell_type": "code",
      "metadata": {
        "id": "mozz69rmYVSh",
        "outputId": "06627317-fd7a-474f-b7de-398617812ed3",
        "colab": {
          "base_uri": "https://localhost:8080/"
        }
      },
      "source": [
        "rows = session.execute('SELECT * FROM teacher02')\n",
        "for row in rows:\n",
        "        print(row)\n",
        "        courses = row.courses\n",
        "        print(courses)\n",
        "        for c in courses:\n",
        "            print(c)"
      ],
      "execution_count": null,
      "outputs": [
        {
          "output_type": "stream",
          "name": "stdout",
          "text": [
            "Row(id=1, courses=['FDS', 'Python'], name='prithwis')\n",
            "['FDS', 'Python']\n",
            "FDS\n",
            "Python\n",
            "Row(id=2, courses=['Comms', 'English', 'Interview'], name='charan')\n",
            "['Comms', 'English', 'Interview']\n",
            "Comms\n",
            "English\n",
            "Interview\n"
          ]
        }
      ]
    },
    {
      "cell_type": "code",
      "metadata": {
        "id": "3XxBFAErZZWO",
        "outputId": "c83cff05-0a0e-4cd2-b8a3-7f292bc10fc5",
        "colab": {
          "base_uri": "https://localhost:8080/"
        }
      },
      "source": [
        "rows = session.execute('SELECT * FROM courses')\n",
        "for row in rows:\n",
        "        print(row)\n",
        "        print(row.teachers) # this is a dictionary and can be used as such\n",
        "        for k,v in row.teachers.items():\n",
        "            print(k,v)\n",
        "        \n",
        "        "
      ],
      "execution_count": null,
      "outputs": [
        {
          "output_type": "stream",
          "name": "stdout",
          "text": [
            "Row(id=200, name='PGDS', teachers=OrderedMapSerializedKey([('BDSM', 'PM'), ('ML', 'SDG'), ('Stats', 'SRC')]))\n",
            "{'BDSM': 'PM', 'ML': 'SDG', 'Stats': 'SRC'}\n",
            "BDSM PM\n",
            "ML SDG\n",
            "Stats SRC\n",
            "Row(id=100, name='PGDM', teachers=OrderedMapSerializedKey([('FDM', 'Atanu'), ('Stats', 'SRC')]))\n",
            "{'FDM': 'Atanu', 'Stats': 'SRC'}\n",
            "FDM Atanu\n",
            "Stats SRC\n"
          ]
        }
      ]
    },
    {
      "cell_type": "markdown",
      "source": [
        "# Bulk Data Load"
      ],
      "metadata": {
        "id": "Vgl4lmtWiluA"
      }
    },
    {
      "cell_type": "code",
      "source": [
        "!gdown https://drive.google.com/uc?id=1T7teYg1_SXzZLbh8SOF0UIzpyK-L1aZL\n",
        "!cat Employee.csv"
      ],
      "metadata": {
        "id": "AGzrAttgipxr",
        "outputId": "42aac594-2cd7-48f8-f75e-fdd741145352",
        "colab": {
          "base_uri": "https://localhost:8080/"
        }
      },
      "execution_count": 4,
      "outputs": [
        {
          "output_type": "stream",
          "name": "stdout",
          "text": [
            "Downloading...\n",
            "From: https://drive.google.com/uc?id=1T7teYg1_SXzZLbh8SOF0UIzpyK-L1aZL\n",
            "To: /content/Employee.csv\n",
            "\r  0% 0.00/734 [00:00<?, ?B/s]\r100% 734/734 [00:00<00:00, 1.28MB/s]\n"
          ]
        }
      ]
    },
    {
      "cell_type": "code",
      "source": [
        "# \n",
        "!cqlsh -k praxis -e \"drop table if exists emp;\"\n",
        "!cqlsh -k praxis -e \"\\\n",
        "    CREATE TABLE emp (\\\n",
        "    empid int PRIMARY KEY, \\\n",
        "    lastname text,\\\n",
        "    firsname text,\\\n",
        "    jobdesc text,\\\n",
        "    joindate text,\\\n",
        "    salary int,\\\n",
        "    comm decimal,\\\n",
        "    deptid text \\\n",
        "    );\\\n",
        "\""
      ],
      "metadata": {
        "id": "TKTF3QpimQhA"
      },
      "execution_count": 46,
      "outputs": []
    },
    {
      "cell_type": "code",
      "source": [
        "!cqlsh -k praxis -e \"select * from emp;\""
      ],
      "metadata": {
        "id": "ju33d1IznoXq",
        "outputId": "1714202b-b295-4a8d-897e-7092aa3d705b",
        "colab": {
          "base_uri": "https://localhost:8080/"
        }
      },
      "execution_count": 47,
      "outputs": [
        {
          "output_type": "stream",
          "name": "stdout",
          "text": [
            "\n",
            " \u001b[0;1;31mempid\u001b[0m | \u001b[0;1;35mcomm\u001b[0m | \u001b[0;1;35mdeptid\u001b[0m | \u001b[0;1;35mfirsname\u001b[0m | \u001b[0;1;35mjobdesc\u001b[0m | \u001b[0;1;35mjoindate\u001b[0m | \u001b[0;1;35mlastname\u001b[0m | \u001b[0;1;35msalary\u001b[0m\n",
            "-------+------+--------+----------+---------+----------+----------+--------\n",
            "\n",
            "\n",
            "(0 rows)\n"
          ]
        }
      ]
    },
    {
      "cell_type": "code",
      "source": [
        "!cqlsh -k praxis -e \"\\\n",
        "    COPY emp (empid,lastname,firsname,jobdesc,joindate,salary,comm,deptid) \\\n",
        "    FROM 'Employee.csv' \\\n",
        "    WITH HEADER = TRUE;\\\n",
        "\""
      ],
      "metadata": {
        "id": "OlCMME9kn1c6",
        "outputId": "16367a72-7949-4cf2-bea1-3050bc8566a2",
        "colab": {
          "base_uri": "https://localhost:8080/"
        }
      },
      "execution_count": 48,
      "outputs": [
        {
          "output_type": "stream",
          "name": "stdout",
          "text": [
            "Using 1 child processes\n",
            "\n",
            "Starting copy of praxis.emp with columns [empid, lastname, firsname, jobdesc, joindate, salary, comm, deptid].\n",
            "Processed: 12 rows; Rate:      19 rows/s; Avg. rate:      29 rows/s\n",
            "12 rows imported from 1 files in 0.421 seconds (0 skipped).\n"
          ]
        }
      ]
    },
    {
      "cell_type": "code",
      "source": [
        "!cqlsh -k praxis -e \"select * from emp;\""
      ],
      "metadata": {
        "id": "TOLb7B_XoqXN",
        "outputId": "96c21c04-dacd-41dd-dfd3-d3d496fc8686",
        "colab": {
          "base_uri": "https://localhost:8080/"
        }
      },
      "execution_count": 49,
      "outputs": [
        {
          "output_type": "stream",
          "name": "stdout",
          "text": [
            "\n",
            " \u001b[0;1;31mempid\u001b[0m  | \u001b[0;1;35mcomm\u001b[0m | \u001b[0;1;35mdeptid\u001b[0m | \u001b[0;1;35mfirsname\u001b[0m | \u001b[0;1;35mjobdesc\u001b[0m    | \u001b[0;1;35mjoindate\u001b[0m   | \u001b[0;1;35mlastname\u001b[0m    | \u001b[0;1;35msalary\u001b[0m\n",
            "--------+------+--------+----------+------------+------------+-------------+--------\n",
            " \u001b[0;1;32m546223\u001b[0m | \u001b[0;1;32m0.09\u001b[0m |     \u001b[0;1;33m10\u001b[0m |  \u001b[0;1;33mNarayan\u001b[0m |  \u001b[0;1;33mSecretary\u001b[0m | \u001b[0;1;33m2005-12-04\u001b[0m | \u001b[0;1;33mKarthikeyan\u001b[0m |  \u001b[0;1;32m40000\u001b[0m\n",
            " \u001b[0;1;32m223112\u001b[0m | \u001b[0;1;32m0.04\u001b[0m |     \u001b[0;1;33m30\u001b[0m |    \u001b[0;1;33mSania\u001b[0m |    \u001b[0;1;33mCus_Rep\u001b[0m | \u001b[0;1;33m2001-11-19\u001b[0m |       \u001b[0;1;33mMirza\u001b[0m |  \u001b[0;1;32m25000\u001b[0m\n",
            " \u001b[0;1;32m989007\u001b[0m | \u001b[0;1;32m0.03\u001b[0m |     \u001b[0;1;33m40\u001b[0m |   \u001b[0;1;33mSourav\u001b[0m |    \u001b[0;1;33mCus_Rep\u001b[0m | \u001b[0;1;33m2002-01-01\u001b[0m |     \u001b[0;1;33mGanguly\u001b[0m |  \u001b[0;1;32m20000\u001b[0m\n",
            " \u001b[0;1;32m865477\u001b[0m | \u001b[0;1;32m0.02\u001b[0m |     \u001b[0;1;33m20\u001b[0m |  \u001b[0;1;33mMadhuri\u001b[0m |      \u001b[0;1;33mClerk\u001b[0m | \u001b[0;1;33m2002-04-04\u001b[0m |     \u001b[0;1;33mDikshit\u001b[0m |  \u001b[0;1;32m10000\u001b[0m\n",
            " \u001b[0;1;32m123980\u001b[0m | \u001b[0;1;32m0.02\u001b[0m |     \u001b[0;1;33m40\u001b[0m | \u001b[0;1;33mMahender\u001b[0m |      \u001b[0;1;33mClerk\u001b[0m | \u001b[0;1;33m2004-10-09\u001b[0m |       \u001b[0;1;33mDhoni\u001b[0m |   \u001b[0;1;32m9000\u001b[0m\n",
            " \u001b[0;1;32m897889\u001b[0m | \u001b[0;1;32m0.05\u001b[0m |     \u001b[0;1;33m20\u001b[0m | \u001b[0;1;33mVirender\u001b[0m |    \u001b[0;1;33mCus_Rep\u001b[0m | \u001b[0;1;33m2005-01-02\u001b[0m |      \u001b[0;1;33mSehwag\u001b[0m |  \u001b[0;1;32m15000\u001b[0m\n",
            " \u001b[0;1;32m349870\u001b[0m | \u001b[0;1;32m0.06\u001b[0m |     \u001b[0;1;33m40\u001b[0m |     \u001b[0;1;33mRani\u001b[0m |    \u001b[0;1;33mManager\u001b[0m | \u001b[0;1;33m2005-05-04\u001b[0m |   \u001b[0;1;33mMukherjee\u001b[0m |  \u001b[0;1;32m25000\u001b[0m\n",
            " \u001b[0;1;32m239456\u001b[0m | \u001b[0;1;32m0.07\u001b[0m |     \u001b[0;1;33m20\u001b[0m | \u001b[0;1;33mShahrukh\u001b[0m |    \u001b[0;1;33mManager\u001b[0m | \u001b[0;1;33m2004-01-03\u001b[0m |        \u001b[0;1;33mKhan\u001b[0m |  \u001b[0;1;32m30000\u001b[0m\n",
            " \u001b[0;1;32m742866\u001b[0m |  \u001b[0;1;32m0.1\u001b[0m |     \u001b[0;1;33m10\u001b[0m |  \u001b[0;1;33mAmitabh\u001b[0m |  \u001b[0;1;33mExecutive\u001b[0m | \u001b[0;1;33m2003-03-10\u001b[0m |     \u001b[0;1;33mBacchan\u001b[0m |  \u001b[0;1;32m50000\u001b[0m\n",
            " \u001b[0;1;32m997445\u001b[0m | \u001b[0;1;32m0.02\u001b[0m |     \u001b[0;1;33m30\u001b[0m | \u001b[0;1;33mJagmohan\u001b[0m |      \u001b[0;1;33mClerk\u001b[0m | \u001b[0;1;33m2001-07-01\u001b[0m |      \u001b[0;1;33mDalmia\u001b[0m |  \u001b[0;1;32m12000\u001b[0m\n",
            " \u001b[0;1;32m822134\u001b[0m | \u001b[0;1;32m0.08\u001b[0m |     \u001b[0;1;33m30\u001b[0m |    \u001b[0;1;33mRahul\u001b[0m | \u001b[0;1;33mSr Manager\u001b[0m | \u001b[0;1;33m2000-06-04\u001b[0m |      \u001b[0;1;33mDravid\u001b[0m |  \u001b[0;1;32m40000\u001b[0m\n",
            " \u001b[0;1;32m299034\u001b[0m | \u001b[0;1;32m0.11\u001b[0m |     \u001b[0;1;33m10\u001b[0m |    \u001b[0;1;33mRekha\u001b[0m |   \u001b[0;1;33mDirector\u001b[0m | \u001b[0;1;33m2002-10-10\u001b[0m |     \u001b[0;1;33mGanesan\u001b[0m |  \u001b[0;1;32m60000\u001b[0m\n",
            "\n",
            "(12 rows)\n"
          ]
        }
      ]
    },
    {
      "cell_type": "code",
      "source": [
        "rows = session.execute(\"SELECT * from emp where jobdesc = 'Cus_Rep'\")\n",
        "for row in rows:\n",
        "        print(row)\n",
        "        LastName = row.lastname\n",
        "        FirstName = row.firsname\n",
        "        print(LastName, FirstName)"
      ],
      "metadata": {
        "id": "2Cb1aIDZyMVh",
        "outputId": "390b4a8d-647d-4ee6-d501-9618e4ef1229",
        "colab": {
          "base_uri": "https://localhost:8080/",
          "height": 310
        }
      },
      "execution_count": 50,
      "outputs": [
        {
          "output_type": "error",
          "ename": "InvalidRequest",
          "evalue": "ignored",
          "traceback": [
            "\u001b[0;31m---------------------------------------------------------------------------\u001b[0m",
            "\u001b[0;31mInvalidRequest\u001b[0m                            Traceback (most recent call last)",
            "\u001b[0;32m<ipython-input-50-be17d00a7cd5>\u001b[0m in \u001b[0;36m<module>\u001b[0;34m()\u001b[0m\n\u001b[0;32m----> 1\u001b[0;31m \u001b[0mrows\u001b[0m \u001b[0;34m=\u001b[0m \u001b[0msession\u001b[0m\u001b[0;34m.\u001b[0m\u001b[0mexecute\u001b[0m\u001b[0;34m(\u001b[0m\u001b[0;34m\"SELECT * from emp where jobdesc = 'Cus_Rep'\"\u001b[0m\u001b[0;34m)\u001b[0m\u001b[0;34m\u001b[0m\u001b[0;34m\u001b[0m\u001b[0m\n\u001b[0m\u001b[1;32m      2\u001b[0m \u001b[0;32mfor\u001b[0m \u001b[0mrow\u001b[0m \u001b[0;32min\u001b[0m \u001b[0mrows\u001b[0m\u001b[0;34m:\u001b[0m\u001b[0;34m\u001b[0m\u001b[0;34m\u001b[0m\u001b[0m\n\u001b[1;32m      3\u001b[0m         \u001b[0mprint\u001b[0m\u001b[0;34m(\u001b[0m\u001b[0mrow\u001b[0m\u001b[0;34m)\u001b[0m\u001b[0;34m\u001b[0m\u001b[0;34m\u001b[0m\u001b[0m\n\u001b[1;32m      4\u001b[0m         \u001b[0mLastName\u001b[0m \u001b[0;34m=\u001b[0m \u001b[0mrow\u001b[0m\u001b[0;34m.\u001b[0m\u001b[0mlastname\u001b[0m\u001b[0;34m\u001b[0m\u001b[0;34m\u001b[0m\u001b[0m\n\u001b[1;32m      5\u001b[0m         \u001b[0mFirstName\u001b[0m \u001b[0;34m=\u001b[0m \u001b[0mrow\u001b[0m\u001b[0;34m.\u001b[0m\u001b[0mfirsname\u001b[0m\u001b[0;34m\u001b[0m\u001b[0;34m\u001b[0m\u001b[0m\n",
            "\u001b[0;32m/usr/local/lib/python3.7/dist-packages/cassandra/cluster.cpython-37m-x86_64-linux-gnu.so\u001b[0m in \u001b[0;36mcassandra.cluster.Session.execute\u001b[0;34m()\u001b[0m\n",
            "\u001b[0;32m/usr/local/lib/python3.7/dist-packages/cassandra/cluster.cpython-37m-x86_64-linux-gnu.so\u001b[0m in \u001b[0;36mcassandra.cluster.ResponseFuture.result\u001b[0;34m()\u001b[0m\n",
            "\u001b[0;31mInvalidRequest\u001b[0m: Error from server: code=2200 [Invalid query] message=\"Cannot execute this query as it might involve data filtering and thus may have unpredictable performance. If you want to execute this query despite the performance unpredictability, use ALLOW FILTERING\""
          ]
        }
      ]
    },
    {
      "cell_type": "code",
      "source": [
        "#Create index IndexName on KeyspaceName.TableName(ColumnName);\n",
        "!cqlsh -k praxis -e \"create index IndexName on emp (jobdesc);\""
      ],
      "metadata": {
        "id": "m1WJUf9mxW6_"
      },
      "execution_count": 51,
      "outputs": []
    },
    {
      "cell_type": "code",
      "source": [
        "rows = session.execute(\"SELECT * from emp where jobdesc = 'Cus_Rep'\")\n",
        "for row in rows:\n",
        "        print(row)\n",
        "        LastName = row.lastname\n",
        "        FirstName = row.firsname\n",
        "        print(LastName, FirstName)\n",
        "        #emails2 = list(emails)\n",
        "        #for im in emails2:\n",
        "        #    print(im)"
      ],
      "metadata": {
        "id": "d9YSGkVMuiEm",
        "outputId": "a6fdb837-9946-4129-d91e-ff012a4b9e6b",
        "colab": {
          "base_uri": "https://localhost:8080/"
        }
      },
      "execution_count": 52,
      "outputs": [
        {
          "output_type": "stream",
          "name": "stdout",
          "text": [
            "Row(empid=223112, comm=Decimal('0.04'), deptid='30', firsname='Sania', jobdesc='Cus_Rep', joindate='2001-11-19', lastname='Mirza', salary=25000)\n",
            "Mirza Sania\n",
            "Row(empid=989007, comm=Decimal('0.03'), deptid='40', firsname='Sourav', jobdesc='Cus_Rep', joindate='2002-01-01', lastname='Ganguly', salary=20000)\n",
            "Ganguly Sourav\n",
            "Row(empid=897889, comm=Decimal('0.05'), deptid='20', firsname='Virender', jobdesc='Cus_Rep', joindate='2005-01-02', lastname='Sehwag', salary=15000)\n",
            "Sehwag Virender\n"
          ]
        }
      ]
    },
    {
      "cell_type": "code",
      "source": [
        "rows = session.execute(\"SELECT * from emp where jobdesc like '%Manager%'\")\n",
        "for row in rows:\n",
        "        print(row)\n",
        "        LastName = row.lastname\n",
        "        FirstName = row.firsname\n",
        "        print(LastName, FirstName)\n",
        "        #emails2 = list(emails)\n",
        "        #for im in emails2:\n",
        "        #    print(im)"
      ],
      "metadata": {
        "id": "MdHVrpdCyBxK",
        "outputId": "66486ca7-ffa8-46a2-f00a-01f70db95bfe",
        "colab": {
          "base_uri": "https://localhost:8080/",
          "height": 310
        }
      },
      "execution_count": 55,
      "outputs": [
        {
          "output_type": "error",
          "ename": "InvalidRequest",
          "evalue": "ignored",
          "traceback": [
            "\u001b[0;31m---------------------------------------------------------------------------\u001b[0m",
            "\u001b[0;31mInvalidRequest\u001b[0m                            Traceback (most recent call last)",
            "\u001b[0;32m<ipython-input-55-4d496fd0b8a5>\u001b[0m in \u001b[0;36m<module>\u001b[0;34m()\u001b[0m\n\u001b[0;32m----> 1\u001b[0;31m \u001b[0mrows\u001b[0m \u001b[0;34m=\u001b[0m \u001b[0msession\u001b[0m\u001b[0;34m.\u001b[0m\u001b[0mexecute\u001b[0m\u001b[0;34m(\u001b[0m\u001b[0;34m\"SELECT * from emp where jobdesc like '%Manager%'\"\u001b[0m\u001b[0;34m)\u001b[0m\u001b[0;34m\u001b[0m\u001b[0;34m\u001b[0m\u001b[0m\n\u001b[0m\u001b[1;32m      2\u001b[0m \u001b[0;32mfor\u001b[0m \u001b[0mrow\u001b[0m \u001b[0;32min\u001b[0m \u001b[0mrows\u001b[0m\u001b[0;34m:\u001b[0m\u001b[0;34m\u001b[0m\u001b[0;34m\u001b[0m\u001b[0m\n\u001b[1;32m      3\u001b[0m         \u001b[0mprint\u001b[0m\u001b[0;34m(\u001b[0m\u001b[0mrow\u001b[0m\u001b[0;34m)\u001b[0m\u001b[0;34m\u001b[0m\u001b[0;34m\u001b[0m\u001b[0m\n\u001b[1;32m      4\u001b[0m         \u001b[0mLastName\u001b[0m \u001b[0;34m=\u001b[0m \u001b[0mrow\u001b[0m\u001b[0;34m.\u001b[0m\u001b[0mlastname\u001b[0m\u001b[0;34m\u001b[0m\u001b[0;34m\u001b[0m\u001b[0m\n\u001b[1;32m      5\u001b[0m         \u001b[0mFirstName\u001b[0m \u001b[0;34m=\u001b[0m \u001b[0mrow\u001b[0m\u001b[0;34m.\u001b[0m\u001b[0mfirsname\u001b[0m\u001b[0;34m\u001b[0m\u001b[0;34m\u001b[0m\u001b[0m\n",
            "\u001b[0;32m/usr/local/lib/python3.7/dist-packages/cassandra/cluster.cpython-37m-x86_64-linux-gnu.so\u001b[0m in \u001b[0;36mcassandra.cluster.Session.execute\u001b[0;34m()\u001b[0m\n",
            "\u001b[0;32m/usr/local/lib/python3.7/dist-packages/cassandra/cluster.cpython-37m-x86_64-linux-gnu.so\u001b[0m in \u001b[0;36mcassandra.cluster.ResponseFuture.result\u001b[0;34m()\u001b[0m\n",
            "\u001b[0;31mInvalidRequest\u001b[0m: Error from server: code=2200 [Invalid query] message=\"LIKE restriction is only supported on properly indexed columns. jobdesc LIKE '%Manager%' is not valid.\""
          ]
        }
      ]
    },
    {
      "cell_type": "code",
      "source": [
        "!cqlsh -k praxis -e \"\\\n",
        "CREATE CUSTOM INDEX  fn_prefix ON emp (jobdesc) USING 'org.apache.cassandra.index.sasi.SASIIndex';\\\n",
        "\""
      ],
      "metadata": {
        "id": "IsE0xVbxzxMe",
        "outputId": "84b5cb1e-b182-4ceb-a7f6-81e4ae136c59",
        "colab": {
          "base_uri": "https://localhost:8080/"
        }
      },
      "execution_count": 56,
      "outputs": [
        {
          "output_type": "stream",
          "name": "stdout",
          "text": [
            "\u001b[0;1;31m<stdin>:1:InvalidRequest: Error from server: code=2200 [Invalid query] message=\"SASI indexes are disabled. Enable in cassandra.yaml to use.\"\u001b[0m\n"
          ]
        }
      ]
    },
    {
      "cell_type": "markdown",
      "metadata": {
        "id": "uQpkPRE2as9q"
      },
      "source": [
        "#Chronobooks <br>\n",
        "![alt text](https://1.bp.blogspot.com/-lTiYBkU2qbU/X1er__fvnkI/AAAAAAAAjtE/GhDR3OEGJr4NG43fZPodrQD5kbxtnKebgCLcBGAsYHQ/s600/Footer2020-600x200.png)<hr>\n",
        "Chronotantra and Chronoyantra are two science fiction novels that explore the collapse of human civilisation on Earth and then its rebirth and reincarnation both on Earth as well as on the distant worlds of Mars, Titan and Enceladus. But is it the human civilisation that is being reborn? Or is it some other sentience that is revealing itself. \n",
        "If you have an interest in AI and found this material useful, you may consider buying these novels, in paperback or kindle, from [http://bit.ly/chronobooks](http://bit.ly/chronobooks)"
      ]
    }
  ]
}