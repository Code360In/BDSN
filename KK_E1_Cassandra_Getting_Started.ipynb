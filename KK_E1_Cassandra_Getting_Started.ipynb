{
  "nbformat": 4,
  "nbformat_minor": 0,
  "metadata": {
    "colab": {
      "name": "KK E1 Cassandra Getting Started",
      "provenance": [],
      "toc_visible": true,
      "authorship_tag": "ABX9TyP7Sb7olrL15k68EvfeBxSK",
      "include_colab_link": true
    },
    "kernelspec": {
      "name": "python3",
      "display_name": "Python 3"
    },
    "language_info": {
      "name": "python"
    }
  },
  "cells": [
    {
      "cell_type": "markdown",
      "metadata": {
        "id": "view-in-github",
        "colab_type": "text"
      },
      "source": [
        "<a href=\"https://colab.research.google.com/github/prithwis/KKolab/blob/main/KK_E1_Cassandra_Getting_Started.ipynb\" target=\"_parent\"><img src=\"https://colab.research.google.com/assets/colab-badge.svg\" alt=\"Open In Colab\"/></a>"
      ]
    },
    {
      "cell_type": "markdown",
      "metadata": {
        "id": "tob6a0Waahs_"
      },
      "source": [
        "![alt text](https://4.bp.blogspot.com/-gbL5nZDkpFQ/XScFYwoTEII/AAAAAAAAAGY/CcVb_HDLwvs2Brv5T4vSsUcz7O4r2Q79ACK4BGAYYCw/s1600/kk3-header00-beta.png)<br>\n",
        "\n",
        "\n",
        "<hr>\n",
        "\n",
        "[Prithwis Mukerjee](http://www.linkedin.com/in/prithwis)<br>"
      ]
    },
    {
      "cell_type": "markdown",
      "metadata": {
        "id": "E2FhOnA1PJwF"
      },
      "source": [
        "#Install Cassandra"
      ]
    },
    {
      "cell_type": "markdown",
      "metadata": {
        "id": "As1axZOji3Un"
      },
      "source": [
        "install https://phoenixnap.com/kb/install-cassandra-on-ubuntu"
      ]
    },
    {
      "cell_type": "code",
      "metadata": {
        "colab": {
          "base_uri": "https://localhost:8080/"
        },
        "id": "vYhMBLxLWleS",
        "outputId": "97a86605-548c-4259-9f08-83916c9683eb"
      },
      "source": [
        "!apt update > null\n",
        "!apt install openjdk-8-jdk -y > null\n",
        "#!java -version\n",
        "!apt install apt-transport-https > null"
      ],
      "execution_count": 1,
      "outputs": [
        {
          "output_type": "stream",
          "text": [
            "\n",
            "WARNING: apt does not have a stable CLI interface. Use with caution in scripts.\n",
            "\n",
            "\n",
            "WARNING: apt does not have a stable CLI interface. Use with caution in scripts.\n",
            "\n",
            "\n",
            "WARNING: apt does not have a stable CLI interface. Use with caution in scripts.\n",
            "\n"
          ],
          "name": "stdout"
        }
      ]
    },
    {
      "cell_type": "code",
      "metadata": {
        "id": "T4NqUm_TXccH",
        "colab": {
          "base_uri": "https://localhost:8080/"
        },
        "outputId": "3c1fdc89-469e-4264-dd67-e1d8c3f63906"
      },
      "source": [
        "!sh -c 'echo \"deb http://www.apache.org/dist/cassandra/debian 40x main\" > /etc/apt/sources.list.d/cassandra.list'\n",
        "!wget -q -O - https://www.apache.org/dist/cassandra/KEYS | sudo apt-key add -"
      ],
      "execution_count": 2,
      "outputs": [
        {
          "output_type": "stream",
          "text": [
            "OK\n"
          ],
          "name": "stdout"
        }
      ]
    },
    {
      "cell_type": "code",
      "metadata": {
        "colab": {
          "base_uri": "https://localhost:8080/"
        },
        "id": "UeP4AIkRXq3G",
        "outputId": "865a0959-8fad-484a-fcfa-609c09b72024"
      },
      "source": [
        "!apt update > null\n",
        "!apt install cassandra > null"
      ],
      "execution_count": 3,
      "outputs": [
        {
          "output_type": "stream",
          "text": [
            "\n",
            "WARNING: apt does not have a stable CLI interface. Use with caution in scripts.\n",
            "\n",
            "\n",
            "WARNING: apt does not have a stable CLI interface. Use with caution in scripts.\n",
            "\n"
          ],
          "name": "stdout"
        }
      ]
    },
    {
      "cell_type": "markdown",
      "metadata": {
        "id": "RKx_TfY0POYJ"
      },
      "source": [
        "## Start the Service"
      ]
    },
    {
      "cell_type": "code",
      "metadata": {
        "colab": {
          "base_uri": "https://localhost:8080/"
        },
        "id": "oFrwzWGVXye_",
        "outputId": "05988a5a-d716-4c5f-955c-8c5ba71f9f59"
      },
      "source": [
        "#!service cassandra stop\n",
        "# the ulimit error does not matter\n",
        "!service cassandra restart"
      ],
      "execution_count": 4,
      "outputs": [
        {
          "output_type": "stream",
          "text": [
            " * Restarting Cassandra cassandra\n",
            "/etc/init.d/cassandra: 72: ulimit: error setting limit (Operation not permitted)\n",
            "   ...done.\n"
          ],
          "name": "stdout"
        }
      ]
    },
    {
      "cell_type": "code",
      "metadata": {
        "colab": {
          "base_uri": "https://localhost:8080/"
        },
        "id": "Tp_1OFjMMTML",
        "outputId": "4121b2ad-3b02-4c78-e2f0-6373319cb41e"
      },
      "source": [
        "# keep checking service status until you see [+] next to cassandra\n",
        "# then wait for 30 seconds MORE\n",
        "!service  --status-all "
      ],
      "execution_count": 6,
      "outputs": [
        {
          "output_type": "stream",
          "text": [
            " [ + ]  cassandra\n",
            " [ - ]  dbus\n",
            " [ ? ]  hwclock.sh\n",
            " [ ? ]  kmod\n",
            " [ - ]  ntp\n",
            " [ - ]  procps\n",
            " [ - ]  rsync\n",
            " [ - ]  udev\n",
            " [ - ]  x11-common\n"
          ],
          "name": "stdout"
        }
      ]
    },
    {
      "cell_type": "code",
      "metadata": {
        "colab": {
          "base_uri": "https://localhost:8080/"
        },
        "id": "xiXyOJMIYPa2",
        "outputId": "db92cbf0-4404-4459-d091-9349d9055f44"
      },
      "source": [
        "# this will give an error if the cassandra service has not started\n",
        "# Wait for some time for the service to start\n",
        "# If required reboot system or stop, restart cassandra service\n",
        "!nodetool status"
      ],
      "execution_count": 7,
      "outputs": [
        {
          "output_type": "stream",
          "text": [
            "Datacenter: datacenter1\n",
            "=======================\n",
            "Status=Up/Down\n",
            "|/ State=Normal/Leaving/Joining/Moving\n",
            "--  Address    Load       Tokens  Owns (effective)  Host ID                               Rack \n",
            "UN  127.0.0.1  69.08 KiB  16      100.0%            38acf233-7044-4fe5-a96c-00539370de1f  rack1\n",
            "\n"
          ],
          "name": "stdout"
        }
      ]
    },
    {
      "cell_type": "code",
      "metadata": {
        "id": "KiQkg6HTgZ93"
      },
      "source": [
        "# basic test\n",
        "#!cqlsh"
      ],
      "execution_count": null,
      "outputs": []
    },
    {
      "cell_type": "markdown",
      "metadata": {
        "id": "aBol76oAPWz7"
      },
      "source": [
        "# Basic Commands \n",
        "how to execute commands through scripts https://stackoverflow.com/questions/25286253/executing-cql-through-shell-script <br>\n",
        "some examples https://techfossguru.com/apache-cassandra-python-step-step-guide-ubuntu-example/"
      ]
    },
    {
      "cell_type": "code",
      "metadata": {
        "colab": {
          "base_uri": "https://localhost:8080/"
        },
        "id": "W3sezYYfPcnq",
        "outputId": "2c4f0e19-015f-4992-e673-d48898ad0f45"
      },
      "source": [
        "!cqlsh -e \"help\" "
      ],
      "execution_count": 8,
      "outputs": [
        {
          "output_type": "stream",
          "text": [
            "\n",
            "Documented shell commands:\n",
            "===========================\n",
            "CAPTURE  CLS          COPY  DESCRIBE  EXPAND  LOGIN   SERIAL  SOURCE   UNICODE\n",
            "CLEAR    CONSISTENCY  DESC  EXIT      HELP    PAGING  SHOW    TRACING\n",
            "\n",
            "CQL help topics:\n",
            "================\n",
            "AGGREGATES               CREATE_KEYSPACE           DROP_TRIGGER      TEXT     \n",
            "ALTER_KEYSPACE           CREATE_MATERIALIZED_VIEW  DROP_TYPE         TIME     \n",
            "ALTER_MATERIALIZED_VIEW  CREATE_ROLE               DROP_USER         TIMESTAMP\n",
            "ALTER_TABLE              CREATE_TABLE              FUNCTIONS         TRUNCATE \n",
            "ALTER_TYPE               CREATE_TRIGGER            GRANT             TYPES    \n",
            "ALTER_USER               CREATE_TYPE               INSERT            UPDATE   \n",
            "APPLY                    CREATE_USER               INSERT_JSON       USE      \n",
            "ASCII                    DATE                      INT               UUID     \n",
            "BATCH                    DELETE                    JSON            \n",
            "BEGIN                    DROP_AGGREGATE            KEYWORDS        \n",
            "BLOB                     DROP_COLUMNFAMILY         LIST_PERMISSIONS\n",
            "BOOLEAN                  DROP_FUNCTION             LIST_ROLES      \n",
            "COUNTER                  DROP_INDEX                LIST_USERS      \n",
            "CREATE_AGGREGATE         DROP_KEYSPACE             PERMISSIONS     \n",
            "CREATE_COLUMNFAMILY      DROP_MATERIALIZED_VIEW    REVOKE          \n",
            "CREATE_FUNCTION          DROP_ROLE                 SELECT          \n",
            "CREATE_INDEX             DROP_TABLE                SELECT_JSON     \n",
            "\n"
          ],
          "name": "stdout"
        }
      ]
    },
    {
      "cell_type": "code",
      "metadata": {
        "colab": {
          "base_uri": "https://localhost:8080/"
        },
        "id": "9IiOfaY1P_1m",
        "outputId": "a59fb7b9-8149-42be-c10b-4a17dae55744"
      },
      "source": [
        "!cqlsh -e \"CREATE KEYSPACE praxis WITH REPLICATION = { 'class' : 'SimpleStrategy', 'replication_factor' : 3 };\""
      ],
      "execution_count": 9,
      "outputs": [
        {
          "output_type": "stream",
          "text": [
            "\n",
            "Warnings :\n",
            "Your replication factor 3 for keyspace praxis is higher than the number of nodes 1\n",
            "\n"
          ],
          "name": "stdout"
        }
      ]
    },
    {
      "cell_type": "code",
      "metadata": {
        "id": "cZnKX2llQ_X3"
      },
      "source": [
        "# since we are not specifying keyspace separately, we have to prefix table name with keyspace\n",
        "!cqlsh -e \"CREATE TABLE praxis.users (user_id int PRIMARY KEY, first_name text, last_name text );\""
      ],
      "execution_count": 10,
      "outputs": []
    },
    {
      "cell_type": "code",
      "metadata": {
        "id": "Tkl3W5Z3Rmuw"
      },
      "source": [
        "!cqlsh -e \"INSERT INTO praxis.users (user_id, first_name, last_name) VALUES (1, 'Prithwis', 'Mukerjee');\"\n",
        "!cqlsh -e \"INSERT INTO praxis.users (user_id, first_name, last_name) VALUES (2, 'Sanniti', 'Chatterjee');\"\n",
        "!cqlsh -e \"INSERT INTO praxis.users (user_id, first_name, last_name) VALUES (3, 'Amrita', 'Ghosh');\""
      ],
      "execution_count": 11,
      "outputs": []
    },
    {
      "cell_type": "code",
      "metadata": {
        "colab": {
          "base_uri": "https://localhost:8080/"
        },
        "id": "T1yKBuABR-u7",
        "outputId": "cf2ba6e8-7568-4796-8215-e60f91ea3a1a"
      },
      "source": [
        "!cqlsh -e \"select * from praxis.users;\""
      ],
      "execution_count": 12,
      "outputs": [
        {
          "output_type": "stream",
          "text": [
            "\n",
            " \u001b[0;1;31muser_id\u001b[0m | \u001b[0;1;35mfirst_name\u001b[0m | \u001b[0;1;35mlast_name\u001b[0m\n",
            "---------+------------+------------\n",
            "       \u001b[0;1;32m1\u001b[0m |   \u001b[0;1;33mPrithwis\u001b[0m |   \u001b[0;1;33mMukerjee\u001b[0m\n",
            "       \u001b[0;1;32m2\u001b[0m |    \u001b[0;1;33mSanniti\u001b[0m | \u001b[0;1;33mChatterjee\u001b[0m\n",
            "       \u001b[0;1;32m3\u001b[0m |     \u001b[0;1;33mAmrita\u001b[0m |      \u001b[0;1;33mGhosh\u001b[0m\n",
            "\n",
            "(3 rows)\n"
          ],
          "name": "stdout"
        }
      ]
    },
    {
      "cell_type": "code",
      "metadata": {
        "colab": {
          "base_uri": "https://localhost:8080/"
        },
        "id": "IrKpduEBTQVn",
        "outputId": "9854f960-7f0c-4824-8c85-f62950da73d2"
      },
      "source": [
        "#another way to specifiy keyspace\n",
        "!cqlsh -e \"use praxis;\\\n",
        "           select * from users;\""
      ],
      "execution_count": 13,
      "outputs": [
        {
          "output_type": "stream",
          "text": [
            "\n",
            " \u001b[0;1;31muser_id\u001b[0m | \u001b[0;1;35mfirst_name\u001b[0m | \u001b[0;1;35mlast_name\u001b[0m\n",
            "---------+------------+------------\n",
            "       \u001b[0;1;32m1\u001b[0m |   \u001b[0;1;33mPrithwis\u001b[0m |   \u001b[0;1;33mMukerjee\u001b[0m\n",
            "       \u001b[0;1;32m2\u001b[0m |    \u001b[0;1;33mSanniti\u001b[0m | \u001b[0;1;33mChatterjee\u001b[0m\n",
            "       \u001b[0;1;32m3\u001b[0m |     \u001b[0;1;33mAmrita\u001b[0m |      \u001b[0;1;33mGhosh\u001b[0m\n",
            "\n",
            "(3 rows)\n"
          ],
          "name": "stdout"
        }
      ]
    },
    {
      "cell_type": "code",
      "metadata": {
        "colab": {
          "base_uri": "https://localhost:8080/"
        },
        "id": "ZugyHjwaYA6Z",
        "outputId": "3ec99f72-c7a3-408d-a7c0-4d3d87dc0e26"
      },
      "source": [
        "# easier way to specify keyspace, similar specifying database in mysql\n",
        "!cqlsh -k praxis -e \"select * from users;\""
      ],
      "execution_count": 14,
      "outputs": [
        {
          "output_type": "stream",
          "text": [
            "\n",
            " \u001b[0;1;31muser_id\u001b[0m | \u001b[0;1;35mfirst_name\u001b[0m | \u001b[0;1;35mlast_name\u001b[0m\n",
            "---------+------------+------------\n",
            "       \u001b[0;1;32m1\u001b[0m |   \u001b[0;1;33mPrithwis\u001b[0m |   \u001b[0;1;33mMukerjee\u001b[0m\n",
            "       \u001b[0;1;32m2\u001b[0m |    \u001b[0;1;33mSanniti\u001b[0m | \u001b[0;1;33mChatterjee\u001b[0m\n",
            "       \u001b[0;1;32m3\u001b[0m |     \u001b[0;1;33mAmrita\u001b[0m |      \u001b[0;1;33mGhosh\u001b[0m\n",
            "\n",
            "(3 rows)\n"
          ],
          "name": "stdout"
        }
      ]
    },
    {
      "cell_type": "markdown",
      "metadata": {
        "id": "XeJl3TiNg6Li"
      },
      "source": [
        "# Python\n",
        "https://docs.datastax.com/en/developer/python-driver/3.25/"
      ]
    },
    {
      "cell_type": "code",
      "metadata": {
        "id": "oTIcI1PVlLaI",
        "colab": {
          "base_uri": "https://localhost:8080/"
        },
        "outputId": "36b362e3-bfd9-43b0-b9b8-51134955f5a5"
      },
      "source": [
        "!pip install cassandra-driver"
      ],
      "execution_count": 15,
      "outputs": [
        {
          "output_type": "stream",
          "text": [
            "Collecting cassandra-driver\n",
            "  Downloading cassandra_driver-3.25.0-cp37-cp37m-manylinux1_x86_64.whl (3.8 MB)\n",
            "\u001b[K     |████████████████████████████████| 3.8 MB 5.4 MB/s \n",
            "\u001b[?25hRequirement already satisfied: six>=1.9 in /usr/local/lib/python3.7/dist-packages (from cassandra-driver) (1.15.0)\n",
            "Collecting geomet<0.3,>=0.1\n",
            "  Downloading geomet-0.2.1.post1-py3-none-any.whl (18 kB)\n",
            "Requirement already satisfied: click in /usr/local/lib/python3.7/dist-packages (from geomet<0.3,>=0.1->cassandra-driver) (7.1.2)\n",
            "Installing collected packages: geomet, cassandra-driver\n",
            "Successfully installed cassandra-driver-3.25.0 geomet-0.2.1.post1\n"
          ],
          "name": "stdout"
        }
      ]
    },
    {
      "cell_type": "code",
      "metadata": {
        "id": "6VpIDTEbj3H2"
      },
      "source": [
        "from cassandra.cluster import Cluster"
      ],
      "execution_count": 16,
      "outputs": []
    },
    {
      "cell_type": "code",
      "metadata": {
        "id": "1LG1QtQDkC25"
      },
      "source": [
        "cluster = Cluster(['127.0.0.1'],port=9042)"
      ],
      "execution_count": 17,
      "outputs": []
    },
    {
      "cell_type": "code",
      "metadata": {
        "id": "OMZ7Lz4dkVeO"
      },
      "source": [
        "session = cluster.connect('praxis',wait_for_all_pools=True)"
      ],
      "execution_count": 18,
      "outputs": []
    },
    {
      "cell_type": "code",
      "metadata": {
        "colab": {
          "base_uri": "https://localhost:8080/"
        },
        "id": "TKQsECpgksZw",
        "outputId": "9eae3c81-613d-4d91-afdc-13684b7b9644"
      },
      "source": [
        "session.execute('USE praxis')"
      ],
      "execution_count": 19,
      "outputs": [
        {
          "output_type": "execute_result",
          "data": {
            "text/plain": [
              "<cassandra.cluster.ResultSet at 0x7f282e672cd0>"
            ]
          },
          "metadata": {},
          "execution_count": 19
        }
      ]
    },
    {
      "cell_type": "code",
      "metadata": {
        "id": "RVNgy9Wnkyk1",
        "colab": {
          "base_uri": "https://localhost:8080/"
        },
        "outputId": "0ba95e84-c7d8-4591-ccad-ea6354a861b8"
      },
      "source": [
        "rows = session.execute('SELECT * FROM users')\n",
        "for row in rows:\n",
        "        print(row.user_id,row.first_name,row.last_name)"
      ],
      "execution_count": 20,
      "outputs": [
        {
          "output_type": "stream",
          "text": [
            "1 Prithwis Mukerjee\n",
            "2 Sanniti Chatterjee\n",
            "3 Amrita Ghosh\n"
          ],
          "name": "stdout"
        }
      ]
    },
    {
      "cell_type": "markdown",
      "metadata": {
        "id": "uQpkPRE2as9q"
      },
      "source": [
        "#Chronobooks <br>\n",
        "![alt text](https://1.bp.blogspot.com/-lTiYBkU2qbU/X1er__fvnkI/AAAAAAAAjtE/GhDR3OEGJr4NG43fZPodrQD5kbxtnKebgCLcBGAsYHQ/s600/Footer2020-600x200.png)<hr>\n",
        "Chronotantra and Chronoyantra are two science fiction novels that explore the collapse of human civilisation on Earth and then its rebirth and reincarnation both on Earth as well as on the distant worlds of Mars, Titan and Enceladus. But is it the human civilisation that is being reborn? Or is it some other sentience that is revealing itself. \n",
        "If you have an interest in AI and found this material useful, you may consider buying these novels, in paperback or kindle, from [http://bit.ly/chronobooks](http://bit.ly/chronobooks)"
      ]
    }
  ]
}