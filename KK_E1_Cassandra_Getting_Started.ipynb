{
  "nbformat": 4,
  "nbformat_minor": 0,
  "metadata": {
    "colab": {
      "name": "KK E1 Cassandra Getting Started",
      "provenance": [],
      "toc_visible": true,
      "authorship_tag": "ABX9TyMBIT7z0yhnPQWbyWXVqc+E",
      "include_colab_link": true
    },
    "kernelspec": {
      "name": "python3",
      "display_name": "Python 3"
    },
    "language_info": {
      "name": "python"
    }
  },
  "cells": [
    {
      "cell_type": "markdown",
      "metadata": {
        "id": "view-in-github",
        "colab_type": "text"
      },
      "source": [
        "<a href=\"https://colab.research.google.com/github/Praxis-QR/BDSN/blob/main/KK_E1_Cassandra_Getting_Started.ipynb\" target=\"_parent\"><img src=\"https://colab.research.google.com/assets/colab-badge.svg\" alt=\"Open In Colab\"/></a>"
      ]
    },
    {
      "cell_type": "markdown",
      "metadata": {
        "id": "tob6a0Waahs_"
      },
      "source": [
        "![alt text](https://4.bp.blogspot.com/-gbL5nZDkpFQ/XScFYwoTEII/AAAAAAAAAGY/CcVb_HDLwvs2Brv5T4vSsUcz7O4r2Q79ACK4BGAYYCw/s1600/kk3-header00-beta.png)<br>\n",
        "\n",
        "\n",
        "<hr>\n",
        "\n",
        "[Prithwis Mukerjee](http://www.linkedin.com/in/prithwis)<br>"
      ]
    },
    {
      "cell_type": "markdown",
      "metadata": {
        "id": "E2FhOnA1PJwF"
      },
      "source": [
        "#Install Cassandra"
      ]
    },
    {
      "cell_type": "markdown",
      "metadata": {
        "id": "As1axZOji3Un"
      },
      "source": [
        "install https://phoenixnap.com/kb/install-cassandra-on-ubuntu"
      ]
    },
    {
      "cell_type": "code",
      "metadata": {
        "colab": {
          "base_uri": "https://localhost:8080/"
        },
        "id": "vYhMBLxLWleS",
        "outputId": "3f272622-1549-47c6-bbf1-47125b88e235"
      },
      "source": [
        "!apt update > null\n",
        "!apt install openjdk-8-jdk -y > null\n",
        "#!java -version\n",
        "!apt install apt-transport-https > null"
      ],
      "execution_count": null,
      "outputs": [
        {
          "output_type": "stream",
          "name": "stdout",
          "text": [
            "\n",
            "WARNING: apt does not have a stable CLI interface. Use with caution in scripts.\n",
            "\n",
            "\n",
            "WARNING: apt does not have a stable CLI interface. Use with caution in scripts.\n",
            "\n",
            "\n",
            "WARNING: apt does not have a stable CLI interface. Use with caution in scripts.\n",
            "\n"
          ]
        }
      ]
    },
    {
      "cell_type": "code",
      "metadata": {
        "id": "T4NqUm_TXccH",
        "colab": {
          "base_uri": "https://localhost:8080/"
        },
        "outputId": "beddbe3f-70a3-4d75-be27-f983a492ae04"
      },
      "source": [
        "!sh -c 'echo \"deb http://www.apache.org/dist/cassandra/debian 40x main\" > /etc/apt/sources.list.d/cassandra.list'\n",
        "!wget -q -O - https://www.apache.org/dist/cassandra/KEYS | sudo apt-key add -"
      ],
      "execution_count": null,
      "outputs": [
        {
          "output_type": "stream",
          "name": "stdout",
          "text": [
            "OK\n"
          ]
        }
      ]
    },
    {
      "cell_type": "code",
      "metadata": {
        "id": "55Tefi67Nz3Q",
        "colab": {
          "base_uri": "https://localhost:8080/"
        },
        "outputId": "4aa8d64d-6b05-4cfa-caa2-694d158e5616"
      },
      "source": [
        "!cat /etc/apt/sources.list.d/cassandra.list"
      ],
      "execution_count": null,
      "outputs": [
        {
          "output_type": "stream",
          "name": "stdout",
          "text": [
            "deb http://www.apache.org/dist/cassandra/debian 40x main\n"
          ]
        }
      ]
    },
    {
      "cell_type": "code",
      "metadata": {
        "colab": {
          "base_uri": "https://localhost:8080/"
        },
        "id": "UeP4AIkRXq3G",
        "outputId": "d8e9918a-787d-439a-adb1-3fef921d67a3"
      },
      "source": [
        "!apt update > null\n",
        "!apt install cassandra > null"
      ],
      "execution_count": null,
      "outputs": [
        {
          "output_type": "stream",
          "name": "stdout",
          "text": [
            "\n",
            "WARNING: apt does not have a stable CLI interface. Use with caution in scripts.\n",
            "\n",
            "\n",
            "WARNING: apt does not have a stable CLI interface. Use with caution in scripts.\n",
            "\n"
          ]
        }
      ]
    },
    {
      "cell_type": "markdown",
      "metadata": {
        "id": "RKx_TfY0POYJ"
      },
      "source": [
        "## Start the Service"
      ]
    },
    {
      "cell_type": "code",
      "metadata": {
        "colab": {
          "base_uri": "https://localhost:8080/"
        },
        "id": "oFrwzWGVXye_",
        "outputId": "4a49dcf4-3b46-4dad-d9ab-764b5c85961b"
      },
      "source": [
        "#!service cassandra stop\n",
        "# the ulimit error does not matter\n",
        "!service cassandra restart"
      ],
      "execution_count": null,
      "outputs": [
        {
          "output_type": "stream",
          "name": "stdout",
          "text": [
            " * Restarting Cassandra cassandra\n",
            "/etc/init.d/cassandra: 72: ulimit: error setting limit (Operation not permitted)\n",
            "   ...done.\n"
          ]
        }
      ]
    },
    {
      "cell_type": "code",
      "metadata": {
        "colab": {
          "base_uri": "https://localhost:8080/"
        },
        "id": "Tp_1OFjMMTML",
        "outputId": "5539c6a3-d3d5-491a-9245-a878ccc9167d"
      },
      "source": [
        "# keep checking service status until you see [+] next to cassandra\n",
        "# then wait for 30 seconds MORE\n",
        "!service  --status-all "
      ],
      "execution_count": null,
      "outputs": [
        {
          "output_type": "stream",
          "name": "stdout",
          "text": [
            " [ + ]  cassandra\n",
            " [ - ]  dbus\n",
            " [ ? ]  hwclock.sh\n",
            " [ ? ]  kmod\n",
            " [ - ]  ntp\n",
            " [ - ]  procps\n",
            " [ - ]  rsync\n",
            " [ + ]  udev\n",
            " [ - ]  x11-common\n"
          ]
        }
      ]
    },
    {
      "cell_type": "code",
      "metadata": {
        "colab": {
          "base_uri": "https://localhost:8080/"
        },
        "id": "xiXyOJMIYPa2",
        "outputId": "97b8b2b4-1ee2-40f9-ada1-17d126556bd8"
      },
      "source": [
        "# this will give an error if the cassandra service has not started\n",
        "# Wait for some time for the service to start\n",
        "# If required reboot system or stop, restart cassandra service\n",
        "!nodetool status"
      ],
      "execution_count": null,
      "outputs": [
        {
          "output_type": "stream",
          "name": "stdout",
          "text": [
            "Datacenter: datacenter1\n",
            "=======================\n",
            "Status=Up/Down\n",
            "|/ State=Normal/Leaving/Joining/Moving\n",
            "--  Address    Load       Tokens  Owns (effective)  Host ID                               Rack \n",
            "UN  127.0.0.1  69.09 KiB  16      100.0%            9a4ef910-0c78-4b6e-923c-94ed15f853eb  rack1\n",
            "\n"
          ]
        }
      ]
    },
    {
      "cell_type": "code",
      "metadata": {
        "id": "KiQkg6HTgZ93"
      },
      "source": [
        "# basic test\n",
        "#!cqlsh"
      ],
      "execution_count": null,
      "outputs": []
    },
    {
      "cell_type": "markdown",
      "metadata": {
        "id": "aBol76oAPWz7"
      },
      "source": [
        "# Basic Commands \n",
        "how to execute commands through scripts https://stackoverflow.com/questions/25286253/executing-cql-through-shell-script <br>\n",
        "some examples https://techfossguru.com/apache-cassandra-python-step-step-guide-ubuntu-example/"
      ]
    },
    {
      "cell_type": "code",
      "metadata": {
        "colab": {
          "base_uri": "https://localhost:8080/"
        },
        "id": "W3sezYYfPcnq",
        "outputId": "457c480f-90b5-4aee-cae7-09d16248a256"
      },
      "source": [
        "!cqlsh -e \"help\" "
      ],
      "execution_count": null,
      "outputs": [
        {
          "output_type": "stream",
          "name": "stdout",
          "text": [
            "\n",
            "Documented shell commands:\n",
            "===========================\n",
            "CAPTURE  CLS          COPY  DESCRIBE  EXPAND  LOGIN   SERIAL  SOURCE   UNICODE\n",
            "CLEAR    CONSISTENCY  DESC  EXIT      HELP    PAGING  SHOW    TRACING\n",
            "\n",
            "CQL help topics:\n",
            "================\n",
            "AGGREGATES               CREATE_KEYSPACE           DROP_TRIGGER      TEXT     \n",
            "ALTER_KEYSPACE           CREATE_MATERIALIZED_VIEW  DROP_TYPE         TIME     \n",
            "ALTER_MATERIALIZED_VIEW  CREATE_ROLE               DROP_USER         TIMESTAMP\n",
            "ALTER_TABLE              CREATE_TABLE              FUNCTIONS         TRUNCATE \n",
            "ALTER_TYPE               CREATE_TRIGGER            GRANT             TYPES    \n",
            "ALTER_USER               CREATE_TYPE               INSERT            UPDATE   \n",
            "APPLY                    CREATE_USER               INSERT_JSON       USE      \n",
            "ASCII                    DATE                      INT               UUID     \n",
            "BATCH                    DELETE                    JSON            \n",
            "BEGIN                    DROP_AGGREGATE            KEYWORDS        \n",
            "BLOB                     DROP_COLUMNFAMILY         LIST_PERMISSIONS\n",
            "BOOLEAN                  DROP_FUNCTION             LIST_ROLES      \n",
            "COUNTER                  DROP_INDEX                LIST_USERS      \n",
            "CREATE_AGGREGATE         DROP_KEYSPACE             PERMISSIONS     \n",
            "CREATE_COLUMNFAMILY      DROP_MATERIALIZED_VIEW    REVOKE          \n",
            "CREATE_FUNCTION          DROP_ROLE                 SELECT          \n",
            "CREATE_INDEX             DROP_TABLE                SELECT_JSON     \n",
            "\n"
          ]
        }
      ]
    },
    {
      "cell_type": "code",
      "metadata": {
        "colab": {
          "base_uri": "https://localhost:8080/"
        },
        "id": "9IiOfaY1P_1m",
        "outputId": "6682aa2a-dce4-4b46-a7cc-aaf143fc2279"
      },
      "source": [
        "!cqlsh -e \"CREATE KEYSPACE praxis WITH REPLICATION = { 'class' : 'SimpleStrategy', 'replication_factor' : 3 };\""
      ],
      "execution_count": null,
      "outputs": [
        {
          "output_type": "stream",
          "name": "stdout",
          "text": [
            "\n",
            "Warnings :\n",
            "Your replication factor 3 for keyspace praxis is higher than the number of nodes 1\n",
            "\n"
          ]
        }
      ]
    },
    {
      "cell_type": "code",
      "metadata": {
        "id": "cZnKX2llQ_X3"
      },
      "source": [
        "# since we are not specifying keyspace separately, we have to prefix table name with keyspace\n",
        "!cqlsh -e \"CREATE TABLE praxis.users (user_id int PRIMARY KEY, first_name text, last_name text );\""
      ],
      "execution_count": null,
      "outputs": []
    },
    {
      "cell_type": "code",
      "metadata": {
        "id": "Tkl3W5Z3Rmuw"
      },
      "source": [
        "!cqlsh -e \"INSERT INTO praxis.users (user_id, first_name, last_name) VALUES (1, 'Prithwis', 'Mukerjee');\"\n",
        "!cqlsh -e \"INSERT INTO praxis.users (user_id, first_name, last_name) VALUES (2, 'Sanniti', 'Chatterjee');\"\n",
        "!cqlsh -e \"INSERT INTO praxis.users (user_id, first_name, last_name) VALUES (3, 'Amrita', 'Ghosh');\""
      ],
      "execution_count": null,
      "outputs": []
    },
    {
      "cell_type": "code",
      "metadata": {
        "colab": {
          "base_uri": "https://localhost:8080/"
        },
        "id": "T1yKBuABR-u7",
        "outputId": "d4f8f6a5-e834-4466-acc9-f5d007f40154"
      },
      "source": [
        "!cqlsh -e \"select * from praxis.users;\""
      ],
      "execution_count": null,
      "outputs": [
        {
          "output_type": "stream",
          "name": "stdout",
          "text": [
            "\n",
            " \u001b[0;1;31muser_id\u001b[0m | \u001b[0;1;35mfirst_name\u001b[0m | \u001b[0;1;35mlast_name\u001b[0m\n",
            "---------+------------+------------\n",
            "       \u001b[0;1;32m1\u001b[0m |   \u001b[0;1;33mPrithwis\u001b[0m |   \u001b[0;1;33mMukerjee\u001b[0m\n",
            "       \u001b[0;1;32m2\u001b[0m |    \u001b[0;1;33mSanniti\u001b[0m | \u001b[0;1;33mChatterjee\u001b[0m\n",
            "       \u001b[0;1;32m3\u001b[0m |     \u001b[0;1;33mAmrita\u001b[0m |      \u001b[0;1;33mGhosh\u001b[0m\n",
            "\n",
            "(3 rows)\n"
          ]
        }
      ]
    },
    {
      "cell_type": "code",
      "metadata": {
        "colab": {
          "base_uri": "https://localhost:8080/"
        },
        "id": "IrKpduEBTQVn",
        "outputId": "632a953f-a662-4397-a225-f757a7bd7da0"
      },
      "source": [
        "#another way to specifiy keyspace\n",
        "!cqlsh -e \"use praxis;\\\n",
        "           select * from users;\""
      ],
      "execution_count": null,
      "outputs": [
        {
          "output_type": "stream",
          "name": "stdout",
          "text": [
            "\n",
            " \u001b[0;1;31muser_id\u001b[0m | \u001b[0;1;35mfirst_name\u001b[0m | \u001b[0;1;35mlast_name\u001b[0m\n",
            "---------+------------+------------\n",
            "       \u001b[0;1;32m1\u001b[0m |   \u001b[0;1;33mPrithwis\u001b[0m |   \u001b[0;1;33mMukerjee\u001b[0m\n",
            "       \u001b[0;1;32m2\u001b[0m |    \u001b[0;1;33mSanniti\u001b[0m | \u001b[0;1;33mChatterjee\u001b[0m\n",
            "       \u001b[0;1;32m3\u001b[0m |     \u001b[0;1;33mAmrita\u001b[0m |      \u001b[0;1;33mGhosh\u001b[0m\n",
            "\n",
            "(3 rows)\n"
          ]
        }
      ]
    },
    {
      "cell_type": "code",
      "metadata": {
        "colab": {
          "base_uri": "https://localhost:8080/"
        },
        "id": "ZugyHjwaYA6Z",
        "outputId": "31988f12-2b0e-4f32-c17d-2f6ce6153c07"
      },
      "source": [
        "# easier way to specify keyspace, similar specifying database in mysql\n",
        "!cqlsh -k praxis -e \"select * from users;\""
      ],
      "execution_count": null,
      "outputs": [
        {
          "output_type": "stream",
          "name": "stdout",
          "text": [
            "\n",
            " \u001b[0;1;31muser_id\u001b[0m | \u001b[0;1;35mfirst_name\u001b[0m  | \u001b[0;1;35mlast_name\u001b[0m\n",
            "---------+-------------+------------\n",
            "       \u001b[0;1;32m1\u001b[0m | \u001b[0;1;33mDr Prithwis\u001b[0m |   \u001b[0;1;33mMukerjee\u001b[0m\n",
            "       \u001b[0;1;32m2\u001b[0m |     \u001b[0;1;33mSanniti\u001b[0m | \u001b[0;1;33mChatterjee\u001b[0m\n",
            "       \u001b[0;1;32m4\u001b[0m | \u001b[0;1;33mCharanpreet\u001b[0m |      \u001b[0;1;33mSingh\u001b[0m\n",
            "       \u001b[0;1;32m3\u001b[0m |      \u001b[0;1;33mAmrita\u001b[0m |      \u001b[0;1;33mGhosh\u001b[0m\n",
            "\n",
            "(4 rows)\n"
          ]
        }
      ]
    },
    {
      "cell_type": "markdown",
      "metadata": {
        "id": "XeJl3TiNg6Li"
      },
      "source": [
        "# Python\n",
        "https://docs.datastax.com/en/developer/python-driver/3.25/"
      ]
    },
    {
      "cell_type": "code",
      "metadata": {
        "id": "oTIcI1PVlLaI",
        "colab": {
          "base_uri": "https://localhost:8080/"
        },
        "outputId": "d47f5100-e8ea-4d65-9651-c96927dc15a6"
      },
      "source": [
        "!pip install cassandra-driver"
      ],
      "execution_count": null,
      "outputs": [
        {
          "output_type": "stream",
          "name": "stdout",
          "text": [
            "Collecting cassandra-driver\n",
            "  Downloading cassandra_driver-3.25.0-cp37-cp37m-manylinux1_x86_64.whl (3.8 MB)\n",
            "\u001b[K     |████████████████████████████████| 3.8 MB 4.1 MB/s \n",
            "\u001b[?25hRequirement already satisfied: six>=1.9 in /usr/local/lib/python3.7/dist-packages (from cassandra-driver) (1.15.0)\n",
            "Collecting geomet<0.3,>=0.1\n",
            "  Downloading geomet-0.2.1.post1-py3-none-any.whl (18 kB)\n",
            "Requirement already satisfied: click in /usr/local/lib/python3.7/dist-packages (from geomet<0.3,>=0.1->cassandra-driver) (7.1.2)\n",
            "Installing collected packages: geomet, cassandra-driver\n",
            "Successfully installed cassandra-driver-3.25.0 geomet-0.2.1.post1\n"
          ]
        }
      ]
    },
    {
      "cell_type": "code",
      "metadata": {
        "id": "6VpIDTEbj3H2"
      },
      "source": [
        "from cassandra.cluster import Cluster"
      ],
      "execution_count": null,
      "outputs": []
    },
    {
      "cell_type": "code",
      "metadata": {
        "id": "1LG1QtQDkC25"
      },
      "source": [
        "cluster = Cluster(['127.0.0.1'],port=9042)"
      ],
      "execution_count": null,
      "outputs": []
    },
    {
      "cell_type": "code",
      "metadata": {
        "id": "OMZ7Lz4dkVeO"
      },
      "source": [
        "session = cluster.connect('praxis',wait_for_all_pools=True)"
      ],
      "execution_count": null,
      "outputs": []
    },
    {
      "cell_type": "code",
      "metadata": {
        "colab": {
          "base_uri": "https://localhost:8080/"
        },
        "id": "TKQsECpgksZw",
        "outputId": "04da9cb7-181d-4216-c08d-5e4a717738d3"
      },
      "source": [
        "session.execute('USE praxis')"
      ],
      "execution_count": null,
      "outputs": [
        {
          "output_type": "execute_result",
          "data": {
            "text/plain": [
              "<cassandra.cluster.ResultSet at 0x7f051d531090>"
            ]
          },
          "metadata": {},
          "execution_count": 21
        }
      ]
    },
    {
      "cell_type": "code",
      "metadata": {
        "id": "RVNgy9Wnkyk1",
        "colab": {
          "base_uri": "https://localhost:8080/"
        },
        "outputId": "55c8e76f-6f07-4d9f-e348-ea984722605d"
      },
      "source": [
        "rows = session.execute('SELECT * FROM users')\n",
        "for row in rows:\n",
        "        print(row.user_id,row.first_name,row.last_name)"
      ],
      "execution_count": null,
      "outputs": [
        {
          "output_type": "stream",
          "name": "stdout",
          "text": [
            "1 Prithwis Mukerjee\n",
            "2 Sanniti Chatterjee\n",
            "3 Amrita Ghosh\n"
          ]
        }
      ]
    },
    {
      "cell_type": "code",
      "metadata": {
        "id": "WU-zcG-PYF-J",
        "colab": {
          "base_uri": "https://localhost:8080/"
        },
        "outputId": "2a4054a8-f4d1-4198-ae73-39fcd0f28187"
      },
      "source": [
        "session.execute(\"INSERT INTO praxis.users (user_id, first_name, last_name) VALUES (4, 'Charanpreet', 'Singh');\")"
      ],
      "execution_count": null,
      "outputs": [
        {
          "output_type": "execute_result",
          "data": {
            "text/plain": [
              "<cassandra.cluster.ResultSet at 0x7f051c8e49d0>"
            ]
          },
          "metadata": {},
          "execution_count": 23
        }
      ]
    },
    {
      "cell_type": "code",
      "metadata": {
        "id": "n421ctl4YjBv",
        "colab": {
          "base_uri": "https://localhost:8080/"
        },
        "outputId": "4d7feadf-f9d2-42f0-e1a2-ba726d963bbb"
      },
      "source": [
        "rows = session.execute('SELECT * FROM users')\n",
        "for row in rows:\n",
        "        print(row.user_id,row.first_name,row.last_name)"
      ],
      "execution_count": null,
      "outputs": [
        {
          "output_type": "stream",
          "name": "stdout",
          "text": [
            "1 Prithwis Mukerjee\n",
            "2 Sanniti Chatterjee\n",
            "4 Charanpreet Singh\n",
            "3 Amrita Ghosh\n"
          ]
        }
      ]
    },
    {
      "cell_type": "code",
      "metadata": {
        "id": "4NibMU01ZDPV",
        "colab": {
          "base_uri": "https://localhost:8080/"
        },
        "outputId": "6bc4a08b-a425-4ca9-f5c0-f495224b4e75"
      },
      "source": [
        "session.execute(\"update praxis.users set first_name = 'Dr Prithwis' where user_id = 1;\")"
      ],
      "execution_count": null,
      "outputs": [
        {
          "output_type": "execute_result",
          "data": {
            "text/plain": [
              "<cassandra.cluster.ResultSet at 0x7f051c89e110>"
            ]
          },
          "metadata": {},
          "execution_count": 30
        }
      ]
    },
    {
      "cell_type": "code",
      "metadata": {
        "id": "wtTJXHrMac-E",
        "colab": {
          "base_uri": "https://localhost:8080/"
        },
        "outputId": "d81070e3-0f34-4b8e-bbf4-6b09acf184f1"
      },
      "source": [
        "rows = session.execute('SELECT * FROM users')\n",
        "for row in rows:\n",
        "        print(row.user_id,row.first_name,row.last_name)"
      ],
      "execution_count": null,
      "outputs": [
        {
          "output_type": "stream",
          "name": "stdout",
          "text": [
            "1 Dr Prithwis Mukerjee\n",
            "2 Sanniti Chatterjee\n",
            "4 Charanpreet Singh\n",
            "3 Amrita Ghosh\n"
          ]
        }
      ]
    },
    {
      "cell_type": "markdown",
      "metadata": {
        "id": "2bw1YnWi6PCa"
      },
      "source": [
        "#Tutorial from FreeCodeCamp <br>\n",
        "https://www.freecodecamp.org/news/the-apache-cassandra-beginner-tutorial/ <br>\n",
        "alternatively from this [saved file](https://github.com/Praxis-QR/BDSN/blob/main/Documents/The%20Apache%20Cassandra%20Beginner%20Tutorial.pdf)"
      ]
    },
    {
      "cell_type": "code",
      "metadata": {
        "id": "nCARKjqn7Gll"
      },
      "source": [
        "#!cqlsh -e \"CREATE KEYSPACE learn_cassandra WITH REPLICATION = { 'class' : 'NetworkTopologyStrategy','datacenter1' : 3  };\""
      ],
      "execution_count": null,
      "outputs": []
    },
    {
      "cell_type": "code",
      "metadata": {
        "id": "zQ5aHVoAPFo9"
      },
      "source": [
        "!cqlsh -e \"CREATE TABLE praxis.users_by_country \\\n",
        "(country text,\\\n",
        " user_email text,\\\n",
        " first_name text,\\\n",
        " last_name text,\\\n",
        " age smallint,\\\n",
        " PRIMARY KEY ((country), user_email));\""
      ],
      "execution_count": null,
      "outputs": []
    },
    {
      "cell_type": "code",
      "metadata": {
        "id": "lJROfypZQD8w"
      },
      "source": [
        "!cqlsh -e \"\\\n",
        "INSERT INTO praxis.users_by_country (country,user_email,first_name,last_name,age) \\\n",
        "  VALUES('US', 'john@email.com', 'John','Wick',55); \\\n",
        "\\\n",
        "INSERT INTO praxis.users_by_country (country,user_email,first_name,last_name,age)\\\n",
        "  VALUES('UK', 'peter@email.com', 'Peter','Clark',65);\\\n",
        "\\\n",
        "INSERT INTO praxis.users_by_country (country,user_email,first_name,last_name,age)\\\n",
        "  VALUES('UK', 'bob@email.com', 'Bob','Sandler',23);\\\n",
        "\\\n",
        "INSERT INTO praxis.users_by_country (country,user_email,first_name,last_name,age)\\\n",
        "  VALUES('UK', 'alice@email.com', 'Alice','Brown',26);\\\n",
        "\""
      ],
      "execution_count": null,
      "outputs": []
    },
    {
      "cell_type": "code",
      "metadata": {
        "id": "cQzBmX2UQvuo",
        "colab": {
          "base_uri": "https://localhost:8080/"
        },
        "outputId": "bac0f9ec-7794-458a-e073-53d9135ebd2f"
      },
      "source": [
        "!cqlsh -e \"SELECT * FROM praxis.users_by_country WHERE country='UK';\""
      ],
      "execution_count": null,
      "outputs": [
        {
          "output_type": "stream",
          "name": "stdout",
          "text": [
            "\n",
            " \u001b[0;1;31mcountry\u001b[0m | \u001b[0;1;36muser_email\u001b[0m      | \u001b[0;1;35mage\u001b[0m | \u001b[0;1;35mfirst_name\u001b[0m | \u001b[0;1;35mlast_name\u001b[0m\n",
            "---------+-----------------+-----+------------+-----------\n",
            "      \u001b[0;1;33mUK\u001b[0m | \u001b[0;1;33malice@email.com\u001b[0m |  \u001b[0;1;32m26\u001b[0m |      \u001b[0;1;33mAlice\u001b[0m |     \u001b[0;1;33mBrown\u001b[0m\n",
            "      \u001b[0;1;33mUK\u001b[0m |   \u001b[0;1;33mbob@email.com\u001b[0m |  \u001b[0;1;32m23\u001b[0m |        \u001b[0;1;33mBob\u001b[0m |   \u001b[0;1;33mSandler\u001b[0m\n",
            "      \u001b[0;1;33mUK\u001b[0m | \u001b[0;1;33mpeter@email.com\u001b[0m |  \u001b[0;1;32m65\u001b[0m |      \u001b[0;1;33mPeter\u001b[0m |     \u001b[0;1;33mClark\u001b[0m\n",
            "\n",
            "(3 rows)\n"
          ]
        }
      ]
    },
    {
      "cell_type": "code",
      "metadata": {
        "id": "xp0LEX5WRA-T"
      },
      "source": [
        "!cqlsh -e \"drop table praxis.users_by_email;\"\n",
        "!cqlsh -e \"CREATE TABLE praxis.users_by_email (\\\n",
        "  user_email text,\\\n",
        "  country text,\\\n",
        "  first_name text,\\\n",
        "  last_name text,\\\n",
        "  age smallint,\\\n",
        "  PRIMARY KEY (user_email));\"\n",
        "  "
      ],
      "execution_count": null,
      "outputs": []
    },
    {
      "cell_type": "code",
      "metadata": {
        "id": "7-ZP8vjMSdY3"
      },
      "source": [
        "!cqlsh -e \"INSERT INTO praxis.users_by_email (user_email, country,first_name,last_name,age)  VALUES('john@email.com', 'US', 'John','Wick',55);\"\n",
        "!cqlsh -e \"INSERT INTO praxis.users_by_email (user_email,country,first_name,last_name,age)  VALUES('peter@email.com', 'UK', 'Peter','Clark',65);\"\n",
        "!cqlsh -e \"INSERT INTO praxis.users_by_email (user_email,country,first_name,last_name,age)  VALUES('bob@email.com', 'UK', 'Bob','Sandler',23);\"\n",
        "!cqlsh -e \"INSERT INTO praxis.users_by_email (user_email,country,first_name,last_name,age)  VALUES('alice@email.com', 'UK', 'Alice','Brown',26);\""
      ],
      "execution_count": null,
      "outputs": []
    },
    {
      "cell_type": "code",
      "metadata": {
        "id": "lPR6Z6iVT7XE",
        "colab": {
          "base_uri": "https://localhost:8080/"
        },
        "outputId": "50f09159-93ad-480d-efc1-bf6578328c51"
      },
      "source": [
        "!cqlsh -e \"SELECT * FROM praxis.users_by_email WHERE user_email='alice@email.com';\""
      ],
      "execution_count": null,
      "outputs": [
        {
          "output_type": "stream",
          "name": "stdout",
          "text": [
            "\n",
            " \u001b[0;1;31muser_email\u001b[0m      | \u001b[0;1;35mage\u001b[0m | \u001b[0;1;35mcountry\u001b[0m | \u001b[0;1;35mfirst_name\u001b[0m | \u001b[0;1;35mlast_name\u001b[0m\n",
            "-----------------+-----+---------+------------+-----------\n",
            " \u001b[0;1;33malice@email.com\u001b[0m |  \u001b[0;1;32m26\u001b[0m |      \u001b[0;1;33mUK\u001b[0m |      \u001b[0;1;33mAlice\u001b[0m |     \u001b[0;1;33mBrown\u001b[0m\n",
            "\n",
            "(1 rows)\n"
          ]
        }
      ]
    },
    {
      "cell_type": "code",
      "metadata": {
        "id": "JVyzlLzLUQEr",
        "colab": {
          "base_uri": "https://localhost:8080/"
        },
        "outputId": "1d5b4065-9b75-448c-b92e-df8a0bdfd091"
      },
      "source": [
        "!cqlsh -e \"SELECT * FROM praxis.users_by_email WHERE age=26 ALLOW FILTERING;\"\n",
        "!cqlsh -e \"SELECT * FROM praxis.users_by_email WHERE age=26;\""
      ],
      "execution_count": null,
      "outputs": [
        {
          "output_type": "stream",
          "name": "stdout",
          "text": [
            "\n",
            " \u001b[0;1;31muser_email\u001b[0m      | \u001b[0;1;35mage\u001b[0m | \u001b[0;1;35mcountry\u001b[0m | \u001b[0;1;35mfirst_name\u001b[0m | \u001b[0;1;35mlast_name\u001b[0m\n",
            "-----------------+-----+---------+------------+-----------\n",
            " \u001b[0;1;33malice@email.com\u001b[0m |  \u001b[0;1;32m26\u001b[0m |      \u001b[0;1;33mUK\u001b[0m |      \u001b[0;1;33mAlice\u001b[0m |     \u001b[0;1;33mBrown\u001b[0m\n",
            "\n",
            "(1 rows)\n",
            "\u001b[0;1;31m<stdin>:1:InvalidRequest: Error from server: code=2200 [Invalid query] message=\"Cannot execute this query as it might involve data filtering and thus may have unpredictable performance. If you want to execute this query despite the performance unpredictability, use ALLOW FILTERING\"\u001b[0m\n"
          ]
        }
      ]
    },
    {
      "cell_type": "code",
      "metadata": {
        "id": "5_3yYj9E8Ov1"
      },
      "source": [
        "!cqlsh -e \"CREATE TABLE praxis.todo_by_user_email (user_email text,name text,creation_date timestamp,PRIMARY KEY ((user_email), creation_date)) WITH CLUSTERING ORDER BY (creation_date DESC) AND compaction = { 'class' :  'LeveledCompactionStrategy'};\""
      ],
      "execution_count": null,
      "outputs": []
    },
    {
      "cell_type": "code",
      "metadata": {
        "id": "tR3MW8QJ6W5S"
      },
      "source": [
        "!cqlsh -e \"\\\n",
        "CREATE TABLE praxis.todos_shared_by_target_user_email ( \\\n",
        "    target_user_email text, \\\n",
        "    source_user_email text, \\\n",
        "    creation_date timestamp, \\\n",
        "    name text, \\\n",
        "    PRIMARY KEY ((target_user_email), creation_date) \\\n",
        ") WITH CLUSTERING ORDER BY (creation_date DESC) \\\n",
        "AND compaction = { 'class' :  'LeveledCompactionStrategy'  };\""
      ],
      "execution_count": null,
      "outputs": []
    },
    {
      "cell_type": "code",
      "metadata": {
        "id": "4a8KJJPf7bsU"
      },
      "source": [
        "!cqlsh -e \"\\\n",
        "CREATE TABLE praxis.todos_shared_by_source_user_email ( \\\n",
        "    target_user_email text, \\\n",
        "    source_user_email text, \\\n",
        "    creation_date timestamp, \\\n",
        "    name text, \\\n",
        "    PRIMARY KEY ((source_user_email), creation_date) \\\n",
        ") WITH CLUSTERING ORDER BY (creation_date DESC) \\\n",
        "AND compaction = { 'class' :  'LeveledCompactionStrategy'  };\""
      ],
      "execution_count": null,
      "outputs": []
    },
    {
      "cell_type": "code",
      "metadata": {
        "id": "qng1xWiB7v0y"
      },
      "source": [
        "!cqlsh -e \"\\\n",
        "BEGIN BATCH \\\n",
        "  INSERT INTO praxis.todo_by_user_email (user_email,creation_date,name) VALUES('alice@email.com', toTimestamp(now()), 'My first todo entry') \\\n",
        "  INSERT INTO praxis.todos_shared_by_target_user_email (target_user_email, source_user_email,creation_date,name) VALUES('bob@email.com', 'alice@email.com',toTimestamp(now()), 'My first todo entry') \\\n",
        "  INSERT INTO praxis.todos_shared_by_source_user_email (target_user_email, source_user_email,creation_date,name) VALUES('alice@email.com', 'bob@email.com', toTimestamp(now()), 'My first todo entry') \\\n",
        "APPLY BATCH;\""
      ],
      "execution_count": null,
      "outputs": []
    },
    {
      "cell_type": "code",
      "metadata": {
        "id": "yTO6x2fy_8Ni",
        "colab": {
          "base_uri": "https://localhost:8080/"
        },
        "outputId": "6a813851-f297-41ba-8154-80d3017b8b46"
      },
      "source": [
        "!cqlsh -e \"SELECT * FROM praxis.todos_shared_by_target_user_email WHERE target_user_email='bob@email.com';\""
      ],
      "execution_count": null,
      "outputs": [
        {
          "output_type": "stream",
          "name": "stdout",
          "text": [
            "\n",
            " \u001b[0;1;31mtarget_user_email\u001b[0m | \u001b[0;1;36mcreation_date\u001b[0m                   | \u001b[0;1;35mname\u001b[0m                | \u001b[0;1;35msource_user_email\u001b[0m\n",
            "-------------------+---------------------------------+---------------------+-------------------\n",
            "     \u001b[0;1;33mbob@email.com\u001b[0m | \u001b[0;1;32m2021-11-27 07:10:16.640000+0000\u001b[0m | \u001b[0;1;33mMy first todo entry\u001b[0m |   \u001b[0;1;33malice@email.com\u001b[0m\n",
            "\n",
            "(1 rows)\n"
          ]
        }
      ]
    },
    {
      "cell_type": "code",
      "metadata": {
        "id": "ADIiDARRAiN9",
        "colab": {
          "base_uri": "https://localhost:8080/"
        },
        "outputId": "80b29837-b6a0-446c-d234-561963f3d288"
      },
      "source": [
        "!cqlsh -e \"SELECT * FROM praxis.todo_by_user_email WHERE user_email='alice@email.com';\""
      ],
      "execution_count": null,
      "outputs": [
        {
          "output_type": "stream",
          "name": "stdout",
          "text": [
            "\n",
            " \u001b[0;1;31muser_email\u001b[0m      | \u001b[0;1;36mcreation_date\u001b[0m                   | \u001b[0;1;35mname\u001b[0m\n",
            "-----------------+---------------------------------+---------------------\n",
            " \u001b[0;1;33malice@email.com\u001b[0m | \u001b[0;1;32m2021-11-27 07:10:16.639000+0000\u001b[0m | \u001b[0;1;33mMy first todo entry\u001b[0m\n",
            "\n",
            "(1 rows)\n"
          ]
        }
      ]
    },
    {
      "cell_type": "markdown",
      "metadata": {
        "id": "uQpkPRE2as9q"
      },
      "source": [
        "#Chronobooks <br>\n",
        "![alt text](https://1.bp.blogspot.com/-lTiYBkU2qbU/X1er__fvnkI/AAAAAAAAjtE/GhDR3OEGJr4NG43fZPodrQD5kbxtnKebgCLcBGAsYHQ/s600/Footer2020-600x200.png)<hr>\n",
        "Chronotantra and Chronoyantra are two science fiction novels that explore the collapse of human civilisation on Earth and then its rebirth and reincarnation both on Earth as well as on the distant worlds of Mars, Titan and Enceladus. But is it the human civilisation that is being reborn? Or is it some other sentience that is revealing itself. \n",
        "If you have an interest in AI and found this material useful, you may consider buying these novels, in paperback or kindle, from [http://bit.ly/chronobooks](http://bit.ly/chronobooks)"
      ]
    }
  ]
}