{
  "nbformat": 4,
  "nbformat_minor": 0,
  "metadata": {
    "colab": {
      "name": "KK C1 SparkSQL SQLContext HiveContext",
      "provenance": [],
      "collapsed_sections": [],
      "toc_visible": true,
      "include_colab_link": true
    },
    "kernelspec": {
      "name": "python3",
      "display_name": "Python 3"
    }
  },
  "cells": [
    {
      "cell_type": "markdown",
      "metadata": {
        "id": "view-in-github",
        "colab_type": "text"
      },
      "source": [
        "<a href=\"https://colab.research.google.com/github/prithwis/KKolab/blob/main/KK_C1_SparkSQL_SQLContext_HiveContext.ipynb\" target=\"_parent\"><img src=\"https://colab.research.google.com/assets/colab-badge.svg\" alt=\"Open In Colab\"/></a>"
      ]
    },
    {
      "cell_type": "markdown",
      "metadata": {
        "id": "IZHBKDKQpoih"
      },
      "source": [
        "![alt text](https://4.bp.blogspot.com/-gbL5nZDkpFQ/XScFYwoTEII/AAAAAAAAAGY/CcVb_HDLwvs2Brv5T4vSsUcz7O4r2Q79ACK4BGAYYCw/s1600/kk3-header00-beta.png)<br>\n",
        "\n",
        "\n",
        "<hr>\n",
        "\n",
        "[Prithwis Mukerjee](http://www.linkedin.com/in/prithwis)<br>"
      ]
    },
    {
      "cell_type": "markdown",
      "metadata": {
        "id": "cigqrh_QpSPu"
      },
      "source": [
        "# SPARK SQL\n",
        "If you wish to run HIVE natively under Hadoop please see this notebook [Hadoop and Hive](https://github.com/prithwis/KKolab/blob/main/KK_B2_Hadoop_and_Hive.ipynb)"
      ]
    },
    {
      "cell_type": "markdown",
      "metadata": {
        "id": "BQxaKP3-ugUs"
      },
      "source": [
        "# Install Spark"
      ]
    },
    {
      "cell_type": "code",
      "metadata": {
        "id": "9aG7A8TjulYO"
      },
      "source": [
        "!apt-get update > /dev/null\n",
        "!apt-get install openjdk-8-jdk-headless -qq > /dev/null\n",
        "#!wget -q http://apache.osuosl.org/spark/spark-2.2.2/spark-2.2.2-bin-hadoop2.7.tgz\n",
        "#!wget -q http://apache.osuosl.org/spark/spark-2.4.0/spark-2.4.0-bin-hadoop2.7.tgz\n",
        "#!wget -q http://apache.osuosl.org/spark/spark-2.4.4/spark-2.4.4-bin-hadoop2.7.tgz\n",
        "#!wget -q http://apache.osuosl.org/spark/spark-2.4.5/spark-2.4.5-bin-hadoop2.7.tgz\n",
        "#!wget -q http://apache.osuosl.org/spark/spark-3.0.1/spark-3.0.1-bin-hadoop3.2.tgz\n",
        "!wget -q http://apache.osuosl.org/spark/spark-3.1.2/spark-3.1.2-bin-hadoop3.2.tgz\n",
        "\n",
        "#\n",
        "# if the current version of Spark is not used, there may be errors\n",
        "# check here for current versions http://apache.osuosl.org/spark\n",
        "#\n",
        "#!tar xf spark-2.4.0-bin-hadoop2.7.tgz\n",
        "#!tar xf spark-2.4.4-bin-hadoop2.7.tgz\n",
        "#!tar xf spark-2.4.5-bin-hadoop2.7.tgz\n",
        "#!tar xf spark-3.0.1-bin-hadoop3.2.tgz\n",
        "!tar xf spark-3.1.2-bin-hadoop3.2.tgz\n",
        "\n"
      ],
      "execution_count": 1,
      "outputs": []
    },
    {
      "cell_type": "code",
      "metadata": {
        "colab": {
          "base_uri": "https://localhost:8080/"
        },
        "id": "fSnr5faufRKa",
        "outputId": "f6c18e17-9d68-4e89-d410-739b48bcd54b"
      },
      "source": [
        "# !pip install -q findspark  -- findspark is no more required\n",
        "!pip install -q pyspark"
      ],
      "execution_count": 4,
      "outputs": [
        {
          "output_type": "stream",
          "text": [
            "\u001b[K     |████████████████████████████████| 212.4 MB 57 kB/s \n",
            "\u001b[K     |████████████████████████████████| 198 kB 32.8 MB/s \n",
            "\u001b[?25h  Building wheel for pyspark (setup.py) ... \u001b[?25l\u001b[?25hdone\n"
          ],
          "name": "stdout"
        }
      ]
    },
    {
      "cell_type": "code",
      "metadata": {
        "id": "FejPN_KpvGke"
      },
      "source": [
        "import os\n",
        "os.environ[\"JAVA_HOME\"] = \"/usr/lib/jvm/java-8-openjdk-amd64\"\n",
        "#os.environ[\"SPARK_HOME\"] = \"/content/spark-2.4.0-bin-hadoop2.7\"\n",
        "#os.environ[\"SPARK_HOME\"] = \"/content/spark-2.4.4-bin-hadoop2.7\"\n",
        "#os.environ[\"SPARK_HOME\"] = \"/content/spark-2.4.5-bin-hadoop2.7\"\n",
        "#os.environ[\"SPARK_HOME\"] = \"/content/spark-3.0.1-bin-hadoop3.2\"\n",
        "os.environ[\"SPARK_HOME\"] = \"/content/spark-3.1.2-bin-hadoop3.2\""
      ],
      "execution_count": 2,
      "outputs": []
    },
    {
      "cell_type": "code",
      "metadata": {
        "id": "7okdoVFIvQJm"
      },
      "source": [
        "#import findspark\n",
        "#findspark.init()\n",
        "import pyspark\n",
        "from pyspark.sql import SparkSession\n",
        "spark = SparkSession.builder.master(\"local[*]\").getOrCreate()"
      ],
      "execution_count": 5,
      "outputs": []
    },
    {
      "cell_type": "code",
      "metadata": {
        "id": "w8UlrU0UDu00"
      },
      "source": [
        "sc = spark.sparkContext\n",
        "#sc"
      ],
      "execution_count": 6,
      "outputs": []
    },
    {
      "cell_type": "markdown",
      "metadata": {
        "id": "bAyLqUDFyjjQ"
      },
      "source": [
        "# Load Data"
      ]
    },
    {
      "cell_type": "code",
      "metadata": {
        "colab": {
          "base_uri": "https://localhost:8080/"
        },
        "id": "jxJ5mTuHyllU",
        "outputId": "86778e82-400d-4c13-f9aa-806c143b0cdf"
      },
      "source": [
        "# Data files downloaded from author's G-Drive\n",
        "!gdown https://drive.google.com/uc?id=1JJH24ZZaiJrEKValD--UtyFcWl7UanwV  # 2% data\n",
        "!gdown https://drive.google.com/uc?id=1g7mJ0v4fkERW0HWc1eq-SHs_jvQ0N2Oe  # 100% data"
      ],
      "execution_count": 7,
      "outputs": [
        {
          "output_type": "stream",
          "text": [
            "Downloading...\n",
            "From: https://drive.google.com/uc?id=1JJH24ZZaiJrEKValD--UtyFcWl7UanwV\n",
            "To: /content/eCommerce_02PC_2021.csv\n",
            "100% 917k/917k [00:00<00:00, 55.2MB/s]\n",
            "Downloading...\n",
            "From: https://drive.google.com/uc?id=1g7mJ0v4fkERW0HWc1eq-SHs_jvQ0N2Oe\n",
            "To: /content/eCommerce_Full_2021.csv\n",
            "45.6MB [00:00, 97.8MB/s]\n"
          ],
          "name": "stdout"
        }
      ]
    },
    {
      "cell_type": "code",
      "metadata": {
        "id": "FOLe2EvPyuya"
      },
      "source": [
        "#we remove the CRLF character from the end of the row if it exists\n",
        "#!sed 's/\\r//' /content/eCommerce_Full_2021.csv > datafile.csv\n",
        "!sed 's/\\r//' /content/eCommerce_02PC_2021.csv > datafile.csv\n",
        "#!sed -i -e \"1d\" datafile.csv               # remove the first line containing headers from the file"
      ],
      "execution_count": 8,
      "outputs": []
    },
    {
      "cell_type": "code",
      "metadata": {
        "id": "tqcZoCSe9QjY",
        "colab": {
          "base_uri": "https://localhost:8080/"
        },
        "outputId": "7f55d76c-dcbe-4325-c81a-6e21b7dd300a"
      },
      "source": [
        "data_file = 'datafile.csv'\n",
        "raw_data = sc.textFile(data_file)\n",
        "print (\"Data Size\", raw_data.count())"
      ],
      "execution_count": 9,
      "outputs": [
        {
          "output_type": "stream",
          "text": [
            "Data Size 10839\n"
          ],
          "name": "stdout"
        }
      ]
    },
    {
      "cell_type": "markdown",
      "metadata": {
        "id": "CYyko_-I1DnL"
      },
      "source": [
        "#Spark Data Frame"
      ]
    },
    {
      "cell_type": "code",
      "metadata": {
        "id": "rjnrF4hrzwbj"
      },
      "source": [
        "eCommerce_df = spark.read.csv(data_file,inferSchema=True, header=True)"
      ],
      "execution_count": 10,
      "outputs": []
    },
    {
      "cell_type": "code",
      "metadata": {
        "colab": {
          "base_uri": "https://localhost:8080/"
        },
        "id": "4a8pJFwk0F3p",
        "outputId": "2c0d01c4-be7b-4da5-f758-70eea2bb4762"
      },
      "source": [
        "eCommerce_df.printSchema()"
      ],
      "execution_count": 11,
      "outputs": [
        {
          "output_type": "stream",
          "text": [
            "root\n",
            " |-- InvoiceNo: string (nullable = true)\n",
            " |-- StockCode: string (nullable = true)\n",
            " |-- Description: string (nullable = true)\n",
            " |-- Quantity: integer (nullable = true)\n",
            " |-- InvoiceDate: string (nullable = true)\n",
            " |-- UnitPrice: double (nullable = true)\n",
            " |-- CustomerID: double (nullable = true)\n",
            " |-- Country: string (nullable = true)\n",
            "\n"
          ],
          "name": "stdout"
        }
      ]
    },
    {
      "cell_type": "code",
      "metadata": {
        "colab": {
          "base_uri": "https://localhost:8080/"
        },
        "id": "OH_nAI751nuQ",
        "outputId": "31cd5852-e8d2-4909-c6b4-e10de79525e5"
      },
      "source": [
        "eCommerce_df.select('Quantity','UnitPrice','Country').groupby(eCommerce_df.Country).count().sort('count', ascending = False).show()"
      ],
      "execution_count": 12,
      "outputs": [
        {
          "output_type": "stream",
          "text": [
            "+---------------+-----+\n",
            "|        Country|count|\n",
            "+---------------+-----+\n",
            "| United Kingdom| 9964|\n",
            "|         France|  171|\n",
            "|        Germany|  169|\n",
            "|           EIRE|  157|\n",
            "|        Belgium|   46|\n",
            "|    Netherlands|   45|\n",
            "|          Spain|   44|\n",
            "|    Switzerland|   35|\n",
            "|       Portugal|   26|\n",
            "|         Norway|   24|\n",
            "|      Australia|   18|\n",
            "|        Finland|   15|\n",
            "|          Italy|   14|\n",
            "|        Austria|   13|\n",
            "|          Japan|   12|\n",
            "|    Unspecified|   11|\n",
            "|         Cyprus|   10|\n",
            "|         Sweden|    7|\n",
            "|        Denmark|    6|\n",
            "|Channel Islands|    6|\n",
            "+---------------+-----+\n",
            "only showing top 20 rows\n",
            "\n"
          ],
          "name": "stdout"
        }
      ]
    },
    {
      "cell_type": "markdown",
      "metadata": {
        "id": "aKzL9g6-3yX9"
      },
      "source": [
        "#Spark SQL\n",
        "What is the difference between SQLContext and HiveContext? See [here](https://intellipaat.com/community/7599/what-is-the-difference-between-apache-spark-sqlcontext-vs-hivecontext#:~:text=HiveContext%20is%20a%20super%20set,read%20data%20from%20Hive%20tables.&text=The%20more%20basic%20SQLContext%20provides,does%20not%20depend%20on%20Hive.), or [here](https://stackoverflow.com/questions/33666545/what-is-the-difference-between-apache-spark-sqlcontext-vs-hivecontext)"
      ]
    },
    {
      "cell_type": "markdown",
      "metadata": {
        "id": "PoH6dh0PVquo"
      },
      "source": [
        "## Remove comma from data of CSV file"
      ]
    },
    {
      "cell_type": "code",
      "metadata": {
        "id": "G_xAU1jwTQn7"
      },
      "source": [
        "#we remove the CRLF character from the end of the row if it exists\n",
        "#!sed 's/\\r//' /content/eCommerce_Full_2021.csv > datafile.csv\n",
        "!sed 's/\\r//g' /content/eCommerce_02PC_2021.csv > datafile.csv\n",
        "# remove the first line containing headers from the file\n",
        "!sed -i -e \"1d\" datafile.csv               "
      ],
      "execution_count": 13,
      "outputs": []
    },
    {
      "cell_type": "markdown",
      "metadata": {
        "id": "hppAU6JFgXdJ"
      },
      "source": [
        "The data contains commas which causes havoc during the load process"
      ]
    },
    {
      "cell_type": "code",
      "metadata": {
        "colab": {
          "base_uri": "https://localhost:8080/"
        },
        "id": "v44TUklTTgTV",
        "outputId": "d79ca238-d604-47d8-d5ca-781613b75b65"
      },
      "source": [
        "!grep 'TROPICAL BEACH' datafile.csv"
      ],
      "execution_count": 14,
      "outputs": [
        {
          "output_type": "stream",
          "text": [
            "548196,82011A,\"BATHROOM SCALES, TROPICAL BEACH\",1,3/29/2011 15:44,3.75,16011.0,United Kingdom\n"
          ],
          "name": "stdout"
        }
      ]
    },
    {
      "cell_type": "code",
      "metadata": {
        "colab": {
          "base_uri": "https://localhost:8080/"
        },
        "id": "GbbYbUSdToEi",
        "outputId": "dc06bc20-a654-465d-f083-2aa67918e54d"
      },
      "source": [
        "!grep 'COFFEE,' datafile.csv"
      ],
      "execution_count": 15,
      "outputs": [
        {
          "output_type": "stream",
          "text": [
            "563020,21216,\"SET 3 RETROSPOT TEA,COFFEE,SUGAR\",4,8/11/2011 12:58,4.95,12428.0,Finland\n",
            "555744,85159A,\"BLACK TEA,COFFEE,SUGAR JARS\",24,6/7/2011 10:44,1.95,18072.0,United Kingdom\n",
            "539581,21216,\"SET 3 RETROSPOT TEA,COFFEE,SUGAR\",4,12/20/2010 12:51,4.95,16143.0,United Kingdom\n",
            "545715,21216,\"SET 3 RETROSPOT TEA,COFFEE,SUGAR\",2,3/7/2011 10:13,10.79,,United Kingdom\n",
            "561678,21216,\"SET 3 RETROSPOT TEA,COFFEE,SUGAR\",1,7/28/2011 18:33,4.95,17931.0,United Kingdom\n",
            "566041,21216,\"SET 3 RETROSPOT TEA,COFFEE,SUGAR\",8,9/8/2011 13:48,4.95,13814.0,Germany\n",
            "566073,21216,\"SET 3 RETROSPOT TEA,COFFEE,SUGAR\",2,9/8/2011 19:58,4.95,14562.0,United Kingdom\n",
            "568712,21216,\"SET 3 RETROSPOT TEA,COFFEE,SUGAR\",1,9/28/2011 15:50,4.95,17841.0,United Kingdom\n",
            "555327,21216,\"SET 3 RETROSPOT TEA,COFFEE,SUGAR\",2,6/2/2011 11:03,10.79,,United Kingdom\n",
            "540093,21216,\"SET 3 RETROSPOT TEA,COFFEE,SUGAR\",1,1/4/2011 15:24,4.95,16725.0,United Kingdom\n",
            "558538,21216,\"SET 3 RETROSPOT TEA,COFFEE,SUGAR\",2,6/30/2011 12:12,4.95,15005.0,United Kingdom\n",
            "539739,21216,\"SET 3 RETROSPOT TEA,COFFEE,SUGAR\",2,12/21/2010 15:19,11.02,,United Kingdom\n"
          ],
          "name": "stdout"
        }
      ]
    },
    {
      "cell_type": "code",
      "metadata": {
        "colab": {
          "base_uri": "https://localhost:8080/"
        },
        "id": "TYduM9kzUB2K",
        "outputId": "4234c4ae-688a-41cb-ee25-04511be3f702"
      },
      "source": [
        "!head datafile.csv"
      ],
      "execution_count": 16,
      "outputs": [
        {
          "output_type": "stream",
          "text": [
            "C544414,22960,JAM MAKING SET WITH JARS,-2,2/18/2011 14:54,3.75,13408.0,United Kingdom\n",
            "555276,48111,DOORMAT 3 SMILEY CATS,1,6/1/2011 17:28,15.79,,United Kingdom\n",
            "575656,22952,60 CAKE CASES VINTAGE CHRISTMAS,48,11/10/2011 14:29,0.55,13319.0,United Kingdom\n",
            "571636,20674,GREEN POLKADOT BOWL,16,10/18/2011 11:41,1.25,13509.0,United Kingdom\n",
            "576657,22556,PLASTERS IN TIN CIRCUS PARADE ,12,11/16/2011 11:03,1.65,12720.0,Germany\n",
            "569823,23298,SPOTTY BUNTING,1,10/6/2011 12:15,4.95,16895.0,United Kingdom\n",
            "570185,21090,WET/MOULDY,-192,10/7/2011 14:56,0.0,,United Kingdom\n",
            "574943,17091J,VANILLA INCENSE IN TIN,36,11/8/2011 7:52,0.38,13026.0,United Kingdom\n",
            "561902,22909,SET OF 20 VINTAGE CHRISTMAS NAPKINS,96,7/31/2011 15:50,0.85,17404.0,Sweden\n",
            "550499,22138,BAKING SET 9 PIECE RETROSPOT ,1,4/18/2011 15:16,10.79,,United Kingdom\n"
          ],
          "name": "stdout"
        }
      ]
    },
    {
      "cell_type": "markdown",
      "metadata": {
        "id": "9SFUz9L-gfaC"
      },
      "source": [
        "commas getting removed here"
      ]
    },
    {
      "cell_type": "code",
      "metadata": {
        "id": "q1BJ_Dssgqhm"
      },
      "source": [
        "import pandas as pd"
      ],
      "execution_count": 18,
      "outputs": []
    },
    {
      "cell_type": "code",
      "metadata": {
        "id": "XmNd6m29Tykj"
      },
      "source": [
        "p_df = pd.read_csv('datafile.csv',header=None)"
      ],
      "execution_count": 19,
      "outputs": []
    },
    {
      "cell_type": "code",
      "metadata": {
        "id": "htVSJiy0U2Xq"
      },
      "source": [
        "p_df2 = p_df.replace(',', ' ', regex=True)"
      ],
      "execution_count": 20,
      "outputs": []
    },
    {
      "cell_type": "code",
      "metadata": {
        "id": "9tEoZUfmVK34"
      },
      "source": [
        "p_df2.to_csv('datafile2.csv',index=False,sep=',',header=False)"
      ],
      "execution_count": 21,
      "outputs": []
    },
    {
      "cell_type": "code",
      "metadata": {
        "colab": {
          "base_uri": "https://localhost:8080/"
        },
        "id": "rfqD34CIVXkd",
        "outputId": "01e1bc2c-5d4e-410c-82d4-fb0be2d4f076"
      },
      "source": [
        "!grep 'TROPICAL BEACH' datafile2.csv"
      ],
      "execution_count": 22,
      "outputs": [
        {
          "output_type": "stream",
          "text": [
            "548196,82011A,BATHROOM SCALES  TROPICAL BEACH,1,3/29/2011 15:44,3.75,16011.0,United Kingdom\n"
          ],
          "name": "stdout"
        }
      ]
    },
    {
      "cell_type": "code",
      "metadata": {
        "id": "0lVKummHVgQj"
      },
      "source": [
        "#!grep 'COFFEE' datafile2.csv"
      ],
      "execution_count": null,
      "outputs": []
    },
    {
      "cell_type": "markdown",
      "metadata": {
        "id": "_llYjVnHYQFO"
      },
      "source": [
        "##SQL Context"
      ]
    },
    {
      "cell_type": "code",
      "metadata": {
        "id": "xWLZFQRs3EQ6"
      },
      "source": [
        "from pyspark.sql import SQLContext\n",
        "from pyspark.sql import Row\n",
        "\n",
        "sqlContext = SQLContext(sc)"
      ],
      "execution_count": 23,
      "outputs": []
    },
    {
      "cell_type": "code",
      "metadata": {
        "id": "GsTXCKQ74VyI"
      },
      "source": [
        "data_file = \"datafile2.csv\"\n",
        "raw_data = sc.textFile(data_file)\n",
        "csv_data = raw_data.map(lambda l: l.split(\",\"))"
      ],
      "execution_count": 24,
      "outputs": []
    },
    {
      "cell_type": "code",
      "metadata": {
        "colab": {
          "base_uri": "https://localhost:8080/"
        },
        "id": "YRCOwHRh5_aM",
        "outputId": "346d0b47-a7f9-4471-ae2a-34ad80d1bc62"
      },
      "source": [
        "csv_data.take(2)"
      ],
      "execution_count": 25,
      "outputs": [
        {
          "output_type": "execute_result",
          "data": {
            "text/plain": [
              "[['C544414',\n",
              "  '22960',\n",
              "  'JAM MAKING SET WITH JARS',\n",
              "  '-2',\n",
              "  '2/18/2011 14:54',\n",
              "  '3.75',\n",
              "  '13408.0',\n",
              "  'United Kingdom'],\n",
              " ['555276',\n",
              "  '48111',\n",
              "  'DOORMAT 3 SMILEY CATS',\n",
              "  '1',\n",
              "  '6/1/2011 17:28',\n",
              "  '15.79',\n",
              "  '',\n",
              "  'United Kingdom']]"
            ]
          },
          "metadata": {},
          "execution_count": 25
        }
      ]
    },
    {
      "cell_type": "code",
      "metadata": {
        "id": "SsggPKar4kWa"
      },
      "source": [
        "row_data = csv_data.map(lambda p: Row(\n",
        "    InvoiceNo=p[0], \n",
        "    StockCode=p[1],\n",
        "    Description=p[2],\n",
        "    Quantity=int(p[3]),\n",
        "    InvoiceDate=p[4],\n",
        "    UnitPrice=float(p[5]),\n",
        "    CustomerID=p[6],\n",
        "    Country=p[7]\n",
        "    )\n",
        ")"
      ],
      "execution_count": 26,
      "outputs": []
    },
    {
      "cell_type": "code",
      "metadata": {
        "colab": {
          "base_uri": "https://localhost:8080/"
        },
        "id": "A_AK-Uu-5ulT",
        "outputId": "30999baf-eaac-4622-d51a-3d5d82974dc7"
      },
      "source": [
        "row_data.take(2)"
      ],
      "execution_count": 27,
      "outputs": [
        {
          "output_type": "execute_result",
          "data": {
            "text/plain": [
              "[Row(InvoiceNo='C544414', StockCode='22960', Description='JAM MAKING SET WITH JARS', Quantity=-2, InvoiceDate='2/18/2011 14:54', UnitPrice=3.75, CustomerID='13408.0', Country='United Kingdom'),\n",
              " Row(InvoiceNo='555276', StockCode='48111', Description='DOORMAT 3 SMILEY CATS', Quantity=1, InvoiceDate='6/1/2011 17:28', UnitPrice=15.79, CustomerID='', Country='United Kingdom')]"
            ]
          },
          "metadata": {},
          "execution_count": 27
        }
      ]
    },
    {
      "cell_type": "code",
      "metadata": {
        "id": "jXMc_yIV89IE"
      },
      "source": [
        "eCommerce2_df = sqlContext.createDataFrame(row_data)\n",
        "eCommerce2_df.registerTempTable(\"eCommerce\")"
      ],
      "execution_count": 28,
      "outputs": []
    },
    {
      "cell_type": "code",
      "metadata": {
        "colab": {
          "base_uri": "https://localhost:8080/"
        },
        "id": "1Q39dzGqGdTb",
        "outputId": "e3fa46c9-cc87-4805-c060-3a388da26f1b"
      },
      "source": [
        "Countries = sqlContext.sql(\"SELECT * FROM eCommerce limit 20\")\n",
        "Countries.show()"
      ],
      "execution_count": 29,
      "outputs": [
        {
          "output_type": "stream",
          "text": [
            "+---------+---------+--------------------+--------+----------------+---------+----------+--------------+\n",
            "|InvoiceNo|StockCode|         Description|Quantity|     InvoiceDate|UnitPrice|CustomerID|       Country|\n",
            "+---------+---------+--------------------+--------+----------------+---------+----------+--------------+\n",
            "|  C544414|    22960|JAM MAKING SET WI...|      -2| 2/18/2011 14:54|     3.75|   13408.0|United Kingdom|\n",
            "|   555276|    48111|DOORMAT 3 SMILEY ...|       1|  6/1/2011 17:28|    15.79|          |United Kingdom|\n",
            "|   575656|    22952|60 CAKE CASES VIN...|      48|11/10/2011 14:29|     0.55|   13319.0|United Kingdom|\n",
            "|   571636|    20674| GREEN POLKADOT BOWL|      16|10/18/2011 11:41|     1.25|   13509.0|United Kingdom|\n",
            "|   576657|    22556|PLASTERS IN TIN C...|      12|11/16/2011 11:03|     1.65|   12720.0|       Germany|\n",
            "|   569823|    23298|      SPOTTY BUNTING|       1| 10/6/2011 12:15|     4.95|   16895.0|United Kingdom|\n",
            "|   570185|    21090|          WET/MOULDY|    -192| 10/7/2011 14:56|      0.0|          |United Kingdom|\n",
            "|   574943|   17091J|VANILLA INCENSE I...|      36|  11/8/2011 7:52|     0.38|   13026.0|United Kingdom|\n",
            "|   561902|    22909|SET OF 20 VINTAGE...|      96| 7/31/2011 15:50|     0.85|   17404.0|        Sweden|\n",
            "|   550499|    22138|BAKING SET 9 PIEC...|       1| 4/18/2011 15:16|    10.79|          |United Kingdom|\n",
            "|   539112|    22795|SWEETHEART RECIPE...|       4|12/16/2010 11:15|     6.75|   13468.0|United Kingdom|\n",
            "|   569900|    22578|WOODEN STAR CHRIS...|      24| 10/6/2011 16:17|     0.29|   17651.0|United Kingdom|\n",
            "|   541260|    22962|JAM JAR WITH PINK...|       1| 1/16/2011 15:44|     0.85|   16059.0|United Kingdom|\n",
            "|   573748|    23530|WALL ART ONLY ONE...|       6|  11/1/2011 9:24|     4.95|   14911.0|          EIRE|\n",
            "|   574629|    22383|LUNCH BAG SUKI DE...|       1| 11/6/2011 11:21|     1.65|   16326.0|United Kingdom|\n",
            "|   551340|    22501|PICNIC BASKET WIC...|       1| 4/27/2011 17:23|    20.79|          |United Kingdom|\n",
            "|   549573|   90003D|CRYSTAL PAIR HEAR...|       2| 4/10/2011 16:01|     3.75|   14504.0|United Kingdom|\n",
            "|   573507|    23252|VINTAGE RED ENAME...|       4|10/31/2011 12:11|     3.75|   13651.0|United Kingdom|\n",
            "|  C559189|    22028|PENNY FARTHING BI...|     -12|  7/7/2011 10:25|     0.42|   12626.0|       Germany|\n",
            "|   539044|    22659|LUNCH BOX I LOVE ...|       4|12/15/2010 15:47|     1.95|   15727.0|United Kingdom|\n",
            "+---------+---------+--------------------+--------+----------------+---------+----------+--------------+\n",
            "\n"
          ],
          "name": "stdout"
        }
      ]
    },
    {
      "cell_type": "code",
      "metadata": {
        "colab": {
          "base_uri": "https://localhost:8080/"
        },
        "id": "BYcC-W_AHGPq",
        "outputId": "6583d40c-d122-43dc-f1e6-4cfff63ea2bb"
      },
      "source": [
        "Countries = sqlContext.sql(\"SELECT sum(Quantity), sum(UnitPrice), Country from eCommerce group by Country order by sum(Quantity) desc\")\n",
        "Countries.show()"
      ],
      "execution_count": 30,
      "outputs": [
        {
          "output_type": "stream",
          "text": [
            "+-------------+------------------+---------------+\n",
            "|sum(Quantity)|    sum(UnitPrice)|        Country|\n",
            "+-------------+------------------+---------------+\n",
            "|        88067| 44191.70000000067| United Kingdom|\n",
            "|         3762|             86.12|    Netherlands|\n",
            "|         2725| 525.6800000000001|         France|\n",
            "|         2266| 680.6699999999995|           EIRE|\n",
            "|         1758| 567.3799999999997|        Germany|\n",
            "|         1567| 54.92999999999999|      Australia|\n",
            "|          735|28.759999999999998|          Japan|\n",
            "|          520|179.85000000000005|        Belgium|\n",
            "|          405|143.37000000000003|    Switzerland|\n",
            "|          385|             49.47|         Sweden|\n",
            "|          362|            135.62|          Spain|\n",
            "|          319|            106.17|         Norway|\n",
            "|          181|            471.33|       Portugal|\n",
            "|          179|             75.02|        Finland|\n",
            "|          144|              40.9|      Hong Kong|\n",
            "|          127|           2065.98|      Singapore|\n",
            "|          118|             12.84|        Denmark|\n",
            "|          115|             19.14|Channel Islands|\n",
            "|          107|             40.39|    Unspecified|\n",
            "|          101|             48.25|          Italy|\n",
            "+-------------+------------------+---------------+\n",
            "only showing top 20 rows\n",
            "\n"
          ],
          "name": "stdout"
        }
      ]
    },
    {
      "cell_type": "markdown",
      "metadata": {
        "id": "8_kpHzaLWQaM"
      },
      "source": [
        "## HIVE context\n",
        "this part adapted from [this notebook](https://colab.research.google.com/github/jmbanda/BigDataProgramming_2019/blob/master/Chapter_5_Loading_and_Saving_Data_in_Spark.ipynb#scrollTo=lOcCViaN4cwC)"
      ]
    },
    {
      "cell_type": "code",
      "metadata": {
        "id": "7lvUDuvxXIS_"
      },
      "source": [
        "from pyspark.sql import Row\n",
        "from pyspark.sql import HiveContext\n",
        "sqlContext = HiveContext(sc)"
      ],
      "execution_count": 31,
      "outputs": []
    },
    {
      "cell_type": "code",
      "metadata": {
        "id": "lREqO3IbZZ_v"
      },
      "source": [
        "data_file = \"datafile2.csv\"\n",
        "raw_data = sc.textFile(data_file)\n",
        "csv_data = raw_data.map(lambda l: l.split(\",\"))"
      ],
      "execution_count": 32,
      "outputs": []
    },
    {
      "cell_type": "code",
      "metadata": {
        "id": "WTGNC9WYZjUd"
      },
      "source": [
        "row_data = csv_data.map(lambda p: Row(\n",
        "    InvoiceNo=p[0], \n",
        "    StockCode=p[1],\n",
        "    Description=p[2],\n",
        "    Quantity=int(p[3]),\n",
        "    InvoiceDate=p[4],\n",
        "    UnitPrice=float(p[5]),\n",
        "    CustomerID=p[6],\n",
        "    Country=p[7]\n",
        "    )\n",
        ")"
      ],
      "execution_count": 33,
      "outputs": []
    },
    {
      "cell_type": "code",
      "metadata": {
        "colab": {
          "base_uri": "https://localhost:8080/"
        },
        "id": "4fHtrrNCaKEw",
        "outputId": "51001652-9f66-4df3-842d-61812febcdb7"
      },
      "source": [
        "ec_schema = sqlContext.createDataFrame(row_data)\n",
        "# Register it as a temp table\n",
        "sqlContext.registerDataFrameAsTable(ec_schema, \"ec_HiveTable\")\n",
        "sqlContext.sql(\"show tables\").show()"
      ],
      "execution_count": 34,
      "outputs": [
        {
          "output_type": "stream",
          "text": [
            "+--------+------------+-----------+\n",
            "|database|   tableName|isTemporary|\n",
            "+--------+------------+-----------+\n",
            "|        |ec_hivetable|       true|\n",
            "|        |   ecommerce|       true|\n",
            "+--------+------------+-----------+\n",
            "\n"
          ],
          "name": "stdout"
        }
      ]
    },
    {
      "cell_type": "code",
      "metadata": {
        "colab": {
          "base_uri": "https://localhost:8080/"
        },
        "id": "s6dlcHIlarnF",
        "outputId": "40113fd9-0213-49ad-be20-3531ab9fb08c"
      },
      "source": [
        "Countries = sqlContext.sql(\"SELECT * FROM ec_HiveTable limit 20\")\n",
        "Countries.show()"
      ],
      "execution_count": 35,
      "outputs": [
        {
          "output_type": "stream",
          "text": [
            "+---------+---------+--------------------+--------+----------------+---------+----------+--------------+\n",
            "|InvoiceNo|StockCode|         Description|Quantity|     InvoiceDate|UnitPrice|CustomerID|       Country|\n",
            "+---------+---------+--------------------+--------+----------------+---------+----------+--------------+\n",
            "|  C544414|    22960|JAM MAKING SET WI...|      -2| 2/18/2011 14:54|     3.75|   13408.0|United Kingdom|\n",
            "|   555276|    48111|DOORMAT 3 SMILEY ...|       1|  6/1/2011 17:28|    15.79|          |United Kingdom|\n",
            "|   575656|    22952|60 CAKE CASES VIN...|      48|11/10/2011 14:29|     0.55|   13319.0|United Kingdom|\n",
            "|   571636|    20674| GREEN POLKADOT BOWL|      16|10/18/2011 11:41|     1.25|   13509.0|United Kingdom|\n",
            "|   576657|    22556|PLASTERS IN TIN C...|      12|11/16/2011 11:03|     1.65|   12720.0|       Germany|\n",
            "|   569823|    23298|      SPOTTY BUNTING|       1| 10/6/2011 12:15|     4.95|   16895.0|United Kingdom|\n",
            "|   570185|    21090|          WET/MOULDY|    -192| 10/7/2011 14:56|      0.0|          |United Kingdom|\n",
            "|   574943|   17091J|VANILLA INCENSE I...|      36|  11/8/2011 7:52|     0.38|   13026.0|United Kingdom|\n",
            "|   561902|    22909|SET OF 20 VINTAGE...|      96| 7/31/2011 15:50|     0.85|   17404.0|        Sweden|\n",
            "|   550499|    22138|BAKING SET 9 PIEC...|       1| 4/18/2011 15:16|    10.79|          |United Kingdom|\n",
            "|   539112|    22795|SWEETHEART RECIPE...|       4|12/16/2010 11:15|     6.75|   13468.0|United Kingdom|\n",
            "|   569900|    22578|WOODEN STAR CHRIS...|      24| 10/6/2011 16:17|     0.29|   17651.0|United Kingdom|\n",
            "|   541260|    22962|JAM JAR WITH PINK...|       1| 1/16/2011 15:44|     0.85|   16059.0|United Kingdom|\n",
            "|   573748|    23530|WALL ART ONLY ONE...|       6|  11/1/2011 9:24|     4.95|   14911.0|          EIRE|\n",
            "|   574629|    22383|LUNCH BAG SUKI DE...|       1| 11/6/2011 11:21|     1.65|   16326.0|United Kingdom|\n",
            "|   551340|    22501|PICNIC BASKET WIC...|       1| 4/27/2011 17:23|    20.79|          |United Kingdom|\n",
            "|   549573|   90003D|CRYSTAL PAIR HEAR...|       2| 4/10/2011 16:01|     3.75|   14504.0|United Kingdom|\n",
            "|   573507|    23252|VINTAGE RED ENAME...|       4|10/31/2011 12:11|     3.75|   13651.0|United Kingdom|\n",
            "|  C559189|    22028|PENNY FARTHING BI...|     -12|  7/7/2011 10:25|     0.42|   12626.0|       Germany|\n",
            "|   539044|    22659|LUNCH BOX I LOVE ...|       4|12/15/2010 15:47|     1.95|   15727.0|United Kingdom|\n",
            "+---------+---------+--------------------+--------+----------------+---------+----------+--------------+\n",
            "\n"
          ],
          "name": "stdout"
        }
      ]
    },
    {
      "cell_type": "code",
      "metadata": {
        "colab": {
          "base_uri": "https://localhost:8080/"
        },
        "id": "6tjq0NMXa3HK",
        "outputId": "943fa5e2-4c81-42fb-c725-042233d0efcc"
      },
      "source": [
        "Countries = sqlContext.sql(\"SELECT sum(Quantity), sum(UnitPrice), Country from eCommerce group by Country order by sum(Quantity) desc\")\n",
        "Countries.show()"
      ],
      "execution_count": 36,
      "outputs": [
        {
          "output_type": "stream",
          "text": [
            "+-------------+------------------+---------------+\n",
            "|sum(Quantity)|    sum(UnitPrice)|        Country|\n",
            "+-------------+------------------+---------------+\n",
            "|        88067| 44191.70000000067| United Kingdom|\n",
            "|         3762|             86.12|    Netherlands|\n",
            "|         2725| 525.6800000000001|         France|\n",
            "|         2266| 680.6699999999995|           EIRE|\n",
            "|         1758| 567.3799999999997|        Germany|\n",
            "|         1567| 54.92999999999999|      Australia|\n",
            "|          735|28.759999999999998|          Japan|\n",
            "|          520|179.85000000000005|        Belgium|\n",
            "|          405|143.37000000000003|    Switzerland|\n",
            "|          385|             49.47|         Sweden|\n",
            "|          362|            135.62|          Spain|\n",
            "|          319|            106.17|         Norway|\n",
            "|          181|            471.33|       Portugal|\n",
            "|          179|             75.02|        Finland|\n",
            "|          144|              40.9|      Hong Kong|\n",
            "|          127|           2065.98|      Singapore|\n",
            "|          118|             12.84|        Denmark|\n",
            "|          115|             19.14|Channel Islands|\n",
            "|          107|             40.39|    Unspecified|\n",
            "|          101|             48.25|          Italy|\n",
            "+-------------+------------------+---------------+\n",
            "only showing top 20 rows\n",
            "\n"
          ],
          "name": "stdout"
        }
      ]
    },
    {
      "cell_type": "markdown",
      "metadata": {
        "id": "XgNM5tawg0Ap"
      },
      "source": [
        "#Chronobooks <br>\n",
        "![alt text](https://1.bp.blogspot.com/-lTiYBkU2qbU/X1er__fvnkI/AAAAAAAAjtE/GhDR3OEGJr4NG43fZPodrQD5kbxtnKebgCLcBGAsYHQ/s600/Footer2020-600x200.png)<hr>\n",
        "Chronotantra and Chronoyantra are two science fiction novels that explore the collapse of human civilisation on Earth and then its rebirth and reincarnation both on Earth as well as on the distant worlds of Mars, Titan and Enceladus. But is it the human civilisation that is being reborn? Or is it some other sentience that is revealing itself. \n",
        "If you have an interest in AI and found this material useful, you may consider buying these novels, in paperback or kindle, from [http://bit.ly/chronobooks](http://bit.ly/chronobooks)"
      ]
    }
  ]
}