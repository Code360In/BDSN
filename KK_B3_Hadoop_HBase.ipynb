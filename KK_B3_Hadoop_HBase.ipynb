{
  "nbformat": 4,
  "nbformat_minor": 0,
  "metadata": {
    "colab": {
      "name": "KK B3 Hadoop HBase",
      "provenance": [],
      "toc_visible": true,
      "authorship_tag": "ABX9TyMj3Ss0VeCt5XQGMQaWDGLf",
      "include_colab_link": true
    },
    "kernelspec": {
      "name": "python3",
      "display_name": "Python 3"
    },
    "language_info": {
      "name": "python"
    }
  },
  "cells": [
    {
      "cell_type": "markdown",
      "metadata": {
        "id": "view-in-github",
        "colab_type": "text"
      },
      "source": [
        "<a href=\"https://colab.research.google.com/github/Praxis-QR/BDSN/blob/main/KK_B3_Hadoop_HBase.ipynb\" target=\"_parent\"><img src=\"https://colab.research.google.com/assets/colab-badge.svg\" alt=\"Open In Colab\"/></a>"
      ]
    },
    {
      "cell_type": "markdown",
      "metadata": {
        "id": "XafE9O3pAmkC"
      },
      "source": [
        "![alt text](https://4.bp.blogspot.com/-gbL5nZDkpFQ/XScFYwoTEII/AAAAAAAAAGY/CcVb_HDLwvs2Brv5T4vSsUcz7O4r2Q79ACK4BGAYYCw/s1600/kk3-header00-beta.png)<br>\n",
        "\n",
        "\n",
        "<hr>\n",
        "\n",
        "[Prithwis Mukerjee](http://www.linkedin.com/in/prithwis)<br>"
      ]
    },
    {
      "cell_type": "markdown",
      "metadata": {
        "id": "GyYTQEpb1htS"
      },
      "source": [
        "#Hadoop \n",
        "Install and Test"
      ]
    },
    {
      "cell_type": "code",
      "metadata": {
        "id": "_r0IOmlc0-Dt"
      },
      "source": [
        "# The default JVM available at /usr/lib/jvm/java-11-openjdk-amd64/  works for Hadoop\n",
        "# But gives errors with Hive https://stackoverflow.com/questions/54037773/hive-exception-class-jdk-internal-loader-classloadersappclassloader-cannot\n",
        "# Hence this JVM needs to be installed\n",
        "!apt-get update > /dev/null\n",
        "!apt-get install openjdk-8-jdk-headless -qq > /dev/null"
      ],
      "execution_count": 1,
      "outputs": []
    },
    {
      "cell_type": "code",
      "metadata": {
        "colab": {
          "base_uri": "https://localhost:8080/"
        },
        "id": "NWspfH6A1a4P",
        "outputId": "3a0c6495-49cf-4e69-e682-dce74741e282"
      },
      "source": [
        "# Download the latest version of Hadoop\n",
        "!wget https://downloads.apache.org/hadoop/common/hadoop-3.3.0/hadoop-3.3.0.tar.gz\n",
        "# Unzip it\n",
        "# the tar command with the -x flag to extract, -z to uncompress, -v for verbose output, and -f to specify that we’re extracting from a file\n",
        "!tar -xzf hadoop-3.3.0.tar.gz\n",
        "#copy  hadoop file to user/local\n",
        "!mv  hadoop-3.3.0/ /usr/local/"
      ],
      "execution_count": 2,
      "outputs": [
        {
          "output_type": "stream",
          "name": "stdout",
          "text": [
            "--2022-01-14 03:58:30--  https://downloads.apache.org/hadoop/common/hadoop-3.3.0/hadoop-3.3.0.tar.gz\n",
            "Resolving downloads.apache.org (downloads.apache.org)... 88.99.95.219, 135.181.214.104, 2a01:4f8:10a:201a::2, ...\n",
            "Connecting to downloads.apache.org (downloads.apache.org)|88.99.95.219|:443... connected.\n",
            "HTTP request sent, awaiting response... 200 OK\n",
            "Length: 500749234 (478M) [application/x-gzip]\n",
            "Saving to: ‘hadoop-3.3.0.tar.gz’\n",
            "\n",
            "hadoop-3.3.0.tar.gz 100%[===================>] 477.55M  23.1MB/s    in 21s     \n",
            "\n",
            "2022-01-14 03:58:52 (22.8 MB/s) - ‘hadoop-3.3.0.tar.gz’ saved [500749234/500749234]\n",
            "\n"
          ]
        }
      ]
    },
    {
      "cell_type": "code",
      "metadata": {
        "colab": {
          "base_uri": "https://localhost:8080/"
        },
        "id": "24QjQ22V1swJ",
        "outputId": "d25a5db3-f762-4f4b-fafd-1e0fd6e431f0"
      },
      "source": [
        "#To find the default Java path\n",
        "!readlink -f /usr/bin/java | sed \"s:bin/java::\"\n",
        "!ls /usr/lib/jvm/"
      ],
      "execution_count": 3,
      "outputs": [
        {
          "output_type": "stream",
          "name": "stdout",
          "text": [
            "/usr/lib/jvm/java-11-openjdk-amd64/\n",
            "default-java\t\t   java-11-openjdk-amd64     java-8-openjdk-amd64\n",
            "java-1.11.0-openjdk-amd64  java-1.8.0-openjdk-amd64\n"
          ]
        }
      ]
    },
    {
      "cell_type": "markdown",
      "metadata": {
        "id": "Ugibq3m1CbgC"
      },
      "source": [
        "## Set Hadoop Environment"
      ]
    },
    {
      "cell_type": "code",
      "metadata": {
        "id": "1j7WFh5k18E1"
      },
      "source": [
        "#To set java path, go to /usr/local/hadoop-3.3.0/etc/hadoop/hadoop-env.sh then\n",
        "#. . . export JAVA_HOME=/usr/lib/jvm/java-11-openjdk-amd64/ . . .\n",
        "#we have used a simpler alternative route using os.environ - it works\n",
        "\n",
        "import os\n",
        "os.environ[\"JAVA_HOME\"] = \"/usr/lib/jvm/java-8-openjdk-amd64\"   # default is changed\n",
        "#os.environ[\"JAVA_HOME\"] = \"/usr/lib/jvm/java-11-openjdk-amd64/\"\n",
        "os.environ[\"HADOOP_HOME\"] = \"/usr/local/hadoop-3.3.0/\""
      ],
      "execution_count": 4,
      "outputs": []
    },
    {
      "cell_type": "code",
      "metadata": {
        "colab": {
          "base_uri": "https://localhost:8080/"
        },
        "id": "DevjcjSF2ltL",
        "outputId": "dd4f3db6-544f-49dc-b2cc-ea3da10fa9d2"
      },
      "source": [
        "# Get the value of current_path\n",
        "!echo $PATH"
      ],
      "execution_count": 5,
      "outputs": [
        {
          "output_type": "stream",
          "name": "stdout",
          "text": [
            "/usr/local/nvidia/bin:/usr/local/cuda/bin:/usr/local/sbin:/usr/local/bin:/usr/sbin:/usr/bin:/sbin:/bin:/tools/node/bin:/tools/google-cloud-sdk/bin:/opt/bin\n"
          ]
        }
      ]
    },
    {
      "cell_type": "code",
      "metadata": {
        "id": "NaaMpfVP2p3m"
      },
      "source": [
        "# Add Hadoop BIN to PATH\n",
        "# current_path taken from last command\n",
        "current_path = '/usr/local/nvidia/bin:/usr/local/cuda/bin:/usr/local/sbin:/usr/local/bin:/usr/sbin:/usr/bin:/sbin:/bin:/tools/node/bin:/tools/google-cloud-sdk/bin:/opt/bin'\n",
        "new_path = current_path+':/usr/local/hadoop-3.3.0/bin/'\n",
        "os.environ[\"PATH\"] = new_path"
      ],
      "execution_count": 6,
      "outputs": []
    },
    {
      "cell_type": "code",
      "metadata": {
        "id": "ZD34gT3y2u-D"
      },
      "source": [
        "# Testing Hadoop with PI generating sample program, should calculate value of pi = 3.14157500000000000000\n",
        "# pi example\n",
        "#Uncomment the following line if  you want to test Hadoop with pi example\n",
        "#!hadoop jar /usr/local/hadoop-3.3.0/share/hadoop/mapreduce/hadoop-mapreduce-examples-3.3.0.jar pi 16 100000"
      ],
      "execution_count": null,
      "outputs": []
    },
    {
      "cell_type": "markdown",
      "metadata": {
        "id": "zHwLU0Uo3tLo"
      },
      "source": [
        "#Install HBase"
      ]
    },
    {
      "cell_type": "code",
      "metadata": {
        "colab": {
          "base_uri": "https://localhost:8080/"
        },
        "id": "bODP1xaM3vEB",
        "outputId": "84ec0354-fe53-4db8-9315-82163f6344ad"
      },
      "source": [
        "# Get the latest HBase download site from here https://www.apache.org/dyn/closer.lua/hbase/\n",
        "# or even better check here for latest downloads >>> https://downloads.apache.org/hbase/\n",
        "#!wget https://mirrors.estointernet.in/apache/hbase/2.4.5/hbase-2.4.5-bin.tar.gz\n",
        "#!wget https://mirrors.estointernet.in/apache/hbase/2.4.8/hbase-2.4.8-bin.tar.gz\n",
        "!wget https://downloads.apache.org/hbase/2.4.9/hbase-2.4.9-bin.tar.gz\n",
        "#!tar xzf hbase-2.4.5-bin.tar.gz\n",
        "#!tar xzf hbase-2.4.8-bin.tar.gz\n",
        "!tar xzf hbase-2.4.9-bin.tar.gz"
      ],
      "execution_count": 9,
      "outputs": [
        {
          "output_type": "stream",
          "name": "stdout",
          "text": [
            "--2022-01-14 04:05:03--  https://downloads.apache.org/hbase/2.4.9/hbase-2.4.9-bin.tar.gz\n",
            "Resolving downloads.apache.org (downloads.apache.org)... 88.99.95.219, 135.181.214.104, 2a01:4f8:10a:201a::2, ...\n",
            "Connecting to downloads.apache.org (downloads.apache.org)|88.99.95.219|:443... connected.\n",
            "HTTP request sent, awaiting response... 200 OK\n",
            "Length: 283496242 (270M) [application/x-gzip]\n",
            "Saving to: ‘hbase-2.4.9-bin.tar.gz’\n",
            "\n",
            "hbase-2.4.9-bin.tar 100%[===================>] 270.36M  24.6MB/s    in 12s     \n",
            "\n",
            "2022-01-14 04:05:15 (22.3 MB/s) - ‘hbase-2.4.9-bin.tar.gz’ saved [283496242/283496242]\n",
            "\n"
          ]
        }
      ]
    },
    {
      "cell_type": "markdown",
      "metadata": {
        "id": "kaMtyNOVCiMS"
      },
      "source": [
        "## Set HBase Environment"
      ]
    },
    {
      "cell_type": "code",
      "metadata": {
        "colab": {
          "base_uri": "https://localhost:8080/"
        },
        "id": "p4dc0K7h4f-y",
        "outputId": "bf85841e-f0e9-4ede-b398-6ca6273ccdb5"
      },
      "source": [
        "#os.environ[\"HIVE_HOME\"] = \"/content/apache-hive-3.1.2-bin\"\n",
        "#!echo $HIVE_HOME\n",
        "#os.environ[\"HBASE_HOME\"] = \"/content/hbase-2.4.5/\"\n",
        "#os.environ[\"HBASE_HOME\"] = \"/content/hbase-2.4.8/\"\n",
        "os.environ[\"HBASE_HOME\"] = \"/content/hbase-2.4.9/\"\n",
        "!echo $HBASE_HOME"
      ],
      "execution_count": 10,
      "outputs": [
        {
          "output_type": "stream",
          "name": "stdout",
          "text": [
            "/content/hbase-2.4.9/\n"
          ]
        }
      ]
    },
    {
      "cell_type": "code",
      "metadata": {
        "colab": {
          "base_uri": "https://localhost:8080/"
        },
        "id": "LrLGC7ln5Wwx",
        "outputId": "6d0c709b-a118-4722-8700-fe3b734b36f1"
      },
      "source": [
        "!echo $PATH"
      ],
      "execution_count": 11,
      "outputs": [
        {
          "output_type": "stream",
          "name": "stdout",
          "text": [
            "/usr/local/nvidia/bin:/usr/local/cuda/bin:/usr/local/sbin:/usr/local/bin:/usr/sbin:/usr/bin:/sbin:/bin:/tools/node/bin:/tools/google-cloud-sdk/bin:/opt/bin:/usr/local/hadoop-3.3.0/bin/\n"
          ]
        }
      ]
    },
    {
      "cell_type": "code",
      "metadata": {
        "colab": {
          "base_uri": "https://localhost:8080/"
        },
        "id": "DqXZ_kF65VXK",
        "outputId": "10cecc19-6f03-4de2-a65c-b3fb11bab5c4"
      },
      "source": [
        "# current_path taken from command in previous cell\n",
        "current_path = '/usr/local/nvidia/bin:/usr/local/cuda/bin:/usr/local/sbin:/usr/local/bin:/usr/sbin:/usr/bin:/sbin:/bin:/tools/node/bin:/tools/google-cloud-sdk/bin:/opt/bin:/usr/local/hadoop-3.3.0/bin/'\n",
        "#new_path = current_path+':/content/hbase-2.4.5/bin'\n",
        "#new_path = current_path+':/content/hbase-2.4.8/bin'\n",
        "new_path = current_path+':/content/hbase-2.4.9/bin'\n",
        "os.environ[\"PATH\"] = new_path\n",
        "!echo $PATH"
      ],
      "execution_count": 12,
      "outputs": [
        {
          "output_type": "stream",
          "name": "stdout",
          "text": [
            "/usr/local/nvidia/bin:/usr/local/cuda/bin:/usr/local/sbin:/usr/local/bin:/usr/sbin:/usr/bin:/sbin:/bin:/tools/node/bin:/tools/google-cloud-sdk/bin:/opt/bin:/usr/local/hadoop-3.3.0/bin/:/content/hbase-2.4.9/bin\n"
          ]
        }
      ]
    },
    {
      "cell_type": "code",
      "metadata": {
        "colab": {
          "base_uri": "https://localhost:8080/"
        },
        "id": "ZrS6BL5k51Bl",
        "outputId": "abbd6907-c3cd-4756-e72b-1473c7aca4a8"
      },
      "source": [
        "!echo $JAVA_HOME\n",
        "!echo $HADOOP_HOME\n",
        "!echo $HBASE_HOME"
      ],
      "execution_count": 13,
      "outputs": [
        {
          "output_type": "stream",
          "name": "stdout",
          "text": [
            "/usr/lib/jvm/java-8-openjdk-amd64\n",
            "/usr/local/hadoop-3.3.0/\n",
            "/content/hbase-2.4.9/\n"
          ]
        }
      ]
    },
    {
      "cell_type": "code",
      "metadata": {
        "id": "9kDmgFfh6a12"
      },
      "source": [
        "# the file hbase-site.xml may need to be updated ...\n",
        "# however the default file works well in the simple stand-alone HBase mode\n",
        "# so no need to touch it\n",
        "#!cat $HBASE_HOME/conf/hbase-site.xml"
      ],
      "execution_count": null,
      "outputs": []
    },
    {
      "cell_type": "markdown",
      "metadata": {
        "id": "BWn-DJ1PDbXd"
      },
      "source": [
        "## Some Clean UP\n",
        "Otherwise we get ugly warnings"
      ]
    },
    {
      "cell_type": "code",
      "metadata": {
        "colab": {
          "base_uri": "https://localhost:8080/"
        },
        "id": "bKG7t8sQDj2t",
        "outputId": "205a9411-e489-4a37-a58b-829eca706a69"
      },
      "source": [
        "# locate multiple instances of slf4j ...\n",
        "!ls $HADOOP_HOME/share/hadoop/common/lib/*slf4j*\n",
        "!ls $HBASE_HOME/lib/*slf4j*"
      ],
      "execution_count": 14,
      "outputs": [
        {
          "output_type": "stream",
          "name": "stdout",
          "text": [
            "/usr/local/hadoop-3.3.0//share/hadoop/common/lib/jul-to-slf4j-1.7.25.jar\n",
            "/usr/local/hadoop-3.3.0//share/hadoop/common/lib/slf4j-api-1.7.25.jar\n",
            "/usr/local/hadoop-3.3.0//share/hadoop/common/lib/slf4j-log4j12-1.7.25.jar\n",
            "/content/hbase-2.4.9//lib/jcl-over-slf4j-1.7.30.jar\n",
            "/content/hbase-2.4.9//lib/jul-to-slf4j-1.7.30.jar\n"
          ]
        }
      ]
    },
    {
      "cell_type": "code",
      "metadata": {
        "id": "6OaOkjD5EOr0"
      },
      "source": [
        "# remove the Hadoop logger out of the path\n",
        "# without this you will get ugly warnings every time\n",
        "!mv /usr/local/hadoop-3.3.0//share/hadoop/common/lib/slf4j-log4j12-1.7.25.jar ."
      ],
      "execution_count": 15,
      "outputs": []
    },
    {
      "cell_type": "markdown",
      "metadata": {
        "id": "uA03iA4XFN_E"
      },
      "source": [
        "## Start HBase server"
      ]
    },
    {
      "cell_type": "code",
      "metadata": {
        "colab": {
          "base_uri": "https://localhost:8080/"
        },
        "id": "GMQHzlCO7MDC",
        "outputId": "b136c4c8-235c-4867-d7cc-308c049a61ba"
      },
      "source": [
        "!start-hbase.sh"
      ],
      "execution_count": 16,
      "outputs": [
        {
          "output_type": "stream",
          "name": "stdout",
          "text": [
            "running master, logging to /content/hbase-2.4.9//logs/hbase--master-2785fc935f3a.out\n"
          ]
        }
      ]
    },
    {
      "cell_type": "code",
      "metadata": {
        "colab": {
          "base_uri": "https://localhost:8080/"
        },
        "id": "v1imUqpf7apm",
        "outputId": "3563e67f-1899-4060-eccf-e85f01342b62"
      },
      "source": [
        "!jps"
      ],
      "execution_count": 17,
      "outputs": [
        {
          "output_type": "stream",
          "name": "stdout",
          "text": [
            "1668 Jps\n",
            "1342 HMaster\n"
          ]
        }
      ]
    },
    {
      "cell_type": "markdown",
      "metadata": {
        "id": "gd6mdgPSFSvB"
      },
      "source": [
        "# Run Hbase Shell"
      ]
    },
    {
      "cell_type": "code",
      "metadata": {
        "colab": {
          "base_uri": "https://localhost:8080/"
        },
        "id": "42DJQfpY7oqe",
        "outputId": "c5a356cf-be63-4f44-fca8-135ab86e8719"
      },
      "source": [
        "# you can enter hbase shell commands at the prompt. Double click on the prompt to open up a input box\n",
        "!hbase shell "
      ],
      "execution_count": null,
      "outputs": [
        {
          "output_type": "stream",
          "name": "stdout",
          "text": [
            "HBase Shell\n",
            "Use \"help\" to get list of supported commands.\n",
            "Use \"exit\" to quit this interactive shell.\n",
            "For Reference, please visit: http://hbase.apache.org/2.0/book.html#shell\n",
            "Version 2.4.8, rf844d09157d9dce6c54fcd53975b7a45865ee9ac, Wed Oct 27 08:48:57 PDT 2021\n",
            "Took 0.0067 seconds                                                             \n",
            "hbase:001:0> status\n",
            "1 active master, 0 backup masters, 1 servers, 0 dead, 2.0000 average load\n",
            "Took 1.0709 seconds                                                             \n",
            "hbase:002:0> exit\n"
          ]
        }
      ]
    },
    {
      "cell_type": "markdown",
      "metadata": {
        "id": "qhuHJF4lH6f6"
      },
      "source": [
        "shell commands  <br>\n",
        "https://www.tutorialspoint.com/hbase/hbase_shell.htm <br>\n",
        "https://www.guru99.com/hbase-shell-general-commands.html <br>\n",
        "better way of passing shell commands are given here"
      ]
    },
    {
      "cell_type": "code",
      "metadata": {
        "colab": {
          "base_uri": "https://localhost:8080/"
        },
        "id": "cQdbisL2GQtE",
        "outputId": "ee584b31-e31c-4aaf-eb2a-815a207b8a2d"
      },
      "source": [
        "!echo 'status' | hbase shell -n"
      ],
      "execution_count": 18,
      "outputs": [
        {
          "output_type": "stream",
          "name": "stdout",
          "text": [
            "1 active master, 0 backup masters, 1 servers, 0 dead, 2.0000 average load\n",
            "Took 0.7793 seconds                                                             \n",
            "\n"
          ]
        }
      ]
    },
    {
      "cell_type": "code",
      "metadata": {
        "id": "0OvCnX8SGkPG"
      },
      "source": [
        "#!echo \"status 'detail'\" | hbase shell -n"
      ],
      "execution_count": null,
      "outputs": []
    },
    {
      "cell_type": "code",
      "metadata": {
        "colab": {
          "base_uri": "https://localhost:8080/"
        },
        "id": "NYhR2DpgIbnU",
        "outputId": "cd8b4ea9-f325-4e82-93ea-244a793f07de"
      },
      "source": [
        "!echo \"whoami\" | hbase shell -n"
      ],
      "execution_count": 19,
      "outputs": [
        {
          "output_type": "stream",
          "name": "stdout",
          "text": [
            "root (auth:SIMPLE)\n",
            "    groups: root\n",
            "Took 0.0274 seconds                                                             \n",
            "\n"
          ]
        }
      ]
    },
    {
      "cell_type": "markdown",
      "metadata": {
        "id": "psoYaCFmAItK"
      },
      "source": [
        "## Simple Tutorial\n",
        "command line tutorial https://akbarahmed.com/2012/08/13/hbase-command-line-tutorial/"
      ]
    },
    {
      "cell_type": "code",
      "metadata": {
        "colab": {
          "base_uri": "https://localhost:8080/"
        },
        "id": "vG4pok6AJu0V",
        "outputId": "f30c5b35-fa80-4535-a85f-e96b06747a47"
      },
      "source": [
        "!echo \"create 'table1', 'columnfamily1'\" | hbase shell -n"
      ],
      "execution_count": 20,
      "outputs": [
        {
          "output_type": "stream",
          "name": "stdout",
          "text": [
            "Created table table1\n",
            "Took 1.5620 seconds                                                             \n",
            "Hbase::Table - table1\n"
          ]
        }
      ]
    },
    {
      "cell_type": "code",
      "metadata": {
        "colab": {
          "base_uri": "https://localhost:8080/"
        },
        "id": "Mb26zNcdKJpC",
        "outputId": "7d89ec51-b94a-49ba-fd36-6f710d36871e"
      },
      "source": [
        "!echo \"list\" | hbase shell -n"
      ],
      "execution_count": 21,
      "outputs": [
        {
          "output_type": "stream",
          "name": "stdout",
          "text": [
            "TABLE                                                                           \n",
            "table1                                                                          \n",
            "1 row(s)\n",
            "Took 0.9027 seconds                                                             \n",
            "table1\n"
          ]
        }
      ]
    },
    {
      "cell_type": "code",
      "metadata": {
        "colab": {
          "base_uri": "https://localhost:8080/"
        },
        "id": "xb9m6ahLKxDK",
        "outputId": "50e1bfb0-a110-414d-f488-d2313c8bf4e9"
      },
      "source": [
        "!echo \"create 'cars', 'vi'\" | hbase shell -n"
      ],
      "execution_count": 22,
      "outputs": [
        {
          "output_type": "stream",
          "name": "stdout",
          "text": [
            "Created table cars\n",
            "Took 1.5411 seconds                                                             \n",
            "Hbase::Table - cars\n"
          ]
        }
      ]
    },
    {
      "cell_type": "code",
      "metadata": {
        "colab": {
          "base_uri": "https://localhost:8080/"
        },
        "id": "InyhsYkXK_j9",
        "outputId": "0b59648c-00ac-4489-b027-3d92a6b55821"
      },
      "source": [
        "!echo \"list\" | hbase shell -n"
      ],
      "execution_count": 23,
      "outputs": [
        {
          "output_type": "stream",
          "name": "stdout",
          "text": [
            "TABLE                                                                           \n",
            "cars                                                                            \n",
            "table1                                                                          \n",
            "2 row(s)\n",
            "Took 0.8671 seconds                                                             \n",
            "cars\n",
            "table1\n"
          ]
        }
      ]
    },
    {
      "cell_type": "code",
      "metadata": {
        "colab": {
          "base_uri": "https://localhost:8080/"
        },
        "id": "L1ktyGL5LHG7",
        "outputId": "d5c2d940-e6f5-4ad7-c9bb-769b0f75c5a1"
      },
      "source": [
        "# add ONE row\n",
        "# nearly THREE seconds per row ... what will you do with a million rows? wait for bulk loader\n",
        "!echo \"put 'cars', 'row1', 'vi:make', 'bmw'\" | hbase shell -n\n",
        "!echo \"put 'cars', 'row1', 'vi:model', '5 series'\" | hbase shell -n\n",
        "!echo \"put 'cars', 'row1', 'vi:year', '2012'\" | hbase shell -n"
      ],
      "execution_count": 24,
      "outputs": [
        {
          "output_type": "stream",
          "name": "stdout",
          "text": [
            "Took 0.9943 seconds                                                             \n",
            "\n",
            "Took 0.9520 seconds                                                             \n",
            "\n",
            "Took 0.8726 seconds                                                             \n",
            "\n"
          ]
        }
      ]
    },
    {
      "cell_type": "code",
      "metadata": {
        "colab": {
          "base_uri": "https://localhost:8080/"
        },
        "id": "aDyHCB9_MsUy",
        "outputId": "4d7d6004-629a-4c29-ae16-0141eed660a2"
      },
      "source": [
        "# add ONE row\n",
        "!echo \"put 'cars', 'row2', 'vi:make', 'mercedes'\" | hbase shell -n\n",
        "!echo \"put 'cars', 'row2', 'vi:model', 'e class'\" | hbase shell -n\n",
        "!echo \"put 'cars', 'row2', 'vi:year', '2012'\" | hbase shell -n"
      ],
      "execution_count": 25,
      "outputs": [
        {
          "output_type": "stream",
          "name": "stdout",
          "text": [
            "Took 0.9319 seconds                                                             \n",
            "\n",
            "Took 0.7347 seconds                                                             \n",
            "\n",
            "Took 0.9142 seconds                                                             \n",
            "\n"
          ]
        }
      ]
    },
    {
      "cell_type": "code",
      "metadata": {
        "colab": {
          "base_uri": "https://localhost:8080/"
        },
        "id": "YJ2RISDNN1gT",
        "outputId": "4616c4cb-e4e7-4feb-99bd-1b7a67a6cb5c"
      },
      "source": [
        "%%time\n",
        "!echo \"scan 'cars'\" | hbase shell -n"
      ],
      "execution_count": 27,
      "outputs": [
        {
          "output_type": "stream",
          "name": "stdout",
          "text": [
            "ROW                   COLUMN+CELL                                               \n",
            " row1                 column=vi:make, timestamp=2022-01-14T04:11:02.984, value=b\n",
            "                      mw                                                        \n",
            " row1                 column=vi:model, timestamp=2022-01-14T04:12:17.633, value=\n",
            "                      5 series                                                  \n",
            " row1                 column=vi:year, timestamp=2022-01-14T04:13:32.015, value=2\n",
            "                      012                                                       \n",
            " row2                 column=vi:make, timestamp=2022-01-14T04:15:58.353, value=m\n",
            "                      ercedes                                                   \n",
            " row2                 column=vi:model, timestamp=2022-01-14T04:17:13.450, value=\n",
            "                      e class                                                   \n",
            " row2                 column=vi:year, timestamp=2022-01-14T04:18:27.439, value=2\n",
            "                      012                                                       \n",
            "2 row(s)\n",
            "Took 0.8926 seconds                                                             \n",
            "\n",
            "CPU times: user 622 ms, sys: 86.3 ms, total: 708 ms\n",
            "Wall time: 1min 13s\n"
          ]
        }
      ]
    },
    {
      "cell_type": "code",
      "metadata": {
        "colab": {
          "base_uri": "https://localhost:8080/"
        },
        "id": "sMadzGtQOVpM",
        "outputId": "823e264e-7770-42c9-bfed-39add34d2896"
      },
      "source": [
        "!echo \"scan 'cars', {COLUMNS => ['vi:make']}\" | hbase shell -n"
      ],
      "execution_count": null,
      "outputs": [
        {
          "output_type": "stream",
          "name": "stdout",
          "text": [
            "ROW                   COLUMN+CELL                                               \n",
            " row1                 column=vi:make, timestamp=2021-11-24T04:18:12.087, value=b\n",
            "                      mw                                                        \n",
            " row2                 column=vi:make, timestamp=2021-11-24T04:21:58.589, value=m\n",
            "                      ercedes                                                   \n",
            "2 row(s)\n",
            "Took 0.8018 seconds                                                             \n",
            "\n"
          ]
        }
      ]
    },
    {
      "cell_type": "code",
      "source": [
        "!echo \"get 'cars', 'row1'\"| hbase shell -n"
      ],
      "metadata": {
        "id": "SDVs9Yux2YPu",
        "outputId": "286f4ce0-357a-4a67-eb83-622eebd83720",
        "colab": {
          "base_uri": "https://localhost:8080/"
        }
      },
      "execution_count": 28,
      "outputs": [
        {
          "output_type": "stream",
          "name": "stdout",
          "text": [
            "COLUMN                CELL                                                      \n",
            " vi:make              timestamp=2022-01-14T04:11:02.984, value=bmw              \n",
            " vi:model             timestamp=2022-01-14T04:12:17.633, value=5 series         \n",
            " vi:year              timestamp=2022-01-14T04:13:32.015, value=2012             \n",
            "1 row(s)\n",
            "Took 1.0586 seconds                                                             \n",
            "\n"
          ]
        }
      ]
    },
    {
      "cell_type": "code",
      "source": [
        "!echo \"get 'cars', 'row1', 'vi:make' \"| hbase shell -n"
      ],
      "metadata": {
        "id": "2F0-Eps93FxF",
        "outputId": "218f0cab-d403-4d80-e20d-bbec6863b922",
        "colab": {
          "base_uri": "https://localhost:8080/"
        }
      },
      "execution_count": 30,
      "outputs": [
        {
          "output_type": "stream",
          "name": "stdout",
          "text": [
            "COLUMN                CELL                                                      \n",
            " vi:make              timestamp=2022-01-14T04:11:02.984, value=bmw              \n",
            "1 row(s)\n",
            "Took 1.0870 seconds                                                             \n",
            "\n"
          ]
        }
      ]
    },
    {
      "cell_type": "markdown",
      "source": [
        "### Versioning"
      ],
      "metadata": {
        "id": "TI4nTpqu9xtz"
      }
    },
    {
      "cell_type": "code",
      "source": [
        "# add the same row a second time\n",
        "!echo \"put 'cars', 'row1', 'vi:make', 'bmw-v2'\" | hbase shell -n"
      ],
      "metadata": {
        "id": "5jK9-93r30Dp",
        "outputId": "fb0c578e-33a1-4f85-fea1-1530460217c1",
        "colab": {
          "base_uri": "https://localhost:8080/"
        }
      },
      "execution_count": 31,
      "outputs": [
        {
          "output_type": "stream",
          "name": "stdout",
          "text": [
            "Took 0.9879 seconds                                                             \n",
            "\n"
          ]
        }
      ]
    },
    {
      "cell_type": "code",
      "source": [
        "!echo \"get 'cars', 'row1', 'vi:make' \"| hbase shell -n"
      ],
      "metadata": {
        "id": "uVo7y5sx4Psd",
        "outputId": "8323a347-4d3a-4388-e042-d4031f74e49c",
        "colab": {
          "base_uri": "https://localhost:8080/"
        }
      },
      "execution_count": 32,
      "outputs": [
        {
          "output_type": "stream",
          "name": "stdout",
          "text": [
            "COLUMN                CELL                                                      \n",
            " vi:make              timestamp=2022-01-14T04:37:03.533, value=bmw-v2           \n",
            "1 row(s)\n",
            "Took 1.0824 seconds                                                             \n",
            "\n"
          ]
        }
      ]
    },
    {
      "cell_type": "code",
      "source": [
        "!echo \"get 'cars', 'row1',  {COLUMN => 'vi:make', VERSIONS => 2} \"| hbase shell -n"
      ],
      "metadata": {
        "id": "HwG3kO_P4u_G",
        "outputId": "523a9079-5f26-4555-f6b7-07fefbee9633",
        "colab": {
          "base_uri": "https://localhost:8080/"
        }
      },
      "execution_count": 40,
      "outputs": [
        {
          "output_type": "stream",
          "name": "stdout",
          "text": [
            "COLUMN                CELL                                                      \n",
            " vi:make              timestamp=2022-01-14T04:37:03.533, value=bmw-v2           \n",
            "1 row(s)\n",
            "Took 0.8776 seconds                                                             \n",
            "\n"
          ]
        }
      ]
    },
    {
      "cell_type": "code",
      "source": [
        "# versioning is not setup by default\n",
        "! echo \"alter 'cars', NAME=>'vi', VERSIONS=>3\" | hbase shell -n"
      ],
      "metadata": {
        "id": "WfE76SyV8ppK",
        "outputId": "01ddbcc6-61df-48bc-c49d-7aa2bb602636",
        "colab": {
          "base_uri": "https://localhost:8080/"
        }
      },
      "execution_count": 50,
      "outputs": [
        {
          "output_type": "stream",
          "name": "stdout",
          "text": [
            "Updating all regions with the new schema...\n",
            "1/1 regions updated.\n",
            "Done.\n",
            "Took 2.7625 seconds                                                             \n",
            "\n"
          ]
        }
      ]
    },
    {
      "cell_type": "code",
      "source": [
        "# add the same row a third time\n",
        "!echo \"put 'cars', 'row1', 'vi:make', 'bmw-v3'\" | hbase shell -n"
      ],
      "metadata": {
        "id": "cn6iZqLo89DT",
        "outputId": "fe6eb6c2-e7a6-403a-e5d9-7c2ba02f3806",
        "colab": {
          "base_uri": "https://localhost:8080/"
        }
      },
      "execution_count": 51,
      "outputs": [
        {
          "output_type": "stream",
          "name": "stdout",
          "text": [
            "Took 0.9044 seconds                                                             \n",
            "\n"
          ]
        }
      ]
    },
    {
      "cell_type": "code",
      "source": [
        "!echo \"get 'cars', 'row1',  {COLUMN => 'vi:make', VERSIONS => 2} \"| hbase shell -n"
      ],
      "metadata": {
        "id": "IIeysAjZ9Z9-",
        "outputId": "bbbddfd2-58b7-436c-fc52-7ce26af72613",
        "colab": {
          "base_uri": "https://localhost:8080/"
        }
      },
      "execution_count": 52,
      "outputs": [
        {
          "output_type": "stream",
          "name": "stdout",
          "text": [
            "COLUMN                CELL                                                      \n",
            " vi:make              timestamp=2022-01-14T04:59:31.830, value=bmw-v3           \n",
            " vi:make              timestamp=2022-01-14T04:37:03.533, value=bmw-v2           \n",
            "1 row(s)\n",
            "Took 0.9090 seconds                                                             \n",
            "\n"
          ]
        }
      ]
    },
    {
      "cell_type": "code",
      "metadata": {
        "colab": {
          "base_uri": "https://localhost:8080/"
        },
        "id": "KBFVcL95PgSB",
        "outputId": "8631f35a-df21-4ca8-9c9b-3f2bba847ac6"
      },
      "source": [
        "!echo \"disable 'cars'\" | hbase shell -n\n",
        "!echo \"drop 'cars'\" | hbase shell -n"
      ],
      "execution_count": null,
      "outputs": [
        {
          "output_type": "stream",
          "name": "stdout",
          "text": [
            "Took 1.2346 seconds                                                             \n",
            "\n",
            "Took 1.1423 seconds                                                             \n",
            "\n"
          ]
        }
      ]
    },
    {
      "cell_type": "markdown",
      "metadata": {
        "id": "EztkGD3HPYhb"
      },
      "source": [
        "#Bulk Data Load\n",
        "https://people.apache.org/~stack/site/bulk-loads.html"
      ]
    },
    {
      "cell_type": "code",
      "metadata": {
        "colab": {
          "base_uri": "https://localhost:8080/"
        },
        "id": "v3z4W7zYzbEP",
        "outputId": "d9b42522-4465-46d5-9743-7ac393b8ff09"
      },
      "source": [
        "#Data as CSV file\n",
        "!gdown https://drive.google.com/uc?id=1B6szzHNG7BCToKOktRiGUfFblrp1f_GC  # cars2.csv"
      ],
      "execution_count": 41,
      "outputs": [
        {
          "output_type": "stream",
          "name": "stdout",
          "text": [
            "Downloading...\n",
            "From: https://drive.google.com/uc?id=1B6szzHNG7BCToKOktRiGUfFblrp1f_GC\n",
            "To: /content/cars2.csv\n",
            "\r  0% 0.00/54.0 [00:00<?, ?B/s]\r100% 54.0/54.0 [00:00<00:00, 49.5kB/s]\n"
          ]
        }
      ]
    },
    {
      "cell_type": "code",
      "metadata": {
        "colab": {
          "base_uri": "https://localhost:8080/"
        },
        "id": "rBJ063HuoDhA",
        "outputId": "a8636094-f166-4ec5-e494-19d26d08de4e"
      },
      "source": [
        "# see the data\n",
        "!cat cars2.csv"
      ],
      "execution_count": 42,
      "outputs": [
        {
          "output_type": "stream",
          "name": "stdout",
          "text": [
            "Ford,Ecosport,2019\r\n",
            "Hyundai,i20,2015\r\n",
            "Maruti,Omni,2007"
          ]
        }
      ]
    },
    {
      "cell_type": "code",
      "metadata": {
        "colab": {
          "base_uri": "https://localhost:8080/"
        },
        "id": "EkEIeHtHkc3L",
        "outputId": "3893e4cc-6a82-4d23-9657-74c33000cf7b"
      },
      "source": [
        "!echo \"disable 'cars2'\" | hbase shell -n\n",
        "!echo \"drop 'cars2'\" | hbase shell -n"
      ],
      "execution_count": 43,
      "outputs": [
        {
          "output_type": "stream",
          "name": "stdout",
          "text": [
            "Took 0.8309 seconds                                                             ERROR ArgumentError: Table cars2 does not exist.\n",
            "Took 0.9616 seconds                                                             ERROR ArgumentError: Table cars2 does not exist.\n"
          ]
        }
      ]
    },
    {
      "cell_type": "code",
      "metadata": {
        "colab": {
          "base_uri": "https://localhost:8080/"
        },
        "id": "rOlmaKHFewdi",
        "outputId": "138883da-4d92-4d7e-b147-ddade99bc97f"
      },
      "source": [
        "#create 'sensor','temp','vibration','pressure'\n",
        "!echo \"create 'cars2', 'make','model','year'\" | hbase shell -n"
      ],
      "execution_count": 44,
      "outputs": [
        {
          "output_type": "stream",
          "name": "stdout",
          "text": [
            "Created table cars2\n",
            "Took 1.5948 seconds                                                             \n",
            "Hbase::Table - cars2\n"
          ]
        }
      ]
    },
    {
      "cell_type": "code",
      "metadata": {
        "colab": {
          "base_uri": "https://localhost:8080/"
        },
        "id": "Hg002j_6fKQx",
        "outputId": "24bef52b-b4c7-444d-cab3-02075f798728"
      },
      "source": [
        "!echo \"list\" | hbase shell -n"
      ],
      "execution_count": 45,
      "outputs": [
        {
          "output_type": "stream",
          "name": "stdout",
          "text": [
            "TABLE                                                                           \n",
            "cars                                                                            \n",
            "cars2                                                                           \n",
            "table1                                                                          \n",
            "3 row(s)\n",
            "Took 0.8846 seconds                                                             \n",
            "cars\n",
            "cars2\n",
            "table1\n"
          ]
        }
      ]
    },
    {
      "cell_type": "code",
      "metadata": {
        "colab": {
          "base_uri": "https://localhost:8080/"
        },
        "id": "L0xLDl6_iHBA",
        "outputId": "b1c41473-dea8-438f-8b2e-e80dc264c38d"
      },
      "source": [
        "!cat cars2.csv"
      ],
      "execution_count": 46,
      "outputs": [
        {
          "output_type": "stream",
          "name": "stdout",
          "text": [
            "Ford,Ecosport,2019\r\n",
            "Hyundai,i20,2015\r\n",
            "Maruti,Omni,2007"
          ]
        }
      ]
    },
    {
      "cell_type": "code",
      "metadata": {
        "colab": {
          "base_uri": "https://localhost:8080/"
        },
        "id": "EYhznehYfZiC",
        "outputId": "045b615b-ad13-418f-c947-d913571352a9"
      },
      "source": [
        "# input file has to be moved from regular file system to HDFS file system\n",
        "!hdfs dfs -copyFromLocal cars2.csv /tmp"
      ],
      "execution_count": 47,
      "outputs": [
        {
          "output_type": "stream",
          "name": "stdout",
          "text": [
            "SLF4J: Failed to load class \"org.slf4j.impl.StaticLoggerBinder\".\n",
            "SLF4J: Defaulting to no-operation (NOP) logger implementation\n",
            "SLF4J: See http://www.slf4j.org/codes.html#StaticLoggerBinder for further details.\n"
          ]
        }
      ]
    },
    {
      "cell_type": "code",
      "metadata": {
        "colab": {
          "base_uri": "https://localhost:8080/"
        },
        "id": "CF5loP6EfxuW",
        "outputId": "e48c6ae8-98b3-474c-e90f-1e40a958a939"
      },
      "source": [
        "# https://community.cloudera.com/t5/Community-Articles/Import-CSV-data-into-HBase-using-importtsv/ta-p/244842\n",
        "#hbase org.apache.hadoop.hbase.mapreduce.ImportTsv -Dimporttsv.separator=,  -Dimporttsv.columns=\"HBASE_ROW_KEY,id,temp:in,temp:out,vibration,pressure:in,pressure:out\" sensor hdfs://sandbox.hortonworks.com:/tmp/hbase.csv\n",
        "!hbase org.apache.hadoop.hbase.mapreduce.ImportTsv -Dimporttsv.separator=','  -Dimporttsv.columns=\"HBASE_ROW_KEY,make,model,year\" cars2 /tmp/cars2.csv"
      ],
      "execution_count": 48,
      "outputs": [
        {
          "output_type": "stream",
          "name": "stdout",
          "text": [
            "2022-01-14 04:53:14,314 INFO  [ReadOnlyZKClient-127.0.0.1:2181@0x367ffa75] zookeeper.ZooKeeper: Client environment:zookeeper.version=3.5.7-f0fdd52973d373ffd9c86b81d99842dc2c7f660e, built on 02/10/2020 11:30 GMT\n",
            "2022-01-14 04:53:14,314 INFO  [ReadOnlyZKClient-127.0.0.1:2181@0x367ffa75] zookeeper.ZooKeeper: Client environment:host.name=2785fc935f3a\n",
            "2022-01-14 04:53:14,314 INFO  [ReadOnlyZKClient-127.0.0.1:2181@0x367ffa75] zookeeper.ZooKeeper: Client environment:java.version=1.8.0_312\n",
            "2022-01-14 04:53:14,314 INFO  [ReadOnlyZKClient-127.0.0.1:2181@0x367ffa75] zookeeper.ZooKeeper: Client environment:java.vendor=Private Build\n",
            "2022-01-14 04:53:14,314 INFO  [ReadOnlyZKClient-127.0.0.1:2181@0x367ffa75] zookeeper.ZooKeeper: Client environment:java.home=/usr/lib/jvm/java-8-openjdk-amd64/jre\n",
            "2022-01-14 04:53:14,314 INFO  [ReadOnlyZKClient-127.0.0.1:2181@0x367ffa75] zookeeper.ZooKeeper: /hadoop-yarn-server-web-proxy-3.3.0.jar:/usr/local/hadoop-3.3.0//share/hadoop/yarn/hadoop-yarn-server-timeline-pluginstorage-3.3.0.jar:/usr/local/hadoop-3.3.0//share/hadoop/yarn/hadoop-yarn-client-3.3.0.jar:/usr/local/hadoop-3.3.0//share/hadoop/yarn/hadoop-yarn-applications-unmanaged-am-launcher-3.3.0.jar:/usr/local/hadoop-3.3.0//share/hadoop/yarn/hadoop-yarn-server-resourcemanager-3.3.0.jar:/usr/local/hadoop-3.3.0//share/hadoop/yarn/hadoop-yarn-applications-mawo-core-3.3.0.jar:/usr/local/hadoop-3.3.0//share/hadoop/yarn/hadoop-yarn-server-router-3.3.0.jar:/usr/local/hadoop-3.3.0//share/hadoop/yarn/hadoop-yarn-services-core-3.3.0.jar:/usr/local/hadoop-3.3.0//share/hadoop/yarn/hadoop-yarn-applications-distributedshell-3.3.0.jar:/usr/local/hadoop-3.3.0//share/hadoop/yarn/hadoop-yarn-server-applicationhistoryservice-3.3.0.jar:/usr/local/hadoop-3.3.0//share/hadoop/yarn/hadoop-yarn-server-sharedcachemanager-3.3.0.jar:/content/hbase-2.4.9//lib/client-facing-thirdparty/slf4j-log4j12-1.7.30.jar\n",
            "2022-01-14 04:53:14,314 INFO  [ReadOnlyZKClient-127.0.0.1:2181@0x367ffa75] zookeeper.ZooKeeper: Client environment:java.library.path=/usr/local/hadoop-3.3.0//lib/native\n",
            "2022-01-14 04:53:14,315 INFO  [ReadOnlyZKClient-127.0.0.1:2181@0x367ffa75] zookeeper.ZooKeeper: Client environment:java.io.tmpdir=/tmp\n",
            "2022-01-14 04:53:14,315 INFO  [ReadOnlyZKClient-127.0.0.1:2181@0x367ffa75] zookeeper.ZooKeeper: Client environment:java.compiler=<NA>\n",
            "2022-01-14 04:53:14,315 INFO  [ReadOnlyZKClient-127.0.0.1:2181@0x367ffa75] zookeeper.ZooKeeper: Client environment:os.name=Linux\n",
            "2022-01-14 04:53:14,315 INFO  [ReadOnlyZKClient-127.0.0.1:2181@0x367ffa75] zookeeper.ZooKeeper: Client environment:os.arch=amd64\n",
            "2022-01-14 04:53:14,315 INFO  [ReadOnlyZKClient-127.0.0.1:2181@0x367ffa75] zookeeper.ZooKeeper: Client environment:os.version=5.4.144+\n",
            "2022-01-14 04:53:14,315 INFO  [ReadOnlyZKClient-127.0.0.1:2181@0x367ffa75] zookeeper.ZooKeeper: Client environment:user.name=root\n",
            "2022-01-14 04:53:14,315 INFO  [ReadOnlyZKClient-127.0.0.1:2181@0x367ffa75] zookeeper.ZooKeeper: Client environment:user.home=/root\n",
            "2022-01-14 04:53:14,315 INFO  [ReadOnlyZKClient-127.0.0.1:2181@0x367ffa75] zookeeper.ZooKeeper: Client environment:user.dir=/content\n",
            "2022-01-14 04:53:14,315 INFO  [ReadOnlyZKClient-127.0.0.1:2181@0x367ffa75] zookeeper.ZooKeeper: Client environment:os.memory.free=178MB\n",
            "2022-01-14 04:53:14,315 INFO  [ReadOnlyZKClient-127.0.0.1:2181@0x367ffa75] zookeeper.ZooKeeper: Client environment:os.memory.max=3231MB\n",
            "2022-01-14 04:53:14,315 INFO  [ReadOnlyZKClient-127.0.0.1:2181@0x367ffa75] zookeeper.ZooKeeper: Client environment:os.memory.total=197MB\n",
            "2022-01-14 04:53:14,320 INFO  [ReadOnlyZKClient-127.0.0.1:2181@0x367ffa75] zookeeper.ZooKeeper: Initiating client connection, connectString=127.0.0.1:2181 sessionTimeout=90000 watcher=org.apache.hadoop.hbase.zookeeper.ReadOnlyZKClient$$Lambda$15/572950827@4e2ce50e\n",
            "2022-01-14 04:53:14,330 INFO  [ReadOnlyZKClient-127.0.0.1:2181@0x367ffa75] common.X509Util: Setting -D jdk.tls.rejectClientInitiatedRenegotiation=true to disable client-initiated TLS renegotiation\n",
            "2022-01-14 04:53:14,339 INFO  [ReadOnlyZKClient-127.0.0.1:2181@0x367ffa75] zookeeper.ClientCnxnSocket: jute.maxbuffer value is 4194304 Bytes\n",
            "2022-01-14 04:53:14,349 INFO  [ReadOnlyZKClient-127.0.0.1:2181@0x367ffa75] zookeeper.ClientCnxn: zookeeper.request.timeout value is 0. feature enabled=\n",
            "2022-01-14 04:53:14,368 INFO  [ReadOnlyZKClient-127.0.0.1:2181@0x367ffa75-SendThread(127.0.0.1:2181)] zookeeper.ClientCnxn: Opening socket connection to server localhost/127.0.0.1:2181. Will not attempt to authenticate using SASL (unknown error)\n",
            "2022-01-14 04:53:14,374 INFO  [ReadOnlyZKClient-127.0.0.1:2181@0x367ffa75-SendThread(127.0.0.1:2181)] zookeeper.ClientCnxn: Socket connection established, initiating session, client: /127.0.0.1:53506, server: localhost/127.0.0.1:2181\n",
            "2022-01-14 04:53:14,385 INFO  [ReadOnlyZKClient-127.0.0.1:2181@0x367ffa75-SendThread(127.0.0.1:2181)] zookeeper.ClientCnxn: Session establishment complete on server localhost/127.0.0.1:2181, sessionid = 0x100000a03e20027, negotiated timeout = 40000\n",
            "2022-01-14 04:53:16,161 INFO  [main] Configuration.deprecation: session.id is deprecated. Instead, use dfs.metrics.session-id\n",
            "2022-01-14 04:53:16,162 INFO  [main] jvm.JvmMetrics: Initializing JVM Metrics with processName=JobTracker, sessionId=\n",
            "2022-01-14 04:53:16,246 INFO  [ReadOnlyZKClient-127.0.0.1:2181@0x367ffa75] zookeeper.ZooKeeper: Session: 0x100000a03e20027 closed\n",
            "2022-01-14 04:53:16,248 INFO  [ReadOnlyZKClient-127.0.0.1:2181@0x367ffa75-EventThread] zookeeper.ClientCnxn: EventThread shut down for session: 0x100000a03e20027\n",
            "2022-01-14 04:53:16,320 INFO  [ReadOnlyZKClient-127.0.0.1:2181@0x470a696f] zookeeper.ZooKeeper: Initiating client connection, connectString=127.0.0.1:2181 sessionTimeout=90000 watcher=org.apache.hadoop.hbase.zookeeper.ReadOnlyZKClient$$Lambda$15/572950827@4e2ce50e\n",
            "2022-01-14 04:53:16,321 INFO  [ReadOnlyZKClient-127.0.0.1:2181@0x470a696f] zookeeper.ClientCnxnSocket: jute.maxbuffer value is 4194304 Bytes\n",
            "2022-01-14 04:53:16,321 INFO  [ReadOnlyZKClient-127.0.0.1:2181@0x470a696f] zookeeper.ClientCnxn: zookeeper.request.timeout value is 0. feature enabled=\n",
            "2022-01-14 04:53:16,322 INFO  [ReadOnlyZKClient-127.0.0.1:2181@0x470a696f-SendThread(127.0.0.1:2181)] zookeeper.ClientCnxn: Opening socket connection to server localhost/127.0.0.1:2181. Will not attempt to authenticate using SASL (unknown error)\n",
            "2022-01-14 04:53:16,323 INFO  [ReadOnlyZKClient-127.0.0.1:2181@0x470a696f-SendThread(127.0.0.1:2181)] zookeeper.ClientCnxn: Socket connection established, initiating session, client: /127.0.0.1:53516, server: localhost/127.0.0.1:2181\n",
            "2022-01-14 04:53:16,328 INFO  [ReadOnlyZKClient-127.0.0.1:2181@0x470a696f-SendThread(127.0.0.1:2181)] zookeeper.ClientCnxn: Session establishment complete on server localhost/127.0.0.1:2181, sessionid = 0x100000a03e20028, negotiated timeout = 40000\n",
            "2022-01-14 04:53:16,492 INFO  [ReadOnlyZKClient-127.0.0.1:2181@0x470a696f] zookeeper.ZooKeeper: Session: 0x100000a03e20028 closed\n",
            "2022-01-14 04:53:16,492 INFO  [ReadOnlyZKClient-127.0.0.1:2181@0x470a696f-EventThread] zookeeper.ClientCnxn: EventThread shut down for session: 0x100000a03e20028\n",
            "2022-01-14 04:53:16,633 INFO  [main] input.FileInputFormat: Total input files to process : 1\n",
            "2022-01-14 04:53:16,706 INFO  [main] mapreduce.JobSubmitter: number of splits:1\n",
            "2022-01-14 04:53:17,059 INFO  [main] mapreduce.JobSubmitter: Submitting tokens for job: job_local1177625306_0001\n",
            "2022-01-14 04:53:17,576 INFO  [main] mapred.LocalDistributedCacheManager: Creating symlink: /tmp/hadoop-root/mapred/local/1642135997250/libjars <- /content/libjars/*\n",
            "2022-01-14 04:53:17,591 WARN  [main] fs.FileUtil: Command 'ln -s /tmp/hadoop-root/mapred/local/1642135997250/libjars /content/libjars/*' failed 1 with: ln: failed to create symbolic link '/content/libjars/*': No such file or directory\n",
            "\n",
            "2022-01-14 04:53:17,592 WARN  [main] mapred.LocalDistributedCacheManager: Failed to create symlink: /tmp/hadoop-root/mapred/local/1642135997250/libjars <- /content/libjars/*\n",
            "2022-01-14 04:53:17,592 INFO  [main] mapred.LocalDistributedCacheManager: Localized file:/tmp/hadoop-root/mapred/staging/root1177625306/.staging/job_local1177625306_0001/libjars as file:/tmp/hadoop-root/mapred/local/1642135997250/libjars\n",
            "2022-01-14 04:53:17,727 INFO  [main] mapreduce.Job: The url to track the job: http://localhost:8080/\n",
            "2022-01-14 04:53:17,728 INFO  [main] mapreduce.Job: Running job: job_local1177625306_0001\n",
            "2022-01-14 04:53:17,734 INFO  [Thread-7] mapred.LocalJobRunner: OutputCommitter set in config null\n",
            "2022-01-14 04:53:17,765 INFO  [Thread-7] mapred.LocalJobRunner: OutputCommitter is org.apache.hadoop.hbase.mapreduce.TableOutputCommitter\n",
            "2022-01-14 04:53:17,806 INFO  [Thread-7] mapred.LocalJobRunner: Waiting for map tasks\n",
            "2022-01-14 04:53:17,807 INFO  [LocalJobRunner Map Task Executor #0] mapred.LocalJobRunner: Starting task: attempt_local1177625306_0001_m_000000_0\n",
            "2022-01-14 04:53:17,925 INFO  [LocalJobRunner Map Task Executor #0] mapred.Task:  Using ResourceCalculatorProcessTree : [ ]\n",
            "2022-01-14 04:53:17,942 INFO  [LocalJobRunner Map Task Executor #0] mapred.MapTask: Processing split: file:/tmp/cars2.csv:0+54\n",
            "2022-01-14 04:53:17,967 INFO  [ReadOnlyZKClient-127.0.0.1:2181@0x5321d33a] zookeeper.ZooKeeper: Initiating client connection, connectString=127.0.0.1:2181 sessionTimeout=90000 watcher=org.apache.hadoop.hbase.zookeeper.ReadOnlyZKClient$$Lambda$15/572950827@4e2ce50e\n",
            "2022-01-14 04:53:17,968 INFO  [ReadOnlyZKClient-127.0.0.1:2181@0x5321d33a] zookeeper.ClientCnxnSocket: jute.maxbuffer value is 4194304 Bytes\n",
            "2022-01-14 04:53:17,968 INFO  [ReadOnlyZKClient-127.0.0.1:2181@0x5321d33a] zookeeper.ClientCnxn: zookeeper.request.timeout value is 0. feature enabled=\n",
            "2022-01-14 04:53:17,976 INFO  [ReadOnlyZKClient-127.0.0.1:2181@0x5321d33a-SendThread(127.0.0.1:2181)] zookeeper.ClientCnxn: Opening socket connection to server localhost/127.0.0.1:2181. Will not attempt to authenticate using SASL (unknown error)\n",
            "2022-01-14 04:53:17,977 INFO  [ReadOnlyZKClient-127.0.0.1:2181@0x5321d33a-SendThread(127.0.0.1:2181)] zookeeper.ClientCnxn: Socket connection established, initiating session, client: /127.0.0.1:53528, server: localhost/127.0.0.1:2181\n",
            "2022-01-14 04:53:17,982 INFO  [ReadOnlyZKClient-127.0.0.1:2181@0x5321d33a-SendThread(127.0.0.1:2181)] zookeeper.ClientCnxn: Session establishment complete on server localhost/127.0.0.1:2181, sessionid = 0x100000a03e20029, negotiated timeout = 40000\n",
            "2022-01-14 04:53:17,992 INFO  [LocalJobRunner Map Task Executor #0] mapreduce.TableOutputFormat: Created table instance for cars2\n",
            "2022-01-14 04:53:18,040 INFO  [ReadOnlyZKClient-127.0.0.1:2181@0x64503ff5] zookeeper.ZooKeeper: Initiating client connection, connectString=127.0.0.1:2181 sessionTimeout=90000 watcher=org.apache.hadoop.hbase.zookeeper.ReadOnlyZKClient$$Lambda$15/572950827@4e2ce50e\n",
            "2022-01-14 04:53:18,041 INFO  [ReadOnlyZKClient-127.0.0.1:2181@0x64503ff5] zookeeper.ClientCnxnSocket: jute.maxbuffer value is 4194304 Bytes\n",
            "2022-01-14 04:53:18,042 INFO  [ReadOnlyZKClient-127.0.0.1:2181@0x64503ff5] zookeeper.ClientCnxn: zookeeper.request.timeout value is 0. feature enabled=\n",
            "2022-01-14 04:53:18,049 INFO  [ReadOnlyZKClient-127.0.0.1:2181@0x64503ff5-SendThread(127.0.0.1:2181)] zookeeper.ClientCnxn: Opening socket connection to server localhost/127.0.0.1:2181. Will not attempt to authenticate using SASL (unknown error)\n",
            "2022-01-14 04:53:18,050 INFO  [ReadOnlyZKClient-127.0.0.1:2181@0x64503ff5-SendThread(127.0.0.1:2181)] zookeeper.ClientCnxn: Socket connection established, initiating session, client: /127.0.0.1:53530, server: localhost/127.0.0.1:2181\n",
            "2022-01-14 04:53:18,056 INFO  [ReadOnlyZKClient-127.0.0.1:2181@0x64503ff5-SendThread(127.0.0.1:2181)] zookeeper.ClientCnxn: Session establishment complete on server localhost/127.0.0.1:2181, sessionid = 0x100000a03e2002a, negotiated timeout = 40000\n",
            "2022-01-14 04:53:18,231 INFO  [LocalJobRunner Map Task Executor #0] mapred.LocalJobRunner: \n",
            "2022-01-14 04:53:18,312 INFO  [ReadOnlyZKClient-127.0.0.1:2181@0x64503ff5] zookeeper.ZooKeeper: Session: 0x100000a03e2002a closed\n",
            "2022-01-14 04:53:18,313 INFO  [ReadOnlyZKClient-127.0.0.1:2181@0x64503ff5-EventThread] zookeeper.ClientCnxn: EventThread shut down for session: 0x100000a03e2002a\n",
            "2022-01-14 04:53:18,644 INFO  [LocalJobRunner Map Task Executor #0] mapred.Task: Task:attempt_local1177625306_0001_m_000000_0 is done. And is in the process of committing\n",
            "2022-01-14 04:53:18,668 INFO  [LocalJobRunner Map Task Executor #0] mapred.LocalJobRunner: map\n",
            "2022-01-14 04:53:18,668 INFO  [LocalJobRunner Map Task Executor #0] mapred.Task: Task 'attempt_local1177625306_0001_m_000000_0' done.\n",
            "2022-01-14 04:53:18,678 INFO  [LocalJobRunner Map Task Executor #0] mapred.Task: Final Counters for attempt_local1177625306_0001_m_000000_0: Counters: 19\n",
            "\tFile System Counters\n",
            "\t\tFILE: Number of bytes read=431514\n",
            "\t\tFILE: Number of bytes written=1004277\n",
            "\t\tFILE: Number of read operations=0\n",
            "\t\tFILE: Number of large read operations=0\n",
            "\t\tFILE: Number of write operations=0\n",
            "\tMap-Reduce Framework\n",
            "\t\tMap input records=3\n",
            "\t\tMap output records=3\n",
            "\t\tInput split bytes=84\n",
            "\t\tSpilled Records=0\n",
            "\t\tFailed Shuffles=0\n",
            "\t\tMerged Map outputs=0\n",
            "\t\tGC time elapsed (ms)=0\n",
            "\t\tCPU time spent (ms)=920\n",
            "\t\tPhysical memory (bytes) snapshot=284446720\n",
            "\t\tVirtual memory (bytes) snapshot=5160222720\n",
            "\t\tTotal committed heap usage (bytes)=206831616\n",
            "\tImportTsv\n",
            "\t\tBad Lines=0\n",
            "\tFile Input Format Counters \n",
            "\t\tBytes Read=74\n",
            "\tFile Output Format Counters \n",
            "\t\tBytes Written=0\n",
            "2022-01-14 04:53:18,678 INFO  [LocalJobRunner Map Task Executor #0] mapred.LocalJobRunner: Finishing task: attempt_local1177625306_0001_m_000000_0\n",
            "2022-01-14 04:53:18,679 INFO  [Thread-7] mapred.LocalJobRunner: map task executor complete.\n",
            "2022-01-14 04:53:18,733 INFO  [main] mapreduce.Job: Job job_local1177625306_0001 running in uber mode : false\n",
            "2022-01-14 04:53:18,735 INFO  [main] mapreduce.Job:  map 100% reduce 0%\n",
            "2022-01-14 04:53:18,738 INFO  [main] mapreduce.Job: Job job_local1177625306_0001 completed successfully\n",
            "2022-01-14 04:53:18,751 INFO  [ReadOnlyZKClient-127.0.0.1:2181@0x5321d33a] zookeeper.ZooKeeper: Session: 0x100000a03e20029 closed\n",
            "2022-01-14 04:53:18,752 INFO  [ReadOnlyZKClient-127.0.0.1:2181@0x5321d33a-EventThread] zookeeper.ClientCnxn: EventThread shut down for session: 0x100000a03e20029\n",
            "2022-01-14 04:53:18,755 INFO  [main] mapreduce.Job: Counters: 19\n",
            "\tFile System Counters\n",
            "\t\tFILE: Number of bytes read=431514\n",
            "\t\tFILE: Number of bytes written=1004277\n",
            "\t\tFILE: Number of read operations=0\n",
            "\t\tFILE: Number of large read operations=0\n",
            "\t\tFILE: Number of write operations=0\n",
            "\tMap-Reduce Framework\n",
            "\t\tMap input records=3\n",
            "\t\tMap output records=3\n",
            "\t\tInput split bytes=84\n",
            "\t\tSpilled Records=0\n",
            "\t\tFailed Shuffles=0\n",
            "\t\tMerged Map outputs=0\n",
            "\t\tGC time elapsed (ms)=0\n",
            "\t\tCPU time spent (ms)=920\n",
            "\t\tPhysical memory (bytes) snapshot=284446720\n",
            "\t\tVirtual memory (bytes) snapshot=5160222720\n",
            "\t\tTotal committed heap usage (bytes)=206831616\n",
            "\tImportTsv\n",
            "\t\tBad Lines=0\n",
            "\tFile Input Format Counters \n",
            "\t\tBytes Read=74\n",
            "\tFile Output Format Counters \n",
            "\t\tBytes Written=0\n"
          ]
        }
      ]
    },
    {
      "cell_type": "code",
      "metadata": {
        "colab": {
          "base_uri": "https://localhost:8080/"
        },
        "id": "CSs-MATjgw6p",
        "outputId": "accf5d3c-7ba4-4a1d-f381-52897f883b28"
      },
      "source": [
        "!echo \"scan 'cars2'\" | hbase shell -n"
      ],
      "execution_count": 49,
      "outputs": [
        {
          "output_type": "stream",
          "name": "stdout",
          "text": [
            "ROW                   COLUMN+CELL                                               \n",
            " Ford                 column=make:, timestamp=2022-01-14T04:53:13.598, value=Eco\n",
            "                      sport                                                     \n",
            " Ford                 column=model:, timestamp=2022-01-14T04:53:13.598, value=20\n",
            "                      19                                                        \n",
            " Hyundai              column=make:, timestamp=2022-01-14T04:53:13.598, value=i20\n",
            " Hyundai              column=model:, timestamp=2022-01-14T04:53:13.598, value=20\n",
            "                      15                                                        \n",
            " Maruti               column=make:, timestamp=2022-01-14T04:53:13.598, value=Omn\n",
            "                      i                                                         \n",
            " Maruti               column=model:, timestamp=2022-01-14T04:53:13.598, value=20\n",
            "                      07                                                        \n",
            "3 row(s)\n",
            "Took 0.9494 seconds                                                             \n",
            "\n"
          ]
        }
      ]
    },
    {
      "cell_type": "markdown",
      "metadata": {
        "id": "O6PP3akdlVKJ"
      },
      "source": [
        "#Stop HBase"
      ]
    },
    {
      "cell_type": "code",
      "metadata": {
        "colab": {
          "base_uri": "https://localhost:8080/"
        },
        "id": "p28XBoitAWTL",
        "outputId": "6aa5669a-94a0-44b5-c507-37d4d492d8b5"
      },
      "source": [
        "!stop-hbase.sh"
      ],
      "execution_count": 53,
      "outputs": [
        {
          "output_type": "stream",
          "name": "stdout",
          "text": [
            "stopping hbase............\n"
          ]
        }
      ]
    }
  ]
}