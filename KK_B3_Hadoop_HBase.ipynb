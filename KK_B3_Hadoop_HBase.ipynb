{
  "nbformat": 4,
  "nbformat_minor": 0,
  "metadata": {
    "colab": {
      "name": "KK B3 Hadoop HBase",
      "provenance": [],
      "authorship_tag": "ABX9TyPqRkVPGEjJosH52TY+JLmS",
      "include_colab_link": true
    },
    "kernelspec": {
      "name": "python3",
      "display_name": "Python 3"
    },
    "language_info": {
      "name": "python"
    }
  },
  "cells": [
    {
      "cell_type": "markdown",
      "metadata": {
        "id": "view-in-github",
        "colab_type": "text"
      },
      "source": [
        "<a href=\"https://colab.research.google.com/github/Praxis-QR/BDSN/blob/main/KK_B3_Hadoop_HBase.ipynb\" target=\"_parent\"><img src=\"https://colab.research.google.com/assets/colab-badge.svg\" alt=\"Open In Colab\"/></a>"
      ]
    },
    {
      "cell_type": "markdown",
      "metadata": {
        "id": "XafE9O3pAmkC"
      },
      "source": [
        "![alt text](https://4.bp.blogspot.com/-gbL5nZDkpFQ/XScFYwoTEII/AAAAAAAAAGY/CcVb_HDLwvs2Brv5T4vSsUcz7O4r2Q79ACK4BGAYYCw/s1600/kk3-header00-beta.png)<br>\n",
        "\n",
        "\n",
        "<hr>\n",
        "\n",
        "[Prithwis Mukerjee](http://www.linkedin.com/in/prithwis)<br>"
      ]
    },
    {
      "cell_type": "markdown",
      "metadata": {
        "id": "GyYTQEpb1htS"
      },
      "source": [
        "#Hadoop \n",
        "Install and Test"
      ]
    },
    {
      "cell_type": "code",
      "metadata": {
        "id": "_r0IOmlc0-Dt"
      },
      "source": [
        "# The default JVM available at /usr/lib/jvm/java-11-openjdk-amd64/  works for Hadoop\n",
        "# But gives errors with Hive https://stackoverflow.com/questions/54037773/hive-exception-class-jdk-internal-loader-classloadersappclassloader-cannot\n",
        "# Hence this JVM needs to be installed\n",
        "!apt-get update > /dev/null\n",
        "!apt-get install openjdk-8-jdk-headless -qq > /dev/null"
      ],
      "execution_count": 1,
      "outputs": []
    },
    {
      "cell_type": "code",
      "metadata": {
        "colab": {
          "base_uri": "https://localhost:8080/"
        },
        "id": "NWspfH6A1a4P",
        "outputId": "c65a4d99-b3e4-447e-bdf7-deb4dc7d6f0b"
      },
      "source": [
        "# Download the latest version of Hadoop\n",
        "!wget https://downloads.apache.org/hadoop/common/hadoop-3.3.0/hadoop-3.3.0.tar.gz\n",
        "# Unzip it\n",
        "# the tar command with the -x flag to extract, -z to uncompress, -v for verbose output, and -f to specify that we’re extracting from a file\n",
        "!tar -xzf hadoop-3.3.0.tar.gz\n",
        "#copy  hadoop file to user/local\n",
        "!mv  hadoop-3.3.0/ /usr/local/"
      ],
      "execution_count": 2,
      "outputs": [
        {
          "output_type": "stream",
          "name": "stdout",
          "text": [
            "--2021-11-24 04:04:16--  https://downloads.apache.org/hadoop/common/hadoop-3.3.0/hadoop-3.3.0.tar.gz\n",
            "Resolving downloads.apache.org (downloads.apache.org)... 88.99.95.219, 135.181.214.104, 2a01:4f9:3a:2c57::2, ...\n",
            "Connecting to downloads.apache.org (downloads.apache.org)|88.99.95.219|:443... connected.\n",
            "HTTP request sent, awaiting response... 200 OK\n",
            "Length: 500749234 (478M) [application/x-gzip]\n",
            "Saving to: ‘hadoop-3.3.0.tar.gz’\n",
            "\n",
            "hadoop-3.3.0.tar.gz 100%[===================>] 477.55M  22.2MB/s    in 23s     \n",
            "\n",
            "2021-11-24 04:04:39 (21.1 MB/s) - ‘hadoop-3.3.0.tar.gz’ saved [500749234/500749234]\n",
            "\n"
          ]
        }
      ]
    },
    {
      "cell_type": "code",
      "metadata": {
        "colab": {
          "base_uri": "https://localhost:8080/"
        },
        "id": "24QjQ22V1swJ",
        "outputId": "830da1dd-71de-48ed-c2d2-ea9abcacb3b1"
      },
      "source": [
        "#To find the default Java path\n",
        "!readlink -f /usr/bin/java | sed \"s:bin/java::\"\n",
        "!ls /usr/lib/jvm/"
      ],
      "execution_count": 3,
      "outputs": [
        {
          "output_type": "stream",
          "name": "stdout",
          "text": [
            "/usr/lib/jvm/java-11-openjdk-amd64/\n",
            "default-java\t\t   java-11-openjdk-amd64     java-8-openjdk-amd64\n",
            "java-1.11.0-openjdk-amd64  java-1.8.0-openjdk-amd64\n"
          ]
        }
      ]
    },
    {
      "cell_type": "markdown",
      "metadata": {
        "id": "Ugibq3m1CbgC"
      },
      "source": [
        "## Set Hadoop Environment"
      ]
    },
    {
      "cell_type": "code",
      "metadata": {
        "id": "1j7WFh5k18E1"
      },
      "source": [
        "#To set java path, go to /usr/local/hadoop-3.3.0/etc/hadoop/hadoop-env.sh then\n",
        "#. . . export JAVA_HOME=/usr/lib/jvm/java-11-openjdk-amd64/ . . .\n",
        "#we have used a simpler alternative route using os.environ - it works\n",
        "\n",
        "import os\n",
        "os.environ[\"JAVA_HOME\"] = \"/usr/lib/jvm/java-8-openjdk-amd64\"   # default is changed\n",
        "#os.environ[\"JAVA_HOME\"] = \"/usr/lib/jvm/java-11-openjdk-amd64/\"\n",
        "os.environ[\"HADOOP_HOME\"] = \"/usr/local/hadoop-3.3.0/\""
      ],
      "execution_count": 4,
      "outputs": []
    },
    {
      "cell_type": "code",
      "metadata": {
        "colab": {
          "base_uri": "https://localhost:8080/"
        },
        "id": "DevjcjSF2ltL",
        "outputId": "403870e2-4cda-499b-877f-ac7008672577"
      },
      "source": [
        "# Get the value of current_path\n",
        "!echo $PATH"
      ],
      "execution_count": 5,
      "outputs": [
        {
          "output_type": "stream",
          "name": "stdout",
          "text": [
            "/usr/local/nvidia/bin:/usr/local/cuda/bin:/usr/local/sbin:/usr/local/bin:/usr/sbin:/usr/bin:/sbin:/bin:/tools/node/bin:/tools/google-cloud-sdk/bin:/opt/bin\n"
          ]
        }
      ]
    },
    {
      "cell_type": "code",
      "metadata": {
        "id": "NaaMpfVP2p3m"
      },
      "source": [
        "# Add Hadoop BIN to PATH\n",
        "# current_path taken from last command\n",
        "current_path = '/usr/local/nvidia/bin:/usr/local/cuda/bin:/usr/local/sbin:/usr/local/bin:/usr/sbin:/usr/bin:/sbin:/bin:/tools/node/bin:/tools/google-cloud-sdk/bin:/opt/bin'\n",
        "new_path = current_path+':/usr/local/hadoop-3.3.0/bin/'\n",
        "os.environ[\"PATH\"] = new_path"
      ],
      "execution_count": 6,
      "outputs": []
    },
    {
      "cell_type": "code",
      "metadata": {
        "id": "ZD34gT3y2u-D"
      },
      "source": [
        "# Testing Hadoop with PI generating sample program, should calculate value of pi = 3.14157500000000000000\n",
        "# pi example\n",
        "#Uncomment the following line if  you want to test Hadoop with pi example\n",
        "#!hadoop jar /usr/local/hadoop-3.3.0/share/hadoop/mapreduce/hadoop-mapreduce-examples-3.3.0.jar pi 16 100000"
      ],
      "execution_count": null,
      "outputs": []
    },
    {
      "cell_type": "markdown",
      "metadata": {
        "id": "zHwLU0Uo3tLo"
      },
      "source": [
        "#Install HBase"
      ]
    },
    {
      "cell_type": "code",
      "metadata": {
        "colab": {
          "base_uri": "https://localhost:8080/"
        },
        "id": "bODP1xaM3vEB",
        "outputId": "df54a3b3-7a75-4bcf-818a-2b8e8d8aea1d"
      },
      "source": [
        "# Get the latest HBase download site from here https://www.apache.org/dyn/closer.lua/hbase/\n",
        "#!wget https://mirrors.estointernet.in/apache/hbase/2.4.5/hbase-2.4.5-bin.tar.gz\n",
        "!wget https://mirrors.estointernet.in/apache/hbase/2.4.8/hbase-2.4.8-bin.tar.gz\n",
        "#!tar xzf hbase-2.4.5-bin.tar.gz\n",
        "!tar xzf hbase-2.4.8-bin.tar.gz"
      ],
      "execution_count": 8,
      "outputs": [
        {
          "output_type": "stream",
          "name": "stdout",
          "text": [
            "--2021-11-24 04:07:40--  https://mirrors.estointernet.in/apache/hbase/2.4.8/hbase-2.4.8-bin.tar.gz\n",
            "Resolving mirrors.estointernet.in (mirrors.estointernet.in)... 43.255.166.254, 2403:8940:3:1::f\n",
            "Connecting to mirrors.estointernet.in (mirrors.estointernet.in)|43.255.166.254|:443... connected.\n",
            "HTTP request sent, awaiting response... 200 OK\n",
            "Length: 283436391 (270M) [application/octet-stream]\n",
            "Saving to: ‘hbase-2.4.8-bin.tar.gz’\n",
            "\n",
            "hbase-2.4.8-bin.tar 100%[===================>] 270.31M  10.6MB/s    in 28s     \n",
            "\n",
            "2021-11-24 04:08:09 (9.63 MB/s) - ‘hbase-2.4.8-bin.tar.gz’ saved [283436391/283436391]\n",
            "\n"
          ]
        }
      ]
    },
    {
      "cell_type": "markdown",
      "metadata": {
        "id": "kaMtyNOVCiMS"
      },
      "source": [
        "## Set HBase Environment"
      ]
    },
    {
      "cell_type": "code",
      "metadata": {
        "colab": {
          "base_uri": "https://localhost:8080/"
        },
        "id": "p4dc0K7h4f-y",
        "outputId": "387d515e-3baf-4858-85e2-0b40bdee381f"
      },
      "source": [
        "#os.environ[\"HIVE_HOME\"] = \"/content/apache-hive-3.1.2-bin\"\n",
        "#!echo $HIVE_HOME\n",
        "#os.environ[\"HBASE_HOME\"] = \"/content/hbase-2.4.5/\"\n",
        "os.environ[\"HBASE_HOME\"] = \"/content/hbase-2.4.8/\"\n",
        "!echo $HBASE_HOME"
      ],
      "execution_count": 9,
      "outputs": [
        {
          "output_type": "stream",
          "name": "stdout",
          "text": [
            "/content/hbase-2.4.8/\n"
          ]
        }
      ]
    },
    {
      "cell_type": "code",
      "metadata": {
        "colab": {
          "base_uri": "https://localhost:8080/"
        },
        "id": "LrLGC7ln5Wwx",
        "outputId": "10265a50-f5d5-4b9d-c181-93a137fcf1aa"
      },
      "source": [
        "!echo $PATH"
      ],
      "execution_count": 10,
      "outputs": [
        {
          "output_type": "stream",
          "name": "stdout",
          "text": [
            "/usr/local/nvidia/bin:/usr/local/cuda/bin:/usr/local/sbin:/usr/local/bin:/usr/sbin:/usr/bin:/sbin:/bin:/tools/node/bin:/tools/google-cloud-sdk/bin:/opt/bin:/usr/local/hadoop-3.3.0/bin/\n"
          ]
        }
      ]
    },
    {
      "cell_type": "code",
      "metadata": {
        "colab": {
          "base_uri": "https://localhost:8080/"
        },
        "id": "DqXZ_kF65VXK",
        "outputId": "07fa68c2-a1ed-4920-bd07-80f102d87dd6"
      },
      "source": [
        "# current_path taken from command in previous cell\n",
        "current_path = '/usr/local/nvidia/bin:/usr/local/cuda/bin:/usr/local/sbin:/usr/local/bin:/usr/sbin:/usr/bin:/sbin:/bin:/tools/node/bin:/tools/google-cloud-sdk/bin:/opt/bin:/usr/local/hadoop-3.3.0/bin/'\n",
        "#new_path = current_path+':/content/hbase-2.4.5/bin'\n",
        "new_path = current_path+':/content/hbase-2.4.8/bin'\n",
        "os.environ[\"PATH\"] = new_path\n",
        "!echo $PATH"
      ],
      "execution_count": 11,
      "outputs": [
        {
          "output_type": "stream",
          "name": "stdout",
          "text": [
            "/usr/local/nvidia/bin:/usr/local/cuda/bin:/usr/local/sbin:/usr/local/bin:/usr/sbin:/usr/bin:/sbin:/bin:/tools/node/bin:/tools/google-cloud-sdk/bin:/opt/bin:/usr/local/hadoop-3.3.0/bin/:/content/hbase-2.4.8/bin\n"
          ]
        }
      ]
    },
    {
      "cell_type": "code",
      "metadata": {
        "colab": {
          "base_uri": "https://localhost:8080/"
        },
        "id": "ZrS6BL5k51Bl",
        "outputId": "50ab359a-cfd5-4155-fe43-a2feef1c663c"
      },
      "source": [
        "!echo $JAVA_HOME\n",
        "!echo $HADOOP_HOME\n",
        "!echo $HBASE_HOME"
      ],
      "execution_count": 12,
      "outputs": [
        {
          "output_type": "stream",
          "name": "stdout",
          "text": [
            "/usr/lib/jvm/java-8-openjdk-amd64\n",
            "/usr/local/hadoop-3.3.0/\n",
            "/content/hbase-2.4.8/\n"
          ]
        }
      ]
    },
    {
      "cell_type": "code",
      "metadata": {
        "id": "9kDmgFfh6a12"
      },
      "source": [
        "# the file hbase-site.xml may need to be updated ...\n",
        "# however the default file works well in the simple stand-alone HBase mode\n",
        "# so no need to touch it\n",
        "#!cat $HBASE_HOME/conf/hbase-site.xml"
      ],
      "execution_count": null,
      "outputs": []
    },
    {
      "cell_type": "markdown",
      "metadata": {
        "id": "BWn-DJ1PDbXd"
      },
      "source": [
        "## Some Clean UP\n",
        "Otherwise we get ugly warnings"
      ]
    },
    {
      "cell_type": "code",
      "metadata": {
        "colab": {
          "base_uri": "https://localhost:8080/"
        },
        "id": "bKG7t8sQDj2t",
        "outputId": "c655d72a-46f1-4bb1-c39e-5f3bbfb9f9f0"
      },
      "source": [
        "# locate multiple instances of slf4j ...\n",
        "!ls $HADOOP_HOME/share/hadoop/common/lib/*slf4j*\n",
        "!ls $HBASE_HOME/lib/*slf4j*"
      ],
      "execution_count": 13,
      "outputs": [
        {
          "output_type": "stream",
          "name": "stdout",
          "text": [
            "/usr/local/hadoop-3.3.0//share/hadoop/common/lib/jul-to-slf4j-1.7.25.jar\n",
            "/usr/local/hadoop-3.3.0//share/hadoop/common/lib/slf4j-api-1.7.25.jar\n",
            "/usr/local/hadoop-3.3.0//share/hadoop/common/lib/slf4j-log4j12-1.7.25.jar\n",
            "/content/hbase-2.4.8//lib/jcl-over-slf4j-1.7.30.jar\n",
            "/content/hbase-2.4.8//lib/jul-to-slf4j-1.7.30.jar\n"
          ]
        }
      ]
    },
    {
      "cell_type": "code",
      "metadata": {
        "id": "6OaOkjD5EOr0"
      },
      "source": [
        "# remove the Hadoop logger out of the path\n",
        "# without this you will get ugly warnings every time\n",
        "!mv /usr/local/hadoop-3.3.0//share/hadoop/common/lib/slf4j-log4j12-1.7.25.jar ."
      ],
      "execution_count": 14,
      "outputs": []
    },
    {
      "cell_type": "markdown",
      "metadata": {
        "id": "uA03iA4XFN_E"
      },
      "source": [
        "## Start HBase server"
      ]
    },
    {
      "cell_type": "code",
      "metadata": {
        "colab": {
          "base_uri": "https://localhost:8080/"
        },
        "id": "GMQHzlCO7MDC",
        "outputId": "cd19527f-8bbb-4858-9615-199e7981a001"
      },
      "source": [
        "!start-hbase.sh"
      ],
      "execution_count": 15,
      "outputs": [
        {
          "output_type": "stream",
          "name": "stdout",
          "text": [
            "running master, logging to /content/hbase-2.4.8//logs/hbase--master-f2e3a6d53421.out\n"
          ]
        }
      ]
    },
    {
      "cell_type": "code",
      "metadata": {
        "colab": {
          "base_uri": "https://localhost:8080/"
        },
        "id": "v1imUqpf7apm",
        "outputId": "f82201a6-1d7e-4b5d-8858-3a505aa1cb25"
      },
      "source": [
        "!jps"
      ],
      "execution_count": 16,
      "outputs": [
        {
          "output_type": "stream",
          "name": "stdout",
          "text": [
            "1322 HMaster\n",
            "1647 Jps\n"
          ]
        }
      ]
    },
    {
      "cell_type": "markdown",
      "metadata": {
        "id": "gd6mdgPSFSvB"
      },
      "source": [
        "# Run Hbase Shell"
      ]
    },
    {
      "cell_type": "code",
      "metadata": {
        "colab": {
          "base_uri": "https://localhost:8080/"
        },
        "id": "42DJQfpY7oqe",
        "outputId": "c5a356cf-be63-4f44-fca8-135ab86e8719"
      },
      "source": [
        "# you can enter hbase shell commands at the prompt. Double click on the prompt to open up a input box\n",
        "!hbase shell "
      ],
      "execution_count": 17,
      "outputs": [
        {
          "output_type": "stream",
          "name": "stdout",
          "text": [
            "HBase Shell\n",
            "Use \"help\" to get list of supported commands.\n",
            "Use \"exit\" to quit this interactive shell.\n",
            "For Reference, please visit: http://hbase.apache.org/2.0/book.html#shell\n",
            "Version 2.4.8, rf844d09157d9dce6c54fcd53975b7a45865ee9ac, Wed Oct 27 08:48:57 PDT 2021\n",
            "Took 0.0067 seconds                                                             \n",
            "hbase:001:0> status\n",
            "1 active master, 0 backup masters, 1 servers, 0 dead, 2.0000 average load\n",
            "Took 1.0709 seconds                                                             \n",
            "hbase:002:0> exit\n"
          ]
        }
      ]
    },
    {
      "cell_type": "markdown",
      "metadata": {
        "id": "qhuHJF4lH6f6"
      },
      "source": [
        "shell commands  <br>\n",
        "https://www.tutorialspoint.com/hbase/hbase_shell.htm <br>\n",
        "https://www.guru99.com/hbase-shell-general-commands.html <br>\n",
        "better way of passing shell commands are given here"
      ]
    },
    {
      "cell_type": "code",
      "metadata": {
        "colab": {
          "base_uri": "https://localhost:8080/"
        },
        "id": "cQdbisL2GQtE",
        "outputId": "4bd96225-c532-4233-dfbb-1f505b802330"
      },
      "source": [
        "!echo 'status' | hbase shell -n"
      ],
      "execution_count": 18,
      "outputs": [
        {
          "output_type": "stream",
          "name": "stdout",
          "text": [
            "1 active master, 0 backup masters, 1 servers, 0 dead, 2.0000 average load\n",
            "Took 0.6778 seconds                                                             \n",
            "\n"
          ]
        }
      ]
    },
    {
      "cell_type": "code",
      "metadata": {
        "id": "0OvCnX8SGkPG"
      },
      "source": [
        "#!echo \"status 'detail'\" | hbase shell -n"
      ],
      "execution_count": null,
      "outputs": []
    },
    {
      "cell_type": "code",
      "metadata": {
        "colab": {
          "base_uri": "https://localhost:8080/"
        },
        "id": "NYhR2DpgIbnU",
        "outputId": "c599faba-5a03-4d57-c6f6-de1a3f4187b2"
      },
      "source": [
        "!echo \"whoami\" | hbase shell -n"
      ],
      "execution_count": 19,
      "outputs": [
        {
          "output_type": "stream",
          "name": "stdout",
          "text": [
            "root (auth:SIMPLE)\n",
            "    groups: root\n",
            "Took 0.0246 seconds                                                             \n",
            "\n"
          ]
        }
      ]
    },
    {
      "cell_type": "markdown",
      "metadata": {
        "id": "psoYaCFmAItK"
      },
      "source": [
        "## Simple Tutorial\n",
        "command line tutorial https://akbarahmed.com/2012/08/13/hbase-command-line-tutorial/"
      ]
    },
    {
      "cell_type": "code",
      "metadata": {
        "colab": {
          "base_uri": "https://localhost:8080/"
        },
        "id": "vG4pok6AJu0V",
        "outputId": "74593dda-67a3-4369-90b8-248ad3c26c27"
      },
      "source": [
        "!echo \"create 'table1', 'columnfamily1'\" | hbase shell -n"
      ],
      "execution_count": 20,
      "outputs": [
        {
          "output_type": "stream",
          "name": "stdout",
          "text": [
            "Created table table1\n",
            "Took 1.4257 seconds                                                             \n",
            "Hbase::Table - table1\n"
          ]
        }
      ]
    },
    {
      "cell_type": "code",
      "metadata": {
        "colab": {
          "base_uri": "https://localhost:8080/"
        },
        "id": "Mb26zNcdKJpC",
        "outputId": "f13c811b-ea2c-4a10-9699-72d3efd8f2c7"
      },
      "source": [
        "!echo \"list\" | hbase shell -n"
      ],
      "execution_count": 21,
      "outputs": [
        {
          "output_type": "stream",
          "name": "stdout",
          "text": [
            "TABLE                                                                           \n",
            "table1                                                                          \n",
            "1 row(s)\n",
            "Took 0.7273 seconds                                                             \n",
            "table1\n"
          ]
        }
      ]
    },
    {
      "cell_type": "code",
      "metadata": {
        "colab": {
          "base_uri": "https://localhost:8080/"
        },
        "id": "xb9m6ahLKxDK",
        "outputId": "b6a5dc98-3545-4c96-add4-d6c3f680be3f"
      },
      "source": [
        "!echo \"create 'cars', 'vi'\" | hbase shell -n"
      ],
      "execution_count": 22,
      "outputs": [
        {
          "output_type": "stream",
          "name": "stdout",
          "text": [
            "Created table cars\n",
            "Took 1.3310 seconds                                                             \n",
            "Hbase::Table - cars\n"
          ]
        }
      ]
    },
    {
      "cell_type": "code",
      "metadata": {
        "colab": {
          "base_uri": "https://localhost:8080/"
        },
        "id": "InyhsYkXK_j9",
        "outputId": "b2b5e7cc-6685-45e8-8230-f2f8ad868532"
      },
      "source": [
        "!echo \"list\" | hbase shell -n"
      ],
      "execution_count": 23,
      "outputs": [
        {
          "output_type": "stream",
          "name": "stdout",
          "text": [
            "TABLE                                                                           \n",
            "cars                                                                            \n",
            "table1                                                                          \n",
            "2 row(s)\n",
            "Took 0.7384 seconds                                                             \n",
            "cars\n",
            "table1\n"
          ]
        }
      ]
    },
    {
      "cell_type": "code",
      "metadata": {
        "colab": {
          "base_uri": "https://localhost:8080/"
        },
        "id": "L1ktyGL5LHG7",
        "outputId": "913eb740-9d9d-4cd7-fd43-8a2a9033f10e"
      },
      "source": [
        "# add ONE row\n",
        "# nearly THREE seconds per row ... what will you do with a million rows? wait for bulk loader\n",
        "!echo \"put 'cars', 'row1', 'vi:make', 'bmw'\" | hbase shell -n\n",
        "!echo \"put 'cars', 'row1', 'vi:model', '5 series'\" | hbase shell -n\n",
        "!echo \"put 'cars', 'row1', 'vi:year', '2012'\" | hbase shell -n"
      ],
      "execution_count": 24,
      "outputs": [
        {
          "output_type": "stream",
          "name": "stdout",
          "text": [
            "Took 0.7936 seconds                                                             \n",
            "\n",
            "Took 0.7872 seconds                                                             \n",
            "\n",
            "Took 0.7984 seconds                                                             \n",
            "\n"
          ]
        }
      ]
    },
    {
      "cell_type": "code",
      "metadata": {
        "colab": {
          "base_uri": "https://localhost:8080/"
        },
        "id": "aDyHCB9_MsUy",
        "outputId": "942951de-e821-4028-c7e6-7970a5774c97"
      },
      "source": [
        "# add ONE row\n",
        "!echo \"put 'cars', 'row2', 'vi:make', 'mercedes'\" | hbase shell -n\n",
        "!echo \"put 'cars', 'row2', 'vi:model', 'e class'\" | hbase shell -n\n",
        "!echo \"put 'cars', 'row2', 'vi:year', '2012'\" | hbase shell -n"
      ],
      "execution_count": 25,
      "outputs": [
        {
          "output_type": "stream",
          "name": "stdout",
          "text": [
            "Took 0.8106 seconds                                                             \n",
            "\n",
            "Took 0.7994 seconds                                                             \n",
            "\n",
            "Took 0.7742 seconds                                                             \n",
            "\n"
          ]
        }
      ]
    },
    {
      "cell_type": "code",
      "metadata": {
        "colab": {
          "base_uri": "https://localhost:8080/"
        },
        "id": "YJ2RISDNN1gT",
        "outputId": "a4867051-79b5-4537-cc60-0b8775482bc8"
      },
      "source": [
        "!echo \"scan 'cars'\" | hbase shell -n"
      ],
      "execution_count": 26,
      "outputs": [
        {
          "output_type": "stream",
          "name": "stdout",
          "text": [
            "ROW                   COLUMN+CELL                                               \n",
            " row1                 column=vi:make, timestamp=2021-11-24T04:18:12.087, value=b\n",
            "                      mw                                                        \n",
            " row1                 column=vi:model, timestamp=2021-11-24T04:19:25.366, value=\n",
            "                      5 series                                                  \n",
            " row1                 column=vi:year, timestamp=2021-11-24T04:20:38.687, value=2\n",
            "                      012                                                       \n",
            " row2                 column=vi:make, timestamp=2021-11-24T04:21:58.589, value=m\n",
            "                      ercedes                                                   \n",
            " row2                 column=vi:model, timestamp=2021-11-24T04:23:11.765, value=\n",
            "                      e class                                                   \n",
            " row2                 column=vi:year, timestamp=2021-11-24T04:24:24.195, value=2\n",
            "                      012                                                       \n",
            "2 row(s)\n",
            "Took 0.6924 seconds                                                             \n",
            "\n"
          ]
        }
      ]
    },
    {
      "cell_type": "code",
      "metadata": {
        "colab": {
          "base_uri": "https://localhost:8080/"
        },
        "id": "sMadzGtQOVpM",
        "outputId": "823e264e-7770-42c9-bfed-39add34d2896"
      },
      "source": [
        "!echo \"scan 'cars', {COLUMNS => ['vi:make']}\" | hbase shell -n"
      ],
      "execution_count": 27,
      "outputs": [
        {
          "output_type": "stream",
          "name": "stdout",
          "text": [
            "ROW                   COLUMN+CELL                                               \n",
            " row1                 column=vi:make, timestamp=2021-11-24T04:18:12.087, value=b\n",
            "                      mw                                                        \n",
            " row2                 column=vi:make, timestamp=2021-11-24T04:21:58.589, value=m\n",
            "                      ercedes                                                   \n",
            "2 row(s)\n",
            "Took 0.8018 seconds                                                             \n",
            "\n"
          ]
        }
      ]
    },
    {
      "cell_type": "code",
      "metadata": {
        "colab": {
          "base_uri": "https://localhost:8080/"
        },
        "id": "KBFVcL95PgSB",
        "outputId": "8631f35a-df21-4ca8-9c9b-3f2bba847ac6"
      },
      "source": [
        "!echo \"disable 'cars'\" | hbase shell -n\n",
        "!echo \"drop 'cars'\" | hbase shell -n"
      ],
      "execution_count": 28,
      "outputs": [
        {
          "output_type": "stream",
          "name": "stdout",
          "text": [
            "Took 1.2346 seconds                                                             \n",
            "\n",
            "Took 1.1423 seconds                                                             \n",
            "\n"
          ]
        }
      ]
    },
    {
      "cell_type": "markdown",
      "metadata": {
        "id": "EztkGD3HPYhb"
      },
      "source": [
        "#Bulk Data Load\n",
        "https://people.apache.org/~stack/site/bulk-loads.html"
      ]
    },
    {
      "cell_type": "code",
      "metadata": {
        "colab": {
          "base_uri": "https://localhost:8080/"
        },
        "id": "v3z4W7zYzbEP",
        "outputId": "f0608cd3-9381-413f-c6ef-b87893316ec8"
      },
      "source": [
        "#Data as CSV file\n",
        "!gdown https://drive.google.com/uc?id=1B6szzHNG7BCToKOktRiGUfFblrp1f_GC  # cars2.csv"
      ],
      "execution_count": 29,
      "outputs": [
        {
          "output_type": "stream",
          "name": "stdout",
          "text": [
            "Downloading...\n",
            "From: https://drive.google.com/uc?id=1B6szzHNG7BCToKOktRiGUfFblrp1f_GC\n",
            "To: /content/cars2.csv\n",
            "\r  0% 0.00/54.0 [00:00<?, ?B/s]\r100% 54.0/54.0 [00:00<00:00, 36.8kB/s]\n"
          ]
        }
      ]
    },
    {
      "cell_type": "code",
      "metadata": {
        "colab": {
          "base_uri": "https://localhost:8080/"
        },
        "id": "rBJ063HuoDhA",
        "outputId": "ededd6b8-b2ee-4e38-c97c-6e644b36ee6d"
      },
      "source": [
        "# see the data\n",
        "!cat cars2.csv"
      ],
      "execution_count": 30,
      "outputs": [
        {
          "output_type": "stream",
          "name": "stdout",
          "text": [
            "Ford,Ecosport,2019\r\n",
            "Hyundai,i20,2015\r\n",
            "Maruti,Omni,2007"
          ]
        }
      ]
    },
    {
      "cell_type": "code",
      "metadata": {
        "colab": {
          "base_uri": "https://localhost:8080/"
        },
        "id": "EkEIeHtHkc3L",
        "outputId": "e4942e84-f860-4632-ec4c-87160bb8dc1c"
      },
      "source": [
        "!echo \"disable 'cars2'\" | hbase shell -n\n",
        "!echo \"drop 'cars2'\" | hbase shell -n"
      ],
      "execution_count": 31,
      "outputs": [
        {
          "output_type": "stream",
          "name": "stdout",
          "text": [
            "Took 0.8227 seconds                                                             ERROR ArgumentError: Table cars2 does not exist.\n",
            "Took 0.6701 seconds                                                             ERROR ArgumentError: Table cars2 does not exist.\n"
          ]
        }
      ]
    },
    {
      "cell_type": "code",
      "metadata": {
        "colab": {
          "base_uri": "https://localhost:8080/"
        },
        "id": "rOlmaKHFewdi",
        "outputId": "89921464-abf4-42f8-8176-bee7308abd5a"
      },
      "source": [
        "#create 'sensor','temp','vibration','pressure'\n",
        "!echo \"create 'cars2', 'make','model','year'\" | hbase shell -n"
      ],
      "execution_count": 32,
      "outputs": [
        {
          "output_type": "stream",
          "name": "stdout",
          "text": [
            "Created table cars2\n",
            "Took 1.4389 seconds                                                             \n",
            "Hbase::Table - cars2\n"
          ]
        }
      ]
    },
    {
      "cell_type": "code",
      "metadata": {
        "colab": {
          "base_uri": "https://localhost:8080/"
        },
        "id": "Hg002j_6fKQx",
        "outputId": "9662b2f7-2236-4266-e763-ddbb430d86f5"
      },
      "source": [
        "!echo \"list\" | hbase shell -n"
      ],
      "execution_count": 33,
      "outputs": [
        {
          "output_type": "stream",
          "name": "stdout",
          "text": [
            "TABLE                                                                           \n",
            "cars2                                                                           \n",
            "table1                                                                          \n",
            "2 row(s)\n",
            "Took 0.7903 seconds                                                             \n",
            "cars2\n",
            "table1\n"
          ]
        }
      ]
    },
    {
      "cell_type": "code",
      "metadata": {
        "colab": {
          "base_uri": "https://localhost:8080/"
        },
        "id": "L0xLDl6_iHBA",
        "outputId": "976f8871-ea41-40e2-9261-3e633f8443df"
      },
      "source": [
        "!cat cars2.csv"
      ],
      "execution_count": 34,
      "outputs": [
        {
          "output_type": "stream",
          "name": "stdout",
          "text": [
            "Ford,Ecosport,2019\r\n",
            "Hyundai,i20,2015\r\n",
            "Maruti,Omni,2007"
          ]
        }
      ]
    },
    {
      "cell_type": "code",
      "metadata": {
        "colab": {
          "base_uri": "https://localhost:8080/"
        },
        "id": "EYhznehYfZiC",
        "outputId": "31df7afd-4d02-4c56-976e-92e193c9297f"
      },
      "source": [
        "# input file has to be moved from regular file system to HDFS file system\n",
        "!hdfs dfs -copyFromLocal cars2.csv /tmp"
      ],
      "execution_count": 35,
      "outputs": [
        {
          "output_type": "stream",
          "name": "stdout",
          "text": [
            "SLF4J: Failed to load class \"org.slf4j.impl.StaticLoggerBinder\".\n",
            "SLF4J: Defaulting to no-operation (NOP) logger implementation\n",
            "SLF4J: See http://www.slf4j.org/codes.html#StaticLoggerBinder for further details.\n"
          ]
        }
      ]
    },
    {
      "cell_type": "code",
      "metadata": {
        "colab": {
          "base_uri": "https://localhost:8080/"
        },
        "id": "CF5loP6EfxuW",
        "outputId": "1e13431c-34e3-4c81-f186-0dad29efc260"
      },
      "source": [
        "# https://community.cloudera.com/t5/Community-Articles/Import-CSV-data-into-HBase-using-importtsv/ta-p/244842\n",
        "#hbase org.apache.hadoop.hbase.mapreduce.ImportTsv -Dimporttsv.separator=,  -Dimporttsv.columns=\"HBASE_ROW_KEY,id,temp:in,temp:out,vibration,pressure:in,pressure:out\" sensor hdfs://sandbox.hortonworks.com:/tmp/hbase.csv\n",
        "!hbase org.apache.hadoop.hbase.mapreduce.ImportTsv -Dimporttsv.separator=','  -Dimporttsv.columns=\"HBASE_ROW_KEY,make,model,year\" cars2 /tmp/cars2.csv"
      ],
      "execution_count": 36,
      "outputs": [
        {
          "output_type": "stream",
          "name": "stdout",
          "text": [
            "2021-11-24 04:31:43,281 INFO  [ReadOnlyZKClient-127.0.0.1:2181@0x367ffa75] zookeeper.ZooKeeper: Client environment:zookeeper.version=3.5.7-f0fdd52973d373ffd9c86b81d99842dc2c7f660e, built on 02/10/2020 11:30 GMT\n",
            "2021-11-24 04:31:43,281 INFO  [ReadOnlyZKClient-127.0.0.1:2181@0x367ffa75] zookeeper.ZooKeeper: Client environment:host.name=f2e3a6d53421\n",
            "2021-11-24 04:31:43,281 INFO  [ReadOnlyZKClient-127.0.0.1:2181@0x367ffa75] zookeeper.ZooKeeper: Client environment:java.version=1.8.0_292\n",
            "2021-11-24 04:31:43,281 INFO  [ReadOnlyZKClient-127.0.0.1:2181@0x367ffa75] zookeeper.ZooKeeper: Client environment:java.vendor=Private Build\n",
            "2021-11-24 04:31:43,281 INFO  [ReadOnlyZKClient-127.0.0.1:2181@0x367ffa75] zookeeper.ZooKeeper: Client environment:java.home=/usr/lib/jvm/java-8-openjdk-amd64/jre\n",
            "2021-11-24 04:31:43,282 INFO  [ReadOnlyZKClient-127.0.0.1:2181@0x367ffa75] zookeeper.ZooKeeper: /share/hadoop/yarn/hadoop-yarn-server-timeline-pluginstorage-3.3.0.jar:/usr/local/hadoop-3.3.0//share/hadoop/yarn/hadoop-yarn-server-tests-3.3.0.jar:/usr/local/hadoop-3.3.0//share/hadoop/yarn/hadoop-yarn-server-applicationhistoryservice-3.3.0.jar:/usr/local/hadoop-3.3.0//share/hadoop/yarn/hadoop-yarn-server-sharedcachemanager-3.3.0.jar:/usr/local/hadoop-3.3.0//share/hadoop/yarn/hadoop-yarn-applications-mawo-core-3.3.0.jar:/usr/local/hadoop-3.3.0//share/hadoop/yarn/hadoop-yarn-server-resourcemanager-3.3.0.jar:/usr/local/hadoop-3.3.0//share/hadoop/yarn/hadoop-yarn-server-nodemanager-3.3.0.jar:/usr/local/hadoop-3.3.0//share/hadoop/yarn/hadoop-yarn-services-core-3.3.0.jar:/usr/local/hadoop-3.3.0//share/hadoop/yarn/hadoop-yarn-server-common-3.3.0.jar:/usr/local/hadoop-3.3.0//share/hadoop/yarn/hadoop-yarn-api-3.3.0.jar:/usr/local/hadoop-3.3.0//share/hadoop/yarn/hadoop-yarn-applications-unmanaged-am-launcher-3.3.0.jar:/content/hbase-2.4.8//lib/client-facing-thirdparty/slf4j-log4j12-1.7.30.jar\n",
            "2021-11-24 04:31:43,282 INFO  [ReadOnlyZKClient-127.0.0.1:2181@0x367ffa75] zookeeper.ZooKeeper: Client environment:java.library.path=/usr/local/hadoop-3.3.0//lib/native\n",
            "2021-11-24 04:31:43,282 INFO  [ReadOnlyZKClient-127.0.0.1:2181@0x367ffa75] zookeeper.ZooKeeper: Client environment:java.io.tmpdir=/tmp\n",
            "2021-11-24 04:31:43,282 INFO  [ReadOnlyZKClient-127.0.0.1:2181@0x367ffa75] zookeeper.ZooKeeper: Client environment:java.compiler=<NA>\n",
            "2021-11-24 04:31:43,282 INFO  [ReadOnlyZKClient-127.0.0.1:2181@0x367ffa75] zookeeper.ZooKeeper: Client environment:os.name=Linux\n",
            "2021-11-24 04:31:43,282 INFO  [ReadOnlyZKClient-127.0.0.1:2181@0x367ffa75] zookeeper.ZooKeeper: Client environment:os.arch=amd64\n",
            "2021-11-24 04:31:43,282 INFO  [ReadOnlyZKClient-127.0.0.1:2181@0x367ffa75] zookeeper.ZooKeeper: Client environment:os.version=5.4.104+\n",
            "2021-11-24 04:31:43,283 INFO  [ReadOnlyZKClient-127.0.0.1:2181@0x367ffa75] zookeeper.ZooKeeper: Client environment:user.name=root\n",
            "2021-11-24 04:31:43,283 INFO  [ReadOnlyZKClient-127.0.0.1:2181@0x367ffa75] zookeeper.ZooKeeper: Client environment:user.home=/root\n",
            "2021-11-24 04:31:43,283 INFO  [ReadOnlyZKClient-127.0.0.1:2181@0x367ffa75] zookeeper.ZooKeeper: Client environment:user.dir=/content\n",
            "2021-11-24 04:31:43,283 INFO  [ReadOnlyZKClient-127.0.0.1:2181@0x367ffa75] zookeeper.ZooKeeper: Client environment:os.memory.free=178MB\n",
            "2021-11-24 04:31:43,283 INFO  [ReadOnlyZKClient-127.0.0.1:2181@0x367ffa75] zookeeper.ZooKeeper: Client environment:os.memory.max=3231MB\n",
            "2021-11-24 04:31:43,283 INFO  [ReadOnlyZKClient-127.0.0.1:2181@0x367ffa75] zookeeper.ZooKeeper: Client environment:os.memory.total=197MB\n",
            "2021-11-24 04:31:43,287 INFO  [ReadOnlyZKClient-127.0.0.1:2181@0x367ffa75] zookeeper.ZooKeeper: Initiating client connection, connectString=127.0.0.1:2181 sessionTimeout=90000 watcher=org.apache.hadoop.hbase.zookeeper.ReadOnlyZKClient$$Lambda$15/1753053590@7a6dbed8\n",
            "2021-11-24 04:31:43,294 INFO  [ReadOnlyZKClient-127.0.0.1:2181@0x367ffa75] common.X509Util: Setting -D jdk.tls.rejectClientInitiatedRenegotiation=true to disable client-initiated TLS renegotiation\n",
            "2021-11-24 04:31:43,301 INFO  [ReadOnlyZKClient-127.0.0.1:2181@0x367ffa75] zookeeper.ClientCnxnSocket: jute.maxbuffer value is 4194304 Bytes\n",
            "2021-11-24 04:31:43,309 INFO  [ReadOnlyZKClient-127.0.0.1:2181@0x367ffa75] zookeeper.ClientCnxn: zookeeper.request.timeout value is 0. feature enabled=\n",
            "2021-11-24 04:31:43,320 INFO  [ReadOnlyZKClient-127.0.0.1:2181@0x367ffa75-SendThread(127.0.0.1:2181)] zookeeper.ClientCnxn: Opening socket connection to server localhost/127.0.0.1:2181. Will not attempt to authenticate using SASL (unknown error)\n",
            "2021-11-24 04:31:43,330 INFO  [ReadOnlyZKClient-127.0.0.1:2181@0x367ffa75-SendThread(127.0.0.1:2181)] zookeeper.ClientCnxn: Socket connection established, initiating session, client: /127.0.0.1:50814, server: localhost/127.0.0.1:2181\n",
            "2021-11-24 04:31:43,339 INFO  [ReadOnlyZKClient-127.0.0.1:2181@0x367ffa75-SendThread(127.0.0.1:2181)] zookeeper.ClientCnxn: Session establishment complete on server localhost/127.0.0.1:2181, sessionid = 0x100000b03fd001b, negotiated timeout = 40000\n",
            "2021-11-24 04:31:44,717 INFO  [main] Configuration.deprecation: session.id is deprecated. Instead, use dfs.metrics.session-id\n",
            "2021-11-24 04:31:44,725 INFO  [main] jvm.JvmMetrics: Initializing JVM Metrics with processName=JobTracker, sessionId=\n",
            "2021-11-24 04:31:44,784 INFO  [ReadOnlyZKClient-127.0.0.1:2181@0x367ffa75] zookeeper.ZooKeeper: Session: 0x100000b03fd001b closed\n",
            "2021-11-24 04:31:44,785 INFO  [ReadOnlyZKClient-127.0.0.1:2181@0x367ffa75-EventThread] zookeeper.ClientCnxn: EventThread shut down for session: 0x100000b03fd001b\n",
            "2021-11-24 04:31:44,818 INFO  [ReadOnlyZKClient-127.0.0.1:2181@0x470a696f] zookeeper.ZooKeeper: Initiating client connection, connectString=127.0.0.1:2181 sessionTimeout=90000 watcher=org.apache.hadoop.hbase.zookeeper.ReadOnlyZKClient$$Lambda$15/1753053590@7a6dbed8\n",
            "2021-11-24 04:31:44,818 INFO  [ReadOnlyZKClient-127.0.0.1:2181@0x470a696f] zookeeper.ClientCnxnSocket: jute.maxbuffer value is 4194304 Bytes\n",
            "2021-11-24 04:31:44,819 INFO  [ReadOnlyZKClient-127.0.0.1:2181@0x470a696f] zookeeper.ClientCnxn: zookeeper.request.timeout value is 0. feature enabled=\n",
            "2021-11-24 04:31:44,820 INFO  [ReadOnlyZKClient-127.0.0.1:2181@0x470a696f-SendThread(127.0.0.1:2181)] zookeeper.ClientCnxn: Opening socket connection to server localhost/127.0.0.1:2181. Will not attempt to authenticate using SASL (unknown error)\n",
            "2021-11-24 04:31:44,821 INFO  [ReadOnlyZKClient-127.0.0.1:2181@0x470a696f-SendThread(127.0.0.1:2181)] zookeeper.ClientCnxn: Socket connection established, initiating session, client: /127.0.0.1:50822, server: localhost/127.0.0.1:2181\n",
            "2021-11-24 04:31:44,825 INFO  [ReadOnlyZKClient-127.0.0.1:2181@0x470a696f-SendThread(127.0.0.1:2181)] zookeeper.ClientCnxn: Session establishment complete on server localhost/127.0.0.1:2181, sessionid = 0x100000b03fd001c, negotiated timeout = 40000\n",
            "2021-11-24 04:31:44,952 INFO  [ReadOnlyZKClient-127.0.0.1:2181@0x470a696f] zookeeper.ZooKeeper: Session: 0x100000b03fd001c closed\n",
            "2021-11-24 04:31:44,953 INFO  [ReadOnlyZKClient-127.0.0.1:2181@0x470a696f-EventThread] zookeeper.ClientCnxn: EventThread shut down for session: 0x100000b03fd001c\n",
            "2021-11-24 04:31:45,055 INFO  [main] input.FileInputFormat: Total input files to process : 1\n",
            "2021-11-24 04:31:45,096 INFO  [main] mapreduce.JobSubmitter: number of splits:1\n",
            "2021-11-24 04:31:45,384 INFO  [main] mapreduce.JobSubmitter: Submitting tokens for job: job_local760082479_0001\n",
            "2021-11-24 04:31:45,783 INFO  [main] mapred.LocalDistributedCacheManager: Creating symlink: /tmp/hadoop-root/mapred/local/1637728305578/libjars <- /content/libjars/*\n",
            "2021-11-24 04:31:45,791 WARN  [main] fs.FileUtil: Command 'ln -s /tmp/hadoop-root/mapred/local/1637728305578/libjars /content/libjars/*' failed 1 with: ln: failed to create symbolic link '/content/libjars/*': No such file or directory\n",
            "\n",
            "2021-11-24 04:31:45,791 WARN  [main] mapred.LocalDistributedCacheManager: Failed to create symlink: /tmp/hadoop-root/mapred/local/1637728305578/libjars <- /content/libjars/*\n",
            "2021-11-24 04:31:45,792 INFO  [main] mapred.LocalDistributedCacheManager: Localized file:/tmp/hadoop-root/mapred/staging/root760082479/.staging/job_local760082479_0001/libjars as file:/tmp/hadoop-root/mapred/local/1637728305578/libjars\n",
            "2021-11-24 04:31:45,902 INFO  [main] mapreduce.Job: The url to track the job: http://localhost:8080/\n",
            "2021-11-24 04:31:45,903 INFO  [main] mapreduce.Job: Running job: job_local760082479_0001\n",
            "2021-11-24 04:31:45,909 INFO  [Thread-7] mapred.LocalJobRunner: OutputCommitter set in config null\n",
            "2021-11-24 04:31:45,939 INFO  [Thread-7] mapred.LocalJobRunner: OutputCommitter is org.apache.hadoop.hbase.mapreduce.TableOutputCommitter\n",
            "2021-11-24 04:31:45,973 INFO  [Thread-7] mapred.LocalJobRunner: Waiting for map tasks\n",
            "2021-11-24 04:31:45,974 INFO  [LocalJobRunner Map Task Executor #0] mapred.LocalJobRunner: Starting task: attempt_local760082479_0001_m_000000_0\n",
            "2021-11-24 04:31:46,060 INFO  [LocalJobRunner Map Task Executor #0] mapred.Task:  Using ResourceCalculatorProcessTree : [ ]\n",
            "2021-11-24 04:31:46,070 INFO  [LocalJobRunner Map Task Executor #0] mapred.MapTask: Processing split: file:/tmp/cars2.csv:0+54\n",
            "2021-11-24 04:31:46,084 INFO  [ReadOnlyZKClient-127.0.0.1:2181@0x59129dbe] zookeeper.ZooKeeper: Initiating client connection, connectString=127.0.0.1:2181 sessionTimeout=90000 watcher=org.apache.hadoop.hbase.zookeeper.ReadOnlyZKClient$$Lambda$15/1753053590@7a6dbed8\n",
            "2021-11-24 04:31:46,084 INFO  [ReadOnlyZKClient-127.0.0.1:2181@0x59129dbe] zookeeper.ClientCnxnSocket: jute.maxbuffer value is 4194304 Bytes\n",
            "2021-11-24 04:31:46,085 INFO  [ReadOnlyZKClient-127.0.0.1:2181@0x59129dbe] zookeeper.ClientCnxn: zookeeper.request.timeout value is 0. feature enabled=\n",
            "2021-11-24 04:31:46,089 INFO  [ReadOnlyZKClient-127.0.0.1:2181@0x59129dbe-SendThread(127.0.0.1:2181)] zookeeper.ClientCnxn: Opening socket connection to server localhost/127.0.0.1:2181. Will not attempt to authenticate using SASL (unknown error)\n",
            "2021-11-24 04:31:46,091 INFO  [ReadOnlyZKClient-127.0.0.1:2181@0x59129dbe-SendThread(127.0.0.1:2181)] zookeeper.ClientCnxn: Socket connection established, initiating session, client: /127.0.0.1:50832, server: localhost/127.0.0.1:2181\n",
            "2021-11-24 04:31:46,094 INFO  [ReadOnlyZKClient-127.0.0.1:2181@0x59129dbe-SendThread(127.0.0.1:2181)] zookeeper.ClientCnxn: Session establishment complete on server localhost/127.0.0.1:2181, sessionid = 0x100000b03fd001d, negotiated timeout = 40000\n",
            "2021-11-24 04:31:46,101 INFO  [LocalJobRunner Map Task Executor #0] mapreduce.TableOutputFormat: Created table instance for cars2\n",
            "2021-11-24 04:31:46,137 INFO  [ReadOnlyZKClient-127.0.0.1:2181@0x0a50d88a] zookeeper.ZooKeeper: Initiating client connection, connectString=127.0.0.1:2181 sessionTimeout=90000 watcher=org.apache.hadoop.hbase.zookeeper.ReadOnlyZKClient$$Lambda$15/1753053590@7a6dbed8\n",
            "2021-11-24 04:31:46,137 INFO  [ReadOnlyZKClient-127.0.0.1:2181@0x0a50d88a] zookeeper.ClientCnxnSocket: jute.maxbuffer value is 4194304 Bytes\n",
            "2021-11-24 04:31:46,137 INFO  [ReadOnlyZKClient-127.0.0.1:2181@0x0a50d88a] zookeeper.ClientCnxn: zookeeper.request.timeout value is 0. feature enabled=\n",
            "2021-11-24 04:31:46,143 INFO  [ReadOnlyZKClient-127.0.0.1:2181@0x0a50d88a-SendThread(127.0.0.1:2181)] zookeeper.ClientCnxn: Opening socket connection to server localhost/127.0.0.1:2181. Will not attempt to authenticate using SASL (unknown error)\n",
            "2021-11-24 04:31:46,144 INFO  [ReadOnlyZKClient-127.0.0.1:2181@0x0a50d88a-SendThread(127.0.0.1:2181)] zookeeper.ClientCnxn: Socket connection established, initiating session, client: /127.0.0.1:50834, server: localhost/127.0.0.1:2181\n",
            "2021-11-24 04:31:46,148 INFO  [ReadOnlyZKClient-127.0.0.1:2181@0x0a50d88a-SendThread(127.0.0.1:2181)] zookeeper.ClientCnxn: Session establishment complete on server localhost/127.0.0.1:2181, sessionid = 0x100000b03fd001e, negotiated timeout = 40000\n",
            "2021-11-24 04:31:46,239 INFO  [LocalJobRunner Map Task Executor #0] mapred.LocalJobRunner: \n",
            "2021-11-24 04:31:46,336 INFO  [ReadOnlyZKClient-127.0.0.1:2181@0x0a50d88a] zookeeper.ZooKeeper: Session: 0x100000b03fd001e closed\n",
            "2021-11-24 04:31:46,336 INFO  [ReadOnlyZKClient-127.0.0.1:2181@0x0a50d88a-EventThread] zookeeper.ClientCnxn: EventThread shut down for session: 0x100000b03fd001e\n",
            "2021-11-24 04:31:46,364 INFO  [LocalJobRunner Map Task Executor #0] mapred.Task: Task:attempt_local760082479_0001_m_000000_0 is done. And is in the process of committing\n",
            "2021-11-24 04:31:46,388 INFO  [LocalJobRunner Map Task Executor #0] mapred.LocalJobRunner: map\n",
            "2021-11-24 04:31:46,388 INFO  [LocalJobRunner Map Task Executor #0] mapred.Task: Task 'attempt_local760082479_0001_m_000000_0' done.\n",
            "2021-11-24 04:31:46,398 INFO  [LocalJobRunner Map Task Executor #0] mapred.Task: Final Counters for attempt_local760082479_0001_m_000000_0: Counters: 19\n",
            "\tFile System Counters\n",
            "\t\tFILE: Number of bytes read=431081\n",
            "\t\tFILE: Number of bytes written=1001082\n",
            "\t\tFILE: Number of read operations=0\n",
            "\t\tFILE: Number of large read operations=0\n",
            "\t\tFILE: Number of write operations=0\n",
            "\tMap-Reduce Framework\n",
            "\t\tMap input records=3\n",
            "\t\tMap output records=3\n",
            "\t\tInput split bytes=84\n",
            "\t\tSpilled Records=0\n",
            "\t\tFailed Shuffles=0\n",
            "\t\tMerged Map outputs=0\n",
            "\t\tGC time elapsed (ms)=0\n",
            "\t\tCPU time spent (ms)=550\n",
            "\t\tPhysical memory (bytes) snapshot=276262912\n",
            "\t\tVirtual memory (bytes) snapshot=5155663872\n",
            "\t\tTotal committed heap usage (bytes)=206831616\n",
            "\tImportTsv\n",
            "\t\tBad Lines=0\n",
            "\tFile Input Format Counters \n",
            "\t\tBytes Read=74\n",
            "\tFile Output Format Counters \n",
            "\t\tBytes Written=0\n",
            "2021-11-24 04:31:46,398 INFO  [LocalJobRunner Map Task Executor #0] mapred.LocalJobRunner: Finishing task: attempt_local760082479_0001_m_000000_0\n",
            "2021-11-24 04:31:46,398 INFO  [Thread-7] mapred.LocalJobRunner: map task executor complete.\n",
            "2021-11-24 04:31:46,471 INFO  [ReadOnlyZKClient-127.0.0.1:2181@0x59129dbe] zookeeper.ZooKeeper: Session: 0x100000b03fd001d closed\n",
            "2021-11-24 04:31:46,472 INFO  [ReadOnlyZKClient-127.0.0.1:2181@0x59129dbe-EventThread] zookeeper.ClientCnxn: EventThread shut down for session: 0x100000b03fd001d\n",
            "2021-11-24 04:31:46,908 INFO  [main] mapreduce.Job: Job job_local760082479_0001 running in uber mode : false\n",
            "2021-11-24 04:31:46,910 INFO  [main] mapreduce.Job:  map 100% reduce 0%\n",
            "2021-11-24 04:31:46,912 INFO  [main] mapreduce.Job: Job job_local760082479_0001 completed successfully\n",
            "2021-11-24 04:31:46,922 INFO  [main] mapreduce.Job: Counters: 19\n",
            "\tFile System Counters\n",
            "\t\tFILE: Number of bytes read=431081\n",
            "\t\tFILE: Number of bytes written=1001082\n",
            "\t\tFILE: Number of read operations=0\n",
            "\t\tFILE: Number of large read operations=0\n",
            "\t\tFILE: Number of write operations=0\n",
            "\tMap-Reduce Framework\n",
            "\t\tMap input records=3\n",
            "\t\tMap output records=3\n",
            "\t\tInput split bytes=84\n",
            "\t\tSpilled Records=0\n",
            "\t\tFailed Shuffles=0\n",
            "\t\tMerged Map outputs=0\n",
            "\t\tGC time elapsed (ms)=0\n",
            "\t\tCPU time spent (ms)=550\n",
            "\t\tPhysical memory (bytes) snapshot=276262912\n",
            "\t\tVirtual memory (bytes) snapshot=5155663872\n",
            "\t\tTotal committed heap usage (bytes)=206831616\n",
            "\tImportTsv\n",
            "\t\tBad Lines=0\n",
            "\tFile Input Format Counters \n",
            "\t\tBytes Read=74\n",
            "\tFile Output Format Counters \n",
            "\t\tBytes Written=0\n"
          ]
        }
      ]
    },
    {
      "cell_type": "code",
      "metadata": {
        "colab": {
          "base_uri": "https://localhost:8080/"
        },
        "id": "CSs-MATjgw6p",
        "outputId": "a16ae9fd-8496-4344-91f3-ac8a37bd8c59"
      },
      "source": [
        "!echo \"scan 'cars2'\" | hbase shell -n"
      ],
      "execution_count": 37,
      "outputs": [
        {
          "output_type": "stream",
          "name": "stdout",
          "text": [
            "ROW                   COLUMN+CELL                                               \n",
            " Ford                 column=make:, timestamp=2021-11-24T04:31:42.705, value=Eco\n",
            "                      sport                                                     \n",
            " Ford                 column=model:, timestamp=2021-11-24T04:31:42.705, value=20\n",
            "                      19                                                        \n",
            " Hyundai              column=make:, timestamp=2021-11-24T04:31:42.705, value=i20\n",
            " Hyundai              column=model:, timestamp=2021-11-24T04:31:42.705, value=20\n",
            "                      15                                                        \n",
            " Maruti               column=make:, timestamp=2021-11-24T04:31:42.705, value=Omn\n",
            "                      i                                                         \n",
            " Maruti               column=model:, timestamp=2021-11-24T04:31:42.705, value=20\n",
            "                      07                                                        \n",
            "3 row(s)\n",
            "Took 0.7219 seconds                                                             \n",
            "\n"
          ]
        }
      ]
    },
    {
      "cell_type": "markdown",
      "metadata": {
        "id": "O6PP3akdlVKJ"
      },
      "source": [
        "#Stop HBase"
      ]
    },
    {
      "cell_type": "code",
      "metadata": {
        "colab": {
          "base_uri": "https://localhost:8080/"
        },
        "id": "p28XBoitAWTL",
        "outputId": "dd7a744c-06a2-46a4-c5b2-5df654c49bf3"
      },
      "source": [
        "!stop-hbase.sh"
      ],
      "execution_count": 38,
      "outputs": [
        {
          "output_type": "stream",
          "name": "stdout",
          "text": [
            "stopping hbase............\n"
          ]
        }
      ]
    }
  ]
}