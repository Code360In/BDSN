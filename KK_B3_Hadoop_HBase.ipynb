{
  "nbformat": 4,
  "nbformat_minor": 0,
  "metadata": {
    "colab": {
      "name": "KK B3 Hadoop HBase",
      "provenance": [],
      "toc_visible": true,
      "authorship_tag": "ABX9TyN15kshLzgZxqeM91xBBl4o",
      "include_colab_link": true
    },
    "kernelspec": {
      "name": "python3",
      "display_name": "Python 3"
    },
    "language_info": {
      "name": "python"
    }
  },
  "cells": [
    {
      "cell_type": "markdown",
      "metadata": {
        "id": "view-in-github",
        "colab_type": "text"
      },
      "source": [
        "<a href=\"https://colab.research.google.com/github/prithwis/KKolab/blob/main/KK_B3_Hadoop_HBase.ipynb\" target=\"_parent\"><img src=\"https://colab.research.google.com/assets/colab-badge.svg\" alt=\"Open In Colab\"/></a>"
      ]
    },
    {
      "cell_type": "markdown",
      "metadata": {
        "id": "XafE9O3pAmkC"
      },
      "source": [
        "![alt text](https://4.bp.blogspot.com/-gbL5nZDkpFQ/XScFYwoTEII/AAAAAAAAAGY/CcVb_HDLwvs2Brv5T4vSsUcz7O4r2Q79ACK4BGAYYCw/s1600/kk3-header00-beta.png)<br>\n",
        "\n",
        "\n",
        "<hr>\n",
        "\n",
        "[Prithwis Mukerjee](http://www.linkedin.com/in/prithwis)<br>"
      ]
    },
    {
      "cell_type": "markdown",
      "metadata": {
        "id": "GyYTQEpb1htS"
      },
      "source": [
        "#Hadoop \n",
        "Install and Test"
      ]
    },
    {
      "cell_type": "code",
      "metadata": {
        "id": "_r0IOmlc0-Dt"
      },
      "source": [
        "# The default JVM available at /usr/lib/jvm/java-11-openjdk-amd64/  works for Hadoop\n",
        "# But gives errors with Hive https://stackoverflow.com/questions/54037773/hive-exception-class-jdk-internal-loader-classloadersappclassloader-cannot\n",
        "# Hence this JVM needs to be installed\n",
        "!apt-get update > /dev/null\n",
        "!apt-get install openjdk-8-jdk-headless -qq > /dev/null"
      ],
      "execution_count": 1,
      "outputs": []
    },
    {
      "cell_type": "code",
      "metadata": {
        "colab": {
          "base_uri": "https://localhost:8080/"
        },
        "id": "NWspfH6A1a4P",
        "outputId": "8d91ac04-1215-4283-c70a-9bb7e26d9eef"
      },
      "source": [
        "# Download the latest version of Hadoop\n",
        "!wget https://downloads.apache.org/hadoop/common/hadoop-3.3.0/hadoop-3.3.0.tar.gz\n",
        "# Unzip it\n",
        "# the tar command with the -x flag to extract, -z to uncompress, -v for verbose output, and -f to specify that we’re extracting from a file\n",
        "!tar -xzf hadoop-3.3.0.tar.gz\n",
        "#copy  hadoop file to user/local\n",
        "!mv  hadoop-3.3.0/ /usr/local/"
      ],
      "execution_count": 2,
      "outputs": [
        {
          "output_type": "stream",
          "text": [
            "--2021-08-20 12:35:02--  https://downloads.apache.org/hadoop/common/hadoop-3.3.0/hadoop-3.3.0.tar.gz\n",
            "Resolving downloads.apache.org (downloads.apache.org)... 88.99.95.219, 135.181.214.104, 135.181.209.10, ...\n",
            "Connecting to downloads.apache.org (downloads.apache.org)|88.99.95.219|:443... connected.\n",
            "HTTP request sent, awaiting response... 200 OK\n",
            "Length: 500749234 (478M) [application/x-gzip]\n",
            "Saving to: ‘hadoop-3.3.0.tar.gz’\n",
            "\n",
            "hadoop-3.3.0.tar.gz 100%[===================>] 477.55M  24.8MB/s    in 21s     \n",
            "\n",
            "2021-08-20 12:35:24 (22.5 MB/s) - ‘hadoop-3.3.0.tar.gz’ saved [500749234/500749234]\n",
            "\n"
          ],
          "name": "stdout"
        }
      ]
    },
    {
      "cell_type": "code",
      "metadata": {
        "colab": {
          "base_uri": "https://localhost:8080/"
        },
        "id": "24QjQ22V1swJ",
        "outputId": "c36ae84f-20c9-4d80-e9c2-f586a5780764"
      },
      "source": [
        "#To find the default Java path\n",
        "!readlink -f /usr/bin/java | sed \"s:bin/java::\"\n",
        "!ls /usr/lib/jvm/"
      ],
      "execution_count": 3,
      "outputs": [
        {
          "output_type": "stream",
          "text": [
            "/usr/lib/jvm/java-11-openjdk-amd64/\n",
            "default-java\t\t   java-11-openjdk-amd64     java-8-openjdk-amd64\n",
            "java-1.11.0-openjdk-amd64  java-1.8.0-openjdk-amd64\n"
          ],
          "name": "stdout"
        }
      ]
    },
    {
      "cell_type": "markdown",
      "metadata": {
        "id": "Ugibq3m1CbgC"
      },
      "source": [
        "## Set Hadoop Environment"
      ]
    },
    {
      "cell_type": "code",
      "metadata": {
        "id": "1j7WFh5k18E1"
      },
      "source": [
        "#To set java path, go to /usr/local/hadoop-3.3.0/etc/hadoop/hadoop-env.sh then\n",
        "#. . . export JAVA_HOME=/usr/lib/jvm/java-11-openjdk-amd64/ . . .\n",
        "#we have used a simpler alternative route using os.environ - it works\n",
        "\n",
        "import os\n",
        "os.environ[\"JAVA_HOME\"] = \"/usr/lib/jvm/java-8-openjdk-amd64\"   # default is changed\n",
        "#os.environ[\"JAVA_HOME\"] = \"/usr/lib/jvm/java-11-openjdk-amd64/\"\n",
        "os.environ[\"HADOOP_HOME\"] = \"/usr/local/hadoop-3.3.0/\""
      ],
      "execution_count": 4,
      "outputs": []
    },
    {
      "cell_type": "code",
      "metadata": {
        "colab": {
          "base_uri": "https://localhost:8080/"
        },
        "id": "DevjcjSF2ltL",
        "outputId": "be44041c-68d8-4569-da55-e3f0281c4a40"
      },
      "source": [
        "# Get the value of current_path\n",
        "!echo $PATH"
      ],
      "execution_count": 5,
      "outputs": [
        {
          "output_type": "stream",
          "text": [
            "/usr/local/nvidia/bin:/usr/local/cuda/bin:/usr/local/sbin:/usr/local/bin:/usr/sbin:/usr/bin:/sbin:/bin:/tools/node/bin:/tools/google-cloud-sdk/bin:/opt/bin\n"
          ],
          "name": "stdout"
        }
      ]
    },
    {
      "cell_type": "code",
      "metadata": {
        "id": "NaaMpfVP2p3m"
      },
      "source": [
        "# Add Hadoop BIN to PATH\n",
        "# current_path taken from last command\n",
        "current_path = '/usr/local/nvidia/bin:/usr/local/cuda/bin:/usr/local/sbin:/usr/local/bin:/usr/sbin:/usr/bin:/sbin:/bin:/tools/node/bin:/tools/google-cloud-sdk/bin:/opt/bin'\n",
        "new_path = current_path+':/usr/local/hadoop-3.3.0/bin/'\n",
        "os.environ[\"PATH\"] = new_path"
      ],
      "execution_count": 6,
      "outputs": []
    },
    {
      "cell_type": "code",
      "metadata": {
        "id": "ZD34gT3y2u-D"
      },
      "source": [
        "# Testing Hadoop with PI generating sample program, should calculate value of pi = 3.14157500000000000000\n",
        "# pi example\n",
        "#Uncomment the following line if  you want to test Hadoop with pi example\n",
        "#!hadoop jar /usr/local/hadoop-3.3.0/share/hadoop/mapreduce/hadoop-mapreduce-examples-3.3.0.jar pi 16 100000"
      ],
      "execution_count": 7,
      "outputs": []
    },
    {
      "cell_type": "markdown",
      "metadata": {
        "id": "zHwLU0Uo3tLo"
      },
      "source": [
        "#Install HBase"
      ]
    },
    {
      "cell_type": "code",
      "metadata": {
        "colab": {
          "base_uri": "https://localhost:8080/"
        },
        "id": "bODP1xaM3vEB",
        "outputId": "e4003886-5c56-47e4-84e7-ccbdd54faaec"
      },
      "source": [
        "# Get the latest HBase download site from here https://www.apache.org/dyn/closer.lua/hbase/\n",
        "!wget https://mirrors.estointernet.in/apache/hbase/2.4.5/hbase-2.4.5-bin.tar.gz\n",
        "!tar xzf hbase-2.4.5-bin.tar.gz"
      ],
      "execution_count": 8,
      "outputs": [
        {
          "output_type": "stream",
          "text": [
            "--2021-08-20 12:36:33--  https://mirrors.estointernet.in/apache/hbase/2.4.5/hbase-2.4.5-bin.tar.gz\n",
            "Resolving mirrors.estointernet.in (mirrors.estointernet.in)... 43.255.166.254, 2403:8940:3:1::f\n",
            "Connecting to mirrors.estointernet.in (mirrors.estointernet.in)|43.255.166.254|:443... connected.\n",
            "HTTP request sent, awaiting response... 200 OK\n",
            "Length: 282908885 (270M) [application/octet-stream]\n",
            "Saving to: ‘hbase-2.4.5-bin.tar.gz’\n",
            "\n",
            "hbase-2.4.5-bin.tar 100%[===================>] 269.80M  6.38MB/s    in 30s     \n",
            "\n",
            "2021-08-20 12:37:04 (8.99 MB/s) - ‘hbase-2.4.5-bin.tar.gz’ saved [282908885/282908885]\n",
            "\n"
          ],
          "name": "stdout"
        }
      ]
    },
    {
      "cell_type": "markdown",
      "metadata": {
        "id": "kaMtyNOVCiMS"
      },
      "source": [
        "## Set HBase Environment"
      ]
    },
    {
      "cell_type": "code",
      "metadata": {
        "colab": {
          "base_uri": "https://localhost:8080/"
        },
        "id": "p4dc0K7h4f-y",
        "outputId": "388edaa7-0d20-460f-a609-6e9d4c1f270f"
      },
      "source": [
        "#os.environ[\"HIVE_HOME\"] = \"/content/apache-hive-3.1.2-bin\"\n",
        "#!echo $HIVE_HOME\n",
        "os.environ[\"HBASE_HOME\"] = \"/content/hbase-2.4.5/\"\n",
        "!echo $HBASE_HOME"
      ],
      "execution_count": 9,
      "outputs": [
        {
          "output_type": "stream",
          "text": [
            "/content/hbase-2.4.5/\n"
          ],
          "name": "stdout"
        }
      ]
    },
    {
      "cell_type": "code",
      "metadata": {
        "colab": {
          "base_uri": "https://localhost:8080/"
        },
        "id": "LrLGC7ln5Wwx",
        "outputId": "927225fa-d277-47f7-aebe-0a347c91a849"
      },
      "source": [
        "!echo $PATH"
      ],
      "execution_count": 10,
      "outputs": [
        {
          "output_type": "stream",
          "text": [
            "/usr/local/nvidia/bin:/usr/local/cuda/bin:/usr/local/sbin:/usr/local/bin:/usr/sbin:/usr/bin:/sbin:/bin:/tools/node/bin:/tools/google-cloud-sdk/bin:/opt/bin:/usr/local/hadoop-3.3.0/bin/\n"
          ],
          "name": "stdout"
        }
      ]
    },
    {
      "cell_type": "code",
      "metadata": {
        "colab": {
          "base_uri": "https://localhost:8080/"
        },
        "id": "DqXZ_kF65VXK",
        "outputId": "60629ad9-450a-4f96-cb1a-8a4baf90a7f3"
      },
      "source": [
        "# current_path taken from command in previous cell\n",
        "current_path = '/usr/local/nvidia/bin:/usr/local/cuda/bin:/usr/local/sbin:/usr/local/bin:/usr/sbin:/usr/bin:/sbin:/bin:/tools/node/bin:/tools/google-cloud-sdk/bin:/opt/bin:/usr/local/hadoop-3.3.0/bin/'\n",
        "new_path = current_path+':/content/hbase-2.4.5/bin'\n",
        "os.environ[\"PATH\"] = new_path\n",
        "!echo $PATH"
      ],
      "execution_count": 11,
      "outputs": [
        {
          "output_type": "stream",
          "text": [
            "/usr/local/nvidia/bin:/usr/local/cuda/bin:/usr/local/sbin:/usr/local/bin:/usr/sbin:/usr/bin:/sbin:/bin:/tools/node/bin:/tools/google-cloud-sdk/bin:/opt/bin:/usr/local/hadoop-3.3.0/bin/:/content/hbase-2.4.5/bin\n"
          ],
          "name": "stdout"
        }
      ]
    },
    {
      "cell_type": "code",
      "metadata": {
        "colab": {
          "base_uri": "https://localhost:8080/"
        },
        "id": "ZrS6BL5k51Bl",
        "outputId": "a6f7bb5d-bc85-4e41-dc25-d08aa8145f30"
      },
      "source": [
        "!echo $JAVA_HOME\n",
        "!echo $HADOOP_HOME\n",
        "!echo $HBASE_HOME"
      ],
      "execution_count": 12,
      "outputs": [
        {
          "output_type": "stream",
          "text": [
            "/usr/lib/jvm/java-8-openjdk-amd64\n",
            "/usr/local/hadoop-3.3.0/\n",
            "/content/hbase-2.4.5/\n"
          ],
          "name": "stdout"
        }
      ]
    },
    {
      "cell_type": "code",
      "metadata": {
        "id": "9kDmgFfh6a12"
      },
      "source": [
        "# the file hbase-site.xml may need to be updated ...\n",
        "# however the default file works well in the simple stand-alone HBase mode\n",
        "# so no need to touch it\n",
        "#!cat $HBASE_HOME/conf/hbase-site.xml"
      ],
      "execution_count": 13,
      "outputs": []
    },
    {
      "cell_type": "markdown",
      "metadata": {
        "id": "BWn-DJ1PDbXd"
      },
      "source": [
        "## Some Clean UP\n",
        "Otherwise we get ugly warnings"
      ]
    },
    {
      "cell_type": "code",
      "metadata": {
        "colab": {
          "base_uri": "https://localhost:8080/"
        },
        "id": "bKG7t8sQDj2t",
        "outputId": "b7500f05-0994-4b1d-be28-c923361ff630"
      },
      "source": [
        "# locate multiple instances of slf4j ...\n",
        "!ls $HADOOP_HOME/share/hadoop/common/lib/*slf4j*\n",
        "!ls $HBASE_HOME/lib/*slf4j*"
      ],
      "execution_count": 14,
      "outputs": [
        {
          "output_type": "stream",
          "text": [
            "/usr/local/hadoop-3.3.0//share/hadoop/common/lib/jul-to-slf4j-1.7.25.jar\n",
            "/usr/local/hadoop-3.3.0//share/hadoop/common/lib/slf4j-api-1.7.25.jar\n",
            "/usr/local/hadoop-3.3.0//share/hadoop/common/lib/slf4j-log4j12-1.7.25.jar\n",
            "/content/hbase-2.4.5//lib/jcl-over-slf4j-1.7.30.jar\n",
            "/content/hbase-2.4.5//lib/jul-to-slf4j-1.7.30.jar\n"
          ],
          "name": "stdout"
        }
      ]
    },
    {
      "cell_type": "code",
      "metadata": {
        "id": "6OaOkjD5EOr0"
      },
      "source": [
        "# remove the Hadoop logger out of the path\n",
        "# without this you will get ugly warnings every time\n",
        "!mv /usr/local/hadoop-3.3.0//share/hadoop/common/lib/slf4j-log4j12-1.7.25.jar ."
      ],
      "execution_count": 15,
      "outputs": []
    },
    {
      "cell_type": "markdown",
      "metadata": {
        "id": "uA03iA4XFN_E"
      },
      "source": [
        "## Start HBase server"
      ]
    },
    {
      "cell_type": "code",
      "metadata": {
        "colab": {
          "base_uri": "https://localhost:8080/"
        },
        "id": "GMQHzlCO7MDC",
        "outputId": "0b770c5c-9d6e-49a5-c5cd-b797f851ae84"
      },
      "source": [
        "!start-hbase.sh"
      ],
      "execution_count": 16,
      "outputs": [
        {
          "output_type": "stream",
          "text": [
            "running master, logging to /content/hbase-2.4.5//logs/hbase--master-eb71fbb14f33.out\n"
          ],
          "name": "stdout"
        }
      ]
    },
    {
      "cell_type": "code",
      "metadata": {
        "colab": {
          "base_uri": "https://localhost:8080/"
        },
        "id": "v1imUqpf7apm",
        "outputId": "c7cc75da-5de4-4b16-ccbe-6022a037a655"
      },
      "source": [
        "!jps"
      ],
      "execution_count": 17,
      "outputs": [
        {
          "output_type": "stream",
          "text": [
            "1475 Jps\n",
            "1308 HMaster\n"
          ],
          "name": "stdout"
        }
      ]
    },
    {
      "cell_type": "markdown",
      "metadata": {
        "id": "gd6mdgPSFSvB"
      },
      "source": [
        "# Run Hbase Shell"
      ]
    },
    {
      "cell_type": "code",
      "metadata": {
        "colab": {
          "base_uri": "https://localhost:8080/"
        },
        "id": "42DJQfpY7oqe",
        "outputId": "885120af-1d31-477a-dc5d-8d972788ae36"
      },
      "source": [
        "# you can enter hbase shell commands at the prompt. Double click on the prompt to open up a input box\n",
        "!hbase shell "
      ],
      "execution_count": 18,
      "outputs": [
        {
          "output_type": "stream",
          "text": [
            "HBase Shell\n",
            "Use \"help\" to get list of supported commands.\n",
            "Use \"exit\" to quit this interactive shell.\n",
            "For Reference, please visit: http://hbase.apache.org/2.0/book.html#shell\n",
            "Version 2.4.5, r03b8c0cf426cbae3284225b73040ec574d5bac34, Tue Jul 27 09:44:16 PDT 2021\n",
            "Took 0.0025 seconds                                                             \n",
            "hbase:001:0> exit\n"
          ],
          "name": "stdout"
        }
      ]
    },
    {
      "cell_type": "markdown",
      "metadata": {
        "id": "qhuHJF4lH6f6"
      },
      "source": [
        "shell commands https://www.corejavaguru.com/bigdata/hbase-tutorial/shell-commands"
      ]
    },
    {
      "cell_type": "code",
      "metadata": {
        "colab": {
          "base_uri": "https://localhost:8080/"
        },
        "id": "cQdbisL2GQtE",
        "outputId": "fefcb165-ea9f-4d2d-92c7-db0cd2a084ab"
      },
      "source": [
        "!echo 'status' | hbase shell -n"
      ],
      "execution_count": 19,
      "outputs": [
        {
          "output_type": "stream",
          "text": [
            "1 active master, 0 backup masters, 1 servers, 0 dead, 2.0000 average load\n",
            "Took 0.8094 seconds                                                             \n",
            "\n"
          ],
          "name": "stdout"
        }
      ]
    },
    {
      "cell_type": "code",
      "metadata": {
        "id": "0OvCnX8SGkPG"
      },
      "source": [
        "#!echo \"status 'detail'\" | hbase shell -n"
      ],
      "execution_count": 20,
      "outputs": []
    },
    {
      "cell_type": "code",
      "metadata": {
        "colab": {
          "base_uri": "https://localhost:8080/"
        },
        "id": "NYhR2DpgIbnU",
        "outputId": "73aaa6bd-9bba-478f-cf52-08ebf67977a7"
      },
      "source": [
        "!echo \"whoami\" | hbase shell -n"
      ],
      "execution_count": 21,
      "outputs": [
        {
          "output_type": "stream",
          "text": [
            "root (auth:SIMPLE)\n",
            "    groups: root\n",
            "Took 0.0205 seconds                                                             \n",
            "\n"
          ],
          "name": "stdout"
        }
      ]
    },
    {
      "cell_type": "markdown",
      "metadata": {
        "id": "psoYaCFmAItK"
      },
      "source": [
        "## Simple Tutorial\n",
        "command line tutorial https://akbarahmed.com/2012/08/13/hbase-command-line-tutorial/"
      ]
    },
    {
      "cell_type": "code",
      "metadata": {
        "colab": {
          "base_uri": "https://localhost:8080/"
        },
        "id": "vG4pok6AJu0V",
        "outputId": "1703c5d6-6275-4cb6-f172-5cc7d2358414"
      },
      "source": [
        "!echo \"create 'table1', 'columnfamily1'\" | hbase shell -n"
      ],
      "execution_count": 22,
      "outputs": [
        {
          "output_type": "stream",
          "text": [
            "Created table table1\n",
            "Took 1.3966 seconds                                                             \n",
            "Hbase::Table - table1\n"
          ],
          "name": "stdout"
        }
      ]
    },
    {
      "cell_type": "code",
      "metadata": {
        "colab": {
          "base_uri": "https://localhost:8080/"
        },
        "id": "Mb26zNcdKJpC",
        "outputId": "850d8fa9-110c-4dab-8741-cdfc9bc23b95"
      },
      "source": [
        "!echo \"list\" | hbase shell -n"
      ],
      "execution_count": 23,
      "outputs": [
        {
          "output_type": "stream",
          "text": [
            "TABLE                                                                           \n",
            "table1                                                                          \n",
            "1 row(s)\n",
            "Took 0.7527 seconds                                                             \n",
            "table1\n"
          ],
          "name": "stdout"
        }
      ]
    },
    {
      "cell_type": "code",
      "metadata": {
        "colab": {
          "base_uri": "https://localhost:8080/"
        },
        "id": "xb9m6ahLKxDK",
        "outputId": "9b636e6f-47d0-40bf-e324-9f76d520ced4"
      },
      "source": [
        "!echo \"create 'cars', 'vi'\" | hbase shell -n"
      ],
      "execution_count": 24,
      "outputs": [
        {
          "output_type": "stream",
          "text": [
            "Created table cars\n",
            "Took 1.4585 seconds                                                             \n",
            "Hbase::Table - cars\n"
          ],
          "name": "stdout"
        }
      ]
    },
    {
      "cell_type": "code",
      "metadata": {
        "colab": {
          "base_uri": "https://localhost:8080/"
        },
        "id": "InyhsYkXK_j9",
        "outputId": "264d94cf-3edd-4534-c923-531df802db48"
      },
      "source": [
        "!echo \"list\" | hbase shell -n"
      ],
      "execution_count": 25,
      "outputs": [
        {
          "output_type": "stream",
          "text": [
            "TABLE                                                                           \n",
            "cars                                                                            \n",
            "table1                                                                          \n",
            "2 row(s)\n",
            "Took 0.7776 seconds                                                             \n",
            "cars\n",
            "table1\n"
          ],
          "name": "stdout"
        }
      ]
    },
    {
      "cell_type": "code",
      "metadata": {
        "colab": {
          "base_uri": "https://localhost:8080/"
        },
        "id": "L1ktyGL5LHG7",
        "outputId": "17aad2f3-f341-4d44-9295-bef9144fff05"
      },
      "source": [
        "# add ONE row\n",
        "# nearly THREE seconds per row ... what will you do with a million rows? wait for bulk loader\n",
        "!echo \"put 'cars', 'row1', 'vi:make', 'bmw'\" | hbase shell -n\n",
        "!echo \"put 'cars', 'row1', 'vi:model', '5 series'\" | hbase shell -n\n",
        "!echo \"put 'cars', 'row1', 'vi:year', '2012'\" | hbase shell -n"
      ],
      "execution_count": 26,
      "outputs": [
        {
          "output_type": "stream",
          "text": [
            "Took 0.8337 seconds                                                             \n",
            "\n",
            "Took 0.7693 seconds                                                             \n",
            "\n",
            "Took 0.7367 seconds                                                             \n",
            "\n"
          ],
          "name": "stdout"
        }
      ]
    },
    {
      "cell_type": "code",
      "metadata": {
        "colab": {
          "base_uri": "https://localhost:8080/"
        },
        "id": "aDyHCB9_MsUy",
        "outputId": "bef6f89b-1607-4c3b-a646-b1750c68c921"
      },
      "source": [
        "# add ONE row\n",
        "!echo \"put 'cars', 'row2', 'vi:make', 'mercedes'\" | hbase shell -n\n",
        "!echo \"put 'cars', 'row2', 'vi:model', 'e class'\" | hbase shell -n\n",
        "!echo \"put 'cars', 'row2', 'vi:year', '2012'\" | hbase shell -n"
      ],
      "execution_count": 27,
      "outputs": [
        {
          "output_type": "stream",
          "text": [
            "Took 0.7768 seconds                                                             \n",
            "\n",
            "Took 0.7208 seconds                                                             \n",
            "\n",
            "Took 0.7902 seconds                                                             \n",
            "\n"
          ],
          "name": "stdout"
        }
      ]
    },
    {
      "cell_type": "code",
      "metadata": {
        "colab": {
          "base_uri": "https://localhost:8080/"
        },
        "id": "YJ2RISDNN1gT",
        "outputId": "d093e05f-7e1e-415e-e031-26a7109db5e1"
      },
      "source": [
        "!echo \"scan 'cars'\" | hbase shell -n"
      ],
      "execution_count": 28,
      "outputs": [
        {
          "output_type": "stream",
          "text": [
            "ROW                   COLUMN+CELL                                               \n",
            " row1                 column=vi:make, timestamp=2021-08-20T12:42:19.255, value=b\n",
            "                      mw                                                        \n",
            " row1                 column=vi:model, timestamp=2021-08-20T12:43:31.896, value=\n",
            "                      5 series                                                  \n",
            " row1                 column=vi:year, timestamp=2021-08-20T12:44:44.344, value=2\n",
            "                      012                                                       \n",
            " row2                 column=vi:make, timestamp=2021-08-20T12:46:07.789, value=m\n",
            "                      ercedes                                                   \n",
            " row2                 column=vi:model, timestamp=2021-08-20T12:47:20.382, value=\n",
            "                      e class                                                   \n",
            " row2                 column=vi:year, timestamp=2021-08-20T12:48:32.821, value=2\n",
            "                      012                                                       \n",
            "2 row(s)\n",
            "Took 0.8243 seconds                                                             \n",
            "\n"
          ],
          "name": "stdout"
        }
      ]
    },
    {
      "cell_type": "code",
      "metadata": {
        "colab": {
          "base_uri": "https://localhost:8080/"
        },
        "id": "sMadzGtQOVpM",
        "outputId": "7841e6e1-445b-4fd2-cdfe-a6d5d6dc4317"
      },
      "source": [
        "!echo \"scan 'cars', {COLUMNS => ['vi:make']}\" | hbase shell -n"
      ],
      "execution_count": null,
      "outputs": [
        {
          "output_type": "stream",
          "text": [
            "ROW                   COLUMN+CELL                                               \n",
            " row1                 column=vi:make, timestamp=2021-08-18T15:17:57.993, value=b\n",
            "                      mw                                                        \n",
            " row2                 column=vi:make, timestamp=2021-08-18T15:23:17.595, value=m\n",
            "                      ercedes                                                   \n",
            "2 row(s)\n",
            "Took 0.9002 seconds                                                             \n",
            "\n"
          ],
          "name": "stdout"
        }
      ]
    },
    {
      "cell_type": "code",
      "metadata": {
        "colab": {
          "base_uri": "https://localhost:8080/"
        },
        "id": "KBFVcL95PgSB",
        "outputId": "7b006722-c9d5-4fc5-806a-0d534c827454"
      },
      "source": [
        "!echo \"disable 'cars'\" | hbase shell -n\n",
        "!echo \"drop 'cars'\" | hbase shell -n"
      ],
      "execution_count": 29,
      "outputs": [
        {
          "output_type": "stream",
          "text": [
            "Took 1.2172 seconds                                                             \n",
            "\n",
            "Took 1.2269 seconds                                                             \n",
            "\n"
          ],
          "name": "stdout"
        }
      ]
    },
    {
      "cell_type": "markdown",
      "metadata": {
        "id": "EztkGD3HPYhb"
      },
      "source": [
        "#Bulk Data Load\n",
        "https://people.apache.org/~stack/site/bulk-loads.html"
      ]
    },
    {
      "cell_type": "code",
      "metadata": {
        "colab": {
          "base_uri": "https://localhost:8080/"
        },
        "id": "v3z4W7zYzbEP",
        "outputId": "d1d6b4dd-7211-4490-89ac-1970fba3fded"
      },
      "source": [
        "#Data as CSV file\n",
        "!gdown https://drive.google.com/uc?id=1B6szzHNG7BCToKOktRiGUfFblrp1f_GC  # cars2.csv"
      ],
      "execution_count": 30,
      "outputs": [
        {
          "output_type": "stream",
          "text": [
            "Downloading...\n",
            "From: https://drive.google.com/uc?id=1B6szzHNG7BCToKOktRiGUfFblrp1f_GC\n",
            "To: /content/cars2.csv\n",
            "\r  0% 0.00/54.0 [00:00<?, ?B/s]\r100% 54.0/54.0 [00:00<00:00, 117kB/s]\n"
          ],
          "name": "stdout"
        }
      ]
    },
    {
      "cell_type": "code",
      "metadata": {
        "colab": {
          "base_uri": "https://localhost:8080/"
        },
        "id": "rBJ063HuoDhA",
        "outputId": "dd9ca8ad-56ae-412e-f3c2-3a64d1ad1a36"
      },
      "source": [
        "# see the data\n",
        "!cat cars2.csv"
      ],
      "execution_count": 31,
      "outputs": [
        {
          "output_type": "stream",
          "text": [
            "Ford,Ecosport,2019\r\n",
            "Hyundai,i20,2015\r\n",
            "Maruti,Omni,2007"
          ],
          "name": "stdout"
        }
      ]
    },
    {
      "cell_type": "code",
      "metadata": {
        "colab": {
          "base_uri": "https://localhost:8080/"
        },
        "id": "EkEIeHtHkc3L",
        "outputId": "36570634-5846-4c66-d2d7-221aae50157c"
      },
      "source": [
        "!echo \"disable 'cars2'\" | hbase shell -n\n",
        "!echo \"drop 'cars2'\" | hbase shell -n"
      ],
      "execution_count": null,
      "outputs": [
        {
          "output_type": "stream",
          "text": [
            "Took 0.8584 seconds                                                             ERROR ArgumentError: Table cars2 does not exist.\n",
            "Took 0.7330 seconds                                                             ERROR ArgumentError: Table cars2 does not exist.\n"
          ],
          "name": "stdout"
        }
      ]
    },
    {
      "cell_type": "code",
      "metadata": {
        "colab": {
          "base_uri": "https://localhost:8080/"
        },
        "id": "rOlmaKHFewdi",
        "outputId": "51c07222-1868-4c6e-d4b5-82acabaf5215"
      },
      "source": [
        "#create 'sensor','temp','vibration','pressure'\n",
        "!echo \"create 'cars2', 'make','model','year'\" | hbase shell -n"
      ],
      "execution_count": 32,
      "outputs": [
        {
          "output_type": "stream",
          "text": [
            "Created table cars2\n",
            "Took 1.3799 seconds                                                             \n",
            "Hbase::Table - cars2\n"
          ],
          "name": "stdout"
        }
      ]
    },
    {
      "cell_type": "code",
      "metadata": {
        "colab": {
          "base_uri": "https://localhost:8080/"
        },
        "id": "Hg002j_6fKQx",
        "outputId": "271d2968-e687-4aa0-994f-0befebc7feb1"
      },
      "source": [
        "!echo \"list\" | hbase shell -n"
      ],
      "execution_count": 33,
      "outputs": [
        {
          "output_type": "stream",
          "text": [
            "TABLE                                                                           \n",
            "cars2                                                                           \n",
            "table1                                                                          \n",
            "2 row(s)\n",
            "Took 0.7047 seconds                                                             \n",
            "cars2\n",
            "table1\n"
          ],
          "name": "stdout"
        }
      ]
    },
    {
      "cell_type": "code",
      "metadata": {
        "colab": {
          "base_uri": "https://localhost:8080/"
        },
        "id": "L0xLDl6_iHBA",
        "outputId": "44a67185-e541-4a18-a2b6-ca1b795d2ca3"
      },
      "source": [
        "!cat cars2.csv"
      ],
      "execution_count": null,
      "outputs": [
        {
          "output_type": "stream",
          "text": [
            "Ford,Ecosport,2019\r\n",
            "Hyundai,i20,2015\r\n",
            "Maruti,Omni,2007"
          ],
          "name": "stdout"
        }
      ]
    },
    {
      "cell_type": "code",
      "metadata": {
        "colab": {
          "base_uri": "https://localhost:8080/"
        },
        "id": "EYhznehYfZiC",
        "outputId": "c4f694ef-6ee1-44bd-882c-33290cd69e44"
      },
      "source": [
        "# input file has to be moved from regular file system to HDFS file system\n",
        "!hdfs dfs -copyFromLocal cars2.csv /tmp"
      ],
      "execution_count": 34,
      "outputs": [
        {
          "output_type": "stream",
          "text": [
            "SLF4J: Failed to load class \"org.slf4j.impl.StaticLoggerBinder\".\n",
            "SLF4J: Defaulting to no-operation (NOP) logger implementation\n",
            "SLF4J: See http://www.slf4j.org/codes.html#StaticLoggerBinder for further details.\n"
          ],
          "name": "stdout"
        }
      ]
    },
    {
      "cell_type": "code",
      "metadata": {
        "colab": {
          "base_uri": "https://localhost:8080/"
        },
        "id": "CF5loP6EfxuW",
        "outputId": "baf1badb-d9f8-409a-b89d-e3bbe120a531"
      },
      "source": [
        "# https://community.cloudera.com/t5/Community-Articles/Import-CSV-data-into-HBase-using-importtsv/ta-p/244842\n",
        "#hbase org.apache.hadoop.hbase.mapreduce.ImportTsv -Dimporttsv.separator=,  -Dimporttsv.columns=\"HBASE_ROW_KEY,id,temp:in,temp:out,vibration,pressure:in,pressure:out\" sensor hdfs://sandbox.hortonworks.com:/tmp/hbase.csv\n",
        "!hbase org.apache.hadoop.hbase.mapreduce.ImportTsv -Dimporttsv.separator=','  -Dimporttsv.columns=\"HBASE_ROW_KEY,make,model,year\" cars2 /tmp/cars2.csv"
      ],
      "execution_count": 35,
      "outputs": [
        {
          "output_type": "stream",
          "text": [
            "2021-08-20 12:55:58,815 INFO  [ReadOnlyZKClient-127.0.0.1:2181@0x367ffa75] zookeeper.ZooKeeper: Client environment:zookeeper.version=3.5.7-f0fdd52973d373ffd9c86b81d99842dc2c7f660e, built on 02/10/2020 11:30 GMT\n",
            "2021-08-20 12:55:58,815 INFO  [ReadOnlyZKClient-127.0.0.1:2181@0x367ffa75] zookeeper.ZooKeeper: Client environment:host.name=eb71fbb14f33\n",
            "2021-08-20 12:55:58,815 INFO  [ReadOnlyZKClient-127.0.0.1:2181@0x367ffa75] zookeeper.ZooKeeper: Client environment:java.version=1.8.0_292\n",
            "2021-08-20 12:55:58,815 INFO  [ReadOnlyZKClient-127.0.0.1:2181@0x367ffa75] zookeeper.ZooKeeper: Client environment:java.vendor=Private Build\n",
            "2021-08-20 12:55:58,815 INFO  [ReadOnlyZKClient-127.0.0.1:2181@0x367ffa75] zookeeper.ZooKeeper: Client environment:java.home=/usr/lib/jvm/java-8-openjdk-amd64/jre\n",
            "2021-08-20 12:55:58,816 INFO  [ReadOnlyZKClient-127.0.0.1:2181@0x367ffa75] zookeeper.ZooKeeper: p-3.3.0//share/hadoop/yarn/hadoop-yarn-server-web-proxy-3.3.0.jar:/usr/local/hadoop-3.3.0//share/hadoop/yarn/hadoop-yarn-server-applicationhistoryservice-3.3.0.jar:/usr/local/hadoop-3.3.0//share/hadoop/yarn/hadoop-yarn-applications-unmanaged-am-launcher-3.3.0.jar:/usr/local/hadoop-3.3.0//share/hadoop/yarn/hadoop-yarn-services-api-3.3.0.jar:/usr/local/hadoop-3.3.0//share/hadoop/yarn/hadoop-yarn-applications-mawo-core-3.3.0.jar:/usr/local/hadoop-3.3.0//share/hadoop/yarn/hadoop-yarn-server-common-3.3.0.jar:/usr/local/hadoop-3.3.0//share/hadoop/yarn/hadoop-yarn-applications-distributedshell-3.3.0.jar:/usr/local/hadoop-3.3.0//share/hadoop/yarn/hadoop-yarn-server-sharedcachemanager-3.3.0.jar:/usr/local/hadoop-3.3.0//share/hadoop/yarn/hadoop-yarn-registry-3.3.0.jar:/usr/local/hadoop-3.3.0//share/hadoop/yarn/hadoop-yarn-common-3.3.0.jar:/usr/local/hadoop-3.3.0//share/hadoop/yarn/hadoop-yarn-server-nodemanager-3.3.0.jar:/content/hbase-2.4.5//lib/client-facing-thirdparty/slf4j-log4j12-1.7.30.jar\n",
            "2021-08-20 12:55:58,816 INFO  [ReadOnlyZKClient-127.0.0.1:2181@0x367ffa75] zookeeper.ZooKeeper: Client environment:java.library.path=/usr/local/hadoop-3.3.0//lib/native\n",
            "2021-08-20 12:55:58,816 INFO  [ReadOnlyZKClient-127.0.0.1:2181@0x367ffa75] zookeeper.ZooKeeper: Client environment:java.io.tmpdir=/tmp\n",
            "2021-08-20 12:55:58,816 INFO  [ReadOnlyZKClient-127.0.0.1:2181@0x367ffa75] zookeeper.ZooKeeper: Client environment:java.compiler=<NA>\n",
            "2021-08-20 12:55:58,816 INFO  [ReadOnlyZKClient-127.0.0.1:2181@0x367ffa75] zookeeper.ZooKeeper: Client environment:os.name=Linux\n",
            "2021-08-20 12:55:58,816 INFO  [ReadOnlyZKClient-127.0.0.1:2181@0x367ffa75] zookeeper.ZooKeeper: Client environment:os.arch=amd64\n",
            "2021-08-20 12:55:58,816 INFO  [ReadOnlyZKClient-127.0.0.1:2181@0x367ffa75] zookeeper.ZooKeeper: Client environment:os.version=5.4.104+\n",
            "2021-08-20 12:55:58,816 INFO  [ReadOnlyZKClient-127.0.0.1:2181@0x367ffa75] zookeeper.ZooKeeper: Client environment:user.name=root\n",
            "2021-08-20 12:55:58,816 INFO  [ReadOnlyZKClient-127.0.0.1:2181@0x367ffa75] zookeeper.ZooKeeper: Client environment:user.home=/root\n",
            "2021-08-20 12:55:58,816 INFO  [ReadOnlyZKClient-127.0.0.1:2181@0x367ffa75] zookeeper.ZooKeeper: Client environment:user.dir=/content\n",
            "2021-08-20 12:55:58,816 INFO  [ReadOnlyZKClient-127.0.0.1:2181@0x367ffa75] zookeeper.ZooKeeper: Client environment:os.memory.free=178MB\n",
            "2021-08-20 12:55:58,816 INFO  [ReadOnlyZKClient-127.0.0.1:2181@0x367ffa75] zookeeper.ZooKeeper: Client environment:os.memory.max=3231MB\n",
            "2021-08-20 12:55:58,816 INFO  [ReadOnlyZKClient-127.0.0.1:2181@0x367ffa75] zookeeper.ZooKeeper: Client environment:os.memory.total=197MB\n",
            "2021-08-20 12:55:58,820 INFO  [ReadOnlyZKClient-127.0.0.1:2181@0x367ffa75] zookeeper.ZooKeeper: Initiating client connection, connectString=127.0.0.1:2181 sessionTimeout=90000 watcher=org.apache.hadoop.hbase.zookeeper.ReadOnlyZKClient$$Lambda$15/76328085@5f92768e\n",
            "2021-08-20 12:55:58,827 INFO  [ReadOnlyZKClient-127.0.0.1:2181@0x367ffa75] common.X509Util: Setting -D jdk.tls.rejectClientInitiatedRenegotiation=true to disable client-initiated TLS renegotiation\n",
            "2021-08-20 12:55:58,834 INFO  [ReadOnlyZKClient-127.0.0.1:2181@0x367ffa75] zookeeper.ClientCnxnSocket: jute.maxbuffer value is 4194304 Bytes\n",
            "2021-08-20 12:55:58,843 INFO  [ReadOnlyZKClient-127.0.0.1:2181@0x367ffa75] zookeeper.ClientCnxn: zookeeper.request.timeout value is 0. feature enabled=\n",
            "2021-08-20 12:55:58,855 INFO  [ReadOnlyZKClient-127.0.0.1:2181@0x367ffa75-SendThread(127.0.0.1:2181)] zookeeper.ClientCnxn: Opening socket connection to server localhost/127.0.0.1:2181. Will not attempt to authenticate using SASL (unknown error)\n",
            "2021-08-20 12:55:58,860 INFO  [ReadOnlyZKClient-127.0.0.1:2181@0x367ffa75-SendThread(127.0.0.1:2181)] zookeeper.ClientCnxn: Socket connection established, initiating session, client: /127.0.0.1:50534, server: localhost/127.0.0.1:2181\n",
            "2021-08-20 12:55:58,870 INFO  [ReadOnlyZKClient-127.0.0.1:2181@0x367ffa75-SendThread(127.0.0.1:2181)] zookeeper.ClientCnxn: Session establishment complete on server localhost/127.0.0.1:2181, sessionid = 0x1000005bcfb0017, negotiated timeout = 40000\n",
            "2021-08-20 12:56:00,262 INFO  [main] Configuration.deprecation: session.id is deprecated. Instead, use dfs.metrics.session-id\n",
            "2021-08-20 12:56:00,263 INFO  [main] jvm.JvmMetrics: Initializing JVM Metrics with processName=JobTracker, sessionId=\n",
            "2021-08-20 12:56:00,336 INFO  [ReadOnlyZKClient-127.0.0.1:2181@0x367ffa75] zookeeper.ZooKeeper: Session: 0x1000005bcfb0017 closed\n",
            "2021-08-20 12:56:00,336 INFO  [ReadOnlyZKClient-127.0.0.1:2181@0x367ffa75-EventThread] zookeeper.ClientCnxn: EventThread shut down for session: 0x1000005bcfb0017\n",
            "2021-08-20 12:56:00,401 INFO  [ReadOnlyZKClient-127.0.0.1:2181@0x6c8bca63] zookeeper.ZooKeeper: Initiating client connection, connectString=127.0.0.1:2181 sessionTimeout=90000 watcher=org.apache.hadoop.hbase.zookeeper.ReadOnlyZKClient$$Lambda$15/76328085@5f92768e\n",
            "2021-08-20 12:56:00,401 INFO  [ReadOnlyZKClient-127.0.0.1:2181@0x6c8bca63] zookeeper.ClientCnxnSocket: jute.maxbuffer value is 4194304 Bytes\n",
            "2021-08-20 12:56:00,401 INFO  [ReadOnlyZKClient-127.0.0.1:2181@0x6c8bca63] zookeeper.ClientCnxn: zookeeper.request.timeout value is 0. feature enabled=\n",
            "2021-08-20 12:56:00,402 INFO  [ReadOnlyZKClient-127.0.0.1:2181@0x6c8bca63-SendThread(127.0.0.1:2181)] zookeeper.ClientCnxn: Opening socket connection to server localhost/127.0.0.1:2181. Will not attempt to authenticate using SASL (unknown error)\n",
            "2021-08-20 12:56:00,403 INFO  [ReadOnlyZKClient-127.0.0.1:2181@0x6c8bca63-SendThread(127.0.0.1:2181)] zookeeper.ClientCnxn: Socket connection established, initiating session, client: /127.0.0.1:50540, server: localhost/127.0.0.1:2181\n",
            "2021-08-20 12:56:00,407 INFO  [ReadOnlyZKClient-127.0.0.1:2181@0x6c8bca63-SendThread(127.0.0.1:2181)] zookeeper.ClientCnxn: Session establishment complete on server localhost/127.0.0.1:2181, sessionid = 0x1000005bcfb0018, negotiated timeout = 40000\n",
            "2021-08-20 12:56:00,555 INFO  [ReadOnlyZKClient-127.0.0.1:2181@0x6c8bca63] zookeeper.ZooKeeper: Session: 0x1000005bcfb0018 closed\n",
            "2021-08-20 12:56:00,555 INFO  [ReadOnlyZKClient-127.0.0.1:2181@0x6c8bca63-EventThread] zookeeper.ClientCnxn: EventThread shut down for session: 0x1000005bcfb0018\n",
            "2021-08-20 12:56:00,596 INFO  [main] input.FileInputFormat: Total input files to process : 1\n",
            "2021-08-20 12:56:00,629 INFO  [main] mapreduce.JobSubmitter: number of splits:1\n",
            "2021-08-20 12:56:00,851 INFO  [main] mapreduce.JobSubmitter: Submitting tokens for job: job_local1272555341_0001\n",
            "2021-08-20 12:56:01,196 INFO  [main] mapred.LocalDistributedCacheManager: Creating symlink: /tmp/hadoop-root/mapred/local/1629464160981/libjars <- /content/libjars/*\n",
            "2021-08-20 12:56:01,205 WARN  [main] fs.FileUtil: Command 'ln -s /tmp/hadoop-root/mapred/local/1629464160981/libjars /content/libjars/*' failed 1 with: ln: failed to create symbolic link '/content/libjars/*': No such file or directory\n",
            "\n",
            "2021-08-20 12:56:01,205 WARN  [main] mapred.LocalDistributedCacheManager: Failed to create symlink: /tmp/hadoop-root/mapred/local/1629464160981/libjars <- /content/libjars/*\n",
            "2021-08-20 12:56:01,205 INFO  [main] mapred.LocalDistributedCacheManager: Localized file:/tmp/hadoop-root/mapred/staging/root1272555341/.staging/job_local1272555341_0001/libjars as file:/tmp/hadoop-root/mapred/local/1629464160981/libjars\n",
            "2021-08-20 12:56:01,322 INFO  [main] mapreduce.Job: The url to track the job: http://localhost:8080/\n",
            "2021-08-20 12:56:01,323 INFO  [main] mapreduce.Job: Running job: job_local1272555341_0001\n",
            "2021-08-20 12:56:01,329 INFO  [Thread-7] mapred.LocalJobRunner: OutputCommitter set in config null\n",
            "2021-08-20 12:56:01,358 INFO  [Thread-7] mapred.LocalJobRunner: OutputCommitter is org.apache.hadoop.hbase.mapreduce.TableOutputCommitter\n",
            "2021-08-20 12:56:01,393 INFO  [Thread-7] mapred.LocalJobRunner: Waiting for map tasks\n",
            "2021-08-20 12:56:01,394 INFO  [LocalJobRunner Map Task Executor #0] mapred.LocalJobRunner: Starting task: attempt_local1272555341_0001_m_000000_0\n",
            "2021-08-20 12:56:01,476 INFO  [LocalJobRunner Map Task Executor #0] mapred.Task:  Using ResourceCalculatorProcessTree : [ ]\n",
            "2021-08-20 12:56:01,502 INFO  [LocalJobRunner Map Task Executor #0] mapred.MapTask: Processing split: file:/tmp/cars2.csv:0+54\n",
            "2021-08-20 12:56:01,521 INFO  [ReadOnlyZKClient-127.0.0.1:2181@0x7c83f39d] zookeeper.ZooKeeper: Initiating client connection, connectString=127.0.0.1:2181 sessionTimeout=90000 watcher=org.apache.hadoop.hbase.zookeeper.ReadOnlyZKClient$$Lambda$15/76328085@5f92768e\n",
            "2021-08-20 12:56:01,521 INFO  [ReadOnlyZKClient-127.0.0.1:2181@0x7c83f39d] zookeeper.ClientCnxnSocket: jute.maxbuffer value is 4194304 Bytes\n",
            "2021-08-20 12:56:01,522 INFO  [ReadOnlyZKClient-127.0.0.1:2181@0x7c83f39d] zookeeper.ClientCnxn: zookeeper.request.timeout value is 0. feature enabled=\n",
            "2021-08-20 12:56:01,523 INFO  [ReadOnlyZKClient-127.0.0.1:2181@0x7c83f39d-SendThread(127.0.0.1:2181)] zookeeper.ClientCnxn: Opening socket connection to server localhost/127.0.0.1:2181. Will not attempt to authenticate using SASL (unknown error)\n",
            "2021-08-20 12:56:01,525 INFO  [ReadOnlyZKClient-127.0.0.1:2181@0x7c83f39d-SendThread(127.0.0.1:2181)] zookeeper.ClientCnxn: Socket connection established, initiating session, client: /127.0.0.1:50550, server: localhost/127.0.0.1:2181\n",
            "2021-08-20 12:56:01,529 INFO  [ReadOnlyZKClient-127.0.0.1:2181@0x7c83f39d-SendThread(127.0.0.1:2181)] zookeeper.ClientCnxn: Session establishment complete on server localhost/127.0.0.1:2181, sessionid = 0x1000005bcfb0019, negotiated timeout = 40000\n",
            "2021-08-20 12:56:01,537 INFO  [LocalJobRunner Map Task Executor #0] mapreduce.TableOutputFormat: Created table instance for cars2\n",
            "2021-08-20 12:56:01,581 INFO  [ReadOnlyZKClient-127.0.0.1:2181@0x2fa294d4] zookeeper.ZooKeeper: Initiating client connection, connectString=127.0.0.1:2181 sessionTimeout=90000 watcher=org.apache.hadoop.hbase.zookeeper.ReadOnlyZKClient$$Lambda$15/76328085@5f92768e\n",
            "2021-08-20 12:56:01,582 INFO  [ReadOnlyZKClient-127.0.0.1:2181@0x2fa294d4] zookeeper.ClientCnxnSocket: jute.maxbuffer value is 4194304 Bytes\n",
            "2021-08-20 12:56:01,582 INFO  [ReadOnlyZKClient-127.0.0.1:2181@0x2fa294d4] zookeeper.ClientCnxn: zookeeper.request.timeout value is 0. feature enabled=\n",
            "2021-08-20 12:56:01,583 INFO  [ReadOnlyZKClient-127.0.0.1:2181@0x2fa294d4-SendThread(127.0.0.1:2181)] zookeeper.ClientCnxn: Opening socket connection to server localhost/127.0.0.1:2181. Will not attempt to authenticate using SASL (unknown error)\n",
            "2021-08-20 12:56:01,584 INFO  [ReadOnlyZKClient-127.0.0.1:2181@0x2fa294d4-SendThread(127.0.0.1:2181)] zookeeper.ClientCnxn: Socket connection established, initiating session, client: /127.0.0.1:50552, server: localhost/127.0.0.1:2181\n",
            "2021-08-20 12:56:01,590 INFO  [ReadOnlyZKClient-127.0.0.1:2181@0x2fa294d4-SendThread(127.0.0.1:2181)] zookeeper.ClientCnxn: Session establishment complete on server localhost/127.0.0.1:2181, sessionid = 0x1000005bcfb001a, negotiated timeout = 40000\n",
            "2021-08-20 12:56:01,700 INFO  [LocalJobRunner Map Task Executor #0] mapred.LocalJobRunner: \n",
            "2021-08-20 12:56:01,788 INFO  [ReadOnlyZKClient-127.0.0.1:2181@0x2fa294d4-EventThread] zookeeper.ClientCnxn: EventThread shut down for session: 0x1000005bcfb001a\n",
            "2021-08-20 12:56:01,788 INFO  [ReadOnlyZKClient-127.0.0.1:2181@0x2fa294d4] zookeeper.ZooKeeper: Session: 0x1000005bcfb001a closed\n",
            "2021-08-20 12:56:01,890 INFO  [LocalJobRunner Map Task Executor #0] mapred.Task: Task:attempt_local1272555341_0001_m_000000_0 is done. And is in the process of committing\n",
            "2021-08-20 12:56:01,908 INFO  [LocalJobRunner Map Task Executor #0] mapred.LocalJobRunner: map\n",
            "2021-08-20 12:56:01,908 INFO  [LocalJobRunner Map Task Executor #0] mapred.Task: Task 'attempt_local1272555341_0001_m_000000_0' done.\n",
            "2021-08-20 12:56:01,918 INFO  [LocalJobRunner Map Task Executor #0] mapred.Task: Final Counters for attempt_local1272555341_0001_m_000000_0: Counters: 19\n",
            "\tFile System Counters\n",
            "\t\tFILE: Number of bytes read=429208\n",
            "\t\tFILE: Number of bytes written=1001951\n",
            "\t\tFILE: Number of read operations=0\n",
            "\t\tFILE: Number of large read operations=0\n",
            "\t\tFILE: Number of write operations=0\n",
            "\tMap-Reduce Framework\n",
            "\t\tMap input records=3\n",
            "\t\tMap output records=3\n",
            "\t\tInput split bytes=84\n",
            "\t\tSpilled Records=0\n",
            "\t\tFailed Shuffles=0\n",
            "\t\tMerged Map outputs=0\n",
            "\t\tGC time elapsed (ms)=0\n",
            "\t\tCPU time spent (ms)=600\n",
            "\t\tPhysical memory (bytes) snapshot=282832896\n",
            "\t\tVirtual memory (bytes) snapshot=5157466112\n",
            "\t\tTotal committed heap usage (bytes)=206831616\n",
            "\tImportTsv\n",
            "\t\tBad Lines=0\n",
            "\tFile Input Format Counters \n",
            "\t\tBytes Read=74\n",
            "\tFile Output Format Counters \n",
            "\t\tBytes Written=0\n",
            "2021-08-20 12:56:01,919 INFO  [LocalJobRunner Map Task Executor #0] mapred.LocalJobRunner: Finishing task: attempt_local1272555341_0001_m_000000_0\n",
            "2021-08-20 12:56:01,919 INFO  [Thread-7] mapred.LocalJobRunner: map task executor complete.\n",
            "2021-08-20 12:56:01,995 INFO  [ReadOnlyZKClient-127.0.0.1:2181@0x7c83f39d] zookeeper.ZooKeeper: Session: 0x1000005bcfb0019 closed\n",
            "2021-08-20 12:56:01,995 INFO  [ReadOnlyZKClient-127.0.0.1:2181@0x7c83f39d-EventThread] zookeeper.ClientCnxn: EventThread shut down for session: 0x1000005bcfb0019\n",
            "2021-08-20 12:56:02,328 INFO  [main] mapreduce.Job: Job job_local1272555341_0001 running in uber mode : false\n",
            "2021-08-20 12:56:02,329 INFO  [main] mapreduce.Job:  map 100% reduce 0%\n",
            "2021-08-20 12:56:02,331 INFO  [main] mapreduce.Job: Job job_local1272555341_0001 completed successfully\n",
            "2021-08-20 12:56:02,343 INFO  [main] mapreduce.Job: Counters: 19\n",
            "\tFile System Counters\n",
            "\t\tFILE: Number of bytes read=429208\n",
            "\t\tFILE: Number of bytes written=1001951\n",
            "\t\tFILE: Number of read operations=0\n",
            "\t\tFILE: Number of large read operations=0\n",
            "\t\tFILE: Number of write operations=0\n",
            "\tMap-Reduce Framework\n",
            "\t\tMap input records=3\n",
            "\t\tMap output records=3\n",
            "\t\tInput split bytes=84\n",
            "\t\tSpilled Records=0\n",
            "\t\tFailed Shuffles=0\n",
            "\t\tMerged Map outputs=0\n",
            "\t\tGC time elapsed (ms)=0\n",
            "\t\tCPU time spent (ms)=600\n",
            "\t\tPhysical memory (bytes) snapshot=282832896\n",
            "\t\tVirtual memory (bytes) snapshot=5157466112\n",
            "\t\tTotal committed heap usage (bytes)=206831616\n",
            "\tImportTsv\n",
            "\t\tBad Lines=0\n",
            "\tFile Input Format Counters \n",
            "\t\tBytes Read=74\n",
            "\tFile Output Format Counters \n",
            "\t\tBytes Written=0\n"
          ],
          "name": "stdout"
        }
      ]
    },
    {
      "cell_type": "code",
      "metadata": {
        "colab": {
          "base_uri": "https://localhost:8080/"
        },
        "id": "CSs-MATjgw6p",
        "outputId": "92b95167-8fa0-4b36-d9c9-17fee4025901"
      },
      "source": [
        "!echo \"scan 'cars2'\" | hbase shell -n"
      ],
      "execution_count": 36,
      "outputs": [
        {
          "output_type": "stream",
          "text": [
            "ROW                   COLUMN+CELL                                               \n",
            " Ford                 column=make:, timestamp=2021-08-20T12:55:58.254, value=Eco\n",
            "                      sport                                                     \n",
            " Ford                 column=model:, timestamp=2021-08-20T12:55:58.254, value=20\n",
            "                      19                                                        \n",
            " Hyundai              column=make:, timestamp=2021-08-20T12:55:58.254, value=i20\n",
            " Hyundai              column=model:, timestamp=2021-08-20T12:55:58.254, value=20\n",
            "                      15                                                        \n",
            " Maruti               column=make:, timestamp=2021-08-20T12:55:58.254, value=Omn\n",
            "                      i                                                         \n",
            " Maruti               column=model:, timestamp=2021-08-20T12:55:58.254, value=20\n",
            "                      07                                                        \n",
            "3 row(s)\n",
            "Took 0.7194 seconds                                                             \n",
            "\n"
          ],
          "name": "stdout"
        }
      ]
    },
    {
      "cell_type": "markdown",
      "metadata": {
        "id": "O6PP3akdlVKJ"
      },
      "source": [
        "#Stop HBase"
      ]
    },
    {
      "cell_type": "code",
      "metadata": {
        "colab": {
          "base_uri": "https://localhost:8080/"
        },
        "id": "p28XBoitAWTL",
        "outputId": "18a3a973-0a23-4d7d-e251-20dc38ab2511"
      },
      "source": [
        "!stop-hbase.sh"
      ],
      "execution_count": 37,
      "outputs": [
        {
          "output_type": "stream",
          "text": [
            "stopping hbase..............\n"
          ],
          "name": "stdout"
        }
      ]
    }
  ]
}