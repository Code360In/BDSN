{
  "nbformat": 4,
  "nbformat_minor": 0,
  "metadata": {
    "colab": {
      "name": "Basic WordCount Concept",
      "provenance": [],
      "authorship_tag": "ABX9TyPJEe9UuwC1E3YkB3BRVwg/",
      "include_colab_link": true
    },
    "kernelspec": {
      "name": "python3",
      "display_name": "Python 3"
    },
    "language_info": {
      "name": "python"
    }
  },
  "cells": [
    {
      "cell_type": "markdown",
      "metadata": {
        "id": "view-in-github",
        "colab_type": "text"
      },
      "source": [
        "<a href=\"https://colab.research.google.com/github/Praxis-QR/BDSN/blob/main/Basic_WordCount_Concept.ipynb\" target=\"_parent\"><img src=\"https://colab.research.google.com/assets/colab-badge.svg\" alt=\"Open In Colab\"/></a>"
      ]
    },
    {
      "cell_type": "code",
      "metadata": {
        "colab": {
          "base_uri": "https://localhost:8080/"
        },
        "id": "-IrWIhm_cTO_",
        "outputId": "d19044cd-1867-489d-c94b-24531d0e9bb3"
      },
      "source": [
        "%%writefile map.py\n",
        "#!/usr/bin/env python\n",
        "\n",
        "import sys\n",
        "\n",
        "# input comes from STDIN (standard input)\n",
        "for line in sys.stdin:\n",
        "    # remove leading and trailing whitespace\n",
        "    line = line.strip()\n",
        "    # split the line into words\n",
        "    words = line.split()\n",
        "    # increase counters\n",
        "    for word in words:\n",
        "        # write the results to STDOUT (standard output);\n",
        "        # what we output here will be the input for the\n",
        "        # Reduce step, i.e. the input for reducer.py\n",
        "        #\n",
        "        # tab-delimited; the trivial word count is 1\n",
        "        print (word, 1)"
      ],
      "execution_count": 44,
      "outputs": [
        {
          "output_type": "stream",
          "text": [
            "Writing map.py\n"
          ],
          "name": "stdout"
        }
      ]
    },
    {
      "cell_type": "code",
      "metadata": {
        "colab": {
          "base_uri": "https://localhost:8080/"
        },
        "id": "LYJ9ydfqcsN7",
        "outputId": "a741d26d-a3ed-4042-f534-9d1f65b4f9ab"
      },
      "source": [
        "%%writefile red.py\n",
        "#!/usr/bin/env python\n",
        "\n",
        "from operator import itemgetter\n",
        "import sys\n",
        "\n",
        "current_word = None\n",
        "current_count = 0\n",
        "word = None\n",
        "\n",
        "# input comes from STDIN\n",
        "for line in sys.stdin:\n",
        "    # remove leading and trailing whitespace\n",
        "    line = line.strip()\n",
        "    \n",
        "\n",
        "    # parse the input we got from mapper.py\n",
        "    word, count = line.split(' ')\n",
        "    # convert count (currently a string) to int\n",
        "    count = int(count)\n",
        "\n",
        "    # this IF-switch only works because Hadoop sorts map output\n",
        "    # by key (here: word) before it is passed to the reducer\n",
        "    if current_word == word:\n",
        "        current_count += count\n",
        "    else:\n",
        "        if current_word:\n",
        "            # write result to STDOUT\n",
        "            print (current_word, current_count)\n",
        "        current_count = count\n",
        "        current_word = word\n",
        "\n",
        "# do not forget to output the last word if needed!\n",
        "if current_word == word:\n",
        "    print (current_word, current_count)"
      ],
      "execution_count": 47,
      "outputs": [
        {
          "output_type": "stream",
          "text": [
            "Writing red.py\n"
          ],
          "name": "stdout"
        }
      ]
    },
    {
      "cell_type": "code",
      "metadata": {
        "id": "s1Cd31G-RrUJ"
      },
      "source": [
        "!sed 's/\\r$//' map.py > map1.py \n",
        "!sed 's/\\r$//' red.py > red1.py"
      ],
      "execution_count": 36,
      "outputs": []
    },
    {
      "cell_type": "code",
      "metadata": {
        "id": "ZkFcWvDjS15y"
      },
      "source": [
        "!chmod u+rwx /content/map.py\n",
        "!chmod u+rwx /content/red.py"
      ],
      "execution_count": 48,
      "outputs": []
    },
    {
      "cell_type": "code",
      "metadata": {
        "colab": {
          "base_uri": "https://localhost:8080/"
        },
        "id": "5TZChgYhS7Mr",
        "outputId": "2c1a4bcf-12bc-4ec1-853f-c73638d1300b"
      },
      "source": [
        "!echo \"the king beneath the mountain the king of carven stone\" | ./map.py"
      ],
      "execution_count": 49,
      "outputs": [
        {
          "output_type": "stream",
          "text": [
            "the 1\n",
            "king 1\n",
            "beneath 1\n",
            "the 1\n",
            "mountain 1\n",
            "the 1\n",
            "king 1\n",
            "of 1\n",
            "carven 1\n",
            "stone 1\n"
          ],
          "name": "stdout"
        }
      ]
    },
    {
      "cell_type": "code",
      "metadata": {
        "colab": {
          "base_uri": "https://localhost:8080/"
        },
        "id": "qnKCisUeTKY1",
        "outputId": "c13e9df6-6b78-4b01-845e-1004a5bae6f0"
      },
      "source": [
        "!echo \"the king beneath the mountain the king of carven stone\" | ./map.py | sort"
      ],
      "execution_count": 51,
      "outputs": [
        {
          "output_type": "stream",
          "text": [
            "beneath 1\n",
            "carven 1\n",
            "king 1\n",
            "king 1\n",
            "mountain 1\n",
            "of 1\n",
            "stone 1\n",
            "the 1\n",
            "the 1\n",
            "the 1\n"
          ],
          "name": "stdout"
        }
      ]
    },
    {
      "cell_type": "code",
      "metadata": {
        "colab": {
          "base_uri": "https://localhost:8080/"
        },
        "id": "wgPVC-iQTP-0",
        "outputId": "2da71171-889d-4e23-ef0d-3d55710e346b"
      },
      "source": [
        "!echo \"the king beneath the mountain the king of carven stone\" | ./map.py | sort | ./red.py"
      ],
      "execution_count": 54,
      "outputs": [
        {
          "output_type": "stream",
          "text": [
            "beneath 1\n",
            "carven 1\n",
            "king 2\n",
            "mountain 1\n",
            "of 1\n",
            "stone 1\n",
            "the 3\n"
          ],
          "name": "stdout"
        }
      ]
    },
    {
      "cell_type": "code",
      "metadata": {
        "colab": {
          "base_uri": "https://localhost:8080/"
        },
        "id": "QiM14ESgdprJ",
        "outputId": "026c1117-1dd0-4534-f31e-49bf52bed546"
      },
      "source": [
        "%%writefile input.txt\n",
        "the king beneath the mountain\n",
        "the king of carven stone\n",
        "the lord of silver fountain\n",
        "shall come unto his own"
      ],
      "execution_count": 57,
      "outputs": [
        {
          "output_type": "stream",
          "text": [
            "Overwriting input.txt\n"
          ],
          "name": "stdout"
        }
      ]
    },
    {
      "cell_type": "code",
      "metadata": {
        "colab": {
          "base_uri": "https://localhost:8080/"
        },
        "id": "SR8kKPfSd1Za",
        "outputId": "eee50054-2ace-4b0f-cbcc-3bff5469038c"
      },
      "source": [
        "!cat input.txt"
      ],
      "execution_count": 58,
      "outputs": [
        {
          "output_type": "stream",
          "text": [
            "the king beneath the mountain\n",
            "the king of carven stone\n",
            "the lord of silver fountain\n",
            "shall come unto his own"
          ],
          "name": "stdout"
        }
      ]
    },
    {
      "cell_type": "code",
      "metadata": {
        "colab": {
          "base_uri": "https://localhost:8080/"
        },
        "id": "dJct7MHFd8bl",
        "outputId": "d1bdb8d6-1bf9-425c-b951-2e7f0e56b506"
      },
      "source": [
        "!cat input.txt | ./map.py | sort | ./red.py"
      ],
      "execution_count": 59,
      "outputs": [
        {
          "output_type": "stream",
          "text": [
            "beneath 1\n",
            "carven 1\n",
            "come 1\n",
            "fountain 1\n",
            "his 1\n",
            "king 2\n",
            "lord 1\n",
            "mountain 1\n",
            "of 2\n",
            "own 1\n",
            "shall 1\n",
            "silver 1\n",
            "stone 1\n",
            "the 4\n",
            "unto 1\n"
          ],
          "name": "stdout"
        }
      ]
    }
  ]
}