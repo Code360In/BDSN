{
  "nbformat": 4,
  "nbformat_minor": 0,
  "metadata": {
    "colab": {
      "name": "KK B3A Hadoop HBase with Python",
      "provenance": [],
      "toc_visible": true,
      "include_colab_link": true
    },
    "kernelspec": {
      "name": "python3",
      "display_name": "Python 3"
    },
    "language_info": {
      "name": "python"
    }
  },
  "cells": [
    {
      "cell_type": "markdown",
      "metadata": {
        "id": "view-in-github",
        "colab_type": "text"
      },
      "source": [
        "<a href=\"https://colab.research.google.com/github/Praxis-QR/BDSN/blob/main/KK_B3A_Hadoop_HBase_with_Python.ipynb\" target=\"_parent\"><img src=\"https://colab.research.google.com/assets/colab-badge.svg\" alt=\"Open In Colab\"/></a>"
      ]
    },
    {
      "cell_type": "markdown",
      "metadata": {
        "id": "XafE9O3pAmkC"
      },
      "source": [
        "![alt text](https://4.bp.blogspot.com/-gbL5nZDkpFQ/XScFYwoTEII/AAAAAAAAAGY/CcVb_HDLwvs2Brv5T4vSsUcz7O4r2Q79ACK4BGAYYCw/s1600/kk3-header00-beta.png)<br>\n",
        "\n",
        "\n",
        "<hr>\n",
        "\n",
        "[Prithwis Mukerjee](http://www.linkedin.com/in/prithwis)<br>"
      ]
    },
    {
      "cell_type": "markdown",
      "metadata": {
        "id": "GyYTQEpb1htS"
      },
      "source": [
        "#Hadoop \n",
        "Install and Test"
      ]
    },
    {
      "cell_type": "code",
      "metadata": {
        "id": "_r0IOmlc0-Dt"
      },
      "source": [
        "# The default JVM available at /usr/lib/jvm/java-11-openjdk-amd64/  works for Hadoop\n",
        "# But gives errors with Hive https://stackoverflow.com/questions/54037773/hive-exception-class-jdk-internal-loader-classloadersappclassloader-cannot\n",
        "# Hence this JVM needs to be installed\n",
        "!apt-get update > /dev/null\n",
        "!apt-get install openjdk-8-jdk-headless -qq > /dev/null"
      ],
      "execution_count": 1,
      "outputs": []
    },
    {
      "cell_type": "code",
      "metadata": {
        "colab": {
          "base_uri": "https://localhost:8080/"
        },
        "id": "NWspfH6A1a4P",
        "outputId": "b4c64bb1-d567-4ceb-cafa-6d56e9bcd117"
      },
      "source": [
        "# Download the latest version of Hadoop\n",
        "!wget https://downloads.apache.org/hadoop/common/hadoop-3.3.0/hadoop-3.3.0.tar.gz\n",
        "# Unzip it\n",
        "# the tar command with the -x flag to extract, -z to uncompress, -v for verbose output, and -f to specify that we’re extracting from a file\n",
        "!tar -xzf hadoop-3.3.0.tar.gz\n",
        "#copy  hadoop file to user/local\n",
        "!mv  hadoop-3.3.0/ /usr/local/"
      ],
      "execution_count": 2,
      "outputs": [
        {
          "output_type": "stream",
          "name": "stdout",
          "text": [
            "--2022-01-28 03:40:10--  https://downloads.apache.org/hadoop/common/hadoop-3.3.0/hadoop-3.3.0.tar.gz\n",
            "Resolving downloads.apache.org (downloads.apache.org)... 135.181.214.104, 88.99.95.219, 2a01:4f9:3a:2c57::2, ...\n",
            "Connecting to downloads.apache.org (downloads.apache.org)|135.181.214.104|:443... connected.\n",
            "HTTP request sent, awaiting response... 200 OK\n",
            "Length: 500749234 (478M) [application/x-gzip]\n",
            "Saving to: ‘hadoop-3.3.0.tar.gz’\n",
            "\n",
            "hadoop-3.3.0.tar.gz 100%[===================>] 477.55M  23.5MB/s    in 21s     \n",
            "\n",
            "2022-01-28 03:40:32 (22.5 MB/s) - ‘hadoop-3.3.0.tar.gz’ saved [500749234/500749234]\n",
            "\n"
          ]
        }
      ]
    },
    {
      "cell_type": "code",
      "metadata": {
        "id": "24QjQ22V1swJ"
      },
      "source": [
        "#To find the default Java path\n",
        "#!readlink -f /usr/bin/java | sed \"s:bin/java::\"\n",
        "#!ls /usr/lib/jvm/"
      ],
      "execution_count": null,
      "outputs": []
    },
    {
      "cell_type": "markdown",
      "metadata": {
        "id": "Ugibq3m1CbgC"
      },
      "source": [
        "## Set Hadoop Environment"
      ]
    },
    {
      "cell_type": "code",
      "metadata": {
        "id": "1j7WFh5k18E1"
      },
      "source": [
        "#To set java path, go to /usr/local/hadoop-3.3.0/etc/hadoop/hadoop-env.sh then\n",
        "#. . . export JAVA_HOME=/usr/lib/jvm/java-11-openjdk-amd64/ . . .\n",
        "#we have used a simpler alternative route using os.environ - it works\n",
        "\n",
        "import os\n",
        "os.environ[\"JAVA_HOME\"] = \"/usr/lib/jvm/java-8-openjdk-amd64\"   # default is changed\n",
        "#os.environ[\"JAVA_HOME\"] = \"/usr/lib/jvm/java-11-openjdk-amd64/\"\n",
        "os.environ[\"HADOOP_HOME\"] = \"/usr/local/hadoop-3.3.0/\""
      ],
      "execution_count": 3,
      "outputs": []
    },
    {
      "cell_type": "code",
      "metadata": {
        "id": "NaaMpfVP2p3m"
      },
      "source": [
        "# Add Hadoop BIN to PATH\n",
        "# current_path taken from last command\n",
        "#current_path = '/usr/local/nvidia/bin:/usr/local/cuda/bin:/usr/local/sbin:/usr/local/bin:/usr/sbin:/usr/bin:/sbin:/bin:/tools/node/bin:/tools/google-cloud-sdk/bin:/opt/bin'\n",
        "current_path = os.getenv('PATH')\n",
        "new_path = current_path+':/usr/local/hadoop-3.3.0/bin/'\n",
        "os.environ[\"PATH\"] = new_path"
      ],
      "execution_count": 4,
      "outputs": []
    },
    {
      "cell_type": "code",
      "metadata": {
        "id": "ZD34gT3y2u-D"
      },
      "source": [
        "# Testing Hadoop with PI generating sample program, should calculate value of pi = 3.14157500000000000000\n",
        "# pi example\n",
        "#Uncomment the following line if  you want to test Hadoop with pi example\n",
        "#!hadoop jar /usr/local/hadoop-3.3.0/share/hadoop/mapreduce/hadoop-mapreduce-examples-3.3.0.jar pi 16 100000"
      ],
      "execution_count": null,
      "outputs": []
    },
    {
      "cell_type": "markdown",
      "metadata": {
        "id": "zHwLU0Uo3tLo"
      },
      "source": [
        "#Install HBase"
      ]
    },
    {
      "cell_type": "code",
      "metadata": {
        "colab": {
          "base_uri": "https://localhost:8080/"
        },
        "id": "bODP1xaM3vEB",
        "outputId": "c0bb0b84-6969-45c4-c3ab-92d373f2dae6"
      },
      "source": [
        "# Get the latest HBase download site from here https://www.apache.org/dyn/closer.lua/hbase/\n",
        "#!wget https://mirrors.estointernet.in/apache/hbase/2.4.5/hbase-2.4.5-bin.tar.gz\n",
        "#!wget https://mirrors.estointernet.in/apache/hbase/2.4.8/hbase-2.4.8-bin.tar.gz\n",
        "!wget https://downloads.apache.org/hbase/2.4.9/hbase-2.4.9-bin.tar.gz\n",
        "#!tar xzf hbase-2.4.5-bin.tar.gz\n",
        "#!tar xzf hbase-2.4.8-bin.tar.gz\n",
        "!tar xzf hbase-2.4.9-bin.tar.gz"
      ],
      "execution_count": 5,
      "outputs": [
        {
          "output_type": "stream",
          "name": "stdout",
          "text": [
            "--2022-01-28 03:41:38--  https://downloads.apache.org/hbase/2.4.9/hbase-2.4.9-bin.tar.gz\n",
            "Resolving downloads.apache.org (downloads.apache.org)... 135.181.214.104, 88.99.95.219, 2a01:4f8:10a:201a::2, ...\n",
            "Connecting to downloads.apache.org (downloads.apache.org)|135.181.214.104|:443... connected.\n",
            "HTTP request sent, awaiting response... 200 OK\n",
            "Length: 283496242 (270M) [application/x-gzip]\n",
            "Saving to: ‘hbase-2.4.9-bin.tar.gz’\n",
            "\n",
            "hbase-2.4.9-bin.tar 100%[===================>] 270.36M  22.6MB/s    in 13s     \n",
            "\n",
            "2022-01-28 03:41:52 (21.4 MB/s) - ‘hbase-2.4.9-bin.tar.gz’ saved [283496242/283496242]\n",
            "\n"
          ]
        }
      ]
    },
    {
      "cell_type": "markdown",
      "metadata": {
        "id": "kaMtyNOVCiMS"
      },
      "source": [
        "## Set HBase Environment"
      ]
    },
    {
      "cell_type": "code",
      "metadata": {
        "colab": {
          "base_uri": "https://localhost:8080/"
        },
        "id": "p4dc0K7h4f-y",
        "outputId": "0aa1b518-ae4e-4548-e187-6399e94ee099"
      },
      "source": [
        "#os.environ[\"HIVE_HOME\"] = \"/content/apache-hive-3.1.2-bin\"\n",
        "#!echo $HIVE_HOME\n",
        "#os.environ[\"HBASE_HOME\"] = \"/content/hbase-2.4.5/\"\n",
        "#os.environ[\"HBASE_HOME\"] = \"/content/hbase-2.4.8/\"\n",
        "os.environ[\"HBASE_HOME\"] = \"/content/hbase-2.4.9/\"\n",
        "!echo $HBASE_HOME"
      ],
      "execution_count": 6,
      "outputs": [
        {
          "output_type": "stream",
          "name": "stdout",
          "text": [
            "/content/hbase-2.4.9/\n"
          ]
        }
      ]
    },
    {
      "cell_type": "code",
      "metadata": {
        "colab": {
          "base_uri": "https://localhost:8080/"
        },
        "id": "DqXZ_kF65VXK",
        "outputId": "a7b5b154-4ece-440d-beb2-62e9863267bb"
      },
      "source": [
        "# current_path taken from command in previous cell\n",
        "#current_path = '/usr/local/nvidia/bin:/usr/local/cuda/bin:/usr/local/sbin:/usr/local/bin:/usr/sbin:/usr/bin:/sbin:/bin:/tools/node/bin:/tools/google-cloud-sdk/bin:/opt/bin:/usr/local/hadoop-3.3.0/bin/'\n",
        "#new_path = current_path+':/content/hbase-2.4.5/bin'\n",
        "current_path = os.getenv('PATH')\n",
        "#new_path = current_path+':/content/hbase-2.4.8/bin'\n",
        "new_path = current_path+':/content/hbase-2.4.9/bin'\n",
        "os.environ[\"PATH\"] = new_path\n",
        "!echo $PATH"
      ],
      "execution_count": 7,
      "outputs": [
        {
          "output_type": "stream",
          "name": "stdout",
          "text": [
            "/usr/local/nvidia/bin:/usr/local/cuda/bin:/usr/local/sbin:/usr/local/bin:/usr/sbin:/usr/bin:/sbin:/bin:/tools/node/bin:/tools/google-cloud-sdk/bin:/opt/bin:/usr/local/hadoop-3.3.0/bin/:/content/hbase-2.4.9/bin\n"
          ]
        }
      ]
    },
    {
      "cell_type": "code",
      "metadata": {
        "colab": {
          "base_uri": "https://localhost:8080/"
        },
        "id": "ZrS6BL5k51Bl",
        "outputId": "f8e3087a-dde8-444b-c765-a977fa730f82"
      },
      "source": [
        "!echo $JAVA_HOME\n",
        "!echo $HADOOP_HOME\n",
        "!echo $HBASE_HOME"
      ],
      "execution_count": 8,
      "outputs": [
        {
          "output_type": "stream",
          "name": "stdout",
          "text": [
            "/usr/lib/jvm/java-8-openjdk-amd64\n",
            "/usr/local/hadoop-3.3.0/\n",
            "/content/hbase-2.4.9/\n"
          ]
        }
      ]
    },
    {
      "cell_type": "code",
      "metadata": {
        "id": "9kDmgFfh6a12"
      },
      "source": [
        "# the file hbase-site.xml may need to be updated ...\n",
        "# however the default file works well in the simple stand-alone HBase mode\n",
        "# so no need to touch it\n",
        "#!cat $HBASE_HOME/conf/hbase-site.xml"
      ],
      "execution_count": null,
      "outputs": []
    },
    {
      "cell_type": "markdown",
      "metadata": {
        "id": "BWn-DJ1PDbXd"
      },
      "source": [
        "## Some Clean UP\n",
        "Otherwise we get ugly warnings"
      ]
    },
    {
      "cell_type": "code",
      "metadata": {
        "colab": {
          "base_uri": "https://localhost:8080/"
        },
        "id": "bKG7t8sQDj2t",
        "outputId": "6282b2f9-fcd5-41ed-aab5-8f9d9d32444b"
      },
      "source": [
        "# locate multiple instances of slf4j ...\n",
        "!ls $HADOOP_HOME/share/hadoop/common/lib/*slf4j*\n",
        "!ls $HBASE_HOME/lib/*slf4j*"
      ],
      "execution_count": 9,
      "outputs": [
        {
          "output_type": "stream",
          "name": "stdout",
          "text": [
            "/usr/local/hadoop-3.3.0//share/hadoop/common/lib/jul-to-slf4j-1.7.25.jar\n",
            "/usr/local/hadoop-3.3.0//share/hadoop/common/lib/slf4j-api-1.7.25.jar\n",
            "/usr/local/hadoop-3.3.0//share/hadoop/common/lib/slf4j-log4j12-1.7.25.jar\n",
            "/content/hbase-2.4.9//lib/jcl-over-slf4j-1.7.30.jar\n",
            "/content/hbase-2.4.9//lib/jul-to-slf4j-1.7.30.jar\n"
          ]
        }
      ]
    },
    {
      "cell_type": "code",
      "metadata": {
        "id": "6OaOkjD5EOr0"
      },
      "source": [
        "# remove the Hadoop logger out of the path\n",
        "# without this you will get ugly warnings every time\n",
        "!mv /usr/local/hadoop-3.3.0//share/hadoop/common/lib/slf4j-log4j12-1.7.25.jar ."
      ],
      "execution_count": 10,
      "outputs": []
    },
    {
      "cell_type": "markdown",
      "metadata": {
        "id": "uA03iA4XFN_E"
      },
      "source": [
        "## Start HBase server"
      ]
    },
    {
      "cell_type": "code",
      "metadata": {
        "colab": {
          "base_uri": "https://localhost:8080/"
        },
        "id": "GMQHzlCO7MDC",
        "outputId": "d581be5f-15d2-48ca-8ed5-876e6ab2705e"
      },
      "source": [
        "!start-hbase.sh\n",
        "!jps"
      ],
      "execution_count": 11,
      "outputs": [
        {
          "output_type": "stream",
          "name": "stdout",
          "text": [
            "running master, logging to /content/hbase-2.4.9//logs/hbase--master-cc75e2b95803.out\n",
            "1465 Jps\n",
            "1309 HMaster\n"
          ]
        }
      ]
    },
    {
      "cell_type": "markdown",
      "metadata": {
        "id": "gd6mdgPSFSvB"
      },
      "source": [
        "# Run Hbase Shell\n",
        "do not skip these two shell commands"
      ]
    },
    {
      "cell_type": "code",
      "metadata": {
        "id": "42DJQfpY7oqe"
      },
      "source": [
        "# you can enter hbase shell commands at the prompt. Double click on the prompt to open up a input box\n",
        "#!hbase shell "
      ],
      "execution_count": null,
      "outputs": []
    },
    {
      "cell_type": "markdown",
      "metadata": {
        "id": "qhuHJF4lH6f6"
      },
      "source": [
        "shell commands  <br>\n",
        "https://www.tutorialspoint.com/hbase/hbase_shell.htm <br>\n",
        "https://www.guru99.com/hbase-shell-general-commands.html <br>\n",
        "better way of passing shell commands are given here"
      ]
    },
    {
      "cell_type": "code",
      "metadata": {
        "colab": {
          "base_uri": "https://localhost:8080/"
        },
        "id": "cQdbisL2GQtE",
        "outputId": "215ca909-6043-4276-cc91-27224b81d9a2"
      },
      "source": [
        "!echo 'status' | hbase shell -n\n",
        "#!echo \"status 'detail'\" | hbase shell -n"
      ],
      "execution_count": 12,
      "outputs": [
        {
          "output_type": "stream",
          "name": "stdout",
          "text": [
            "1 active master, 0 backup masters, 1 servers, 0 dead, 2.0000 average load\n",
            "Took 0.8608 seconds                                                             \n",
            "\n"
          ]
        }
      ]
    },
    {
      "cell_type": "code",
      "metadata": {
        "colab": {
          "base_uri": "https://localhost:8080/"
        },
        "id": "NYhR2DpgIbnU",
        "outputId": "85bcbe8b-1322-4d98-b613-df2975681fba"
      },
      "source": [
        "!echo \"whoami\" | hbase shell -n"
      ],
      "execution_count": 13,
      "outputs": [
        {
          "output_type": "stream",
          "name": "stdout",
          "text": [
            "root (auth:SIMPLE)\n",
            "    groups: root\n",
            "Took 0.0172 seconds                                                             \n",
            "\n"
          ]
        }
      ]
    },
    {
      "cell_type": "markdown",
      "metadata": {
        "id": "_RMwSSDZd6T9"
      },
      "source": [
        "#Install HappyBase / Thrift <br>\n",
        "https://happybase.readthedocs.io/en/latest/"
      ]
    },
    {
      "cell_type": "code",
      "metadata": {
        "colab": {
          "base_uri": "https://localhost:8080/"
        },
        "id": "7qOwqJlQfQLc",
        "outputId": "efdce17a-a781-4982-82d4-ca2c625a429e"
      },
      "source": [
        "!stop-hbase.sh"
      ],
      "execution_count": 14,
      "outputs": [
        {
          "output_type": "stream",
          "name": "stdout",
          "text": [
            "stopping hbase...............\n"
          ]
        }
      ]
    },
    {
      "cell_type": "code",
      "metadata": {
        "colab": {
          "base_uri": "https://localhost:8080/"
        },
        "id": "QLfCN8jpZsZH",
        "outputId": "82b25d29-a6ab-4970-8a69-419184dfca0e"
      },
      "source": [
        "!pip -qq install happybase"
      ],
      "execution_count": 15,
      "outputs": [
        {
          "output_type": "stream",
          "name": "stdout",
          "text": [
            "\u001b[K     |████████████████████████████████| 40 kB 3.1 MB/s \n",
            "\u001b[K     |████████████████████████████████| 361 kB 8.5 MB/s \n",
            "\u001b[K     |████████████████████████████████| 49 kB 5.5 MB/s \n",
            "\u001b[?25h  Building wheel for happybase (setup.py) ... \u001b[?25l\u001b[?25hdone\n",
            "  Building wheel for thriftpy2 (setup.py) ... \u001b[?25l\u001b[?25hdone\n"
          ]
        }
      ]
    },
    {
      "cell_type": "code",
      "metadata": {
        "id": "J-Wt2asZZb3m"
      },
      "source": [
        "import happybase\n",
        "#https://happybase.readthedocs.io/en/latest/"
      ],
      "execution_count": 16,
      "outputs": []
    },
    {
      "cell_type": "code",
      "metadata": {
        "colab": {
          "base_uri": "https://localhost:8080/"
        },
        "id": "A-OVMxNEaWOq",
        "outputId": "2b61cf02-5bd2-4b39-8286-886154cd4cd7"
      },
      "source": [
        "#!ls hbase-2.4.8/bin\n",
        "#!hbase-2.4.8/bin/hbase-daemon.sh start thrift\n",
        "!hbase-daemon.sh start thrift"
      ],
      "execution_count": 17,
      "outputs": [
        {
          "output_type": "stream",
          "name": "stdout",
          "text": [
            "running thrift, logging to /content/hbase-2.4.9//logs/hbase--thrift-cc75e2b95803.out\n"
          ]
        }
      ]
    },
    {
      "cell_type": "code",
      "metadata": {
        "colab": {
          "base_uri": "https://localhost:8080/"
        },
        "id": "_UHyIyGFf0yl",
        "outputId": "5ecbe0d4-f3ba-4677-b5fc-755919806837"
      },
      "source": [
        "!start-hbase.sh\n",
        "!jps"
      ],
      "execution_count": 18,
      "outputs": [
        {
          "output_type": "stream",
          "name": "stdout",
          "text": [
            "running master, logging to /content/hbase-2.4.9//logs/hbase--master-cc75e2b95803.out\n",
            "3122 Jps\n",
            "2968 HMaster\n",
            "2600 ThriftServer\n"
          ]
        }
      ]
    },
    {
      "cell_type": "code",
      "metadata": {
        "id": "-uL64b823-CB"
      },
      "source": [
        "#connection = happybase.Connection('localhost',9090, transport='framed',protocol='compact')\n",
        "#if this connection suddenly closes, you may get errors. in that case, re-run this cell again\n",
        "kxn = happybase.Connection('localhost',9090,autoconnect=False)"
      ],
      "execution_count": 57,
      "outputs": []
    },
    {
      "cell_type": "markdown",
      "metadata": {
        "id": "C4yg79ueMhYZ"
      },
      "source": [
        "#Create Tables"
      ]
    },
    {
      "cell_type": "code",
      "metadata": {
        "colab": {
          "base_uri": "https://localhost:8080/"
        },
        "id": "aFjctMtoeCcW",
        "outputId": "db4158cd-e318-4a3a-a138-cd5a9d439fad"
      },
      "source": [
        "kxn.open()\n",
        "kxn.tables()"
      ],
      "execution_count": 22,
      "outputs": [
        {
          "output_type": "execute_result",
          "data": {
            "text/plain": [
              "[b'Dept']"
            ]
          },
          "metadata": {},
          "execution_count": 22
        }
      ]
    },
    {
      "cell_type": "markdown",
      "metadata": {
        "id": "2zvAuebzbXj6"
      },
      "source": [
        "##Create Dept Table, Insert Data"
      ]
    },
    {
      "cell_type": "code",
      "metadata": {
        "id": "AiUqgnVCMcl3"
      },
      "source": [
        "kxn.open()\n",
        "#Drop Table\n",
        "#kxn.disable_table('Dept')\n",
        "#kxn.delete_table('Dept')\n",
        "#Create Table\n",
        "kxn.create_table(\n",
        "    'Dept',\n",
        "    {'DeptID': dict(max_versions=10),\n",
        "     'DeptName': dict(max_versions=1, block_cache_enabled=False),\n",
        "     'ManagerID': dict(),  # use defaults\n",
        "     'Location': dict(),  # use defaults\n",
        "    }\n",
        ")\n",
        "kxn.close()"
      ],
      "execution_count": 21,
      "outputs": []
    },
    {
      "cell_type": "code",
      "metadata": {
        "id": "SsULtvF6Nfcx"
      },
      "source": [
        "kxn.open()\n",
        "tDept = kxn.table('Dept')\n",
        "kxn.close()"
      ],
      "execution_count": 23,
      "outputs": []
    },
    {
      "cell_type": "code",
      "metadata": {
        "id": "I1jju96MNoCf"
      },
      "source": [
        "#Insert one row\n",
        "kxn.open()\n",
        "tDept.put('10',{'DeptName:': 'Corporate', 'ManagerID:': '123456','Location:':'Calcutta'})\n",
        "kxn.close()"
      ],
      "execution_count": 24,
      "outputs": []
    },
    {
      "cell_type": "code",
      "metadata": {
        "colab": {
          "base_uri": "https://localhost:8080/"
        },
        "id": "cP5nd0nIOTxf",
        "outputId": "4dc41db3-b631-45fd-f542-55a33a72d221"
      },
      "source": [
        "kxn.open()\n",
        "for key, data in tDept.scan():\n",
        "    print(key, data)\n",
        "kxn.close()"
      ],
      "execution_count": 25,
      "outputs": [
        {
          "output_type": "stream",
          "name": "stdout",
          "text": [
            "b'10' {b'DeptName:': b'Corporate', b'Location:': b'Calcutta', b'ManagerID:': b'123456'}\n"
          ]
        }
      ]
    },
    {
      "cell_type": "code",
      "metadata": {
        "id": "y0Y9zgCJOywZ"
      },
      "source": [
        "#Insert 3 more rows in Batch\n",
        "kxn.open()\n",
        "b = tDept.batch()\n",
        "b.put(b'20', { b'DeptName:': b'Sales', b'ManagerID:': b'234567', b'Location:': b'Calcutta'})\n",
        "b.put(b'30', { b'DeptName:': b'Accounts', b'ManagerID:': b'567234', b'Location:': b'Calcutta'})\n",
        "b.put(b'40', { b'DeptName:': b'Production', b'ManagerID:': b'345876', b'Location:': b'Bombay'})\n",
        "b.send()\n",
        "kxn.close()"
      ],
      "execution_count": 26,
      "outputs": []
    },
    {
      "cell_type": "code",
      "metadata": {
        "colab": {
          "base_uri": "https://localhost:8080/"
        },
        "id": "nn9puFvNSQ0I",
        "outputId": "597d0915-1f7d-436b-fdc6-fa552cc29b1c"
      },
      "source": [
        "#show all four ROWS\n",
        "kxn.open()\n",
        "#tDept = kxn.table('Dept')\n",
        "for key, value in tDept.scan():\n",
        "    print(key, value)\n",
        "kxn.close()"
      ],
      "execution_count": 28,
      "outputs": [
        {
          "output_type": "stream",
          "name": "stdout",
          "text": [
            "b'10' {b'DeptName:': b'Corporate', b'Location:': b'Calcutta', b'ManagerID:': b'123456'}\n",
            "b'20' {b'DeptName:': b'Sales', b'Location:': b'Calcutta', b'ManagerID:': b'234567'}\n",
            "b'30' {b'DeptName:': b'Accounts', b'Location:': b'Calcutta', b'ManagerID:': b'567234'}\n",
            "b'40' {b'DeptName:': b'Production', b'Location:': b'Bombay', b'ManagerID:': b'345876'}\n"
          ]
        }
      ]
    },
    {
      "cell_type": "markdown",
      "metadata": {
        "id": "6sjTzUYObi7W"
      },
      "source": [
        "##Create Emp Table, LOAD data <br>\n",
        "https://people.apache.org/~stack/site/bulk-loads.html"
      ]
    },
    {
      "cell_type": "code",
      "metadata": {
        "id": "Y8GbQWvRcTwu"
      },
      "source": [
        "kxn.open()\n",
        "#Drop Table\n",
        "#kxn.disable_table('Emp')\n",
        "#kxn.delete_table('Emp')\n",
        "#Create Table\n",
        "kxn.create_table(\n",
        "    'Emp',\n",
        "    {'EmpID': dict(max_versions=10),\n",
        "     'LastName': dict(),  # use defaults\n",
        "     'FirstName': dict(),  # use defaults\n",
        "     'Role': dict(),  # use defaults\n",
        "     'DoJ': dict(),  # use defaults\n",
        "     'Salary': dict(),  # use defaults\n",
        "     'Comm': dict(),  # use defaults\n",
        "     'DeptID': dict(),  # use defaults\n",
        "    }\n",
        ")\n",
        "kxn.close()"
      ],
      "execution_count": 29,
      "outputs": []
    },
    {
      "cell_type": "code",
      "metadata": {
        "colab": {
          "base_uri": "https://localhost:8080/"
        },
        "id": "M9XDyx1HQxBL",
        "outputId": "fe42a9ab-b111-4e7a-b71d-b20abda6bb32"
      },
      "source": [
        "kxn.open()\n",
        "kxn.tables()"
      ],
      "execution_count": 30,
      "outputs": [
        {
          "output_type": "execute_result",
          "data": {
            "text/plain": [
              "[b'Dept', b'Emp']"
            ]
          },
          "metadata": {},
          "execution_count": 30
        }
      ]
    },
    {
      "cell_type": "code",
      "metadata": {
        "id": "nYH_g_J6423R"
      },
      "source": [
        "#Download txt file with Employee Data\n",
        "!wget -q https://raw.githubusercontent.com/Praxis-QR/BDSN/main/Documents/Employee.csv"
      ],
      "execution_count": 31,
      "outputs": []
    },
    {
      "cell_type": "code",
      "source": [
        "#!cat Employee.csv"
      ],
      "metadata": {
        "id": "Hmd38X4s1bmg"
      },
      "execution_count": 33,
      "outputs": []
    },
    {
      "cell_type": "code",
      "metadata": {
        "colab": {
          "base_uri": "https://localhost:8080/"
        },
        "id": "jZbsNgyBd-aN",
        "outputId": "a2829381-7598-416e-85ae-b2b03ad0f9b7"
      },
      "source": [
        "# input file has to be moved from regular file system to HDFS file system\n",
        "!hdfs dfs -copyFromLocal Employee.csv /tmp"
      ],
      "execution_count": 34,
      "outputs": [
        {
          "output_type": "stream",
          "name": "stdout",
          "text": [
            "SLF4J: Failed to load class \"org.slf4j.impl.StaticLoggerBinder\".\n",
            "SLF4J: Defaulting to no-operation (NOP) logger implementation\n",
            "SLF4J: See http://www.slf4j.org/codes.html#StaticLoggerBinder for further details.\n"
          ]
        }
      ]
    },
    {
      "cell_type": "code",
      "metadata": {
        "colab": {
          "base_uri": "https://localhost:8080/"
        },
        "id": "pFRp3yateTCS",
        "outputId": "45b2b28f-cd0d-43d9-b18c-2da906d60111"
      },
      "source": [
        "# https://community.cloudera.com/t5/Community-Articles/Import-CSV-data-into-HBase-using-importtsv/ta-p/244842\n",
        "#hbase org.apache.hadoop.hbase.mapreduce.ImportTsv -Dimporttsv.separator=,  -Dimporttsv.columns=\"HBASE_ROW_KEY,id,temp:in,temp:out,vibration,pressure:in,pressure:out\" sensor hdfs://sandbox.hortonworks.com:/tmp/hbase.csv\n",
        "!hbase org.apache.hadoop.hbase.mapreduce.ImportTsv -Dimporttsv.separator=','  -Dimporttsv.columns=\"HBASE_ROW_KEY,LastName:,FirstName:,Role:,DoJ:,Salary:,Comm:,DeptID:\" Emp /tmp/Employee.csv"
      ],
      "execution_count": 35,
      "outputs": [
        {
          "output_type": "stream",
          "name": "stdout",
          "text": [
            "2022-01-28 04:01:13,537 INFO  [ReadOnlyZKClient-127.0.0.1:2181@0x367ffa75] zookeeper.ZooKeeper: Client environment:zookeeper.version=3.5.7-f0fdd52973d373ffd9c86b81d99842dc2c7f660e, built on 02/10/2020 11:30 GMT\n",
            "2022-01-28 04:01:13,538 INFO  [ReadOnlyZKClient-127.0.0.1:2181@0x367ffa75] zookeeper.ZooKeeper: Client environment:host.name=cc75e2b95803\n",
            "2022-01-28 04:01:13,538 INFO  [ReadOnlyZKClient-127.0.0.1:2181@0x367ffa75] zookeeper.ZooKeeper: Client environment:java.version=1.8.0_312\n",
            "2022-01-28 04:01:13,538 INFO  [ReadOnlyZKClient-127.0.0.1:2181@0x367ffa75] zookeeper.ZooKeeper: Client environment:java.vendor=Private Build\n",
            "2022-01-28 04:01:13,538 INFO  [ReadOnlyZKClient-127.0.0.1:2181@0x367ffa75] zookeeper.ZooKeeper: Client environment:java.home=/usr/lib/jvm/java-8-openjdk-amd64/jre\n",
            "2022-01-28 04:01:13,538 INFO  [ReadOnlyZKClient-127.0.0.1:2181@0x367ffa75] zookeeper.ZooKeeper: .0.jar:/usr/local/hadoop-3.3.0//share/hadoop/yarn/hadoop-yarn-applications-mawo-core-3.3.0.jar:/usr/local/hadoop-3.3.0//share/hadoop/yarn/hadoop-yarn-applications-unmanaged-am-launcher-3.3.0.jar:/usr/local/hadoop-3.3.0//share/hadoop/yarn/hadoop-yarn-api-3.3.0.jar:/usr/local/hadoop-3.3.0//share/hadoop/yarn/hadoop-yarn-client-3.3.0.jar:/usr/local/hadoop-3.3.0//share/hadoop/yarn/hadoop-yarn-server-tests-3.3.0.jar:/usr/local/hadoop-3.3.0//share/hadoop/yarn/hadoop-yarn-common-3.3.0.jar:/usr/local/hadoop-3.3.0//share/hadoop/yarn/hadoop-yarn-services-core-3.3.0.jar:/usr/local/hadoop-3.3.0//share/hadoop/yarn/hadoop-yarn-server-resourcemanager-3.3.0.jar:/usr/local/hadoop-3.3.0//share/hadoop/yarn/hadoop-yarn-server-timeline-pluginstorage-3.3.0.jar:/usr/local/hadoop-3.3.0//share/hadoop/yarn/hadoop-yarn-server-router-3.3.0.jar:/usr/local/hadoop-3.3.0//share/hadoop/yarn/hadoop-yarn-server-applicationhistoryservice-3.3.0.jar:/content/hbase-2.4.9//lib/client-facing-thirdparty/slf4j-log4j12-1.7.30.jar\n",
            "2022-01-28 04:01:13,538 INFO  [ReadOnlyZKClient-127.0.0.1:2181@0x367ffa75] zookeeper.ZooKeeper: Client environment:java.library.path=/usr/local/hadoop-3.3.0//lib/native\n",
            "2022-01-28 04:01:13,538 INFO  [ReadOnlyZKClient-127.0.0.1:2181@0x367ffa75] zookeeper.ZooKeeper: Client environment:java.io.tmpdir=/tmp\n",
            "2022-01-28 04:01:13,538 INFO  [ReadOnlyZKClient-127.0.0.1:2181@0x367ffa75] zookeeper.ZooKeeper: Client environment:java.compiler=<NA>\n",
            "2022-01-28 04:01:13,538 INFO  [ReadOnlyZKClient-127.0.0.1:2181@0x367ffa75] zookeeper.ZooKeeper: Client environment:os.name=Linux\n",
            "2022-01-28 04:01:13,538 INFO  [ReadOnlyZKClient-127.0.0.1:2181@0x367ffa75] zookeeper.ZooKeeper: Client environment:os.arch=amd64\n",
            "2022-01-28 04:01:13,538 INFO  [ReadOnlyZKClient-127.0.0.1:2181@0x367ffa75] zookeeper.ZooKeeper: Client environment:os.version=5.4.144+\n",
            "2022-01-28 04:01:13,538 INFO  [ReadOnlyZKClient-127.0.0.1:2181@0x367ffa75] zookeeper.ZooKeeper: Client environment:user.name=root\n",
            "2022-01-28 04:01:13,538 INFO  [ReadOnlyZKClient-127.0.0.1:2181@0x367ffa75] zookeeper.ZooKeeper: Client environment:user.home=/root\n",
            "2022-01-28 04:01:13,538 INFO  [ReadOnlyZKClient-127.0.0.1:2181@0x367ffa75] zookeeper.ZooKeeper: Client environment:user.dir=/content\n",
            "2022-01-28 04:01:13,538 INFO  [ReadOnlyZKClient-127.0.0.1:2181@0x367ffa75] zookeeper.ZooKeeper: Client environment:os.memory.free=178MB\n",
            "2022-01-28 04:01:13,538 INFO  [ReadOnlyZKClient-127.0.0.1:2181@0x367ffa75] zookeeper.ZooKeeper: Client environment:os.memory.max=3231MB\n",
            "2022-01-28 04:01:13,538 INFO  [ReadOnlyZKClient-127.0.0.1:2181@0x367ffa75] zookeeper.ZooKeeper: Client environment:os.memory.total=197MB\n",
            "2022-01-28 04:01:13,543 INFO  [ReadOnlyZKClient-127.0.0.1:2181@0x367ffa75] zookeeper.ZooKeeper: Initiating client connection, connectString=127.0.0.1:2181 sessionTimeout=90000 watcher=org.apache.hadoop.hbase.zookeeper.ReadOnlyZKClient$$Lambda$15/572950827@4e2ce50e\n",
            "2022-01-28 04:01:13,550 INFO  [ReadOnlyZKClient-127.0.0.1:2181@0x367ffa75] common.X509Util: Setting -D jdk.tls.rejectClientInitiatedRenegotiation=true to disable client-initiated TLS renegotiation\n",
            "2022-01-28 04:01:13,557 INFO  [ReadOnlyZKClient-127.0.0.1:2181@0x367ffa75] zookeeper.ClientCnxnSocket: jute.maxbuffer value is 4194304 Bytes\n",
            "2022-01-28 04:01:13,565 INFO  [ReadOnlyZKClient-127.0.0.1:2181@0x367ffa75] zookeeper.ClientCnxn: zookeeper.request.timeout value is 0. feature enabled=\n",
            "2022-01-28 04:01:13,577 INFO  [ReadOnlyZKClient-127.0.0.1:2181@0x367ffa75-SendThread(127.0.0.1:2181)] zookeeper.ClientCnxn: Opening socket connection to server localhost/127.0.0.1:2181. Will not attempt to authenticate using SASL (unknown error)\n",
            "2022-01-28 04:01:13,582 INFO  [ReadOnlyZKClient-127.0.0.1:2181@0x367ffa75-SendThread(127.0.0.1:2181)] zookeeper.ClientCnxn: Socket connection established, initiating session, client: /127.0.0.1:33140, server: localhost/127.0.0.1:2181\n",
            "2022-01-28 04:01:13,605 INFO  [ReadOnlyZKClient-127.0.0.1:2181@0x367ffa75-SendThread(127.0.0.1:2181)] zookeeper.ClientCnxn: Session establishment complete on server localhost/127.0.0.1:2181, sessionid = 0x1000008bae50006, negotiated timeout = 40000\n",
            "2022-01-28 04:01:15,202 INFO  [main] Configuration.deprecation: session.id is deprecated. Instead, use dfs.metrics.session-id\n",
            "2022-01-28 04:01:15,203 INFO  [main] jvm.JvmMetrics: Initializing JVM Metrics with processName=JobTracker, sessionId=\n",
            "2022-01-28 04:01:15,276 INFO  [ReadOnlyZKClient-127.0.0.1:2181@0x470a696f] zookeeper.ZooKeeper: Initiating client connection, connectString=127.0.0.1:2181 sessionTimeout=90000 watcher=org.apache.hadoop.hbase.zookeeper.ReadOnlyZKClient$$Lambda$15/572950827@4e2ce50e\n",
            "2022-01-28 04:01:15,277 INFO  [ReadOnlyZKClient-127.0.0.1:2181@0x470a696f] zookeeper.ClientCnxnSocket: jute.maxbuffer value is 4194304 Bytes\n",
            "2022-01-28 04:01:15,277 INFO  [ReadOnlyZKClient-127.0.0.1:2181@0x470a696f] zookeeper.ClientCnxn: zookeeper.request.timeout value is 0. feature enabled=\n",
            "2022-01-28 04:01:15,278 INFO  [ReadOnlyZKClient-127.0.0.1:2181@0x470a696f-SendThread(127.0.0.1:2181)] zookeeper.ClientCnxn: Opening socket connection to server localhost/127.0.0.1:2181. Will not attempt to authenticate using SASL (unknown error)\n",
            "2022-01-28 04:01:15,278 INFO  [ReadOnlyZKClient-127.0.0.1:2181@0x470a696f-SendThread(127.0.0.1:2181)] zookeeper.ClientCnxn: Socket connection established, initiating session, client: /127.0.0.1:33146, server: localhost/127.0.0.1:2181\n",
            "2022-01-28 04:01:15,282 INFO  [ReadOnlyZKClient-127.0.0.1:2181@0x470a696f-SendThread(127.0.0.1:2181)] zookeeper.ClientCnxn: Session establishment complete on server localhost/127.0.0.1:2181, sessionid = 0x1000008bae50007, negotiated timeout = 40000\n",
            "2022-01-28 04:01:15,293 INFO  [ReadOnlyZKClient-127.0.0.1:2181@0x367ffa75] zookeeper.ZooKeeper: Session: 0x1000008bae50006 closed\n",
            "2022-01-28 04:01:15,295 INFO  [ReadOnlyZKClient-127.0.0.1:2181@0x367ffa75-EventThread] zookeeper.ClientCnxn: EventThread shut down for session: 0x1000008bae50006\n",
            "2022-01-28 04:01:15,441 INFO  [ReadOnlyZKClient-127.0.0.1:2181@0x470a696f] zookeeper.ZooKeeper: Session: 0x1000008bae50007 closed\n",
            "2022-01-28 04:01:15,442 INFO  [ReadOnlyZKClient-127.0.0.1:2181@0x470a696f-EventThread] zookeeper.ClientCnxn: EventThread shut down for session: 0x1000008bae50007\n",
            "2022-01-28 04:01:15,506 INFO  [main] input.FileInputFormat: Total input files to process : 1\n",
            "2022-01-28 04:01:15,556 INFO  [main] mapreduce.JobSubmitter: number of splits:1\n",
            "2022-01-28 04:01:15,882 INFO  [main] mapreduce.JobSubmitter: Submitting tokens for job: job_local600045878_0001\n",
            "2022-01-28 04:01:16,311 INFO  [main] mapred.LocalDistributedCacheManager: Creating symlink: /tmp/hadoop-root/mapred/local/1643342476039/libjars <- /content/libjars/*\n",
            "2022-01-28 04:01:16,318 WARN  [main] fs.FileUtil: Command 'ln -s /tmp/hadoop-root/mapred/local/1643342476039/libjars /content/libjars/*' failed 1 with: ln: failed to create symbolic link '/content/libjars/*': No such file or directory\n",
            "\n",
            "2022-01-28 04:01:16,318 WARN  [main] mapred.LocalDistributedCacheManager: Failed to create symlink: /tmp/hadoop-root/mapred/local/1643342476039/libjars <- /content/libjars/*\n",
            "2022-01-28 04:01:16,318 INFO  [main] mapred.LocalDistributedCacheManager: Localized file:/tmp/hadoop-root/mapred/staging/root600045878/.staging/job_local600045878_0001/libjars as file:/tmp/hadoop-root/mapred/local/1643342476039/libjars\n",
            "2022-01-28 04:01:16,430 INFO  [main] mapreduce.Job: The url to track the job: http://localhost:8080/\n",
            "2022-01-28 04:01:16,431 INFO  [main] mapreduce.Job: Running job: job_local600045878_0001\n",
            "2022-01-28 04:01:16,437 INFO  [Thread-7] mapred.LocalJobRunner: OutputCommitter set in config null\n",
            "2022-01-28 04:01:16,472 INFO  [Thread-7] mapred.LocalJobRunner: OutputCommitter is org.apache.hadoop.hbase.mapreduce.TableOutputCommitter\n",
            "2022-01-28 04:01:16,508 INFO  [Thread-7] mapred.LocalJobRunner: Waiting for map tasks\n",
            "2022-01-28 04:01:16,509 INFO  [LocalJobRunner Map Task Executor #0] mapred.LocalJobRunner: Starting task: attempt_local600045878_0001_m_000000_0\n",
            "2022-01-28 04:01:16,602 INFO  [LocalJobRunner Map Task Executor #0] mapred.Task:  Using ResourceCalculatorProcessTree : [ ]\n",
            "2022-01-28 04:01:16,613 INFO  [LocalJobRunner Map Task Executor #0] mapred.MapTask: Processing split: file:/tmp/Employee.csv:0+661\n",
            "2022-01-28 04:01:16,634 INFO  [ReadOnlyZKClient-127.0.0.1:2181@0x670fb8b0] zookeeper.ZooKeeper: Initiating client connection, connectString=127.0.0.1:2181 sessionTimeout=90000 watcher=org.apache.hadoop.hbase.zookeeper.ReadOnlyZKClient$$Lambda$15/572950827@4e2ce50e\n",
            "2022-01-28 04:01:16,635 INFO  [ReadOnlyZKClient-127.0.0.1:2181@0x670fb8b0] zookeeper.ClientCnxnSocket: jute.maxbuffer value is 4194304 Bytes\n",
            "2022-01-28 04:01:16,635 INFO  [ReadOnlyZKClient-127.0.0.1:2181@0x670fb8b0] zookeeper.ClientCnxn: zookeeper.request.timeout value is 0. feature enabled=\n",
            "2022-01-28 04:01:16,640 INFO  [ReadOnlyZKClient-127.0.0.1:2181@0x670fb8b0-SendThread(127.0.0.1:2181)] zookeeper.ClientCnxn: Opening socket connection to server localhost/127.0.0.1:2181. Will not attempt to authenticate using SASL (unknown error)\n",
            "2022-01-28 04:01:16,641 INFO  [ReadOnlyZKClient-127.0.0.1:2181@0x670fb8b0-SendThread(127.0.0.1:2181)] zookeeper.ClientCnxn: Socket connection established, initiating session, client: /127.0.0.1:33156, server: localhost/127.0.0.1:2181\n",
            "2022-01-28 04:01:16,646 INFO  [ReadOnlyZKClient-127.0.0.1:2181@0x670fb8b0-SendThread(127.0.0.1:2181)] zookeeper.ClientCnxn: Session establishment complete on server localhost/127.0.0.1:2181, sessionid = 0x1000008bae50008, negotiated timeout = 40000\n",
            "2022-01-28 04:01:16,653 INFO  [LocalJobRunner Map Task Executor #0] mapreduce.TableOutputFormat: Created table instance for Emp\n",
            "2022-01-28 04:01:16,687 INFO  [ReadOnlyZKClient-127.0.0.1:2181@0x608d32a3] zookeeper.ZooKeeper: Initiating client connection, connectString=127.0.0.1:2181 sessionTimeout=90000 watcher=org.apache.hadoop.hbase.zookeeper.ReadOnlyZKClient$$Lambda$15/572950827@4e2ce50e\n",
            "2022-01-28 04:01:16,687 INFO  [ReadOnlyZKClient-127.0.0.1:2181@0x608d32a3] zookeeper.ClientCnxnSocket: jute.maxbuffer value is 4194304 Bytes\n",
            "2022-01-28 04:01:16,687 INFO  [ReadOnlyZKClient-127.0.0.1:2181@0x608d32a3] zookeeper.ClientCnxn: zookeeper.request.timeout value is 0. feature enabled=\n",
            "2022-01-28 04:01:16,690 INFO  [ReadOnlyZKClient-127.0.0.1:2181@0x608d32a3-SendThread(127.0.0.1:2181)] zookeeper.ClientCnxn: Opening socket connection to server localhost/127.0.0.1:2181. Will not attempt to authenticate using SASL (unknown error)\n",
            "2022-01-28 04:01:16,691 INFO  [ReadOnlyZKClient-127.0.0.1:2181@0x608d32a3-SendThread(127.0.0.1:2181)] zookeeper.ClientCnxn: Socket connection established, initiating session, client: /127.0.0.1:33158, server: localhost/127.0.0.1:2181\n",
            "2022-01-28 04:01:16,696 INFO  [ReadOnlyZKClient-127.0.0.1:2181@0x608d32a3-SendThread(127.0.0.1:2181)] zookeeper.ClientCnxn: Session establishment complete on server localhost/127.0.0.1:2181, sessionid = 0x1000008bae50009, negotiated timeout = 40000\n",
            "2022-01-28 04:01:16,781 INFO  [LocalJobRunner Map Task Executor #0] mapred.LocalJobRunner: \n",
            "2022-01-28 04:01:16,870 INFO  [ReadOnlyZKClient-127.0.0.1:2181@0x608d32a3] zookeeper.ZooKeeper: Session: 0x1000008bae50009 closed\n",
            "2022-01-28 04:01:16,870 INFO  [ReadOnlyZKClient-127.0.0.1:2181@0x608d32a3-EventThread] zookeeper.ClientCnxn: EventThread shut down for session: 0x1000008bae50009\n",
            "2022-01-28 04:01:16,920 INFO  [LocalJobRunner Map Task Executor #0] mapred.Task: Task:attempt_local600045878_0001_m_000000_0 is done. And is in the process of committing\n",
            "2022-01-28 04:01:16,949 INFO  [LocalJobRunner Map Task Executor #0] mapred.LocalJobRunner: map\n",
            "2022-01-28 04:01:16,950 INFO  [LocalJobRunner Map Task Executor #0] mapred.Task: Task 'attempt_local600045878_0001_m_000000_0' done.\n",
            "2022-01-28 04:01:16,958 INFO  [LocalJobRunner Map Task Executor #0] mapred.Task: Final Counters for attempt_local600045878_0001_m_000000_0: Counters: 19\n",
            "\tFile System Counters\n",
            "\t\tFILE: Number of bytes read=432130\n",
            "\t\tFILE: Number of bytes written=1001598\n",
            "\t\tFILE: Number of read operations=0\n",
            "\t\tFILE: Number of large read operations=0\n",
            "\t\tFILE: Number of write operations=0\n",
            "\tMap-Reduce Framework\n",
            "\t\tMap input records=12\n",
            "\t\tMap output records=12\n",
            "\t\tInput split bytes=87\n",
            "\t\tSpilled Records=0\n",
            "\t\tFailed Shuffles=0\n",
            "\t\tMerged Map outputs=0\n",
            "\t\tGC time elapsed (ms)=0\n",
            "\t\tCPU time spent (ms)=390\n",
            "\t\tPhysical memory (bytes) snapshot=279281664\n",
            "\t\tVirtual memory (bytes) snapshot=5158051840\n",
            "\t\tTotal committed heap usage (bytes)=206831616\n",
            "\tImportTsv\n",
            "\t\tBad Lines=0\n",
            "\tFile Input Format Counters \n",
            "\t\tBytes Read=685\n",
            "\tFile Output Format Counters \n",
            "\t\tBytes Written=0\n",
            "2022-01-28 04:01:16,959 INFO  [LocalJobRunner Map Task Executor #0] mapred.LocalJobRunner: Finishing task: attempt_local600045878_0001_m_000000_0\n",
            "2022-01-28 04:01:16,959 INFO  [Thread-7] mapred.LocalJobRunner: map task executor complete.\n",
            "2022-01-28 04:01:17,028 INFO  [ReadOnlyZKClient-127.0.0.1:2181@0x670fb8b0] zookeeper.ZooKeeper: Session: 0x1000008bae50008 closed\n",
            "2022-01-28 04:01:17,028 INFO  [ReadOnlyZKClient-127.0.0.1:2181@0x670fb8b0-EventThread] zookeeper.ClientCnxn: EventThread shut down for session: 0x1000008bae50008\n",
            "2022-01-28 04:01:17,435 INFO  [main] mapreduce.Job: Job job_local600045878_0001 running in uber mode : false\n",
            "2022-01-28 04:01:17,437 INFO  [main] mapreduce.Job:  map 100% reduce 0%\n",
            "2022-01-28 04:01:17,439 INFO  [main] mapreduce.Job: Job job_local600045878_0001 completed successfully\n",
            "2022-01-28 04:01:17,445 INFO  [main] mapreduce.Job: Counters: 19\n",
            "\tFile System Counters\n",
            "\t\tFILE: Number of bytes read=432130\n",
            "\t\tFILE: Number of bytes written=1001598\n",
            "\t\tFILE: Number of read operations=0\n",
            "\t\tFILE: Number of large read operations=0\n",
            "\t\tFILE: Number of write operations=0\n",
            "\tMap-Reduce Framework\n",
            "\t\tMap input records=12\n",
            "\t\tMap output records=12\n",
            "\t\tInput split bytes=87\n",
            "\t\tSpilled Records=0\n",
            "\t\tFailed Shuffles=0\n",
            "\t\tMerged Map outputs=0\n",
            "\t\tGC time elapsed (ms)=0\n",
            "\t\tCPU time spent (ms)=390\n",
            "\t\tPhysical memory (bytes) snapshot=279281664\n",
            "\t\tVirtual memory (bytes) snapshot=5158051840\n",
            "\t\tTotal committed heap usage (bytes)=206831616\n",
            "\tImportTsv\n",
            "\t\tBad Lines=0\n",
            "\tFile Input Format Counters \n",
            "\t\tBytes Read=685\n",
            "\tFile Output Format Counters \n",
            "\t\tBytes Written=0\n"
          ]
        }
      ]
    },
    {
      "cell_type": "code",
      "metadata": {
        "id": "jxvMPuZ8gOW5"
      },
      "source": [
        "kxn.open()\n",
        "tEmp = kxn.table('Emp')\n",
        "kxn.close()"
      ],
      "execution_count": 36,
      "outputs": []
    },
    {
      "cell_type": "code",
      "metadata": {
        "colab": {
          "base_uri": "https://localhost:8080/"
        },
        "id": "uonqOE2AgXeq",
        "outputId": "fc608c07-6898-47a7-d76a-b74b7c5ec227"
      },
      "source": [
        "kxn.open()\n",
        "#tDept = kxn.table('Dept')\n",
        "for key, data in tEmp.scan():\n",
        "    print(key, data)\n",
        "kxn.close()"
      ],
      "execution_count": 37,
      "outputs": [
        {
          "output_type": "stream",
          "name": "stdout",
          "text": [
            "b'123980' {b'Comm:': b'0.02', b'DeptID:': b'40', b'DoJ:': b'2004-10-09', b'FirstName:': b'Mahender', b'LastName:': b'Dhoni', b'Role:': b'Clerk', b'Salary:': b'9000'}\n",
            "b'223112' {b'Comm:': b'0.04', b'DeptID:': b'30', b'DoJ:': b'2001-11-19', b'FirstName:': b'Sania', b'LastName:': b'Mirza', b'Role:': b'Cus_Rep', b'Salary:': b'25000'}\n",
            "b'239456' {b'Comm:': b'0.07', b'DeptID:': b'20', b'DoJ:': b'2004-01-03', b'FirstName:': b'Shahrukh', b'LastName:': b'Khan', b'Role:': b'Manager', b'Salary:': b'30000'}\n",
            "b'299034' {b'Comm:': b'0.11', b'DeptID:': b'10', b'DoJ:': b'2002-10-10', b'FirstName:': b'Rekha', b'LastName:': b'Ganesan', b'Role:': b'Director', b'Salary:': b'60000'}\n",
            "b'349870' {b'Comm:': b'0.06', b'DeptID:': b'40', b'DoJ:': b'2005-05-04', b'FirstName:': b'Rani', b'LastName:': b'Mukherjee', b'Role:': b'Manager', b'Salary:': b'25000'}\n",
            "b'546223' {b'Comm:': b'0.09', b'DeptID:': b'10', b'DoJ:': b'2005-12-04', b'FirstName:': b'Narayan', b'LastName:': b'Karthikeyan', b'Role:': b'Secretary', b'Salary:': b'40000'}\n",
            "b'742866' {b'Comm:': b'0.1', b'DeptID:': b'10', b'DoJ:': b'2003-03-10', b'FirstName:': b'Amitabh', b'LastName:': b'Bacchan', b'Role:': b'Executive', b'Salary:': b'50000'}\n",
            "b'822134' {b'Comm:': b'0.08', b'DeptID:': b'30', b'DoJ:': b'2000-06-04', b'FirstName:': b'Rahul', b'LastName:': b'Dravid', b'Role:': b'Sr Manager', b'Salary:': b'40000'}\n",
            "b'865477' {b'Comm:': b'0.02', b'DeptID:': b'20', b'DoJ:': b'2002-04-04', b'FirstName:': b'Madhuri', b'LastName:': b'Dikshit', b'Role:': b'Clerk', b'Salary:': b'10000'}\n",
            "b'897889' {b'Comm:': b'0.05', b'DeptID:': b'20', b'DoJ:': b'2005-01-02', b'FirstName:': b'Virender', b'LastName:': b'Sehwag', b'Role:': b'Cus_Rep', b'Salary:': b'15000'}\n",
            "b'989007' {b'Comm:': b'0.03', b'DeptID:': b'40', b'DoJ:': b'2002-01-01', b'FirstName:': b'Sourav', b'LastName:': b'Ganguly', b'Role:': b'Cus_Rep', b'Salary:': b'20000'}\n",
            "b'997445' {b'Comm:': b'0.02', b'DeptID:': b'30', b'DoJ:': b'2001-07-01', b'FirstName:': b'Jagmohan', b'LastName:': b'Dalmia', b'Role:': b'Clerk', b'Salary:': b'12000'}\n"
          ]
        }
      ]
    },
    {
      "cell_type": "markdown",
      "metadata": {
        "id": "TS__XdMYjLzd"
      },
      "source": [
        "## Creating, INSERTing Denormalised EmpDept Table"
      ]
    },
    {
      "cell_type": "code",
      "metadata": {
        "id": "HQRpLsmfjbgp"
      },
      "source": [
        "kxn.open()\n",
        "#Drop Table\n",
        "#kxn.disable_table('EmpDept')\n",
        "#kxn.delete_table('EmpDept')\n",
        "#Create Table\n",
        "kxn.create_table(\n",
        "    'EmpDept',\n",
        "    {'EmpID': dict(max_versions=10),\n",
        "     'Emp': dict(),  # use defaults\n",
        "     'Dept': dict(),  # use defaults\n",
        "    }\n",
        ")\n",
        "kxn.close()"
      ],
      "execution_count": 38,
      "outputs": []
    },
    {
      "cell_type": "code",
      "metadata": {
        "colab": {
          "base_uri": "https://localhost:8080/"
        },
        "id": "NI6Zk4bKqMas",
        "outputId": "9bb87fb5-bb44-41d1-f390-e3c2526b14f1"
      },
      "source": [
        "kxn.open()\n",
        "kxn.tables()"
      ],
      "execution_count": 39,
      "outputs": [
        {
          "output_type": "execute_result",
          "data": {
            "text/plain": [
              "[b'Dept', b'Emp', b'EmpDept']"
            ]
          },
          "metadata": {},
          "execution_count": 39
        }
      ]
    },
    {
      "cell_type": "code",
      "metadata": {
        "id": "duGwwpF1n5IG"
      },
      "source": [
        "kxn.open()\n",
        "tEmpDept = kxn.table('EmpDept')\n",
        "b = tEmpDept.batch()\n",
        "b.put(b'742866', { b'Emp:FirstName': b'Amitabh', b'Dept:DeptName': b'Corporate', b'Dept:Location': b'Calcutta'})\n",
        "b.put(b'349870', { b'Emp:LastName': b'Mukheree', b'Dept:ManagerID': b'567234', b'Dept:Location:': b'Bombay'})\n",
        "b.send()\n",
        "kxn.close()"
      ],
      "execution_count": 42,
      "outputs": []
    },
    {
      "cell_type": "code",
      "metadata": {
        "colab": {
          "base_uri": "https://localhost:8080/"
        },
        "id": "AzxFRXp7rS87",
        "outputId": "b6bbb2be-83ff-4abf-d34f-683621e1baf0"
      },
      "source": [
        "kxn.open()\n",
        "#tDept = kxn.table('Dept')\n",
        "for key, data in tEmpDept.scan():\n",
        "    print(key, data)\n",
        "kxn.close()"
      ],
      "execution_count": 44,
      "outputs": [
        {
          "output_type": "stream",
          "name": "stdout",
          "text": [
            "b'349870' {b'Dept:Location:': b'Bombay', b'Dept:ManagerID': b'567234', b'Emp:LastName': b'Mukheree'}\n",
            "b'742866' {b'Dept:DeptName': b'Corporate', b'Dept:Location': b'Calcutta', b'Emp:FirstName': b'Amitabh'}\n"
          ]
        }
      ]
    },
    {
      "cell_type": "markdown",
      "metadata": {
        "id": "YWZKpJ_LtMnQ"
      },
      "source": [
        "##Creating and LOADing denormalised tables EmpDept2"
      ]
    },
    {
      "cell_type": "code",
      "metadata": {
        "id": "giAKNFnMtJ-b"
      },
      "source": [
        "kxn.open()\n",
        "#Drop Table\n",
        "#kxn.disable_table('EmpDept2')\n",
        "#kxn.delete_table('EmpDept2')\n",
        "#Create Table\n",
        "kxn.create_table(\n",
        "    'EmpDept2',\n",
        "    {'EmpID': dict(max_versions=10),\n",
        "     'Emp': dict(),  # use defaults\n",
        "     'Dept': dict(),  # use defaults\n",
        "    }\n",
        ")\n",
        "kxn.close()"
      ],
      "execution_count": 45,
      "outputs": []
    },
    {
      "cell_type": "code",
      "metadata": {
        "colab": {
          "base_uri": "https://localhost:8080/"
        },
        "id": "s2WwCA4euf-i",
        "outputId": "d2d3a333-cf30-460c-d9a5-05df6bbad856"
      },
      "source": [
        "kxn.open()\n",
        "kxn.tables()"
      ],
      "execution_count": 46,
      "outputs": [
        {
          "output_type": "execute_result",
          "data": {
            "text/plain": [
              "[b'Dept', b'Emp', b'EmpDept', b'EmpDept2']"
            ]
          },
          "metadata": {},
          "execution_count": 46
        }
      ]
    },
    {
      "cell_type": "code",
      "metadata": {
        "id": "3fijaJ_G5ktF"
      },
      "source": [
        "!wget -q https://raw.githubusercontent.com/Praxis-QR/BDSN/main/Documents/EmployeeDept2.txt"
      ],
      "execution_count": 47,
      "outputs": []
    },
    {
      "cell_type": "code",
      "source": [
        "!cat EmployeeDept2.txt"
      ],
      "metadata": {
        "id": "319EWjdEB5yn",
        "outputId": "828ede70-13f4-4310-9654-cf1919c0afcd",
        "colab": {
          "base_uri": "https://localhost:8080/"
        }
      },
      "execution_count": 48,
      "outputs": [
        {
          "output_type": "stream",
          "name": "stdout",
          "text": [
            "742866,Bacchan,Amitabh,Executive,2003-03-10,50000,0.1,10,Corporate,299034,Calcutta\n",
            "349870,Mukherjee,Rani,Manager,2005-05-04,25000,0.06,40,Production,349870,Bombay\n",
            "865477,Dikshit,Madhuri,Clerk,2002-04-04,10000,0.02,20,Sales,239456,Calcutta\n",
            "239456,Khan,Shahrukh,Manager,2004-01-03,30000,0.07,20,Sales,239456,Calcutta\n",
            "897889,Sehwag,Virender,Cus_Rep,2005-01-02,15000,0.05,20,Sales,239456,Calcutta\n",
            "123980,Dhoni,Mahender,Clerk,2004-10-09,9000,0.02,40,Production,349870,Bombay\n",
            "822134,Dravid,Rahul,Sr Manager,2000-06-04,40000,0.08,30,Accounts,822134,Calcutta\n",
            "997445,Dalmia,Jagmohan,Clerk,2001-07-01,12000,0.02,30,Accounts,822134,Calcutta\n",
            "989007,Ganguly,Sourav,Cus_Rep,2002-01-01,20000,0.03,40,Production,349870,Bombay\n",
            "299034,Ganesan,Rekha,Director,2002-10-10,60000,0.11,10,Corporate,299034,Calcutta\n",
            "546223,Karthikeyan,Narayan,Secretary,2005-12-04,40000,0.09,10,Corporate,299034,Calcutta\n",
            "223112,Mirza,Sania,Cus_Rep,2001-11-19,25000,0.04,30,Accounts,822134,Calcutta"
          ]
        }
      ]
    },
    {
      "cell_type": "code",
      "metadata": {
        "colab": {
          "base_uri": "https://localhost:8080/"
        },
        "id": "vvItjBLuu7oM",
        "outputId": "b6d90934-4e67-4d9e-cbe4-008ee87cced1"
      },
      "source": [
        "# input file has to be moved from regular file system to HDFS file system\n",
        "!hdfs dfs -copyFromLocal EmployeeDept2.txt /tmp"
      ],
      "execution_count": 50,
      "outputs": [
        {
          "output_type": "stream",
          "name": "stdout",
          "text": [
            "SLF4J: Failed to load class \"org.slf4j.impl.StaticLoggerBinder\".\n",
            "SLF4J: Defaulting to no-operation (NOP) logger implementation\n",
            "SLF4J: See http://www.slf4j.org/codes.html#StaticLoggerBinder for further details.\n"
          ]
        }
      ]
    },
    {
      "cell_type": "code",
      "metadata": {
        "colab": {
          "base_uri": "https://localhost:8080/"
        },
        "id": "j_VFWQZJvXqn",
        "outputId": "cc8128bd-0e35-4417-9006-0691c2afb17f"
      },
      "source": [
        "# https://community.cloudera.com/t5/Community-Articles/Import-CSV-data-into-HBase-using-importtsv/ta-p/244842\n",
        "#hbase org.apache.hadoop.hbase.mapreduce.ImportTsv -Dimporttsv.separator=,  -Dimporttsv.columns=\"HBASE_ROW_KEY,id,temp:in,temp:out,vibration,pressure:in,pressure:out\" sensor hdfs://sandbox.hortonworks.com:/tmp/hbase.csv\n",
        "!hbase org.apache.hadoop.hbase.mapreduce.ImportTsv -Dimporttsv.separator=','  -Dimporttsv.columns=\"HBASE_ROW_KEY,Emp:LastName,Emp:FirstName,Emp:Role,Emp:DoJ,Emp:Salary,Emp:Comm,Dept:DeptID,Dept:DeptName,Dept:ManagerID,Dept:Location\" EmpDept2 /tmp/EmployeeDept2.txt"
      ],
      "execution_count": 51,
      "outputs": [
        {
          "output_type": "stream",
          "name": "stdout",
          "text": [
            "2022-01-28 04:21:44,136 INFO  [ReadOnlyZKClient-127.0.0.1:2181@0x367ffa75] zookeeper.ZooKeeper: Client environment:zookeeper.version=3.5.7-f0fdd52973d373ffd9c86b81d99842dc2c7f660e, built on 02/10/2020 11:30 GMT\n",
            "2022-01-28 04:21:44,137 INFO  [ReadOnlyZKClient-127.0.0.1:2181@0x367ffa75] zookeeper.ZooKeeper: Client environment:host.name=cc75e2b95803\n",
            "2022-01-28 04:21:44,137 INFO  [ReadOnlyZKClient-127.0.0.1:2181@0x367ffa75] zookeeper.ZooKeeper: Client environment:java.version=1.8.0_312\n",
            "2022-01-28 04:21:44,137 INFO  [ReadOnlyZKClient-127.0.0.1:2181@0x367ffa75] zookeeper.ZooKeeper: Client environment:java.vendor=Private Build\n",
            "2022-01-28 04:21:44,137 INFO  [ReadOnlyZKClient-127.0.0.1:2181@0x367ffa75] zookeeper.ZooKeeper: Client environment:java.home=/usr/lib/jvm/java-8-openjdk-amd64/jre\n",
            "2022-01-28 04:21:44,137 INFO  [ReadOnlyZKClient-127.0.0.1:2181@0x367ffa75] zookeeper.ZooKeeper: .0.jar:/usr/local/hadoop-3.3.0//share/hadoop/yarn/hadoop-yarn-applications-mawo-core-3.3.0.jar:/usr/local/hadoop-3.3.0//share/hadoop/yarn/hadoop-yarn-applications-unmanaged-am-launcher-3.3.0.jar:/usr/local/hadoop-3.3.0//share/hadoop/yarn/hadoop-yarn-api-3.3.0.jar:/usr/local/hadoop-3.3.0//share/hadoop/yarn/hadoop-yarn-client-3.3.0.jar:/usr/local/hadoop-3.3.0//share/hadoop/yarn/hadoop-yarn-server-tests-3.3.0.jar:/usr/local/hadoop-3.3.0//share/hadoop/yarn/hadoop-yarn-common-3.3.0.jar:/usr/local/hadoop-3.3.0//share/hadoop/yarn/hadoop-yarn-services-core-3.3.0.jar:/usr/local/hadoop-3.3.0//share/hadoop/yarn/hadoop-yarn-server-resourcemanager-3.3.0.jar:/usr/local/hadoop-3.3.0//share/hadoop/yarn/hadoop-yarn-server-timeline-pluginstorage-3.3.0.jar:/usr/local/hadoop-3.3.0//share/hadoop/yarn/hadoop-yarn-server-router-3.3.0.jar:/usr/local/hadoop-3.3.0//share/hadoop/yarn/hadoop-yarn-server-applicationhistoryservice-3.3.0.jar:/content/hbase-2.4.9//lib/client-facing-thirdparty/slf4j-log4j12-1.7.30.jar\n",
            "2022-01-28 04:21:44,137 INFO  [ReadOnlyZKClient-127.0.0.1:2181@0x367ffa75] zookeeper.ZooKeeper: Client environment:java.library.path=/usr/local/hadoop-3.3.0//lib/native\n",
            "2022-01-28 04:21:44,137 INFO  [ReadOnlyZKClient-127.0.0.1:2181@0x367ffa75] zookeeper.ZooKeeper: Client environment:java.io.tmpdir=/tmp\n",
            "2022-01-28 04:21:44,137 INFO  [ReadOnlyZKClient-127.0.0.1:2181@0x367ffa75] zookeeper.ZooKeeper: Client environment:java.compiler=<NA>\n",
            "2022-01-28 04:21:44,137 INFO  [ReadOnlyZKClient-127.0.0.1:2181@0x367ffa75] zookeeper.ZooKeeper: Client environment:os.name=Linux\n",
            "2022-01-28 04:21:44,137 INFO  [ReadOnlyZKClient-127.0.0.1:2181@0x367ffa75] zookeeper.ZooKeeper: Client environment:os.arch=amd64\n",
            "2022-01-28 04:21:44,137 INFO  [ReadOnlyZKClient-127.0.0.1:2181@0x367ffa75] zookeeper.ZooKeeper: Client environment:os.version=5.4.144+\n",
            "2022-01-28 04:21:44,137 INFO  [ReadOnlyZKClient-127.0.0.1:2181@0x367ffa75] zookeeper.ZooKeeper: Client environment:user.name=root\n",
            "2022-01-28 04:21:44,137 INFO  [ReadOnlyZKClient-127.0.0.1:2181@0x367ffa75] zookeeper.ZooKeeper: Client environment:user.home=/root\n",
            "2022-01-28 04:21:44,137 INFO  [ReadOnlyZKClient-127.0.0.1:2181@0x367ffa75] zookeeper.ZooKeeper: Client environment:user.dir=/content\n",
            "2022-01-28 04:21:44,137 INFO  [ReadOnlyZKClient-127.0.0.1:2181@0x367ffa75] zookeeper.ZooKeeper: Client environment:os.memory.free=178MB\n",
            "2022-01-28 04:21:44,137 INFO  [ReadOnlyZKClient-127.0.0.1:2181@0x367ffa75] zookeeper.ZooKeeper: Client environment:os.memory.max=3231MB\n",
            "2022-01-28 04:21:44,137 INFO  [ReadOnlyZKClient-127.0.0.1:2181@0x367ffa75] zookeeper.ZooKeeper: Client environment:os.memory.total=197MB\n",
            "2022-01-28 04:21:44,142 INFO  [ReadOnlyZKClient-127.0.0.1:2181@0x367ffa75] zookeeper.ZooKeeper: Initiating client connection, connectString=127.0.0.1:2181 sessionTimeout=90000 watcher=org.apache.hadoop.hbase.zookeeper.ReadOnlyZKClient$$Lambda$15/572950827@4e2ce50e\n",
            "2022-01-28 04:21:44,154 INFO  [ReadOnlyZKClient-127.0.0.1:2181@0x367ffa75] common.X509Util: Setting -D jdk.tls.rejectClientInitiatedRenegotiation=true to disable client-initiated TLS renegotiation\n",
            "2022-01-28 04:21:44,161 INFO  [ReadOnlyZKClient-127.0.0.1:2181@0x367ffa75] zookeeper.ClientCnxnSocket: jute.maxbuffer value is 4194304 Bytes\n",
            "2022-01-28 04:21:44,171 INFO  [ReadOnlyZKClient-127.0.0.1:2181@0x367ffa75] zookeeper.ClientCnxn: zookeeper.request.timeout value is 0. feature enabled=\n",
            "2022-01-28 04:21:44,189 INFO  [ReadOnlyZKClient-127.0.0.1:2181@0x367ffa75-SendThread(127.0.0.1:2181)] zookeeper.ClientCnxn: Opening socket connection to server localhost/127.0.0.1:2181. Will not attempt to authenticate using SASL (unknown error)\n",
            "2022-01-28 04:21:44,195 INFO  [ReadOnlyZKClient-127.0.0.1:2181@0x367ffa75-SendThread(127.0.0.1:2181)] zookeeper.ClientCnxn: Socket connection established, initiating session, client: /127.0.0.1:36228, server: localhost/127.0.0.1:2181\n",
            "2022-01-28 04:21:44,209 INFO  [ReadOnlyZKClient-127.0.0.1:2181@0x367ffa75-SendThread(127.0.0.1:2181)] zookeeper.ClientCnxn: Session establishment complete on server localhost/127.0.0.1:2181, sessionid = 0x1000008bae5000a, negotiated timeout = 40000\n",
            "2022-01-28 04:21:46,198 INFO  [main] Configuration.deprecation: session.id is deprecated. Instead, use dfs.metrics.session-id\n",
            "2022-01-28 04:21:46,200 INFO  [main] jvm.JvmMetrics: Initializing JVM Metrics with processName=JobTracker, sessionId=\n",
            "2022-01-28 04:21:46,280 INFO  [ReadOnlyZKClient-127.0.0.1:2181@0x367ffa75] zookeeper.ZooKeeper: Session: 0x1000008bae5000a closed\n",
            "2022-01-28 04:21:46,282 INFO  [ReadOnlyZKClient-127.0.0.1:2181@0x367ffa75-EventThread] zookeeper.ClientCnxn: EventThread shut down for session: 0x1000008bae5000a\n",
            "2022-01-28 04:21:46,323 INFO  [ReadOnlyZKClient-127.0.0.1:2181@0x470a696f] zookeeper.ZooKeeper: Initiating client connection, connectString=127.0.0.1:2181 sessionTimeout=90000 watcher=org.apache.hadoop.hbase.zookeeper.ReadOnlyZKClient$$Lambda$15/572950827@4e2ce50e\n",
            "2022-01-28 04:21:46,324 INFO  [ReadOnlyZKClient-127.0.0.1:2181@0x470a696f] zookeeper.ClientCnxnSocket: jute.maxbuffer value is 4194304 Bytes\n",
            "2022-01-28 04:21:46,324 INFO  [ReadOnlyZKClient-127.0.0.1:2181@0x470a696f] zookeeper.ClientCnxn: zookeeper.request.timeout value is 0. feature enabled=\n",
            "2022-01-28 04:21:46,325 INFO  [ReadOnlyZKClient-127.0.0.1:2181@0x470a696f-SendThread(127.0.0.1:2181)] zookeeper.ClientCnxn: Opening socket connection to server localhost/127.0.0.1:2181. Will not attempt to authenticate using SASL (unknown error)\n",
            "2022-01-28 04:21:46,326 INFO  [ReadOnlyZKClient-127.0.0.1:2181@0x470a696f-SendThread(127.0.0.1:2181)] zookeeper.ClientCnxn: Socket connection established, initiating session, client: /127.0.0.1:36238, server: localhost/127.0.0.1:2181\n",
            "2022-01-28 04:21:46,330 INFO  [ReadOnlyZKClient-127.0.0.1:2181@0x470a696f-SendThread(127.0.0.1:2181)] zookeeper.ClientCnxn: Session establishment complete on server localhost/127.0.0.1:2181, sessionid = 0x1000008bae5000b, negotiated timeout = 40000\n",
            "2022-01-28 04:21:46,467 INFO  [ReadOnlyZKClient-127.0.0.1:2181@0x470a696f] zookeeper.ZooKeeper: Session: 0x1000008bae5000b closed\n",
            "2022-01-28 04:21:46,467 INFO  [ReadOnlyZKClient-127.0.0.1:2181@0x470a696f-EventThread] zookeeper.ClientCnxn: EventThread shut down for session: 0x1000008bae5000b\n",
            "2022-01-28 04:21:46,559 INFO  [main] input.FileInputFormat: Total input files to process : 1\n",
            "2022-01-28 04:21:46,614 INFO  [main] mapreduce.JobSubmitter: number of splits:1\n",
            "2022-01-28 04:21:46,928 INFO  [main] mapreduce.JobSubmitter: Submitting tokens for job: job_local2083949701_0001\n",
            "2022-01-28 04:21:47,454 INFO  [main] mapred.LocalDistributedCacheManager: Creating symlink: /tmp/hadoop-root/mapred/local/1643343707178/libjars <- /content/libjars/*\n",
            "2022-01-28 04:21:47,464 WARN  [main] fs.FileUtil: Command 'ln -s /tmp/hadoop-root/mapred/local/1643343707178/libjars /content/libjars/*' failed 1 with: ln: failed to create symbolic link '/content/libjars/*': No such file or directory\n",
            "\n",
            "2022-01-28 04:21:47,464 WARN  [main] mapred.LocalDistributedCacheManager: Failed to create symlink: /tmp/hadoop-root/mapred/local/1643343707178/libjars <- /content/libjars/*\n",
            "2022-01-28 04:21:47,464 INFO  [main] mapred.LocalDistributedCacheManager: Localized file:/tmp/hadoop-root/mapred/staging/root2083949701/.staging/job_local2083949701_0001/libjars as file:/tmp/hadoop-root/mapred/local/1643343707178/libjars\n",
            "2022-01-28 04:21:47,619 INFO  [main] mapreduce.Job: The url to track the job: http://localhost:8080/\n",
            "2022-01-28 04:21:47,620 INFO  [main] mapreduce.Job: Running job: job_local2083949701_0001\n",
            "2022-01-28 04:21:47,622 INFO  [Thread-7] mapred.LocalJobRunner: OutputCommitter set in config null\n",
            "2022-01-28 04:21:47,656 INFO  [Thread-7] mapred.LocalJobRunner: OutputCommitter is org.apache.hadoop.hbase.mapreduce.TableOutputCommitter\n",
            "2022-01-28 04:21:47,706 INFO  [Thread-7] mapred.LocalJobRunner: Waiting for map tasks\n",
            "2022-01-28 04:21:47,707 INFO  [LocalJobRunner Map Task Executor #0] mapred.LocalJobRunner: Starting task: attempt_local2083949701_0001_m_000000_0\n",
            "2022-01-28 04:21:47,822 INFO  [LocalJobRunner Map Task Executor #0] mapred.Task:  Using ResourceCalculatorProcessTree : [ ]\n",
            "2022-01-28 04:21:47,845 INFO  [LocalJobRunner Map Task Executor #0] mapred.MapTask: Processing split: file:/tmp/EmployeeDept2.txt:0+955\n",
            "2022-01-28 04:21:47,870 INFO  [ReadOnlyZKClient-127.0.0.1:2181@0x653616c7] zookeeper.ZooKeeper: Initiating client connection, connectString=127.0.0.1:2181 sessionTimeout=90000 watcher=org.apache.hadoop.hbase.zookeeper.ReadOnlyZKClient$$Lambda$15/572950827@4e2ce50e\n",
            "2022-01-28 04:21:47,870 INFO  [ReadOnlyZKClient-127.0.0.1:2181@0x653616c7] zookeeper.ClientCnxnSocket: jute.maxbuffer value is 4194304 Bytes\n",
            "2022-01-28 04:21:47,870 INFO  [ReadOnlyZKClient-127.0.0.1:2181@0x653616c7] zookeeper.ClientCnxn: zookeeper.request.timeout value is 0. feature enabled=\n",
            "2022-01-28 04:21:47,871 INFO  [ReadOnlyZKClient-127.0.0.1:2181@0x653616c7-SendThread(127.0.0.1:2181)] zookeeper.ClientCnxn: Opening socket connection to server localhost/127.0.0.1:2181. Will not attempt to authenticate using SASL (unknown error)\n",
            "2022-01-28 04:21:47,873 INFO  [ReadOnlyZKClient-127.0.0.1:2181@0x653616c7-SendThread(127.0.0.1:2181)] zookeeper.ClientCnxn: Socket connection established, initiating session, client: /127.0.0.1:36250, server: localhost/127.0.0.1:2181\n",
            "2022-01-28 04:21:47,879 INFO  [ReadOnlyZKClient-127.0.0.1:2181@0x653616c7-SendThread(127.0.0.1:2181)] zookeeper.ClientCnxn: Session establishment complete on server localhost/127.0.0.1:2181, sessionid = 0x1000008bae5000c, negotiated timeout = 40000\n",
            "2022-01-28 04:21:47,886 INFO  [LocalJobRunner Map Task Executor #0] mapreduce.TableOutputFormat: Created table instance for EmpDept2\n",
            "2022-01-28 04:21:47,922 INFO  [ReadOnlyZKClient-127.0.0.1:2181@0x5980baef] zookeeper.ZooKeeper: Initiating client connection, connectString=127.0.0.1:2181 sessionTimeout=90000 watcher=org.apache.hadoop.hbase.zookeeper.ReadOnlyZKClient$$Lambda$15/572950827@4e2ce50e\n",
            "2022-01-28 04:21:47,923 INFO  [ReadOnlyZKClient-127.0.0.1:2181@0x5980baef] zookeeper.ClientCnxnSocket: jute.maxbuffer value is 4194304 Bytes\n",
            "2022-01-28 04:21:47,923 INFO  [ReadOnlyZKClient-127.0.0.1:2181@0x5980baef] zookeeper.ClientCnxn: zookeeper.request.timeout value is 0. feature enabled=\n",
            "2022-01-28 04:21:47,928 INFO  [ReadOnlyZKClient-127.0.0.1:2181@0x5980baef-SendThread(127.0.0.1:2181)] zookeeper.ClientCnxn: Opening socket connection to server localhost/127.0.0.1:2181. Will not attempt to authenticate using SASL (unknown error)\n",
            "2022-01-28 04:21:47,929 INFO  [ReadOnlyZKClient-127.0.0.1:2181@0x5980baef-SendThread(127.0.0.1:2181)] zookeeper.ClientCnxn: Socket connection established, initiating session, client: /127.0.0.1:36252, server: localhost/127.0.0.1:2181\n",
            "2022-01-28 04:21:47,936 INFO  [ReadOnlyZKClient-127.0.0.1:2181@0x5980baef-SendThread(127.0.0.1:2181)] zookeeper.ClientCnxn: Session establishment complete on server localhost/127.0.0.1:2181, sessionid = 0x1000008bae5000d, negotiated timeout = 40000\n",
            "2022-01-28 04:21:48,039 INFO  [LocalJobRunner Map Task Executor #0] mapred.LocalJobRunner: \n",
            "2022-01-28 04:21:48,130 INFO  [ReadOnlyZKClient-127.0.0.1:2181@0x5980baef] zookeeper.ZooKeeper: Session: 0x1000008bae5000d closed\n",
            "2022-01-28 04:21:48,130 INFO  [ReadOnlyZKClient-127.0.0.1:2181@0x5980baef-EventThread] zookeeper.ClientCnxn: EventThread shut down for session: 0x1000008bae5000d\n",
            "2022-01-28 04:21:48,269 INFO  [LocalJobRunner Map Task Executor #0] mapred.Task: Task:attempt_local2083949701_0001_m_000000_0 is done. And is in the process of committing\n",
            "2022-01-28 04:21:48,309 INFO  [LocalJobRunner Map Task Executor #0] mapred.LocalJobRunner: map\n",
            "2022-01-28 04:21:48,309 INFO  [LocalJobRunner Map Task Executor #0] mapred.Task: Task 'attempt_local2083949701_0001_m_000000_0' done.\n",
            "2022-01-28 04:21:48,321 INFO  [LocalJobRunner Map Task Executor #0] mapred.Task: Final Counters for attempt_local2083949701_0001_m_000000_0: Counters: 19\n",
            "\tFile System Counters\n",
            "\t\tFILE: Number of bytes read=432429\n",
            "\t\tFILE: Number of bytes written=1004521\n",
            "\t\tFILE: Number of read operations=0\n",
            "\t\tFILE: Number of large read operations=0\n",
            "\t\tFILE: Number of write operations=0\n",
            "\tMap-Reduce Framework\n",
            "\t\tMap input records=12\n",
            "\t\tMap output records=12\n",
            "\t\tInput split bytes=92\n",
            "\t\tSpilled Records=0\n",
            "\t\tFailed Shuffles=0\n",
            "\t\tMerged Map outputs=0\n",
            "\t\tGC time elapsed (ms)=0\n",
            "\t\tCPU time spent (ms)=550\n",
            "\t\tPhysical memory (bytes) snapshot=276963328\n",
            "\t\tVirtual memory (bytes) snapshot=5154467840\n",
            "\t\tTotal committed heap usage (bytes)=206831616\n",
            "\tImportTsv\n",
            "\t\tBad Lines=0\n",
            "\tFile Input Format Counters \n",
            "\t\tBytes Read=979\n",
            "\tFile Output Format Counters \n",
            "\t\tBytes Written=0\n",
            "2022-01-28 04:21:48,322 INFO  [LocalJobRunner Map Task Executor #0] mapred.LocalJobRunner: Finishing task: attempt_local2083949701_0001_m_000000_0\n",
            "2022-01-28 04:21:48,322 INFO  [Thread-7] mapred.LocalJobRunner: map task executor complete.\n",
            "2022-01-28 04:21:48,376 INFO  [ReadOnlyZKClient-127.0.0.1:2181@0x653616c7] zookeeper.ZooKeeper: Session: 0x1000008bae5000c closed\n",
            "2022-01-28 04:21:48,376 INFO  [ReadOnlyZKClient-127.0.0.1:2181@0x653616c7-EventThread] zookeeper.ClientCnxn: EventThread shut down for session: 0x1000008bae5000c\n",
            "2022-01-28 04:21:48,626 INFO  [main] mapreduce.Job: Job job_local2083949701_0001 running in uber mode : false\n",
            "2022-01-28 04:21:48,628 INFO  [main] mapreduce.Job:  map 100% reduce 0%\n",
            "2022-01-28 04:21:48,630 INFO  [main] mapreduce.Job: Job job_local2083949701_0001 completed successfully\n",
            "2022-01-28 04:21:48,638 INFO  [main] mapreduce.Job: Counters: 19\n",
            "\tFile System Counters\n",
            "\t\tFILE: Number of bytes read=432429\n",
            "\t\tFILE: Number of bytes written=1004521\n",
            "\t\tFILE: Number of read operations=0\n",
            "\t\tFILE: Number of large read operations=0\n",
            "\t\tFILE: Number of write operations=0\n",
            "\tMap-Reduce Framework\n",
            "\t\tMap input records=12\n",
            "\t\tMap output records=12\n",
            "\t\tInput split bytes=92\n",
            "\t\tSpilled Records=0\n",
            "\t\tFailed Shuffles=0\n",
            "\t\tMerged Map outputs=0\n",
            "\t\tGC time elapsed (ms)=0\n",
            "\t\tCPU time spent (ms)=550\n",
            "\t\tPhysical memory (bytes) snapshot=276963328\n",
            "\t\tVirtual memory (bytes) snapshot=5154467840\n",
            "\t\tTotal committed heap usage (bytes)=206831616\n",
            "\tImportTsv\n",
            "\t\tBad Lines=0\n",
            "\tFile Input Format Counters \n",
            "\t\tBytes Read=979\n",
            "\tFile Output Format Counters \n",
            "\t\tBytes Written=0\n"
          ]
        }
      ]
    },
    {
      "cell_type": "code",
      "metadata": {
        "id": "x-H5Zh5UwRzd"
      },
      "source": [
        "tEmpDept2 = kxn.table('EmpDept2')"
      ],
      "execution_count": 52,
      "outputs": []
    },
    {
      "cell_type": "code",
      "metadata": {
        "colab": {
          "base_uri": "https://localhost:8080/"
        },
        "id": "I4tQppiqwMTk",
        "outputId": "1a4d9c51-b03f-4a41-88ff-04bcf3972f17"
      },
      "source": [
        "kxn.open()\n",
        "tEmpDept2 = kxn.table('EmpDept2')\n",
        "for key, data in tEmpDept2.scan():\n",
        "    print(key, data)\n",
        "kxn.close()"
      ],
      "execution_count": 53,
      "outputs": [
        {
          "output_type": "stream",
          "name": "stdout",
          "text": [
            "b'123980' {b'Dept:DeptID': b'40', b'Dept:DeptName': b'Production', b'Dept:Location': b'Bombay', b'Dept:ManagerID': b'349870', b'Emp:Comm': b'0.02', b'Emp:DoJ': b'2004-10-09', b'Emp:FirstName': b'Mahender', b'Emp:LastName': b'Dhoni', b'Emp:Role': b'Clerk', b'Emp:Salary': b'9000'}\n",
            "b'223112' {b'Dept:DeptID': b'30', b'Dept:DeptName': b'Accounts', b'Dept:Location': b'Calcutta', b'Dept:ManagerID': b'822134', b'Emp:Comm': b'0.04', b'Emp:DoJ': b'2001-11-19', b'Emp:FirstName': b'Sania', b'Emp:LastName': b'Mirza', b'Emp:Role': b'Cus_Rep', b'Emp:Salary': b'25000'}\n",
            "b'239456' {b'Dept:DeptID': b'20', b'Dept:DeptName': b'Sales', b'Dept:Location': b'Calcutta', b'Dept:ManagerID': b'239456', b'Emp:Comm': b'0.07', b'Emp:DoJ': b'2004-01-03', b'Emp:FirstName': b'Shahrukh', b'Emp:LastName': b'Khan', b'Emp:Role': b'Manager', b'Emp:Salary': b'30000'}\n",
            "b'299034' {b'Dept:DeptID': b'10', b'Dept:DeptName': b'Corporate', b'Dept:Location': b'Calcutta', b'Dept:ManagerID': b'299034', b'Emp:Comm': b'0.11', b'Emp:DoJ': b'2002-10-10', b'Emp:FirstName': b'Rekha', b'Emp:LastName': b'Ganesan', b'Emp:Role': b'Director', b'Emp:Salary': b'60000'}\n",
            "b'349870' {b'Dept:DeptID': b'40', b'Dept:DeptName': b'Production', b'Dept:Location': b'Bombay', b'Dept:ManagerID': b'349870', b'Emp:Comm': b'0.06', b'Emp:DoJ': b'2005-05-04', b'Emp:FirstName': b'Rani', b'Emp:LastName': b'Mukherjee', b'Emp:Role': b'Manager', b'Emp:Salary': b'25000'}\n",
            "b'546223' {b'Dept:DeptID': b'10', b'Dept:DeptName': b'Corporate', b'Dept:Location': b'Calcutta', b'Dept:ManagerID': b'299034', b'Emp:Comm': b'0.09', b'Emp:DoJ': b'2005-12-04', b'Emp:FirstName': b'Narayan', b'Emp:LastName': b'Karthikeyan', b'Emp:Role': b'Secretary', b'Emp:Salary': b'40000'}\n",
            "b'742866' {b'Dept:DeptID': b'10', b'Dept:DeptName': b'Corporate', b'Dept:Location': b'Calcutta', b'Dept:ManagerID': b'299034', b'Emp:Comm': b'0.1', b'Emp:DoJ': b'2003-03-10', b'Emp:FirstName': b'Amitabh', b'Emp:LastName': b'Bacchan', b'Emp:Role': b'Executive', b'Emp:Salary': b'50000'}\n",
            "b'822134' {b'Dept:DeptID': b'30', b'Dept:DeptName': b'Accounts', b'Dept:Location': b'Calcutta', b'Dept:ManagerID': b'822134', b'Emp:Comm': b'0.08', b'Emp:DoJ': b'2000-06-04', b'Emp:FirstName': b'Rahul', b'Emp:LastName': b'Dravid', b'Emp:Role': b'Sr Manager', b'Emp:Salary': b'40000'}\n",
            "b'865477' {b'Dept:DeptID': b'20', b'Dept:DeptName': b'Sales', b'Dept:Location': b'Calcutta', b'Dept:ManagerID': b'239456', b'Emp:Comm': b'0.02', b'Emp:DoJ': b'2002-04-04', b'Emp:FirstName': b'Madhuri', b'Emp:LastName': b'Dikshit', b'Emp:Role': b'Clerk', b'Emp:Salary': b'10000'}\n",
            "b'897889' {b'Dept:DeptID': b'20', b'Dept:DeptName': b'Sales', b'Dept:Location': b'Calcutta', b'Dept:ManagerID': b'239456', b'Emp:Comm': b'0.05', b'Emp:DoJ': b'2005-01-02', b'Emp:FirstName': b'Virender', b'Emp:LastName': b'Sehwag', b'Emp:Role': b'Cus_Rep', b'Emp:Salary': b'15000'}\n",
            "b'989007' {b'Dept:DeptID': b'40', b'Dept:DeptName': b'Production', b'Dept:Location': b'Bombay', b'Dept:ManagerID': b'349870', b'Emp:Comm': b'0.03', b'Emp:DoJ': b'2002-01-01', b'Emp:FirstName': b'Sourav', b'Emp:LastName': b'Ganguly', b'Emp:Role': b'Cus_Rep', b'Emp:Salary': b'20000'}\n",
            "b'997445' {b'Dept:DeptID': b'30', b'Dept:DeptName': b'Accounts', b'Dept:Location': b'Calcutta', b'Dept:ManagerID': b'822134', b'Emp:Comm': b'0.02', b'Emp:DoJ': b'2001-07-01', b'Emp:FirstName': b'Jagmohan', b'Emp:LastName': b'Dalmia', b'Emp:Role': b'Clerk', b'Emp:Salary': b'12000'}\n"
          ]
        }
      ]
    },
    {
      "cell_type": "markdown",
      "metadata": {
        "id": "QGIY0y-OO1rV"
      },
      "source": [
        "#Data Retrieval <br>\n",
        "https://happybase.readthedocs.io/en/latest/user.html"
      ]
    },
    {
      "cell_type": "code",
      "metadata": {
        "id": "FtmYXOCEO-EJ",
        "outputId": "717bd4a3-b882-4fa7-fb6e-9d6fa54d5a3c",
        "colab": {
          "base_uri": "https://localhost:8080/"
        }
      },
      "source": [
        "#Retreive One Row\n",
        "kxn.open()\n",
        "tEmpDept2 = kxn.table('EmpDept2')\n",
        "prow = tEmpDept2.row(b'123980')\n",
        "print(prow)   # prints the value of cf1:col1"
      ],
      "execution_count": 55,
      "outputs": [
        {
          "output_type": "stream",
          "name": "stdout",
          "text": [
            "{b'Dept:DeptID': b'40', b'Dept:DeptName': b'Production', b'Dept:Location': b'Bombay', b'Dept:ManagerID': b'349870', b'Emp:Comm': b'0.02', b'Emp:DoJ': b'2004-10-09', b'Emp:FirstName': b'Mahender', b'Emp:LastName': b'Dhoni', b'Emp:Role': b'Clerk', b'Emp:Salary': b'9000'}\n"
          ]
        }
      ]
    },
    {
      "cell_type": "code",
      "metadata": {
        "id": "Azcfxg2YP9AH",
        "outputId": "0ba1106f-ce92-4492-9d6a-07453077392b",
        "colab": {
          "base_uri": "https://localhost:8080/"
        }
      },
      "source": [
        "#Retreive More than one Row\n",
        "kxn.open()\n",
        "tEmpDept2 = kxn.table('EmpDept2')\n",
        "listOfrows = [b'742866', b'897889']\n",
        "rows = tEmpDept2.rows(listOfrows)\n",
        "for key, data in rows:\n",
        "    print(key, data)"
      ],
      "execution_count": 58,
      "outputs": [
        {
          "output_type": "stream",
          "name": "stdout",
          "text": [
            "b'742866' {b'Dept:DeptID': b'10', b'Dept:DeptName': b'Corporate', b'Dept:Location': b'Calcutta', b'Dept:ManagerID': b'299034', b'Emp:Comm': b'0.1', b'Emp:DoJ': b'2003-03-10', b'Emp:FirstName': b'Amitabh', b'Emp:LastName': b'Bacchan', b'Emp:Role': b'Executive', b'Emp:Salary': b'50000'}\n",
            "b'897889' {b'Dept:DeptID': b'20', b'Dept:DeptName': b'Sales', b'Dept:Location': b'Calcutta', b'Dept:ManagerID': b'239456', b'Emp:Comm': b'0.05', b'Emp:DoJ': b'2005-01-02', b'Emp:FirstName': b'Virender', b'Emp:LastName': b'Sehwag', b'Emp:Role': b'Cus_Rep', b'Emp:Salary': b'15000'}\n"
          ]
        }
      ]
    },
    {
      "cell_type": "code",
      "metadata": {
        "id": "69-NH_HcQ84G",
        "outputId": "58741beb-755d-48a8-82fd-1bfed927a116",
        "colab": {
          "base_uri": "https://localhost:8080/"
        }
      },
      "source": [
        "#Retreive More than one Row\n",
        "kxn.open()\n",
        "tEmpDept2 = kxn.table('EmpDept2')\n",
        "rowsDict = dict(tEmpDept2.rows([b'742866', b'897889']))\n",
        "for k,v in rowsDict.items():\n",
        "    print(k,v)"
      ],
      "execution_count": 59,
      "outputs": [
        {
          "output_type": "stream",
          "name": "stdout",
          "text": [
            "b'742866' {b'Dept:DeptID': b'10', b'Dept:DeptName': b'Corporate', b'Dept:Location': b'Calcutta', b'Dept:ManagerID': b'299034', b'Emp:Comm': b'0.1', b'Emp:DoJ': b'2003-03-10', b'Emp:FirstName': b'Amitabh', b'Emp:LastName': b'Bacchan', b'Emp:Role': b'Executive', b'Emp:Salary': b'50000'}\n",
            "b'897889' {b'Dept:DeptID': b'20', b'Dept:DeptName': b'Sales', b'Dept:Location': b'Calcutta', b'Dept:ManagerID': b'239456', b'Emp:Comm': b'0.05', b'Emp:DoJ': b'2005-01-02', b'Emp:FirstName': b'Virender', b'Emp:LastName': b'Sehwag', b'Emp:Role': b'Cus_Rep', b'Emp:Salary': b'15000'}\n"
          ]
        }
      ]
    },
    {
      "cell_type": "code",
      "metadata": {
        "id": "25jvHL81TwcN",
        "outputId": "7cc498b9-37fb-479c-f7ab-87d757ea79fa",
        "colab": {
          "base_uri": "https://localhost:8080/"
        }
      },
      "source": [
        "#Retreive More than one Row, but only one column family\n",
        "kxn.open()\n",
        "tEmpDept2 = kxn.table('EmpDept2')\n",
        "rows = tEmpDept2.rows([b'742866', b'897889'],columns=[b'Emp'])\n",
        "for key, data in rows:\n",
        "    print(key, data)"
      ],
      "execution_count": 60,
      "outputs": [
        {
          "output_type": "stream",
          "name": "stdout",
          "text": [
            "b'742866' {b'Emp:Comm': b'0.1', b'Emp:DoJ': b'2003-03-10', b'Emp:FirstName': b'Amitabh', b'Emp:LastName': b'Bacchan', b'Emp:Role': b'Executive', b'Emp:Salary': b'50000'}\n",
            "b'897889' {b'Emp:Comm': b'0.05', b'Emp:DoJ': b'2005-01-02', b'Emp:FirstName': b'Virender', b'Emp:LastName': b'Sehwag', b'Emp:Role': b'Cus_Rep', b'Emp:Salary': b'15000'}\n"
          ]
        }
      ]
    },
    {
      "cell_type": "code",
      "metadata": {
        "id": "xT0svpwPUOUo",
        "outputId": "79f9b24b-445f-4cb4-a270-20c0c9fc469b",
        "colab": {
          "base_uri": "https://localhost:8080/"
        }
      },
      "source": [
        "#Retreive More than one Row, but only one column family\n",
        "kxn.open()\n",
        "tEmpDept2 = kxn.table('EmpDept2')\n",
        "rows = tEmpDept2.rows([b'742866', b'897889'],columns=[b'Dept'])\n",
        "for key, data in rows:\n",
        "    print(key, data)"
      ],
      "execution_count": 61,
      "outputs": [
        {
          "output_type": "stream",
          "name": "stdout",
          "text": [
            "b'742866' {b'Dept:DeptID': b'10', b'Dept:DeptName': b'Corporate', b'Dept:Location': b'Calcutta', b'Dept:ManagerID': b'299034'}\n",
            "b'897889' {b'Dept:DeptID': b'20', b'Dept:DeptName': b'Sales', b'Dept:Location': b'Calcutta', b'Dept:ManagerID': b'239456'}\n"
          ]
        }
      ]
    },
    {
      "cell_type": "code",
      "metadata": {
        "id": "ZxjJtKhrUWwM",
        "outputId": "5b7a6e5f-0f5d-4425-ce4a-57c9ac5ef57f",
        "colab": {
          "base_uri": "https://localhost:8080/"
        }
      },
      "source": [
        "#Retreive More than one Row, but only one column family\n",
        "kxn.open()\n",
        "tEmpDept2 = kxn.table('EmpDept2')\n",
        "rows = tEmpDept2.rows([b'742866', b'897889'],columns=[b'Emp:LastName',b'Dept:Location'])\n",
        "for key, data in rows:\n",
        "    print(key, data)"
      ],
      "execution_count": 62,
      "outputs": [
        {
          "output_type": "stream",
          "name": "stdout",
          "text": [
            "b'742866' {b'Dept:Location': b'Calcutta', b'Emp:LastName': b'Bacchan'}\n",
            "b'897889' {b'Dept:Location': b'Calcutta', b'Emp:LastName': b'Sehwag'}\n"
          ]
        }
      ]
    },
    {
      "cell_type": "code",
      "metadata": {
        "id": "vQs2EH6OU74d",
        "outputId": "50571956-635c-45f4-9d55-6829c6ef060b",
        "colab": {
          "base_uri": "https://localhost:8080/"
        }
      },
      "source": [
        "kxn.open()\n",
        "tEmpDept2 = kxn.table('EmpDept2')\n",
        "for key, data in tEmpDept2.scan():\n",
        "    print(key, data)\n",
        "kxn.close()"
      ],
      "execution_count": 63,
      "outputs": [
        {
          "output_type": "stream",
          "name": "stdout",
          "text": [
            "b'123980' {b'Dept:DeptID': b'40', b'Dept:DeptName': b'Production', b'Dept:Location': b'Bombay', b'Dept:ManagerID': b'349870', b'Emp:Comm': b'0.02', b'Emp:DoJ': b'2004-10-09', b'Emp:FirstName': b'Mahender', b'Emp:LastName': b'Dhoni', b'Emp:Role': b'Clerk', b'Emp:Salary': b'9000'}\n",
            "b'223112' {b'Dept:DeptID': b'30', b'Dept:DeptName': b'Accounts', b'Dept:Location': b'Calcutta', b'Dept:ManagerID': b'822134', b'Emp:Comm': b'0.04', b'Emp:DoJ': b'2001-11-19', b'Emp:FirstName': b'Sania', b'Emp:LastName': b'Mirza', b'Emp:Role': b'Cus_Rep', b'Emp:Salary': b'25000'}\n",
            "b'239456' {b'Dept:DeptID': b'20', b'Dept:DeptName': b'Sales', b'Dept:Location': b'Calcutta', b'Dept:ManagerID': b'239456', b'Emp:Comm': b'0.07', b'Emp:DoJ': b'2004-01-03', b'Emp:FirstName': b'Shahrukh', b'Emp:LastName': b'Khan', b'Emp:Role': b'Manager', b'Emp:Salary': b'30000'}\n",
            "b'299034' {b'Dept:DeptID': b'10', b'Dept:DeptName': b'Corporate', b'Dept:Location': b'Calcutta', b'Dept:ManagerID': b'299034', b'Emp:Comm': b'0.11', b'Emp:DoJ': b'2002-10-10', b'Emp:FirstName': b'Rekha', b'Emp:LastName': b'Ganesan', b'Emp:Role': b'Director', b'Emp:Salary': b'60000'}\n",
            "b'349870' {b'Dept:DeptID': b'40', b'Dept:DeptName': b'Production', b'Dept:Location': b'Bombay', b'Dept:ManagerID': b'349870', b'Emp:Comm': b'0.06', b'Emp:DoJ': b'2005-05-04', b'Emp:FirstName': b'Rani', b'Emp:LastName': b'Mukherjee', b'Emp:Role': b'Manager', b'Emp:Salary': b'25000'}\n",
            "b'546223' {b'Dept:DeptID': b'10', b'Dept:DeptName': b'Corporate', b'Dept:Location': b'Calcutta', b'Dept:ManagerID': b'299034', b'Emp:Comm': b'0.09', b'Emp:DoJ': b'2005-12-04', b'Emp:FirstName': b'Narayan', b'Emp:LastName': b'Karthikeyan', b'Emp:Role': b'Secretary', b'Emp:Salary': b'40000'}\n",
            "b'742866' {b'Dept:DeptID': b'10', b'Dept:DeptName': b'Corporate', b'Dept:Location': b'Calcutta', b'Dept:ManagerID': b'299034', b'Emp:Comm': b'0.1', b'Emp:DoJ': b'2003-03-10', b'Emp:FirstName': b'Amitabh', b'Emp:LastName': b'Bacchan', b'Emp:Role': b'Executive', b'Emp:Salary': b'50000'}\n",
            "b'822134' {b'Dept:DeptID': b'30', b'Dept:DeptName': b'Accounts', b'Dept:Location': b'Calcutta', b'Dept:ManagerID': b'822134', b'Emp:Comm': b'0.08', b'Emp:DoJ': b'2000-06-04', b'Emp:FirstName': b'Rahul', b'Emp:LastName': b'Dravid', b'Emp:Role': b'Sr Manager', b'Emp:Salary': b'40000'}\n",
            "b'865477' {b'Dept:DeptID': b'20', b'Dept:DeptName': b'Sales', b'Dept:Location': b'Calcutta', b'Dept:ManagerID': b'239456', b'Emp:Comm': b'0.02', b'Emp:DoJ': b'2002-04-04', b'Emp:FirstName': b'Madhuri', b'Emp:LastName': b'Dikshit', b'Emp:Role': b'Clerk', b'Emp:Salary': b'10000'}\n",
            "b'897889' {b'Dept:DeptID': b'20', b'Dept:DeptName': b'Sales', b'Dept:Location': b'Calcutta', b'Dept:ManagerID': b'239456', b'Emp:Comm': b'0.05', b'Emp:DoJ': b'2005-01-02', b'Emp:FirstName': b'Virender', b'Emp:LastName': b'Sehwag', b'Emp:Role': b'Cus_Rep', b'Emp:Salary': b'15000'}\n",
            "b'989007' {b'Dept:DeptID': b'40', b'Dept:DeptName': b'Production', b'Dept:Location': b'Bombay', b'Dept:ManagerID': b'349870', b'Emp:Comm': b'0.03', b'Emp:DoJ': b'2002-01-01', b'Emp:FirstName': b'Sourav', b'Emp:LastName': b'Ganguly', b'Emp:Role': b'Cus_Rep', b'Emp:Salary': b'20000'}\n",
            "b'997445' {b'Dept:DeptID': b'30', b'Dept:DeptName': b'Accounts', b'Dept:Location': b'Calcutta', b'Dept:ManagerID': b'822134', b'Emp:Comm': b'0.02', b'Emp:DoJ': b'2001-07-01', b'Emp:FirstName': b'Jagmohan', b'Emp:LastName': b'Dalmia', b'Emp:Role': b'Clerk', b'Emp:Salary': b'12000'}\n"
          ]
        }
      ]
    },
    {
      "cell_type": "code",
      "metadata": {
        "id": "km2Qhg60VEtX",
        "outputId": "1a9df096-1cde-4459-a4c1-6dc733d31a44",
        "colab": {
          "base_uri": "https://localhost:8080/"
        }
      },
      "source": [
        "kxn.open()\n",
        "tEmpDept2 = kxn.table('EmpDept2')\n",
        "for key, data in tEmpDept2.scan(row_start=b'230000', row_stop=b'870000'):\n",
        "    print(key, data)\n",
        "kxn.close()"
      ],
      "execution_count": null,
      "outputs": [
        {
          "output_type": "stream",
          "name": "stdout",
          "text": [
            "b'239456' {b'Dept:DeptID': b'20', b'Dept:DeptName': b'Sales', b'Dept:Location': b'Calcutta', b'Dept:ManagerID': b'239456', b'Emp:Comm': b'0.07', b'Emp:DoJ': b'2004-01-03', b'Emp:FirstName': b'Shahrukh', b'Emp:LastName': b'Khan', b'Emp:Role': b'Manager', b'Emp:Salary': b'30000'}\n",
            "b'299034' {b'Dept:DeptID': b'10', b'Dept:DeptName': b'Corporate', b'Dept:Location': b'Calcutta', b'Dept:ManagerID': b'299034', b'Emp:Comm': b'0.11', b'Emp:DoJ': b'2002-10-10', b'Emp:FirstName': b'Rekha', b'Emp:LastName': b'Ganesan', b'Emp:Role': b'Director', b'Emp:Salary': b'60000'}\n",
            "b'349870' {b'Dept:DeptID': b'40', b'Dept:DeptName': b'Production', b'Dept:Location': b'Bombay', b'Dept:ManagerID': b'349870', b'Emp:Comm': b'0.06', b'Emp:DoJ': b'2005-05-04', b'Emp:FirstName': b'Rani', b'Emp:LastName': b'Mukherjee', b'Emp:Role': b'Manager', b'Emp:Salary': b'25000'}\n",
            "b'546223' {b'Dept:DeptID': b'10', b'Dept:DeptName': b'Corporate', b'Dept:Location': b'Calcutta', b'Dept:ManagerID': b'299034', b'Emp:Comm': b'0.09', b'Emp:DoJ': b'2005-12-04', b'Emp:FirstName': b'Narayan', b'Emp:LastName': b'Karthikeyan', b'Emp:Role': b'Secretary', b'Emp:Salary': b'40000'}\n",
            "b'742866' {b'Dept:DeptID': b'10', b'Dept:DeptName': b'Corporate', b'Dept:Location': b'Calcutta', b'Dept:ManagerID': b'299034', b'Emp:Comm': b'0.1', b'Emp:DoJ': b'2003-03-10', b'Emp:FirstName': b'Amitabh', b'Emp:LastName': b'Bacchan', b'Emp:Role': b'Executive', b'Emp:Salary': b'50000'}\n",
            "b'822134' {b'Dept:DeptID': b'30', b'Dept:DeptName': b'Accounts', b'Dept:Location': b'Calcutta', b'Dept:ManagerID': b'822134', b'Emp:Comm': b'0.08', b'Emp:DoJ': b'2000-06-04', b'Emp:FirstName': b'Rahul', b'Emp:LastName': b'Dravid', b'Emp:Role': b'Sr Manager', b'Emp:Salary': b'40000'}\n",
            "b'865477' {b'Dept:DeptID': b'20', b'Dept:DeptName': b'Sales', b'Dept:Location': b'Calcutta', b'Dept:ManagerID': b'239456', b'Emp:Comm': b'0.02', b'Emp:DoJ': b'2002-04-04', b'Emp:FirstName': b'Madhuri', b'Emp:LastName': b'Dikshit', b'Emp:Role': b'Clerk', b'Emp:Salary': b'10000'}\n"
          ]
        }
      ]
    },
    {
      "cell_type": "code",
      "metadata": {
        "id": "PXl-QezFVXSS",
        "outputId": "88304f44-9bfb-4dd1-974b-7d31f5ee7f3c",
        "colab": {
          "base_uri": "https://localhost:8080/"
        }
      },
      "source": [
        "#kxn = happybase.Connection('localhost',9090,autoconnect=False)\n",
        "kxn.open()\n",
        "tEmpDept2 = kxn.table('EmpDept2')\n",
        "for key, data in tEmpDept2.scan(row_start=b'230000', row_stop=b'870000',columns=[b'Emp:LastName',b'Dept:Location']):\n",
        "    print(key, data)\n",
        "kxn.close()"
      ],
      "execution_count": null,
      "outputs": [
        {
          "output_type": "stream",
          "name": "stdout",
          "text": [
            "b'239456' {b'Dept:Location': b'Calcutta', b'Emp:LastName': b'Khan'}\n",
            "b'299034' {b'Dept:Location': b'Calcutta', b'Emp:LastName': b'Ganesan'}\n",
            "b'349870' {b'Dept:Location': b'Bombay', b'Emp:LastName': b'Mukherjee'}\n",
            "b'546223' {b'Dept:Location': b'Calcutta', b'Emp:LastName': b'Karthikeyan'}\n",
            "b'742866' {b'Dept:Location': b'Calcutta', b'Emp:LastName': b'Bacchan'}\n",
            "b'822134' {b'Dept:Location': b'Calcutta', b'Emp:LastName': b'Dravid'}\n",
            "b'865477' {b'Dept:Location': b'Calcutta', b'Emp:LastName': b'Dikshit'}\n"
          ]
        }
      ]
    },
    {
      "cell_type": "markdown",
      "metadata": {
        "id": "O6PP3akdlVKJ"
      },
      "source": [
        "#Stop HBase"
      ]
    },
    {
      "cell_type": "code",
      "metadata": {
        "colab": {
          "base_uri": "https://localhost:8080/"
        },
        "id": "p28XBoitAWTL",
        "outputId": "41e8e1b1-6038-4d2f-9071-6f9809f58087"
      },
      "source": [
        "!stop-hbase.sh"
      ],
      "execution_count": null,
      "outputs": [
        {
          "output_type": "stream",
          "name": "stdout",
          "text": [
            "stopping hbase............\n"
          ]
        }
      ]
    }
  ]
}