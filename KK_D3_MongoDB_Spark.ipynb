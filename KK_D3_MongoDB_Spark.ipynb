{
  "nbformat": 4,
  "nbformat_minor": 0,
  "metadata": {
    "colab": {
      "name": "KK D3 MongoDB Spark",
      "provenance": [],
      "collapsed_sections": [],
      "toc_visible": true,
      "authorship_tag": "ABX9TyNrrHnbGuwX8U3N7Ji3k07i",
      "include_colab_link": true
    },
    "kernelspec": {
      "name": "python3",
      "display_name": "Python 3"
    },
    "language_info": {
      "name": "python"
    }
  },
  "cells": [
    {
      "cell_type": "markdown",
      "metadata": {
        "id": "view-in-github",
        "colab_type": "text"
      },
      "source": [
        "<a href=\"https://colab.research.google.com/github/Praxis-QR/BDSN/blob/main/KK_D3_MongoDB_Spark.ipynb\" target=\"_parent\"><img src=\"https://colab.research.google.com/assets/colab-badge.svg\" alt=\"Open In Colab\"/></a>"
      ]
    },
    {
      "cell_type": "markdown",
      "metadata": {
        "id": "4E9UtRR73Dqy"
      },
      "source": [
        "![alt text](https://4.bp.blogspot.com/-gbL5nZDkpFQ/XScFYwoTEII/AAAAAAAAAGY/CcVb_HDLwvs2Brv5T4vSsUcz7O4r2Q79ACK4BGAYYCw/s1600/kk3-header00-beta.png)<br>\n",
        "\n",
        "\n",
        "<hr>\n",
        "\n",
        "[Prithwis Mukerjee](http://www.linkedin.com/in/prithwis)<br>"
      ]
    },
    {
      "cell_type": "markdown",
      "metadata": {
        "id": "Ufw_D75I3aap"
      },
      "source": [
        "##References\n",
        "https://stackoverflow.com/questions/45142629/cant-connect-to-mongo-db-via-spark <br>\n",
        "https://docs.mongodb.com/spark-connector/current/python-api/"
      ]
    },
    {
      "cell_type": "markdown",
      "metadata": {
        "id": "JGjz0D6pzrlL"
      },
      "source": [
        "#Packages"
      ]
    },
    {
      "cell_type": "code",
      "metadata": {
        "id": "Rabggb5czvqg"
      },
      "source": [
        "from pymongo import MongoClient\n",
        "import pandas as pd\n",
        "import os"
      ],
      "execution_count": 1,
      "outputs": []
    },
    {
      "cell_type": "markdown",
      "metadata": {
        "id": "IJF29q_Vza3q"
      },
      "source": [
        "#Install & Test LOCAL MongoDB"
      ]
    },
    {
      "cell_type": "code",
      "metadata": {
        "colab": {
          "base_uri": "https://localhost:8080/"
        },
        "id": "2r39GERUy5Tp",
        "outputId": "f64a5005-8f0f-4d16-976f-9db0cf420cd5"
      },
      "source": [
        "!apt install mongodb > /dev/null\n",
        "!service mongodb start"
      ],
      "execution_count": 2,
      "outputs": [
        {
          "output_type": "stream",
          "name": "stdout",
          "text": [
            "\n",
            "WARNING: apt does not have a stable CLI interface. Use with caution in scripts.\n",
            "\n",
            " * Starting database mongodb\n",
            "   ...done.\n"
          ]
        }
      ]
    },
    {
      "cell_type": "code",
      "metadata": {
        "colab": {
          "base_uri": "https://localhost:8080/"
        },
        "id": "VGOhkXEK0FWt",
        "outputId": "3ef78e86-c1f7-4f99-eee6-4889ea01f76f"
      },
      "source": [
        "mongoURI = \"mongodb://localhost:27017/\"\n",
        "client = MongoClient(mongoURI)\n",
        "client.list_database_names() # ['admin', 'local']"
      ],
      "execution_count": 3,
      "outputs": [
        {
          "output_type": "execute_result",
          "data": {
            "text/plain": [
              "['admin', 'local']"
            ]
          },
          "metadata": {},
          "execution_count": 3
        }
      ]
    },
    {
      "cell_type": "code",
      "metadata": {
        "colab": {
          "base_uri": "https://localhost:8080/"
        },
        "id": "nbXj_rKp0Jq0",
        "outputId": "c4cb8ccf-8520-4d91-fa66-51877dba1c4f"
      },
      "source": [
        "db = client.local\n",
        "#db = client.sparkDB\n",
        "#db = client.people\n",
        "db.list_collection_names()"
      ],
      "execution_count": 4,
      "outputs": [
        {
          "output_type": "execute_result",
          "data": {
            "text/plain": [
              "['startup_log']"
            ]
          },
          "metadata": {},
          "execution_count": 4
        }
      ]
    },
    {
      "cell_type": "code",
      "metadata": {
        "colab": {
          "base_uri": "https://localhost:8080/"
        },
        "id": "bXJMeUu40PDk",
        "outputId": "4e72a459-4f83-475a-e044-ba8bb45e1ae3"
      },
      "source": [
        "table = db.startup_log\n",
        "#table = db.coll01\n",
        "#table = db.contacts\n",
        "#table.count_documents({}) #gives the number of documents in the table\n",
        "table.find_one()"
      ],
      "execution_count": 5,
      "outputs": [
        {
          "output_type": "execute_result",
          "data": {
            "text/plain": [
              "{'_id': '1cd9c479a700-1641962080155',\n",
              " 'buildinfo': {'allocator': 'tcmalloc',\n",
              "  'bits': 64,\n",
              "  'buildEnvironment': {'cc': 'cc: cc (Ubuntu 7.5.0-3ubuntu1~18.04) 7.5.0',\n",
              "   'ccflags': '-fno-omit-frame-pointer -fno-strict-aliasing -ggdb -pthread -Wall -Wsign-compare -Wno-unknown-pragmas -Wno-error=c++1z-compat -Wno-error=noexcept-type -Wno-error=format-truncation -Wno-error=int-in-bool-context -Winvalid-pch -Werror -O2 -Wno-unused-local-typedefs -Wno-unused-function -Wno-deprecated-declarations -Wno-unused-const-variable -Wno-unused-but-set-variable -Wno-missing-braces -fstack-protector-strong -fno-builtin-memcmp',\n",
              "   'cxx': 'g++: g++ (Ubuntu 7.5.0-3ubuntu1~18.04) 7.5.0',\n",
              "   'cxxflags': '-g -O2 -fdebug-prefix-map=/build/mongodb-FmqHhf/mongodb-3.6.3=. -fstack-protector-strong -Wformat -Werror=format-security -Woverloaded-virtual -Wno-maybe-uninitialized -std=c++14',\n",
              "   'distarch': 'x86_64',\n",
              "   'distmod': '',\n",
              "   'linkflags': '-Wl,-Bsymbolic-functions -Wl,-z,relro -pthread -Wl,-z,now -rdynamic -Wl,--fatal-warnings -fstack-protector-strong -fuse-ld=gold -Wl,--build-id -Wl,--hash-style=gnu -Wl,-z,noexecstack -Wl,--warn-execstack -Wl,-z,relro',\n",
              "   'target_arch': 'x86_64',\n",
              "   'target_os': 'linux'},\n",
              "  'debug': False,\n",
              "  'gitVersion': '9586e557d54ef70f9ca4b43c26892cd55257e1a5',\n",
              "  'javascriptEngine': 'mozjs',\n",
              "  'maxBsonObjectSize': 16777216,\n",
              "  'modules': [],\n",
              "  'openssl': {'compiled': 'OpenSSL 1.1.1  11 Sep 2018',\n",
              "   'running': 'OpenSSL 1.1.1  11 Sep 2018'},\n",
              "  'storageEngines': ['devnull', 'ephemeralForTest', 'mmapv1', 'wiredTiger'],\n",
              "  'sysInfo': 'deprecated',\n",
              "  'version': '3.6.3',\n",
              "  'versionArray': [3, 6, 3, 0]},\n",
              " 'cmdLine': {'config': '/etc/mongodb.conf',\n",
              "  'net': {'bindIp': '127.0.0.1'},\n",
              "  'storage': {'dbPath': '/var/lib/mongodb', 'journal': {'enabled': True}},\n",
              "  'systemLog': {'destination': 'file',\n",
              "   'logAppend': True,\n",
              "   'path': '/var/log/mongodb/mongodb.log'}},\n",
              " 'hostname': '1cd9c479a700',\n",
              " 'pid': 471,\n",
              " 'startTime': datetime.datetime(2022, 1, 12, 4, 34, 40),\n",
              " 'startTimeLocal': 'Wed Jan 12 04:34:40.155'}"
            ]
          },
          "metadata": {},
          "execution_count": 5
        }
      ]
    },
    {
      "cell_type": "markdown",
      "metadata": {
        "id": "ibDjNUdusESp"
      },
      "source": [
        "#Connect to and Test Remote MongoDB"
      ]
    },
    {
      "cell_type": "code",
      "source": [
        ""
      ],
      "metadata": {
        "id": "k-cHkrImtnmv"
      },
      "execution_count": null,
      "outputs": []
    },
    {
      "cell_type": "markdown",
      "metadata": {
        "id": "I5cwh9s40WPp"
      },
      "source": [
        "#Install Spark"
      ]
    },
    {
      "cell_type": "code",
      "metadata": {
        "colab": {
          "base_uri": "https://localhost:8080/"
        },
        "id": "YhQ6FE6F0dYc",
        "outputId": "83595b07-7098-4935-d2b4-19fc21641496"
      },
      "source": [
        "!apt-get update > /dev/null\n",
        "!apt-get install openjdk-8-jdk-headless -qq > /dev/null\n",
        "\n",
        "#!wget -q http://apache.osuosl.org/spark/spark-2.4.5/spark-2.4.5-bin-hadoop2.7.tgz\n",
        "!wget -q http://apache.osuosl.org/spark/spark-3.1.2/spark-3.1.2-bin-hadoop3.2.tgz\n",
        "#\n",
        "# if the current version of Spark is not used, there may be errors\n",
        "# check here for current versions http://apache.osuosl.org/spark\n",
        "#\n",
        "\n",
        "#!tar xf spark-2.4.5-bin-hadoop2.7.tgz\n",
        "!tar xf spark-3.1.2-bin-hadoop3.2.tgz\n",
        "#!pip install -q findspark              --- no more required,  replaced by pyspark\n",
        "!pip install -q pyspark\n",
        "import os\n",
        "os.environ[\"JAVA_HOME\"] = \"/usr/lib/jvm/java-8-openjdk-amd64\"\n",
        "\n",
        "#os.environ[\"SPARK_HOME\"] = \"/content/spark-3.0.1-bin-hadoop3.2\"\n",
        "os.environ[\"SPARK_HOME\"] = \"/content/spark-3.1.2-bin-hadoop3.2\""
      ],
      "execution_count": 6,
      "outputs": [
        {
          "output_type": "stream",
          "name": "stdout",
          "text": [
            "\u001b[K     |████████████████████████████████| 281.3 MB 38 kB/s \n",
            "\u001b[K     |████████████████████████████████| 198 kB 55.3 MB/s \n",
            "\u001b[?25h  Building wheel for pyspark (setup.py) ... \u001b[?25l\u001b[?25hdone\n"
          ]
        }
      ]
    },
    {
      "cell_type": "markdown",
      "metadata": {
        "id": "WiQj8-r41ndy"
      },
      "source": [
        "#Spark2Mongo"
      ]
    },
    {
      "cell_type": "code",
      "metadata": {
        "id": "DX1IUNNfs1xp"
      },
      "source": [
        "#import findspark\n",
        "#findspark.init()\n",
        "from pyspark.sql import SparkSession\n",
        "spark = SparkSession \\\n",
        "    .builder \\\n",
        "    .master(\"local[*]\") \\\n",
        "    .config(\"spark.mongodb.input.uri\", \"mongodb://localhost:27017/sparkDB.coll01\") \\\n",
        "    .config(\"spark.mongodb.output.uri\", \"mongodb://localhost:27017/sparkDB.coll01\") \\\n",
        "    .config('spark.jars.packages', 'org.mongodb.spark:mongo-spark-connector_2.12:3.0.1')\\\n",
        "    .getOrCreate()"
      ],
      "execution_count": 7,
      "outputs": []
    },
    {
      "cell_type": "code",
      "metadata": {
        "id": "5g2LnYih4eXP"
      },
      "source": [
        "#sc.stop()"
      ],
      "execution_count": null,
      "outputs": []
    },
    {
      "cell_type": "code",
      "metadata": {
        "id": "SkrVz0zD3SZG"
      },
      "source": [
        "sc = spark.sparkContext\n",
        "#sc"
      ],
      "execution_count": 8,
      "outputs": []
    },
    {
      "cell_type": "markdown",
      "metadata": {
        "id": "47jgWreB3d9Z"
      },
      "source": [
        "##Write to MongoDB"
      ]
    },
    {
      "cell_type": "code",
      "metadata": {
        "id": "U7y6qyaj3gwd"
      },
      "source": [
        "people = spark.createDataFrame([(\"Bilbo Baggins\",  50), (\"Gandalf\", 1000), (\"Thorin\", 195), (\"Balin\", 178), (\"Kili\", 77),\n",
        "   (\"Dwalin\", 169), (\"Oin\", 167), (\"Gloin\", 158), (\"Fili\", 82), (\"Bombur\", None)], [\"name\", \"age\"])"
      ],
      "execution_count": 9,
      "outputs": []
    },
    {
      "cell_type": "code",
      "metadata": {
        "colab": {
          "base_uri": "https://localhost:8080/"
        },
        "id": "ItJYMCxj3oEZ",
        "outputId": "06244d92-f7f5-446e-f5d0-e80f6b1e23ea"
      },
      "source": [
        "people.show()"
      ],
      "execution_count": 10,
      "outputs": [
        {
          "output_type": "stream",
          "name": "stdout",
          "text": [
            "+-------------+----+\n",
            "|         name| age|\n",
            "+-------------+----+\n",
            "|Bilbo Baggins|  50|\n",
            "|      Gandalf|1000|\n",
            "|       Thorin| 195|\n",
            "|        Balin| 178|\n",
            "|         Kili|  77|\n",
            "|       Dwalin| 169|\n",
            "|          Oin| 167|\n",
            "|        Gloin| 158|\n",
            "|         Fili|  82|\n",
            "|       Bombur|null|\n",
            "+-------------+----+\n",
            "\n"
          ]
        }
      ]
    },
    {
      "cell_type": "code",
      "metadata": {
        "id": "05EEmrZo3-3M"
      },
      "source": [
        "people.write.format(\"mongo\").mode(\"append\").save()"
      ],
      "execution_count": 11,
      "outputs": []
    },
    {
      "cell_type": "code",
      "metadata": {
        "id": "yw-nPJ6d99Po"
      },
      "source": [
        "people.write.format(\"mongo\").mode(\"append\").option(\"database\",\"people\").option(\"collection\", \"contacts\").save()"
      ],
      "execution_count": 12,
      "outputs": []
    },
    {
      "cell_type": "code",
      "metadata": {
        "colab": {
          "base_uri": "https://localhost:8080/"
        },
        "id": "_wIKKoswS93j",
        "outputId": "206c8ea1-d7ee-44b7-8abe-ffcb382d7b1e"
      },
      "source": [
        "client.list_database_names() # ['admin', 'local']"
      ],
      "execution_count": null,
      "outputs": [
        {
          "output_type": "execute_result",
          "data": {
            "text/plain": [
              "['admin', 'local', 'people', 'sparkDB']"
            ]
          },
          "metadata": {},
          "execution_count": 13
        }
      ]
    },
    {
      "cell_type": "markdown",
      "metadata": {
        "id": "nF6vnSbBIbMj"
      },
      "source": [
        "##Check with MongoDB client"
      ]
    },
    {
      "cell_type": "code",
      "metadata": {
        "id": "-QIAAZc7IYBC",
        "outputId": "8705081e-0ec1-45bc-ec74-eb7602a10a58",
        "colab": {
          "base_uri": "https://localhost:8080/"
        }
      },
      "source": [
        "client.list_database_names() # ['admin', 'local']"
      ],
      "execution_count": 13,
      "outputs": [
        {
          "output_type": "execute_result",
          "data": {
            "text/plain": [
              "['admin', 'config', 'local', 'people', 'sparkDB']"
            ]
          },
          "metadata": {},
          "execution_count": 13
        }
      ]
    },
    {
      "cell_type": "code",
      "metadata": {
        "id": "Nb480tY7IqUq",
        "outputId": "c069ff67-4522-4a13-8691-e5c29fa44c8a",
        "colab": {
          "base_uri": "https://localhost:8080/"
        }
      },
      "source": [
        "db = client.people\n",
        "list(db.list_collections())"
      ],
      "execution_count": 14,
      "outputs": [
        {
          "output_type": "execute_result",
          "data": {
            "text/plain": [
              "[{'idIndex': {'key': {'_id': 1},\n",
              "   'name': '_id_',\n",
              "   'ns': 'people.contacts',\n",
              "   'v': 2},\n",
              "  'info': {'readOnly': False,\n",
              "   'uuid': Binary(b'C\\xcf\\x1d@\\xb4\\xe4A\\x92\\x9b\\xbcb!\\x90\\xca\\xaf\\x98', 4)},\n",
              "  'name': 'contacts',\n",
              "  'options': {},\n",
              "  'type': 'collection'}]"
            ]
          },
          "metadata": {},
          "execution_count": 14
        }
      ]
    },
    {
      "cell_type": "code",
      "source": [
        "db2 = client.sparkDB\n",
        "list(db2.list_collections())"
      ],
      "metadata": {
        "id": "8d7cRb0nmkmL",
        "outputId": "837ffaf0-0426-4074-e3f4-f828727f2e69",
        "colab": {
          "base_uri": "https://localhost:8080/"
        }
      },
      "execution_count": 16,
      "outputs": [
        {
          "output_type": "execute_result",
          "data": {
            "text/plain": [
              "[{'idIndex': {'key': {'_id': 1},\n",
              "   'name': '_id_',\n",
              "   'ns': 'sparkDB.coll01',\n",
              "   'v': 2},\n",
              "  'info': {'readOnly': False,\n",
              "   'uuid': Binary(b'\\x9c`\\x9f\\xda\\xe1\\xdfK\\x98\\x9c\\xe6\\xf5\\n\\xbf\\n\\xd7,', 4)},\n",
              "  'name': 'coll01',\n",
              "  'options': {},\n",
              "  'type': 'collection'}]"
            ]
          },
          "metadata": {},
          "execution_count": 16
        }
      ]
    },
    {
      "cell_type": "code",
      "metadata": {
        "id": "qaEaFzMTJI89",
        "outputId": "c9fcf776-6ab4-4f73-bac6-4b954422aab1",
        "colab": {
          "base_uri": "https://localhost:8080/"
        }
      },
      "source": [
        "kollection = db.contacts\n",
        "c = kollection.find()\n",
        "for crnt in c:\n",
        "    print(crnt)"
      ],
      "execution_count": 17,
      "outputs": [
        {
          "output_type": "stream",
          "name": "stdout",
          "text": [
            "{'_id': ObjectId('61de5c68adb6ad035fe2f597'), 'name': 'Bilbo Baggins', 'age': 50}\n",
            "{'_id': ObjectId('61de5c68adb6ad035fe2f598'), 'name': 'Gandalf', 'age': 1000}\n",
            "{'_id': ObjectId('61de5c68adb6ad035fe2f599'), 'name': 'Thorin', 'age': 195}\n",
            "{'_id': ObjectId('61de5c68adb6ad035fe2f59a'), 'name': 'Balin', 'age': 178}\n",
            "{'_id': ObjectId('61de5c68adb6ad035fe2f59b'), 'name': 'Kili', 'age': 77}\n",
            "{'_id': ObjectId('61de5c68adb6ad035fe2f59c'), 'name': 'Dwalin', 'age': 169}\n",
            "{'_id': ObjectId('61de5c68adb6ad035fe2f59d'), 'name': 'Oin', 'age': 167}\n",
            "{'_id': ObjectId('61de5c68adb6ad035fe2f59e'), 'name': 'Gloin', 'age': 158}\n",
            "{'_id': ObjectId('61de5c68adb6ad035fe2f59f'), 'name': 'Fili', 'age': 82}\n",
            "{'_id': ObjectId('61de5c68adb6ad035fe2f5a0'), 'name': 'Bombur'}\n"
          ]
        }
      ]
    },
    {
      "cell_type": "code",
      "source": [
        "pandasDF = pd.DataFrame(kollection.find())\n",
        "pandasDF"
      ],
      "metadata": {
        "id": "ZXDiqS5UuU9d",
        "outputId": "d4310d89-244f-474e-db00-7429bdd154c9",
        "colab": {
          "base_uri": "https://localhost:8080/",
          "height": 363
        }
      },
      "execution_count": 18,
      "outputs": [
        {
          "output_type": "execute_result",
          "data": {
            "text/html": [
              "\n",
              "  <div id=\"df-8676cdc9-3961-4a59-b9f0-eabdce8e6dfd\">\n",
              "    <div class=\"colab-df-container\">\n",
              "      <div>\n",
              "<style scoped>\n",
              "    .dataframe tbody tr th:only-of-type {\n",
              "        vertical-align: middle;\n",
              "    }\n",
              "\n",
              "    .dataframe tbody tr th {\n",
              "        vertical-align: top;\n",
              "    }\n",
              "\n",
              "    .dataframe thead th {\n",
              "        text-align: right;\n",
              "    }\n",
              "</style>\n",
              "<table border=\"1\" class=\"dataframe\">\n",
              "  <thead>\n",
              "    <tr style=\"text-align: right;\">\n",
              "      <th></th>\n",
              "      <th>_id</th>\n",
              "      <th>name</th>\n",
              "      <th>age</th>\n",
              "    </tr>\n",
              "  </thead>\n",
              "  <tbody>\n",
              "    <tr>\n",
              "      <th>0</th>\n",
              "      <td>61de5c68adb6ad035fe2f597</td>\n",
              "      <td>Bilbo Baggins</td>\n",
              "      <td>50.0</td>\n",
              "    </tr>\n",
              "    <tr>\n",
              "      <th>1</th>\n",
              "      <td>61de5c68adb6ad035fe2f598</td>\n",
              "      <td>Gandalf</td>\n",
              "      <td>1000.0</td>\n",
              "    </tr>\n",
              "    <tr>\n",
              "      <th>2</th>\n",
              "      <td>61de5c68adb6ad035fe2f599</td>\n",
              "      <td>Thorin</td>\n",
              "      <td>195.0</td>\n",
              "    </tr>\n",
              "    <tr>\n",
              "      <th>3</th>\n",
              "      <td>61de5c68adb6ad035fe2f59a</td>\n",
              "      <td>Balin</td>\n",
              "      <td>178.0</td>\n",
              "    </tr>\n",
              "    <tr>\n",
              "      <th>4</th>\n",
              "      <td>61de5c68adb6ad035fe2f59b</td>\n",
              "      <td>Kili</td>\n",
              "      <td>77.0</td>\n",
              "    </tr>\n",
              "    <tr>\n",
              "      <th>5</th>\n",
              "      <td>61de5c68adb6ad035fe2f59c</td>\n",
              "      <td>Dwalin</td>\n",
              "      <td>169.0</td>\n",
              "    </tr>\n",
              "    <tr>\n",
              "      <th>6</th>\n",
              "      <td>61de5c68adb6ad035fe2f59d</td>\n",
              "      <td>Oin</td>\n",
              "      <td>167.0</td>\n",
              "    </tr>\n",
              "    <tr>\n",
              "      <th>7</th>\n",
              "      <td>61de5c68adb6ad035fe2f59e</td>\n",
              "      <td>Gloin</td>\n",
              "      <td>158.0</td>\n",
              "    </tr>\n",
              "    <tr>\n",
              "      <th>8</th>\n",
              "      <td>61de5c68adb6ad035fe2f59f</td>\n",
              "      <td>Fili</td>\n",
              "      <td>82.0</td>\n",
              "    </tr>\n",
              "    <tr>\n",
              "      <th>9</th>\n",
              "      <td>61de5c68adb6ad035fe2f5a0</td>\n",
              "      <td>Bombur</td>\n",
              "      <td>NaN</td>\n",
              "    </tr>\n",
              "  </tbody>\n",
              "</table>\n",
              "</div>\n",
              "      <button class=\"colab-df-convert\" onclick=\"convertToInteractive('df-8676cdc9-3961-4a59-b9f0-eabdce8e6dfd')\"\n",
              "              title=\"Convert this dataframe to an interactive table.\"\n",
              "              style=\"display:none;\">\n",
              "        \n",
              "  <svg xmlns=\"http://www.w3.org/2000/svg\" height=\"24px\"viewBox=\"0 0 24 24\"\n",
              "       width=\"24px\">\n",
              "    <path d=\"M0 0h24v24H0V0z\" fill=\"none\"/>\n",
              "    <path d=\"M18.56 5.44l.94 2.06.94-2.06 2.06-.94-2.06-.94-.94-2.06-.94 2.06-2.06.94zm-11 1L8.5 8.5l.94-2.06 2.06-.94-2.06-.94L8.5 2.5l-.94 2.06-2.06.94zm10 10l.94 2.06.94-2.06 2.06-.94-2.06-.94-.94-2.06-.94 2.06-2.06.94z\"/><path d=\"M17.41 7.96l-1.37-1.37c-.4-.4-.92-.59-1.43-.59-.52 0-1.04.2-1.43.59L10.3 9.45l-7.72 7.72c-.78.78-.78 2.05 0 2.83L4 21.41c.39.39.9.59 1.41.59.51 0 1.02-.2 1.41-.59l7.78-7.78 2.81-2.81c.8-.78.8-2.07 0-2.86zM5.41 20L4 18.59l7.72-7.72 1.47 1.35L5.41 20z\"/>\n",
              "  </svg>\n",
              "      </button>\n",
              "      \n",
              "  <style>\n",
              "    .colab-df-container {\n",
              "      display:flex;\n",
              "      flex-wrap:wrap;\n",
              "      gap: 12px;\n",
              "    }\n",
              "\n",
              "    .colab-df-convert {\n",
              "      background-color: #E8F0FE;\n",
              "      border: none;\n",
              "      border-radius: 50%;\n",
              "      cursor: pointer;\n",
              "      display: none;\n",
              "      fill: #1967D2;\n",
              "      height: 32px;\n",
              "      padding: 0 0 0 0;\n",
              "      width: 32px;\n",
              "    }\n",
              "\n",
              "    .colab-df-convert:hover {\n",
              "      background-color: #E2EBFA;\n",
              "      box-shadow: 0px 1px 2px rgba(60, 64, 67, 0.3), 0px 1px 3px 1px rgba(60, 64, 67, 0.15);\n",
              "      fill: #174EA6;\n",
              "    }\n",
              "\n",
              "    [theme=dark] .colab-df-convert {\n",
              "      background-color: #3B4455;\n",
              "      fill: #D2E3FC;\n",
              "    }\n",
              "\n",
              "    [theme=dark] .colab-df-convert:hover {\n",
              "      background-color: #434B5C;\n",
              "      box-shadow: 0px 1px 3px 1px rgba(0, 0, 0, 0.15);\n",
              "      filter: drop-shadow(0px 1px 2px rgba(0, 0, 0, 0.3));\n",
              "      fill: #FFFFFF;\n",
              "    }\n",
              "  </style>\n",
              "\n",
              "      <script>\n",
              "        const buttonEl =\n",
              "          document.querySelector('#df-8676cdc9-3961-4a59-b9f0-eabdce8e6dfd button.colab-df-convert');\n",
              "        buttonEl.style.display =\n",
              "          google.colab.kernel.accessAllowed ? 'block' : 'none';\n",
              "\n",
              "        async function convertToInteractive(key) {\n",
              "          const element = document.querySelector('#df-8676cdc9-3961-4a59-b9f0-eabdce8e6dfd');\n",
              "          const dataTable =\n",
              "            await google.colab.kernel.invokeFunction('convertToInteractive',\n",
              "                                                     [key], {});\n",
              "          if (!dataTable) return;\n",
              "\n",
              "          const docLinkHtml = 'Like what you see? Visit the ' +\n",
              "            '<a target=\"_blank\" href=https://colab.research.google.com/notebooks/data_table.ipynb>data table notebook</a>'\n",
              "            + ' to learn more about interactive tables.';\n",
              "          element.innerHTML = '';\n",
              "          dataTable['output_type'] = 'display_data';\n",
              "          await google.colab.output.renderOutput(dataTable, element);\n",
              "          const docLink = document.createElement('div');\n",
              "          docLink.innerHTML = docLinkHtml;\n",
              "          element.appendChild(docLink);\n",
              "        }\n",
              "      </script>\n",
              "    </div>\n",
              "  </div>\n",
              "  "
            ],
            "text/plain": [
              "                        _id           name     age\n",
              "0  61de5c68adb6ad035fe2f597  Bilbo Baggins    50.0\n",
              "1  61de5c68adb6ad035fe2f598        Gandalf  1000.0\n",
              "2  61de5c68adb6ad035fe2f599         Thorin   195.0\n",
              "3  61de5c68adb6ad035fe2f59a          Balin   178.0\n",
              "4  61de5c68adb6ad035fe2f59b           Kili    77.0\n",
              "5  61de5c68adb6ad035fe2f59c         Dwalin   169.0\n",
              "6  61de5c68adb6ad035fe2f59d            Oin   167.0\n",
              "7  61de5c68adb6ad035fe2f59e          Gloin   158.0\n",
              "8  61de5c68adb6ad035fe2f59f           Fili    82.0\n",
              "9  61de5c68adb6ad035fe2f5a0         Bombur     NaN"
            ]
          },
          "metadata": {},
          "execution_count": 18
        }
      ]
    },
    {
      "cell_type": "markdown",
      "metadata": {
        "id": "x58zEIvc-yiv"
      },
      "source": [
        "##Read from MongoDB"
      ]
    },
    {
      "cell_type": "code",
      "metadata": {
        "id": "loC3Rmm3-1Jz",
        "outputId": "703f5d8b-8d26-4b37-cf12-110c2d0e54a2",
        "colab": {
          "base_uri": "https://localhost:8080/"
        }
      },
      "source": [
        "sparkDF = spark.read.format(\"mongo\").option(\"uri\",\"mongodb://127.0.0.1/people.contacts\").load()\n",
        "sparkDF.show()"
      ],
      "execution_count": 19,
      "outputs": [
        {
          "output_type": "stream",
          "name": "stdout",
          "text": [
            "+--------------------+----+-------------+\n",
            "|                 _id| age|         name|\n",
            "+--------------------+----+-------------+\n",
            "|{61de5c68adb6ad03...|  50|Bilbo Baggins|\n",
            "|{61de5c68adb6ad03...|1000|      Gandalf|\n",
            "|{61de5c68adb6ad03...| 195|       Thorin|\n",
            "|{61de5c68adb6ad03...| 178|        Balin|\n",
            "|{61de5c68adb6ad03...|  77|         Kili|\n",
            "|{61de5c68adb6ad03...| 169|       Dwalin|\n",
            "|{61de5c68adb6ad03...| 167|          Oin|\n",
            "|{61de5c68adb6ad03...| 158|        Gloin|\n",
            "|{61de5c68adb6ad03...|  82|         Fili|\n",
            "|{61de5c68adb6ad03...|null|       Bombur|\n",
            "+--------------------+----+-------------+\n",
            "\n"
          ]
        }
      ]
    },
    {
      "cell_type": "markdown",
      "metadata": {
        "id": "7n2hMBsI3Mea"
      },
      "source": [
        "#Chronobooks <br>\n",
        "![alt text](https://1.bp.blogspot.com/-lTiYBkU2qbU/X1er__fvnkI/AAAAAAAAjtE/GhDR3OEGJr4NG43fZPodrQD5kbxtnKebgCLcBGAsYHQ/s600/Footer2020-600x200.png)<hr>\n",
        "Chronotantra and Chronoyantra are two science fiction novels that explore the collapse of human civilisation on Earth and then its rebirth and reincarnation both on Earth as well as on the distant worlds of Mars, Titan and Enceladus. But is it the human civilisation that is being reborn? Or is it some other sentience that is revealing itself. \n",
        "If you have an interest in AI and found this material useful, you may consider buying these novels, in paperback or kindle, from [http://bit.ly/chronobooks](http://bit.ly/chronobooks)"
      ]
    }
  ]
}